{
  "nbformat": 4,
  "nbformat_minor": 0,
  "metadata": {
    "colab": {
      "name": "Untitled31.ipynb",
      "provenance": [],
      "authorship_tag": "ABX9TyO68ZJo1cvuPNOr7++KyfFO",
      "include_colab_link": true
    },
    "kernelspec": {
      "name": "python3",
      "display_name": "Python 3"
    }
  },
  "cells": [
    {
      "cell_type": "markdown",
      "metadata": {
        "id": "view-in-github",
        "colab_type": "text"
      },
      "source": [
        "<a href=\"https://colab.research.google.com/github/sadullahmath/Exercise/blob/master/Untitled31.ipynb\" target=\"_parent\"><img src=\"https://colab.research.google.com/assets/colab-badge.svg\" alt=\"Open In Colab\"/></a>"
      ]
    },
    {
      "cell_type": "markdown",
      "metadata": {
        "id": "keB_NDJsXdyR",
        "colab_type": "text"
      },
      "source": [
        "#RandomForest Variable"
      ]
    },
    {
      "cell_type": "code",
      "metadata": {
        "id": "z7sZtGyJXd29",
        "colab_type": "code",
        "colab": {}
      },
      "source": [
        "from sklearn.datasets import load_breast_cancer\n",
        "from sklearn.ensemble import RandomForestClassifier\n",
        "data = load_breast_cancer()\n",
        "X, y = data.data, data.target\n",
        "rf_model = RandomForestClassifier(random_state=168)\n",
        "rf_model.fit(X, y)\n",
        "rf_model.feature_importances_"
      ],
      "execution_count": 0,
      "outputs": []
    },
    {
      "cell_type": "code",
      "metadata": {
        "id": "MHbl4YKvXd7j",
        "colab_type": "code",
        "colab": {}
      },
      "source": [
        "import pandas as pd\n",
        "varimp_df = pd.DataFrame()\n",
        "varimp_df['feature'] = data.feature_names\n",
        "varimp_df['importance'] = rf_model.feature_importances_\n",
        "varimp_df.head()"
      ],
      "execution_count": 0,
      "outputs": []
    },
    {
      "cell_type": "code",
      "metadata": {
        "id": "X0dVeaCpXd9q",
        "colab_type": "code",
        "colab": {
          "base_uri": "https://localhost:8080/",
          "height": 662
        },
        "outputId": "34f8b97f-d1fc-4a74-de49-94fbd81c0802"
      },
      "source": [
        "import altair as alt\n",
        "alt.Chart(varimp_df).mark_bar().encode(\n",
        "    x='importance',\n",
        "    y=\"feature\"\n",
        ")"
      ],
      "execution_count": 3,
      "outputs": [
        {
          "output_type": "execute_result",
          "data": {
            "text/plain": [
              "alt.Chart(...)"
            ],
            "text/html": [
              "\n",
              "<div id=\"altair-viz-6e2f66847f7d44edaef9d8892e5b149e\"></div>\n",
              "<script type=\"text/javascript\">\n",
              "  (function(spec, embedOpt){\n",
              "    let outputDiv = document.currentScript.previousElementSibling;\n",
              "    if (outputDiv.id !== \"altair-viz-6e2f66847f7d44edaef9d8892e5b149e\") {\n",
              "      outputDiv = document.getElementById(\"altair-viz-6e2f66847f7d44edaef9d8892e5b149e\");\n",
              "    }\n",
              "    const paths = {\n",
              "      \"vega\": \"https://cdn.jsdelivr.net/npm//vega@5?noext\",\n",
              "      \"vega-lib\": \"https://cdn.jsdelivr.net/npm//vega-lib?noext\",\n",
              "      \"vega-lite\": \"https://cdn.jsdelivr.net/npm//vega-lite@4.8.1?noext\",\n",
              "      \"vega-embed\": \"https://cdn.jsdelivr.net/npm//vega-embed@6?noext\",\n",
              "    };\n",
              "\n",
              "    function loadScript(lib) {\n",
              "      return new Promise(function(resolve, reject) {\n",
              "        var s = document.createElement('script');\n",
              "        s.src = paths[lib];\n",
              "        s.async = true;\n",
              "        s.onload = () => resolve(paths[lib]);\n",
              "        s.onerror = () => reject(`Error loading script: ${paths[lib]}`);\n",
              "        document.getElementsByTagName(\"head\")[0].appendChild(s);\n",
              "      });\n",
              "    }\n",
              "\n",
              "    function showError(err) {\n",
              "      outputDiv.innerHTML = `<div class=\"error\" style=\"color:red;\">${err}</div>`;\n",
              "      throw err;\n",
              "    }\n",
              "\n",
              "    function displayChart(vegaEmbed) {\n",
              "      vegaEmbed(outputDiv, spec, embedOpt)\n",
              "        .catch(err => showError(`Javascript Error: ${err.message}<br>This usually means there's a typo in your chart specification. See the javascript console for the full traceback.`));\n",
              "    }\n",
              "\n",
              "    if(typeof define === \"function\" && define.amd) {\n",
              "      requirejs.config({paths});\n",
              "      require([\"vega-embed\"], displayChart, err => showError(`Error loading script: ${err.message}`));\n",
              "    } else if (typeof vegaEmbed === \"function\") {\n",
              "      displayChart(vegaEmbed);\n",
              "    } else {\n",
              "      loadScript(\"vega\")\n",
              "        .then(() => loadScript(\"vega-lite\"))\n",
              "        .then(() => loadScript(\"vega-embed\"))\n",
              "        .catch(showError)\n",
              "        .then(() => displayChart(vegaEmbed));\n",
              "    }\n",
              "  })({\"config\": {\"view\": {\"continuousWidth\": 400, \"continuousHeight\": 300}}, \"data\": {\"name\": \"data-207bb502c93cf449006e654ebebbd107\"}, \"mark\": \"bar\", \"encoding\": {\"x\": {\"type\": \"quantitative\", \"field\": \"importance\"}, \"y\": {\"type\": \"nominal\", \"field\": \"feature\"}}, \"$schema\": \"https://vega.github.io/schema/vega-lite/v4.8.1.json\", \"datasets\": {\"data-207bb502c93cf449006e654ebebbd107\": [{\"feature\": \"mean radius\", \"importance\": 0.03854055739406795}, {\"feature\": \"mean texture\", \"importance\": 0.020532658512915136}, {\"feature\": \"mean perimeter\", \"importance\": 0.048779170465445776}, {\"feature\": \"mean area\", \"importance\": 0.06475535159562269}, {\"feature\": \"mean smoothness\", \"importance\": 0.006112837338069552}, {\"feature\": \"mean compactness\", \"importance\": 0.006276507564888144}, {\"feature\": \"mean concavity\", \"importance\": 0.06487146548912143}, {\"feature\": \"mean concave points\", \"importance\": 0.10810023667896676}, {\"feature\": \"mean symmetry\", \"importance\": 0.0037875952837472054}, {\"feature\": \"mean fractal dimension\", \"importance\": 0.003906894646429437}, {\"feature\": \"radius error\", \"importance\": 0.01179614141320874}, {\"feature\": \"texture error\", \"importance\": 0.005355357896642844}, {\"feature\": \"perimeter error\", \"importance\": 0.0040301961312913335}, {\"feature\": \"area error\", \"importance\": 0.03232201267371255}, {\"feature\": \"smoothness error\", \"importance\": 0.00470869124537376}, {\"feature\": \"compactness error\", \"importance\": 0.004663410759408677}, {\"feature\": \"concavity error\", \"importance\": 0.007088193094363692}, {\"feature\": \"concave points error\", \"importance\": 0.00341198657941259}, {\"feature\": \"symmetry error\", \"importance\": 0.0028226562546188453}, {\"feature\": \"fractal dimension error\", \"importance\": 0.005053916702744604}, {\"feature\": \"worst radius\", \"importance\": 0.11991175801886265}, {\"feature\": \"worst texture\", \"importance\": 0.01938263581521792}, {\"feature\": \"worst perimeter\", \"importance\": 0.10187395382162887}, {\"feature\": \"worst area\", \"importance\": 0.1045203144060996}, {\"feature\": \"worst smoothness\", \"importance\": 0.011876234396135757}, {\"feature\": \"worst compactness\", \"importance\": 0.01984074041044256}, {\"feature\": \"worst concavity\", \"importance\": 0.03877298323338099}, {\"feature\": \"worst concave points\", \"importance\": 0.12437077139881866}, {\"feature\": \"worst symmetry\", \"importance\": 0.005556903090707679}, {\"feature\": \"worst fractal dimension\", \"importance\": 0.006977867688653576}]}}, {\"mode\": \"vega-lite\"});\n",
              "</script>"
            ]
          },
          "metadata": {
            "tags": []
          },
          "execution_count": 3
        }
      ]
    },
    {
      "cell_type": "code",
      "metadata": {
        "id": "W-MhUQq9Xd_r",
        "colab_type": "code",
        "colab": {}
      },
      "source": [
        ""
      ],
      "execution_count": 0,
      "outputs": []
    },
    {
      "cell_type": "code",
      "metadata": {
        "id": "rzk34HGUXeB7",
        "colab_type": "code",
        "colab": {}
      },
      "source": [
        ""
      ],
      "execution_count": 0,
      "outputs": []
    }
  ]
}