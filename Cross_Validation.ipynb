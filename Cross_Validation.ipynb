{
  "nbformat": 4,
  "nbformat_minor": 0,
  "metadata": {
    "colab": {
      "name": "Cross_Validation.ipynb",
      "provenance": [],
      "authorship_tag": "ABX9TyMkPBngW/yQl5tJGbo/GuJz",
      "include_colab_link": true
    },
    "kernelspec": {
      "name": "python3",
      "display_name": "Python 3"
    }
  },
  "cells": [
    {
      "cell_type": "markdown",
      "metadata": {
        "id": "view-in-github",
        "colab_type": "text"
      },
      "source": [
        "<a href=\"https://colab.research.google.com/github/sadullahmath/Exercise/blob/master/Cross_Validation.ipynb\" target=\"_parent\"><img src=\"https://colab.research.google.com/assets/colab-badge.svg\" alt=\"Open In Colab\"/></a>"
      ]
    },
    {
      "cell_type": "markdown",
      "metadata": {
        "id": "V3FfzGRXUMBH",
        "colab_type": "text"
      },
      "source": [
        "# Creating a Five-Fold Cross-Validation Dataset\n",
        "\n",
        " **car** car acceptability \n",
        ". PRICE overall price \n",
        ". . **buying** buying price \n",
        ". . **maint** price of the maintenance \n",
        ". TECH **bold text** technical characteristics \n",
        ". . **COMFORT** comfort \n",
        ". . . **doors** number of doors \n",
        ". . . **persons capacity** in terms of persons to carry \n",
        ". . . **lug_boot** the size of luggage boot \n",
        ". . **safety estimated** safety of the car "
      ]
    },
    {
      "cell_type": "code",
      "metadata": {
        "id": "zoaL4yv7UMLO",
        "colab_type": "code",
        "colab": {}
      },
      "source": [
        "# import libraries\n",
        "import pandas as pd\n",
        "from sklearn.model_selection import train_test_split"
      ],
      "execution_count": 0,
      "outputs": []
    },
    {
      "cell_type": "code",
      "metadata": {
        "id": "0hVn3BUwUMNo",
        "colab_type": "code",
        "colab": {}
      },
      "source": [
        "# data doesn't have headers, so let's create headers\n",
        "_headers = ['buying', 'maint', 'doors', 'persons', 'lug_boot', 'safety', 'car']"
      ],
      "execution_count": 0,
      "outputs": []
    },
    {
      "cell_type": "code",
      "metadata": {
        "id": "meyp6nJdUMRg",
        "colab_type": "code",
        "colab": {}
      },
      "source": [
        "# read in cars dataset\n",
        "df = pd.read_csv('https://raw.githubusercontent.com/PacktWorkshops/The-Data-Science-Workshop/master/Chapter07/Dataset/car.data', names=_headers, index_col=None)"
      ],
      "execution_count": 0,
      "outputs": []
    },
    {
      "cell_type": "code",
      "metadata": {
        "id": "9VGNhypcUMUC",
        "colab_type": "code",
        "colab": {
          "base_uri": "https://localhost:8080/",
          "height": 255
        },
        "outputId": "06927c1d-d795-414b-ab01-1de24137e68a"
      },
      "source": [
        "df.info()"
      ],
      "execution_count": 4,
      "outputs": [
        {
          "output_type": "stream",
          "text": [
            "<class 'pandas.core.frame.DataFrame'>\n",
            "RangeIndex: 1728 entries, 0 to 1727\n",
            "Data columns (total 7 columns):\n",
            " #   Column    Non-Null Count  Dtype \n",
            "---  ------    --------------  ----- \n",
            " 0   buying    1728 non-null   object\n",
            " 1   maint     1728 non-null   object\n",
            " 2   doors     1728 non-null   object\n",
            " 3   persons   1728 non-null   object\n",
            " 4   lug_boot  1728 non-null   object\n",
            " 5   safety    1728 non-null   object\n",
            " 6   car       1728 non-null   object\n",
            "dtypes: object(7)\n",
            "memory usage: 94.6+ KB\n"
          ],
          "name": "stdout"
        }
      ]
    },
    {
      "cell_type": "code",
      "metadata": {
        "id": "HXT6r4GuUMWF",
        "colab_type": "code",
        "colab": {}
      },
      "source": [
        "#split the data into 80% for training and 20% for evaluation\n",
        "training_df, eval_df = train_test_split(df, train_size=0.8, random_state=0)"
      ],
      "execution_count": 0,
      "outputs": []
    },
    {
      "cell_type": "code",
      "metadata": {
        "id": "8147OvRDUwJk",
        "colab_type": "code",
        "colab": {
          "base_uri": "https://localhost:8080/",
          "height": 255
        },
        "outputId": "59e7cc37-055b-4714-eec4-19dbb8753f18"
      },
      "source": [
        "training_df.info()"
      ],
      "execution_count": 6,
      "outputs": [
        {
          "output_type": "stream",
          "text": [
            "<class 'pandas.core.frame.DataFrame'>\n",
            "Int64Index: 1382 entries, 1649 to 684\n",
            "Data columns (total 7 columns):\n",
            " #   Column    Non-Null Count  Dtype \n",
            "---  ------    --------------  ----- \n",
            " 0   buying    1382 non-null   object\n",
            " 1   maint     1382 non-null   object\n",
            " 2   doors     1382 non-null   object\n",
            " 3   persons   1382 non-null   object\n",
            " 4   lug_boot  1382 non-null   object\n",
            " 5   safety    1382 non-null   object\n",
            " 6   car       1382 non-null   object\n",
            "dtypes: object(7)\n",
            "memory usage: 86.4+ KB\n"
          ],
          "name": "stdout"
        }
      ]
    },
    {
      "cell_type": "code",
      "metadata": {
        "id": "o9Aat-W4UwL_",
        "colab_type": "code",
        "colab": {
          "base_uri": "https://localhost:8080/",
          "height": 255
        },
        "outputId": "cc74171f-5074-4b18-d77b-9dce17c02dcd"
      },
      "source": [
        "eval_df.info()"
      ],
      "execution_count": 7,
      "outputs": [
        {
          "output_type": "stream",
          "text": [
            "<class 'pandas.core.frame.DataFrame'>\n",
            "Int64Index: 346 entries, 1318 to 427\n",
            "Data columns (total 7 columns):\n",
            " #   Column    Non-Null Count  Dtype \n",
            "---  ------    --------------  ----- \n",
            " 0   buying    346 non-null    object\n",
            " 1   maint     346 non-null    object\n",
            " 2   doors     346 non-null    object\n",
            " 3   persons   346 non-null    object\n",
            " 4   lug_boot  346 non-null    object\n",
            " 5   safety    346 non-null    object\n",
            " 6   car       346 non-null    object\n",
            "dtypes: object(7)\n",
            "memory usage: 21.6+ KB\n"
          ],
          "name": "stdout"
        }
      ]
    },
    {
      "cell_type": "code",
      "metadata": {
        "id": "0hBYdGg9UwOI",
        "colab_type": "code",
        "colab": {}
      },
      "source": [
        "#split the data into 80% for training and 20% for evaluation #using a random state\n",
        "training_df, eval_df = train_test_split(df, train_size=0.8, random_state=1)"
      ],
      "execution_count": 0,
      "outputs": []
    },
    {
      "cell_type": "code",
      "metadata": {
        "id": "C-TTUMd3UwQP",
        "colab_type": "code",
        "colab": {
          "base_uri": "https://localhost:8080/",
          "height": 204
        },
        "outputId": "a35d4b7f-17fb-419d-aa60-e6f0c5116e9b"
      },
      "source": [
        "#view the head of training_eval\n",
        "training_df.head()"
      ],
      "execution_count": 9,
      "outputs": [
        {
          "output_type": "execute_result",
          "data": {
            "text/html": [
              "<div>\n",
              "<style scoped>\n",
              "    .dataframe tbody tr th:only-of-type {\n",
              "        vertical-align: middle;\n",
              "    }\n",
              "\n",
              "    .dataframe tbody tr th {\n",
              "        vertical-align: top;\n",
              "    }\n",
              "\n",
              "    .dataframe thead th {\n",
              "        text-align: right;\n",
              "    }\n",
              "</style>\n",
              "<table border=\"1\" class=\"dataframe\">\n",
              "  <thead>\n",
              "    <tr style=\"text-align: right;\">\n",
              "      <th></th>\n",
              "      <th>buying</th>\n",
              "      <th>maint</th>\n",
              "      <th>doors</th>\n",
              "      <th>persons</th>\n",
              "      <th>lug_boot</th>\n",
              "      <th>safety</th>\n",
              "      <th>car</th>\n",
              "    </tr>\n",
              "  </thead>\n",
              "  <tbody>\n",
              "    <tr>\n",
              "      <th>1579</th>\n",
              "      <td>low</td>\n",
              "      <td>med</td>\n",
              "      <td>4</td>\n",
              "      <td>4</td>\n",
              "      <td>med</td>\n",
              "      <td>med</td>\n",
              "      <td>good</td>\n",
              "    </tr>\n",
              "    <tr>\n",
              "      <th>634</th>\n",
              "      <td>high</td>\n",
              "      <td>high</td>\n",
              "      <td>5more</td>\n",
              "      <td>4</td>\n",
              "      <td>med</td>\n",
              "      <td>med</td>\n",
              "      <td>acc</td>\n",
              "    </tr>\n",
              "    <tr>\n",
              "      <th>299</th>\n",
              "      <td>vhigh</td>\n",
              "      <td>med</td>\n",
              "      <td>5more</td>\n",
              "      <td>2</td>\n",
              "      <td>small</td>\n",
              "      <td>high</td>\n",
              "      <td>unacc</td>\n",
              "    </tr>\n",
              "    <tr>\n",
              "      <th>1085</th>\n",
              "      <td>med</td>\n",
              "      <td>med</td>\n",
              "      <td>2</td>\n",
              "      <td>2</td>\n",
              "      <td>med</td>\n",
              "      <td>high</td>\n",
              "      <td>unacc</td>\n",
              "    </tr>\n",
              "    <tr>\n",
              "      <th>1659</th>\n",
              "      <td>low</td>\n",
              "      <td>low</td>\n",
              "      <td>3</td>\n",
              "      <td>4</td>\n",
              "      <td>med</td>\n",
              "      <td>low</td>\n",
              "      <td>unacc</td>\n",
              "    </tr>\n",
              "  </tbody>\n",
              "</table>\n",
              "</div>"
            ],
            "text/plain": [
              "     buying maint  doors persons lug_boot safety    car\n",
              "1579    low   med      4       4      med    med   good\n",
              "634    high  high  5more       4      med    med    acc\n",
              "299   vhigh   med  5more       2    small   high  unacc\n",
              "1085    med   med      2       2      med   high  unacc\n",
              "1659    low   low      3       4      med    low  unacc"
            ]
          },
          "metadata": {
            "tags": []
          },
          "execution_count": 9
        }
      ]
    },
    {
      "cell_type": "code",
      "metadata": {
        "id": "Q7VWsOyjUwSa",
        "colab_type": "code",
        "colab": {
          "base_uri": "https://localhost:8080/",
          "height": 204
        },
        "outputId": "d4db958a-e40a-4e17-97ae-5ac030118d11"
      },
      "source": [
        "#view the top of eval_df\n",
        "eval_df.head()"
      ],
      "execution_count": 10,
      "outputs": [
        {
          "output_type": "execute_result",
          "data": {
            "text/html": [
              "<div>\n",
              "<style scoped>\n",
              "    .dataframe tbody tr th:only-of-type {\n",
              "        vertical-align: middle;\n",
              "    }\n",
              "\n",
              "    .dataframe tbody tr th {\n",
              "        vertical-align: top;\n",
              "    }\n",
              "\n",
              "    .dataframe thead th {\n",
              "        text-align: right;\n",
              "    }\n",
              "</style>\n",
              "<table border=\"1\" class=\"dataframe\">\n",
              "  <thead>\n",
              "    <tr style=\"text-align: right;\">\n",
              "      <th></th>\n",
              "      <th>buying</th>\n",
              "      <th>maint</th>\n",
              "      <th>doors</th>\n",
              "      <th>persons</th>\n",
              "      <th>lug_boot</th>\n",
              "      <th>safety</th>\n",
              "      <th>car</th>\n",
              "    </tr>\n",
              "  </thead>\n",
              "  <tbody>\n",
              "    <tr>\n",
              "      <th>1233</th>\n",
              "      <td>med</td>\n",
              "      <td>low</td>\n",
              "      <td>3</td>\n",
              "      <td>more</td>\n",
              "      <td>small</td>\n",
              "      <td>low</td>\n",
              "      <td>unacc</td>\n",
              "    </tr>\n",
              "    <tr>\n",
              "      <th>592</th>\n",
              "      <td>high</td>\n",
              "      <td>high</td>\n",
              "      <td>3</td>\n",
              "      <td>more</td>\n",
              "      <td>big</td>\n",
              "      <td>med</td>\n",
              "      <td>acc</td>\n",
              "    </tr>\n",
              "    <tr>\n",
              "      <th>625</th>\n",
              "      <td>high</td>\n",
              "      <td>high</td>\n",
              "      <td>5more</td>\n",
              "      <td>2</td>\n",
              "      <td>med</td>\n",
              "      <td>med</td>\n",
              "      <td>unacc</td>\n",
              "    </tr>\n",
              "    <tr>\n",
              "      <th>1546</th>\n",
              "      <td>low</td>\n",
              "      <td>med</td>\n",
              "      <td>3</td>\n",
              "      <td>2</td>\n",
              "      <td>big</td>\n",
              "      <td>med</td>\n",
              "      <td>unacc</td>\n",
              "    </tr>\n",
              "    <tr>\n",
              "      <th>730</th>\n",
              "      <td>high</td>\n",
              "      <td>med</td>\n",
              "      <td>5more</td>\n",
              "      <td>2</td>\n",
              "      <td>small</td>\n",
              "      <td>med</td>\n",
              "      <td>unacc</td>\n",
              "    </tr>\n",
              "  </tbody>\n",
              "</table>\n",
              "</div>"
            ],
            "text/plain": [
              "     buying maint  doors persons lug_boot safety    car\n",
              "1233    med   low      3    more    small    low  unacc\n",
              "592    high  high      3    more      big    med    acc\n",
              "625    high  high  5more       2      med    med  unacc\n",
              "1546    low   med      3       2      big    med  unacc\n",
              "730    high   med  5more       2    small    med  unacc"
            ]
          },
          "metadata": {
            "tags": []
          },
          "execution_count": 10
        }
      ]
    },
    {
      "cell_type": "code",
      "metadata": {
        "id": "WRDr3jD_U8_U",
        "colab_type": "code",
        "colab": {}
      },
      "source": [
        "from sklearn.model_selection import KFold"
      ],
      "execution_count": 0,
      "outputs": []
    },
    {
      "cell_type": "code",
      "metadata": {
        "id": "UbmBc10iU9CM",
        "colab_type": "code",
        "colab": {}
      },
      "source": [
        "_kf = KFold(n_splits=5)"
      ],
      "execution_count": 0,
      "outputs": []
    },
    {
      "cell_type": "code",
      "metadata": {
        "id": "CD-z7sN9U9mE",
        "colab_type": "code",
        "colab": {}
      },
      "source": [
        "indices = _kf.split(df)"
      ],
      "execution_count": 0,
      "outputs": []
    },
    {
      "cell_type": "code",
      "metadata": {
        "id": "BeENVaA7U9oh",
        "colab_type": "code",
        "colab": {
          "base_uri": "https://localhost:8080/",
          "height": 34
        },
        "outputId": "8073f16e-6de2-4401-da3b-d0e968a59cb8"
      },
      "source": [
        "print(type(indices))"
      ],
      "execution_count": 14,
      "outputs": [
        {
          "output_type": "stream",
          "text": [
            "<class 'generator'>\n"
          ],
          "name": "stdout"
        }
      ]
    },
    {
      "cell_type": "code",
      "metadata": {
        "id": "Xgnc3kczXKp2",
        "colab_type": "code",
        "colab": {}
      },
      "source": [
        "#first set\n",
        "train_indices, val_indices = next(indices)"
      ],
      "execution_count": 0,
      "outputs": []
    },
    {
      "cell_type": "code",
      "metadata": {
        "id": "u7K5VXcDXKsP",
        "colab_type": "code",
        "colab": {
          "base_uri": "https://localhost:8080/",
          "height": 255
        },
        "outputId": "ea36f356-beb7-42fc-d2e0-220c5109debe"
      },
      "source": [
        "train_df = df.drop(val_indices)\n",
        "train_df.info()"
      ],
      "execution_count": 16,
      "outputs": [
        {
          "output_type": "stream",
          "text": [
            "<class 'pandas.core.frame.DataFrame'>\n",
            "Int64Index: 1382 entries, 346 to 1727\n",
            "Data columns (total 7 columns):\n",
            " #   Column    Non-Null Count  Dtype \n",
            "---  ------    --------------  ----- \n",
            " 0   buying    1382 non-null   object\n",
            " 1   maint     1382 non-null   object\n",
            " 2   doors     1382 non-null   object\n",
            " 3   persons   1382 non-null   object\n",
            " 4   lug_boot  1382 non-null   object\n",
            " 5   safety    1382 non-null   object\n",
            " 6   car       1382 non-null   object\n",
            "dtypes: object(7)\n",
            "memory usage: 86.4+ KB\n"
          ],
          "name": "stdout"
        }
      ]
    },
    {
      "cell_type": "code",
      "metadata": {
        "id": "oRILDsDjXKvr",
        "colab_type": "code",
        "colab": {
          "base_uri": "https://localhost:8080/",
          "height": 255
        },
        "outputId": "75010d15-b70a-471f-bb38-1c3534adf303"
      },
      "source": [
        "val_df = df.drop(train_indices)\n",
        "val_df.info()"
      ],
      "execution_count": 17,
      "outputs": [
        {
          "output_type": "stream",
          "text": [
            "<class 'pandas.core.frame.DataFrame'>\n",
            "Int64Index: 346 entries, 0 to 345\n",
            "Data columns (total 7 columns):\n",
            " #   Column    Non-Null Count  Dtype \n",
            "---  ------    --------------  ----- \n",
            " 0   buying    346 non-null    object\n",
            " 1   maint     346 non-null    object\n",
            " 2   doors     346 non-null    object\n",
            " 3   persons   346 non-null    object\n",
            " 4   lug_boot  346 non-null    object\n",
            " 5   safety    346 non-null    object\n",
            " 6   car       346 non-null    object\n",
            "dtypes: object(7)\n",
            "memory usage: 21.6+ KB\n"
          ],
          "name": "stdout"
        }
      ]
    },
    {
      "cell_type": "code",
      "metadata": {
        "id": "dp4ZXAZZXKzm",
        "colab_type": "code",
        "colab": {}
      },
      "source": [
        ""
      ],
      "execution_count": 0,
      "outputs": []
    },
    {
      "cell_type": "code",
      "metadata": {
        "id": "xnqn6TFyXK2X",
        "colab_type": "code",
        "colab": {}
      },
      "source": [
        ""
      ],
      "execution_count": 0,
      "outputs": []
    },
    {
      "cell_type": "code",
      "metadata": {
        "id": "9Jg9m33nXKyU",
        "colab_type": "code",
        "colab": {}
      },
      "source": [
        ""
      ],
      "execution_count": 0,
      "outputs": []
    }
  ]
}