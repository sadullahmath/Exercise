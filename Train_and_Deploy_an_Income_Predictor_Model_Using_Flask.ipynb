{
  "nbformat": 4,
  "nbformat_minor": 0,
  "metadata": {
    "colab": {
      "name": "Train and Deploy an Income Predictor Model Using Flask.ipynb",
      "provenance": [],
      "authorship_tag": "ABX9TyMFK259WhfB5xe6bo76B9nA",
      "include_colab_link": true
    },
    "kernelspec": {
      "name": "python3",
      "display_name": "Python 3"
    }
  },
  "cells": [
    {
      "cell_type": "markdown",
      "metadata": {
        "id": "view-in-github",
        "colab_type": "text"
      },
      "source": [
        "<a href=\"https://colab.research.google.com/github/sadullahmath/Exercise/blob/master/Train_and_Deploy_an_Income_Predictor_Model_Using_Flask.ipynb\" target=\"_parent\"><img src=\"https://colab.research.google.com/assets/colab-badge.svg\" alt=\"Open In Colab\"/></a>"
      ]
    },
    {
      "cell_type": "markdown",
      "metadata": {
        "id": "1S0KMWrmo75D",
        "colab_type": "text"
      },
      "source": [
        "# Train and Deploy an Income Predictor Model Using Flask"
      ]
    },
    {
      "cell_type": "code",
      "metadata": {
        "id": "1pU75pkJo7_j",
        "colab_type": "code",
        "colab": {}
      },
      "source": [
        "import pandas as pd\n",
        "import joblib\n",
        "import pickle\n",
        "from sklearn.ensemble import RandomForestClassifier\n",
        "from sklearn.model_selection import train_test_split"
      ],
      "execution_count": 0,
      "outputs": []
    },
    {
      "cell_type": "code",
      "metadata": {
        "id": "YbR_bv3hpjmT",
        "colab_type": "code",
        "colab": {}
      },
      "source": [
        "#Import the pandas, pickle, joblib, and RandomForestClassifier packages from sklearn.ensemble, as well as train_test_split from sklearn.model_selection:"
      ],
      "execution_count": 0,
      "outputs": []
    },
    {
      "cell_type": "code",
      "metadata": {
        "id": "Zfkjou4Go8EB",
        "colab_type": "code",
        "colab": {}
      },
      "source": [
        "file_url = 'https://raw.githubusercontent.com/PacktWorkshops/The-Data-Science-Workshop/master/Chapter18/Dataset/phpMawTba.csv'"
      ],
      "execution_count": 0,
      "outputs": []
    },
    {
      "cell_type": "code",
      "metadata": {
        "id": "VNv23FHuo8Gf",
        "colab_type": "code",
        "colab": {}
      },
      "source": [
        "df = pd.read_csv(file_url)"
      ],
      "execution_count": 0,
      "outputs": []
    },
    {
      "cell_type": "code",
      "metadata": {
        "id": "DzGUiiGso8IU",
        "colab_type": "code",
        "colab": {}
      },
      "source": [
        "df = pd.read_csv(file_url)"
      ],
      "execution_count": 0,
      "outputs": []
    },
    {
      "cell_type": "code",
      "metadata": {
        "id": "UmfYoKOfppsj",
        "colab_type": "code",
        "colab": {}
      },
      "source": [
        "# Extract the 'class' response variable using the .pop() method and save it into a variable called y:"
      ],
      "execution_count": 0,
      "outputs": []
    },
    {
      "cell_type": "code",
      "metadata": {
        "id": "Ij49I01To8Oz",
        "colab_type": "code",
        "colab": {}
      },
      "source": [
        "y = df.pop('class')"
      ],
      "execution_count": 0,
      "outputs": []
    },
    {
      "cell_type": "code",
      "metadata": {
        "id": "Y_MUkq4GptWF",
        "colab_type": "code",
        "colab": {}
      },
      "source": [
        "#Create a list called cat_columns containing only the columns of type 'object' using the dtype attribute and print its content"
      ],
      "execution_count": 0,
      "outputs": []
    },
    {
      "cell_type": "code",
      "metadata": {
        "id": "OoLO2WBAo8RB",
        "colab_type": "code",
        "colab": {
          "base_uri": "https://localhost:8080/",
          "height": 136
        },
        "outputId": "87452027-34d5-4cc1-abf1-d160dea1738b"
      },
      "source": [
        "cat_columns = [col for col in df.columns if df[col].dtype == 'object']\n",
        "cat_columns"
      ],
      "execution_count": 6,
      "outputs": [
        {
          "output_type": "execute_result",
          "data": {
            "text/plain": [
              "['workclass',\n",
              " 'education',\n",
              " 'marital-status',\n",
              " 'occupation',\n",
              " 'relationship',\n",
              " 'sex',\n",
              " 'native-country']"
            ]
          },
          "metadata": {
            "tags": []
          },
          "execution_count": 6
        }
      ]
    },
    {
      "cell_type": "code",
      "metadata": {
        "id": "vJFBJrgep0zF",
        "colab_type": "code",
        "colab": {}
      },
      "source": [
        "# Split the df and y DataFrames into training and test sets using the train_test_split function with the parameters test_size=0.33 and random_state=8:"
      ],
      "execution_count": 0,
      "outputs": []
    },
    {
      "cell_type": "code",
      "metadata": {
        "id": "lBPeHGucpL6b",
        "colab_type": "code",
        "colab": {}
      },
      "source": [
        "X_train, X_test, y_train, y_test = train_test_split(df, y, test_size=0.33, random_state=8)"
      ],
      "execution_count": 0,
      "outputs": []
    },
    {
      "cell_type": "code",
      "metadata": {
        "id": "CppSqlVXpL-4",
        "colab_type": "code",
        "colab": {}
      },
      "source": [
        "column_categories = {}"
      ],
      "execution_count": 0,
      "outputs": []
    },
    {
      "cell_type": "code",
      "metadata": {
        "id": "wI21WaK6p48w",
        "colab_type": "code",
        "colab": {}
      },
      "source": [
        "# Iterate through cat_columns and populate the dictionary with the column name and the list of categories using the .astype() method and the .cat.categories attribute:"
      ],
      "execution_count": 0,
      "outputs": []
    },
    {
      "cell_type": "code",
      "metadata": {
        "id": "pMTlUltSpMC3",
        "colab_type": "code",
        "colab": {}
      },
      "source": [
        "for col in cat_columns:\n",
        "  column_categories[col] = X_train[col].astype('category').cat.categories"
      ],
      "execution_count": 0,
      "outputs": []
    },
    {
      "cell_type": "code",
      "metadata": {
        "id": "cFE2goxvp-7W",
        "colab_type": "code",
        "colab": {}
      },
      "source": [
        "#Save column_categories and cat_columns into files called categories_data.pkl and categorical_columns.pkl respectively using the pickle.dump() method:"
      ],
      "execution_count": 0,
      "outputs": []
    },
    {
      "cell_type": "code",
      "metadata": {
        "id": "H6iGRvFNpMFy",
        "colab_type": "code",
        "colab": {}
      },
      "source": [
        "pickle.dump(column_categories, open(\"categories_data.pkl\", \"wb\"))\n",
        "pickle.dump(cat_columns, open(\"categorical_columns.pkl\", \"wb\"))"
      ],
      "execution_count": 0,
      "outputs": []
    },
    {
      "cell_type": "code",
      "metadata": {
        "id": "JeCEyDr6qCn3",
        "colab_type": "code",
        "colab": {}
      },
      "source": [
        "#Create a function called apply_categories that takes a DataFrame and a dictionary as inputs and will import CategoricalDtype from pandas.api.types, iterate through this dictionary, \n",
        "# and convert each column (keys) with the list of categories (values) using the .astype() method and CategoricalDtype:"
      ],
      "execution_count": 0,
      "outputs": []
    },
    {
      "cell_type": "code",
      "metadata": {
        "id": "kiCjE8aYpMBo",
        "colab_type": "code",
        "colab": {}
      },
      "source": [
        "def apply_categories(input_df, cat_dict):\n",
        "  from pandas.api.types import CategoricalDtype\n",
        "  for col, cat in cat_dict.items():\n",
        "    input_df[col] = input_df[col].astype(CategoricalDtype(categories=cat))\n",
        "  return input_df"
      ],
      "execution_count": 0,
      "outputs": []
    },
    {
      "cell_type": "code",
      "metadata": {
        "id": "RH7GllWdpL9U",
        "colab_type": "code",
        "colab": {}
      },
      "source": [
        "# Apply this function on X_train and column_categories and save the result in a new DataFrame called X_train_cat. Print the data type of its columns using the .dtypes attribute:"
      ],
      "execution_count": 0,
      "outputs": []
    },
    {
      "cell_type": "code",
      "metadata": {
        "id": "dVx1meMvo8To",
        "colab_type": "code",
        "colab": {
          "base_uri": "https://localhost:8080/",
          "height": 357
        },
        "outputId": "99920919-8c45-4710-9afd-defa69955cbf"
      },
      "source": [
        "X_train_cat = apply_categories(X_train, column_categories)\n",
        "X_train_cat.dtypes"
      ],
      "execution_count": 12,
      "outputs": [
        {
          "output_type": "stream",
          "text": [
            "/usr/local/lib/python3.6/dist-packages/ipykernel_launcher.py:4: SettingWithCopyWarning: \n",
            "A value is trying to be set on a copy of a slice from a DataFrame.\n",
            "Try using .loc[row_indexer,col_indexer] = value instead\n",
            "\n",
            "See the caveats in the documentation: https://pandas.pydata.org/pandas-docs/stable/user_guide/indexing.html#returning-a-view-versus-a-copy\n",
            "  after removing the cwd from sys.path.\n"
          ],
          "name": "stderr"
        },
        {
          "output_type": "execute_result",
          "data": {
            "text/plain": [
              "age                  int64\n",
              "workclass         category\n",
              "fnlwgt               int64\n",
              "education         category\n",
              "education-num        int64\n",
              "marital-status    category\n",
              "occupation        category\n",
              "relationship      category\n",
              "sex               category\n",
              "capital-gain         int64\n",
              "capital-loss         int64\n",
              "hours-per-week       int64\n",
              "native-country    category\n",
              "dtype: object"
            ]
          },
          "metadata": {
            "tags": []
          },
          "execution_count": 12
        }
      ]
    },
    {
      "cell_type": "code",
      "metadata": {
        "id": "-2uCQzDZqLjQ",
        "colab_type": "code",
        "colab": {}
      },
      "source": [
        "#Perform one-hot encoding on the categorical columns using the .get_dummies() method and save the result into a new variable called X_train_final:"
      ],
      "execution_count": 0,
      "outputs": []
    },
    {
      "cell_type": "code",
      "metadata": {
        "id": "sm5pLItCqLl5",
        "colab_type": "code",
        "colab": {}
      },
      "source": [
        "X_train_final = pd.get_dummies(X_train_cat, columns=cat_columns)"
      ],
      "execution_count": 0,
      "outputs": []
    },
    {
      "cell_type": "code",
      "metadata": {
        "id": "VV-XIU2aqLrx",
        "colab_type": "code",
        "colab": {}
      },
      "source": [
        "# Instantiate a RandomForestClassifier with random_state=8 and train it with the training sets using the .fit() method. \n",
        "# Save the model into a file called model.pkl using the joblib.dump() method:"
      ],
      "execution_count": 0,
      "outputs": []
    },
    {
      "cell_type": "code",
      "metadata": {
        "id": "qqra_2DGqLvC",
        "colab_type": "code",
        "colab": {
          "base_uri": "https://localhost:8080/",
          "height": 34
        },
        "outputId": "5f5bdff1-27e1-415c-c8c3-041f86ef3318"
      },
      "source": [
        "rf_model = RandomForestClassifier(random_state=8)\n",
        "rf_model.fit(X_train_final, y_train)\n",
        "joblib.dump(rf_model, \"model.pkl\")"
      ],
      "execution_count": 14,
      "outputs": [
        {
          "output_type": "execute_result",
          "data": {
            "text/plain": [
              "['model.pkl']"
            ]
          },
          "metadata": {
            "tags": []
          },
          "execution_count": 14
        }
      ]
    },
    {
      "cell_type": "code",
      "metadata": {
        "id": "UX5R9JVvqLp1",
        "colab_type": "code",
        "colab": {}
      },
      "source": [
        "# Import the socket, threading, requests, json, and numpy packages, the Flask class, and the jsonify and request functions from the flask package:"
      ],
      "execution_count": 0,
      "outputs": []
    },
    {
      "cell_type": "code",
      "metadata": {
        "id": "cvi0tzPTqLoe",
        "colab_type": "code",
        "colab": {}
      },
      "source": [
        "import socket\n",
        "import threading\n",
        "import requests\n",
        "import json\n",
        "from flask import Flask, jsonify, request\n",
        "import numpy as np"
      ],
      "execution_count": 0,
      "outputs": []
    },
    {
      "cell_type": "code",
      "metadata": {
        "id": "Ckk3bMHlqfUi",
        "colab_type": "code",
        "colab": {}
      },
      "source": [
        "# Create a new Flask app and save it into a variable called app:"
      ],
      "execution_count": 0,
      "outputs": []
    },
    {
      "cell_type": "code",
      "metadata": {
        "id": "9I2GtRq-qfXZ",
        "colab_type": "code",
        "colab": {}
      },
      "source": [
        "app = Flask(__name__)"
      ],
      "execution_count": 0,
      "outputs": []
    },
    {
      "cell_type": "code",
      "metadata": {
        "id": "KtMYJuoNqfah",
        "colab_type": "code",
        "colab": {}
      },
      "source": [
        "# Load the pre-trained model from the model.pkl file using joblib.load() and save it into a variable called trained_model. \n",
        "# Load the saved dictionary from categories_data.pkl using pickle.load() and save it into a variable called var_means:"
      ],
      "execution_count": 0,
      "outputs": []
    },
    {
      "cell_type": "code",
      "metadata": {
        "id": "Sj7IczEtqffI",
        "colab_type": "code",
        "colab": {}
      },
      "source": [
        "trained_model = joblib.load(\"model.pkl\")\n",
        "var_means = pickle.load(open(\"categories_data.pkl\", \"rb\"))\n",
        "cat_cols = pickle.load(open(\"categorical_columns.pkl\", \"rb\"))"
      ],
      "execution_count": 0,
      "outputs": []
    },
    {
      "cell_type": "code",
      "metadata": {
        "id": "5b2LAgEtqfia",
        "colab_type": "code",
        "colab": {}
      },
      "source": [
        "# Create an API endpoint for the api path that accepts only POST requests and will call a function called predict().\n",
        "# This function will read the JSON received using the request.get_json() method, transform it into a DataFrame, \n",
        "# apply the apply_categories() function on it with var_means, perform one-hot encoding with .get_dummies(), \n",
        "# predict the outcome with trained_model, convert the prediction from a numpy array to a string with array2string(), and then convert to JSON with jsonify():"
      ],
      "execution_count": 0,
      "outputs": []
    },
    {
      "cell_type": "code",
      "metadata": {
        "id": "kJ1U4oThq3HH",
        "colab_type": "code",
        "colab": {}
      },
      "source": [
        "@app.route('/api', methods=['POST']) \n",
        "def predict(): \n",
        "  data = request.get_json() \n",
        "  df_test = pd.DataFrame(data, index=[0]) \n",
        "  df_test_clean = apply_categories(df_test, var_means) \n",
        "  df_test_final = pd.get_dummies(df_test_clean, columns=cat_cols) \n",
        "  prediction = trained_model.predict(df_test_final) \n",
        "  str_pred = np.array2string(prediction) \n",
        "  return jsonify(str_pred) "
      ],
      "execution_count": 0,
      "outputs": []
    },
    {
      "cell_type": "code",
      "metadata": {
        "id": "N-9nT1Inq3Qe",
        "colab_type": "code",
        "colab": {}
      },
      "source": [
        "# Create a new thread for running your Flask app using the threading.\n",
        "# Thread method with the following parameters: target=app.run, kwargs={'host':'0.0.0.0','port':80}:"
      ],
      "execution_count": 0,
      "outputs": []
    },
    {
      "cell_type": "code",
      "metadata": {
        "id": "PUCuG8yBq3VS",
        "colab_type": "code",
        "colab": {
          "base_uri": "https://localhost:8080/",
          "height": 119
        },
        "outputId": "cf9cca4d-6565-4b55-d103-0ebb612ac96f"
      },
      "source": [
        "flask_thread = threading.Thread(target=app.run, kwargs={'host':'0.0.0.0','port':80})\n",
        "flask_thread.start()"
      ],
      "execution_count": 19,
      "outputs": [
        {
          "output_type": "stream",
          "text": [
            " * Serving Flask app \"__main__\" (lazy loading)\n",
            " * Environment: production\n",
            "\u001b[31m   WARNING: This is a development server. Do not use it in a production deployment.\u001b[0m\n",
            "\u001b[2m   Use a production WSGI server instead.\u001b[0m\n",
            " * Debug mode: off\n"
          ],
          "name": "stdout"
        },
        {
          "output_type": "stream",
          "text": [
            " * Running on http://0.0.0.0:80/ (Press CTRL+C to quit)\n"
          ],
          "name": "stderr"
        }
      ]
    },
    {
      "cell_type": "code",
      "metadata": {
        "id": "hc4Fxu10rAC2",
        "colab_type": "code",
        "colab": {}
      },
      "source": [
        "# Select the first record of X_test and convert it into JSON format using the .to_json() method:"
      ],
      "execution_count": 0,
      "outputs": []
    },
    {
      "cell_type": "code",
      "metadata": {
        "id": "fMpch3-crDLO",
        "colab_type": "code",
        "colab": {
          "base_uri": "https://localhost:8080/",
          "height": 54
        },
        "outputId": "a807e289-4923-484b-af5c-71e42d8c74ac"
      },
      "source": [
        "record = X_test.iloc[0,].to_json()\n",
        "record"
      ],
      "execution_count": 20,
      "outputs": [
        {
          "output_type": "execute_result",
          "data": {
            "text/plain": [
              "'{\"age\":51,\"workclass\":\" Private\",\"fnlwgt\":106151,\"education\":\" 11th\",\"education-num\":7,\"marital-status\":\" Divorced\",\"occupation\":\" Transport-moving\",\"relationship\":\" Own-child\",\"sex\":\" Male\",\"capital-gain\":0,\"capital-loss\":0,\"hours-per-week\":40,\"native-country\":\" United-States\"}'"
            ]
          },
          "metadata": {
            "tags": []
          },
          "execution_count": 20
        }
      ]
    },
    {
      "cell_type": "code",
      "metadata": {
        "id": "o3wGvJTGrDSm",
        "colab_type": "code",
        "colab": {}
      },
      "source": [
        "# Create a dictionary called headers with the following key-value pairs: 'content-type': 'application/json', 'Accept-Charset': 'UTF-8'. \n",
        "# Extract into a new variable called ip_address the IP address of the host using the socket.gethostname() and socket.gethostbyname() methods:"
      ],
      "execution_count": 0,
      "outputs": []
    },
    {
      "cell_type": "code",
      "metadata": {
        "id": "mVhW4VRwrLHZ",
        "colab_type": "code",
        "colab": {}
      },
      "source": [
        "headers = {'content-type': 'application/json', 'Accept-Charset': 'UTF-8'}\n",
        "ip_address = socket.gethostbyname(socket.gethostname())"
      ],
      "execution_count": 0,
      "outputs": []
    },
    {
      "cell_type": "code",
      "metadata": {
        "id": "UWewm_rYrNVw",
        "colab_type": "code",
        "colab": {}
      },
      "source": [
        "# Send an HTTP POST request to the server using the requests.post() method with the HTTP URL to the endpoint, using record and headers as its parameters, and print its .text attribute:"
      ],
      "execution_count": 0,
      "outputs": []
    },
    {
      "cell_type": "code",
      "metadata": {
        "id": "RZGhVTCNrNcR",
        "colab_type": "code",
        "colab": {
          "base_uri": "https://localhost:8080/",
          "height": 51
        },
        "outputId": "c8033066-0e27-411c-ae00-1a9247b1d61e"
      },
      "source": [
        "r = requests.post(f\"http://{ip_address}/api\", data=record, headers=headers)\n",
        "r.text"
      ],
      "execution_count": 22,
      "outputs": [
        {
          "output_type": "stream",
          "text": [
            "172.28.0.2 - - [11/May/2020 21:38:55] \"\u001b[37mPOST /api HTTP/1.1\u001b[0m\" 200 -\n"
          ],
          "name": "stderr"
        },
        {
          "output_type": "execute_result",
          "data": {
            "text/plain": [
              "'\"[\\' <=50K\\']\"\\n'"
            ]
          },
          "metadata": {
            "tags": []
          },
          "execution_count": 22
        }
      ]
    },
    {
      "cell_type": "code",
      "metadata": {
        "id": "xlkN0LN1rVcP",
        "colab_type": "code",
        "colab": {}
      },
      "source": [
        "# From the output, we observe that the POST request was successful: the server returned the code 200. \n",
        "# We received the prediction from the model for the record we sent, and it has predicted the person has an income below the 50k mark."
      ],
      "execution_count": 0,
      "outputs": []
    }
  ]
}