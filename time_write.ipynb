{
  "nbformat": 4,
  "nbformat_minor": 0,
  "metadata": {
    "colab": {
      "name": "time_write.ipynb",
      "provenance": [],
      "authorship_tag": "ABX9TyP2rAiGOGVgkrZ4s0JK4KLt",
      "include_colab_link": true
    },
    "kernelspec": {
      "name": "python3",
      "display_name": "Python 3"
    }
  },
  "cells": [
    {
      "cell_type": "markdown",
      "metadata": {
        "id": "view-in-github",
        "colab_type": "text"
      },
      "source": [
        "<a href=\"https://colab.research.google.com/github/sadullahmath/Exercise/blob/master/time_write.ipynb\" target=\"_parent\"><img src=\"https://colab.research.google.com/assets/colab-badge.svg\" alt=\"Open In Colab\"/></a>"
      ]
    },
    {
      "cell_type": "code",
      "metadata": {
        "id": "vv2qtXKyxxoE",
        "colab_type": "code",
        "colab": {}
      },
      "source": [
        "f = open('log.txt', 'w')"
      ],
      "execution_count": 0,
      "outputs": []
    },
    {
      "cell_type": "code",
      "metadata": {
        "id": "YNkJTjGJ6Dog",
        "colab_type": "code",
        "colab": {
          "base_uri": "https://localhost:8080/",
          "height": 187
        },
        "outputId": "31ba31a3-8f71-4b5c-d18f-15beca5c2566"
      },
      "source": [
        "from datetime import datetime\n",
        "import time\n",
        "for i in range(0,10):\n",
        "    print(datetime.now().strftime('%Y%m%d_%H:%M:%S - '),i)\n",
        "    f.write(datetime.now().strftime('%Y%m%d_%H:%M:%S - '))\n",
        "    time.sleep(1)\n",
        "    f.write(str(i))\n",
        "    f.write(\"\\n\")\n",
        "f.close()"
      ],
      "execution_count": 2,
      "outputs": [
        {
          "output_type": "stream",
          "text": [
            "20200513_21:19:47 -  0\n",
            "20200513_21:19:48 -  1\n",
            "20200513_21:19:49 -  2\n",
            "20200513_21:19:50 -  3\n",
            "20200513_21:19:51 -  4\n",
            "20200513_21:19:52 -  5\n",
            "20200513_21:19:53 -  6\n",
            "20200513_21:19:54 -  7\n",
            "20200513_21:19:55 -  8\n",
            "20200513_21:19:56 -  9\n"
          ],
          "name": "stdout"
        }
      ]
    }
  ]
}