{
  "nbformat": 4,
  "nbformat_minor": 0,
  "metadata": {
    "colab": {
      "name": "Titanic3.ipynb",
      "provenance": [],
      "authorship_tag": "ABX9TyPq+TA2jtCBQEZ0GodwemK8",
      "include_colab_link": true
    },
    "kernelspec": {
      "name": "python3",
      "display_name": "Python 3"
    }
  },
  "cells": [
    {
      "cell_type": "markdown",
      "metadata": {
        "id": "view-in-github",
        "colab_type": "text"
      },
      "source": [
        "<a href=\"https://colab.research.google.com/github/sadullahmath/Exercise/blob/master/Titanic3.ipynb\" target=\"_parent\"><img src=\"https://colab.research.google.com/assets/colab-badge.svg\" alt=\"Open In Colab\"/></a>"
      ]
    },
    {
      "cell_type": "code",
      "metadata": {
        "id": "t7Uupt3xJh9a",
        "colab_type": "code",
        "colab": {}
      },
      "source": [
        "import pandas as pd\n",
        "import numpy as np"
      ],
      "execution_count": 0,
      "outputs": []
    },
    {
      "cell_type": "code",
      "metadata": {
        "id": "Pg4GJiGUKAA8",
        "colab_type": "code",
        "colab": {}
      },
      "source": [
        "df = pd.read_csv('https://raw.githubusercontent.com/PacktWorkshops/The-Supervised-Learning-Workshop/master/Chapter01/Datasets/titanic.csv')"
      ],
      "execution_count": 0,
      "outputs": []
    },
    {
      "cell_type": "code",
      "metadata": {
        "id": "wpwFw95EKADv",
        "colab_type": "code",
        "colab": {}
      },
      "source": [
        "del df['Unnamed: 0']\n",
        "embarked_grouped= df.groupby('Embarked')"
      ],
      "execution_count": 0,
      "outputs": []
    },
    {
      "cell_type": "code",
      "metadata": {
        "id": "2dfMGhiSKAHm",
        "colab_type": "code",
        "colab": {
          "base_uri": "https://localhost:8080/",
          "height": 173
        },
        "outputId": "8f6081be-a593-46da-f0e6-e3d6fd006f73"
      },
      "source": [
        "embarked_grouped.agg( lambda x : x.values[0])"
      ],
      "execution_count": 4,
      "outputs": [
        {
          "output_type": "execute_result",
          "data": {
            "text/html": [
              "<div>\n",
              "<style scoped>\n",
              "    .dataframe tbody tr th:only-of-type {\n",
              "        vertical-align: middle;\n",
              "    }\n",
              "\n",
              "    .dataframe tbody tr th {\n",
              "        vertical-align: top;\n",
              "    }\n",
              "\n",
              "    .dataframe thead th {\n",
              "        text-align: right;\n",
              "    }\n",
              "</style>\n",
              "<table border=\"1\" class=\"dataframe\">\n",
              "  <thead>\n",
              "    <tr style=\"text-align: right;\">\n",
              "      <th></th>\n",
              "      <th>Cabin</th>\n",
              "      <th>Fare</th>\n",
              "      <th>Pclass</th>\n",
              "      <th>Ticket</th>\n",
              "      <th>Age</th>\n",
              "      <th>Name</th>\n",
              "      <th>Parch</th>\n",
              "      <th>Sex</th>\n",
              "      <th>SibSp</th>\n",
              "      <th>Survived</th>\n",
              "    </tr>\n",
              "    <tr>\n",
              "      <th>Embarked</th>\n",
              "      <th></th>\n",
              "      <th></th>\n",
              "      <th></th>\n",
              "      <th></th>\n",
              "      <th></th>\n",
              "      <th></th>\n",
              "      <th></th>\n",
              "      <th></th>\n",
              "      <th></th>\n",
              "      <th></th>\n",
              "    </tr>\n",
              "  </thead>\n",
              "  <tbody>\n",
              "    <tr>\n",
              "      <th>C</th>\n",
              "      <td>C85</td>\n",
              "      <td>71.2833</td>\n",
              "      <td>1</td>\n",
              "      <td>PC 17599</td>\n",
              "      <td>38.0</td>\n",
              "      <td>Cumings, Mrs. John Bradley (Florence Briggs Th...</td>\n",
              "      <td>0</td>\n",
              "      <td>female</td>\n",
              "      <td>1</td>\n",
              "      <td>1.0</td>\n",
              "    </tr>\n",
              "    <tr>\n",
              "      <th>Q</th>\n",
              "      <td>NaN</td>\n",
              "      <td>8.4583</td>\n",
              "      <td>3</td>\n",
              "      <td>330877</td>\n",
              "      <td>NaN</td>\n",
              "      <td>Moran, Mr. James</td>\n",
              "      <td>0</td>\n",
              "      <td>male</td>\n",
              "      <td>0</td>\n",
              "      <td>0.0</td>\n",
              "    </tr>\n",
              "    <tr>\n",
              "      <th>S</th>\n",
              "      <td>NaN</td>\n",
              "      <td>7.2500</td>\n",
              "      <td>3</td>\n",
              "      <td>A/5 21171</td>\n",
              "      <td>22.0</td>\n",
              "      <td>Braund, Mr. Owen Harris</td>\n",
              "      <td>0</td>\n",
              "      <td>male</td>\n",
              "      <td>1</td>\n",
              "      <td>0.0</td>\n",
              "    </tr>\n",
              "  </tbody>\n",
              "</table>\n",
              "</div>"
            ],
            "text/plain": [
              "         Cabin     Fare  Pclass     Ticket  ...  Parch     Sex  SibSp Survived\n",
              "Embarked                                    ...                               \n",
              "C          C85  71.2833       1   PC 17599  ...      0  female      1      1.0\n",
              "Q          NaN   8.4583       3     330877  ...      0    male      0      0.0\n",
              "S          NaN   7.2500       3  A/5 21171  ...      0    male      1      0.0\n",
              "\n",
              "[3 rows x 10 columns]"
            ]
          },
          "metadata": {
            "tags": []
          },
          "execution_count": 4
        }
      ]
    },
    {
      "cell_type": "code",
      "metadata": {
        "id": "0-fMiBidKAMI",
        "colab_type": "code",
        "colab": {
          "base_uri": "https://localhost:8080/",
          "height": 204
        },
        "outputId": "c78efd9f-4f23-4059-87a9-519135c24cd0"
      },
      "source": [
        "embarked_grouped.agg( [lambda x : x.values[0], np.mean, np.std])"
      ],
      "execution_count": 5,
      "outputs": [
        {
          "output_type": "execute_result",
          "data": {
            "text/html": [
              "<div>\n",
              "<style scoped>\n",
              "    .dataframe tbody tr th:only-of-type {\n",
              "        vertical-align: middle;\n",
              "    }\n",
              "\n",
              "    .dataframe tbody tr th {\n",
              "        vertical-align: top;\n",
              "    }\n",
              "\n",
              "    .dataframe thead tr th {\n",
              "        text-align: left;\n",
              "    }\n",
              "\n",
              "    .dataframe thead tr:last-of-type th {\n",
              "        text-align: right;\n",
              "    }\n",
              "</style>\n",
              "<table border=\"1\" class=\"dataframe\">\n",
              "  <thead>\n",
              "    <tr>\n",
              "      <th></th>\n",
              "      <th colspan=\"3\" halign=\"left\">Fare</th>\n",
              "      <th colspan=\"3\" halign=\"left\">Pclass</th>\n",
              "      <th colspan=\"3\" halign=\"left\">Age</th>\n",
              "      <th colspan=\"3\" halign=\"left\">Parch</th>\n",
              "      <th colspan=\"3\" halign=\"left\">SibSp</th>\n",
              "      <th colspan=\"3\" halign=\"left\">Survived</th>\n",
              "    </tr>\n",
              "    <tr>\n",
              "      <th></th>\n",
              "      <th>&lt;lambda_0&gt;</th>\n",
              "      <th>mean</th>\n",
              "      <th>std</th>\n",
              "      <th>&lt;lambda_0&gt;</th>\n",
              "      <th>mean</th>\n",
              "      <th>std</th>\n",
              "      <th>&lt;lambda_0&gt;</th>\n",
              "      <th>mean</th>\n",
              "      <th>std</th>\n",
              "      <th>&lt;lambda_0&gt;</th>\n",
              "      <th>mean</th>\n",
              "      <th>std</th>\n",
              "      <th>&lt;lambda_0&gt;</th>\n",
              "      <th>mean</th>\n",
              "      <th>std</th>\n",
              "      <th>&lt;lambda_0&gt;</th>\n",
              "      <th>mean</th>\n",
              "      <th>std</th>\n",
              "    </tr>\n",
              "    <tr>\n",
              "      <th>Embarked</th>\n",
              "      <th></th>\n",
              "      <th></th>\n",
              "      <th></th>\n",
              "      <th></th>\n",
              "      <th></th>\n",
              "      <th></th>\n",
              "      <th></th>\n",
              "      <th></th>\n",
              "      <th></th>\n",
              "      <th></th>\n",
              "      <th></th>\n",
              "      <th></th>\n",
              "      <th></th>\n",
              "      <th></th>\n",
              "      <th></th>\n",
              "      <th></th>\n",
              "      <th></th>\n",
              "      <th></th>\n",
              "    </tr>\n",
              "  </thead>\n",
              "  <tbody>\n",
              "    <tr>\n",
              "      <th>C</th>\n",
              "      <td>71.2833</td>\n",
              "      <td>62.336267</td>\n",
              "      <td>84.185996</td>\n",
              "      <td>1</td>\n",
              "      <td>1.851852</td>\n",
              "      <td>0.936802</td>\n",
              "      <td>38.0</td>\n",
              "      <td>32.332170</td>\n",
              "      <td>15.258092</td>\n",
              "      <td>0</td>\n",
              "      <td>0.370370</td>\n",
              "      <td>0.670579</td>\n",
              "      <td>1</td>\n",
              "      <td>0.400000</td>\n",
              "      <td>0.554803</td>\n",
              "      <td>1.0</td>\n",
              "      <td>0.553571</td>\n",
              "      <td>0.498608</td>\n",
              "    </tr>\n",
              "    <tr>\n",
              "      <th>Q</th>\n",
              "      <td>8.4583</td>\n",
              "      <td>12.409012</td>\n",
              "      <td>13.616133</td>\n",
              "      <td>3</td>\n",
              "      <td>2.894309</td>\n",
              "      <td>0.380099</td>\n",
              "      <td>NaN</td>\n",
              "      <td>28.630000</td>\n",
              "      <td>15.045784</td>\n",
              "      <td>0</td>\n",
              "      <td>0.113821</td>\n",
              "      <td>0.531056</td>\n",
              "      <td>0</td>\n",
              "      <td>0.341463</td>\n",
              "      <td>0.885487</td>\n",
              "      <td>0.0</td>\n",
              "      <td>0.389610</td>\n",
              "      <td>0.490860</td>\n",
              "    </tr>\n",
              "    <tr>\n",
              "      <th>S</th>\n",
              "      <td>7.2500</td>\n",
              "      <td>27.418824</td>\n",
              "      <td>37.096402</td>\n",
              "      <td>3</td>\n",
              "      <td>2.347921</td>\n",
              "      <td>0.784126</td>\n",
              "      <td>22.0</td>\n",
              "      <td>29.245205</td>\n",
              "      <td>14.047507</td>\n",
              "      <td>0</td>\n",
              "      <td>0.426696</td>\n",
              "      <td>0.943989</td>\n",
              "      <td>1</td>\n",
              "      <td>0.550328</td>\n",
              "      <td>1.161723</td>\n",
              "      <td>0.0</td>\n",
              "      <td>0.336957</td>\n",
              "      <td>0.473037</td>\n",
              "    </tr>\n",
              "  </tbody>\n",
              "</table>\n",
              "</div>"
            ],
            "text/plain": [
              "               Fare                        ...   Survived                    \n",
              "         <lambda_0>       mean        std  ... <lambda_0>      mean       std\n",
              "Embarked                                   ...                               \n",
              "C           71.2833  62.336267  84.185996  ...        1.0  0.553571  0.498608\n",
              "Q            8.4583  12.409012  13.616133  ...        0.0  0.389610  0.490860\n",
              "S            7.2500  27.418824  37.096402  ...        0.0  0.336957  0.473037\n",
              "\n",
              "[3 rows x 18 columns]"
            ]
          },
          "metadata": {
            "tags": []
          },
          "execution_count": 5
        }
      ]
    },
    {
      "cell_type": "code",
      "metadata": {
        "id": "HEQMm2WMKAOT",
        "colab_type": "code",
        "colab": {
          "base_uri": "https://localhost:8080/",
          "height": 173
        },
        "outputId": "20e8d1e7-43ac-4f18-d720-6a4e64d07ceb"
      },
      "source": [
        "embarked_grouped.agg({\n",
        "    'Fare': np.sum,\n",
        "    'Age': lambda x: x.values[0]\n",
        "})"
      ],
      "execution_count": 6,
      "outputs": [
        {
          "output_type": "execute_result",
          "data": {
            "text/html": [
              "<div>\n",
              "<style scoped>\n",
              "    .dataframe tbody tr th:only-of-type {\n",
              "        vertical-align: middle;\n",
              "    }\n",
              "\n",
              "    .dataframe tbody tr th {\n",
              "        vertical-align: top;\n",
              "    }\n",
              "\n",
              "    .dataframe thead th {\n",
              "        text-align: right;\n",
              "    }\n",
              "</style>\n",
              "<table border=\"1\" class=\"dataframe\">\n",
              "  <thead>\n",
              "    <tr style=\"text-align: right;\">\n",
              "      <th></th>\n",
              "      <th>Fare</th>\n",
              "      <th>Age</th>\n",
              "    </tr>\n",
              "    <tr>\n",
              "      <th>Embarked</th>\n",
              "      <th></th>\n",
              "      <th></th>\n",
              "    </tr>\n",
              "  </thead>\n",
              "  <tbody>\n",
              "    <tr>\n",
              "      <th>C</th>\n",
              "      <td>16830.7922</td>\n",
              "      <td>38.0</td>\n",
              "    </tr>\n",
              "    <tr>\n",
              "      <th>Q</th>\n",
              "      <td>1526.3085</td>\n",
              "      <td>NaN</td>\n",
              "    </tr>\n",
              "    <tr>\n",
              "      <th>S</th>\n",
              "      <td>25033.3862</td>\n",
              "      <td>22.0</td>\n",
              "    </tr>\n",
              "  </tbody>\n",
              "</table>\n",
              "</div>"
            ],
            "text/plain": [
              "                Fare   Age\n",
              "Embarked                  \n",
              "C         16830.7922  38.0\n",
              "Q          1526.3085   NaN\n",
              "S         25033.3862  22.0"
            ]
          },
          "metadata": {
            "tags": []
          },
          "execution_count": 6
        }
      ]
    },
    {
      "cell_type": "code",
      "metadata": {
        "id": "4QB3pcVPKAK-",
        "colab_type": "code",
        "colab": {
          "base_uri": "https://localhost:8080/",
          "height": 646
        },
        "outputId": "f842765a-ec87-4dd1-91e8-fe416d6593bb"
      },
      "source": [
        "age_embarked_grouped = df.groupby(['Sex', 'Embarked'])\n",
        "age_embarked_grouped.groups"
      ],
      "execution_count": 7,
      "outputs": [
        {
          "output_type": "execute_result",
          "data": {
            "text/plain": [
              "{('female',\n",
              "  'C'): Int64Index([   1,    9,   19,   31,   39,   43,   52,  111,  114,  128,\n",
              "             ...\n",
              "             1238, 1241, 1252, 1255, 1259, 1262, 1266, 1288, 1293, 1305],\n",
              "            dtype='int64', length=113),\n",
              " ('female',\n",
              "  'Q'): Int64Index([  22,   28,   32,   44,   47,   82,  109,  156,  186,  198,  208,\n",
              "              241,  264,  274,  289,  300,  303,  322,  330,  358,  359,  368,\n",
              "              412,  501,  502,  573,  593,  612,  653,  654,  657,  680,  697,\n",
              "              727,  767,  885,  897,  954,  957,  961,  970,  977,  979, 1002,\n",
              "             1004, 1018, 1051, 1091, 1097, 1107, 1118, 1164, 1173, 1182, 1195,\n",
              "             1204, 1206, 1299, 1301, 1302],\n",
              "            dtype='int64'),\n",
              " ('female',\n",
              "  'S'): Int64Index([   2,    3,    8,   10,   11,   14,   15,   18,   24,   25,\n",
              "             ...\n",
              "             1265, 1267, 1273, 1274, 1276, 1282, 1286, 1291, 1300, 1303],\n",
              "            dtype='int64', length=291),\n",
              " ('female', nan): Int64Index([61, 829], dtype='int64'),\n",
              " ('male',\n",
              "  'C'): Int64Index([  26,   30,   34,   36,   42,   48,   54,   57,   60,   64,\n",
              "             ...\n",
              "             1222, 1223, 1228, 1230, 1257, 1260, 1295, 1296, 1298, 1308],\n",
              "            dtype='int64', length=157),\n",
              " ('male',\n",
              "  'Q'): Int64Index([   5,   16,   46,  116,  126,  143,  171,  188,  196,  214,  245,\n",
              "              260,  278,  280,  301,  364,  388,  411,  421,  428,  459,  468,\n",
              "              510,  517,  525,  552,  560,  613,  626,  629,  703,  718,  749,\n",
              "              768,  776,  778,  787,  790,  825,  828,  890,  891,  893,  907,\n",
              "              938,  946,  975,  993,  997,  998, 1012, 1015, 1074, 1084, 1124,\n",
              "             1147, 1162, 1249, 1271, 1272, 1279, 1287, 1290],\n",
              "            dtype='int64'),\n",
              " ('male',\n",
              "  'S'): Int64Index([   0,    4,    6,    7,   12,   13,   17,   20,   21,   23,\n",
              "             ...\n",
              "             1283, 1284, 1285, 1289, 1292, 1294, 1297, 1304, 1306, 1307],\n",
              "            dtype='int64', length=623)}"
            ]
          },
          "metadata": {
            "tags": []
          },
          "execution_count": 7
        }
      ]
    },
    {
      "cell_type": "code",
      "metadata": {
        "id": "3K7jcwCVOa-h",
        "colab_type": "code",
        "colab": {}
      },
      "source": [
        "complete_data = df.dropna()"
      ],
      "execution_count": 0,
      "outputs": []
    },
    {
      "cell_type": "code",
      "metadata": {
        "id": "iV-CvRiNObBb",
        "colab_type": "code",
        "colab": {
          "base_uri": "https://localhost:8080/",
          "height": 34
        },
        "outputId": "0606c56e-6ef9-4310-dd27-df751fe01861"
      },
      "source": [
        "len(df)"
      ],
      "execution_count": 9,
      "outputs": [
        {
          "output_type": "execute_result",
          "data": {
            "text/plain": [
              "1309"
            ]
          },
          "metadata": {
            "tags": []
          },
          "execution_count": 9
        }
      ]
    },
    {
      "cell_type": "code",
      "metadata": {
        "id": "_ib1My42Oa78",
        "colab_type": "code",
        "colab": {
          "base_uri": "https://localhost:8080/",
          "height": 34
        },
        "outputId": "b687e793-0760-47a3-8923-dd30c20a8e7d"
      },
      "source": [
        "len(df.dropna())"
      ],
      "execution_count": 10,
      "outputs": [
        {
          "output_type": "execute_result",
          "data": {
            "text/plain": [
              "183"
            ]
          },
          "metadata": {
            "tags": []
          },
          "execution_count": 10
        }
      ]
    },
    {
      "cell_type": "code",
      "metadata": {
        "id": "cMaTR3hKOfoQ",
        "colab_type": "code",
        "colab": {
          "base_uri": "https://localhost:8080/",
          "height": 221
        },
        "outputId": "34dae1e5-34c5-4a46-b9fa-c3fb06bdb8d1"
      },
      "source": [
        "df.aggregate(lambda x: x.isna().sum() )"
      ],
      "execution_count": 11,
      "outputs": [
        {
          "output_type": "execute_result",
          "data": {
            "text/plain": [
              "Cabin       1014\n",
              "Embarked       2\n",
              "Fare           1\n",
              "Pclass         0\n",
              "Ticket         0\n",
              "Age          263\n",
              "Name           0\n",
              "Parch          0\n",
              "Sex            0\n",
              "SibSp          0\n",
              "Survived     418\n",
              "dtype: int64"
            ]
          },
          "metadata": {
            "tags": []
          },
          "execution_count": 11
        }
      ]
    },
    {
      "cell_type": "code",
      "metadata": {
        "id": "9Sn4zfsZOfqz",
        "colab_type": "code",
        "colab": {}
      },
      "source": [
        "df_valid = df.loc[(~df.Embarked.isna()) & (~df.Fare.isna())]"
      ],
      "execution_count": 0,
      "outputs": []
    },
    {
      "cell_type": "code",
      "metadata": {
        "id": "fQNkoo_4OsHv",
        "colab_type": "code",
        "colab": {
          "base_uri": "https://localhost:8080/",
          "height": 119
        },
        "outputId": "be9c3785-a9f0-45a9-cf02-68d22f729d6f"
      },
      "source": [
        "df_valid[['Age']] = df_valid[['Age']].fillna(df_valid.Age.mean())"
      ],
      "execution_count": 13,
      "outputs": [
        {
          "output_type": "stream",
          "text": [
            "/usr/local/lib/python3.6/dist-packages/pandas/core/frame.py:2963: SettingWithCopyWarning: \n",
            "A value is trying to be set on a copy of a slice from a DataFrame.\n",
            "Try using .loc[row_indexer,col_indexer] = value instead\n",
            "\n",
            "See the caveats in the documentation: https://pandas.pydata.org/pandas-docs/stable/user_guide/indexing.html#returning-a-view-versus-a-copy\n",
            "  self[k1] = value[k2]\n"
          ],
          "name": "stderr"
        }
      ]
    },
    {
      "cell_type": "code",
      "metadata": {
        "id": "_MKw-x7lOsMC",
        "colab_type": "code",
        "colab": {
          "base_uri": "https://localhost:8080/",
          "height": 34
        },
        "outputId": "a99b454f-e944-4a27-e18f-a03f38961877"
      },
      "source": [
        "df_valid.loc[df.Pclass == 1, 'Age'].mean()"
      ],
      "execution_count": 14,
      "outputs": [
        {
          "output_type": "execute_result",
          "data": {
            "text/plain": [
              "37.956806510097"
            ]
          },
          "metadata": {
            "tags": []
          },
          "execution_count": 14
        }
      ]
    },
    {
      "cell_type": "code",
      "metadata": {
        "id": "kC8UW2TVOsO4",
        "colab_type": "code",
        "colab": {
          "base_uri": "https://localhost:8080/",
          "height": 34
        },
        "outputId": "439bb4e6-bfeb-46e7-b89b-be1b36e75993"
      },
      "source": [
        "df_valid.loc[df.Pclass == 2, 'Age'].mean()"
      ],
      "execution_count": 15,
      "outputs": [
        {
          "output_type": "execute_result",
          "data": {
            "text/plain": [
              "29.52440879717284"
            ]
          },
          "metadata": {
            "tags": []
          },
          "execution_count": 15
        }
      ]
    },
    {
      "cell_type": "code",
      "metadata": {
        "id": "C7mTS49iOfuD",
        "colab_type": "code",
        "colab": {
          "base_uri": "https://localhost:8080/",
          "height": 34
        },
        "outputId": "12f0acb8-1268-464d-c36a-d722dd74bdbd"
      },
      "source": [
        "df_valid.loc[df.Pclass == 3, 'Age'].mean()"
      ],
      "execution_count": 16,
      "outputs": [
        {
          "output_type": "execute_result",
          "data": {
            "text/plain": [
              "26.233963387880507"
            ]
          },
          "metadata": {
            "tags": []
          },
          "execution_count": 16
        }
      ]
    },
    {
      "cell_type": "code",
      "metadata": {
        "id": "vfECArHoO0qJ",
        "colab_type": "code",
        "colab": {
          "base_uri": "https://localhost:8080/",
          "height": 119
        },
        "outputId": "a72ae384-a7fe-457a-a042-8e3d1576e154"
      },
      "source": [
        "for name, grp in df_valid.groupby(['Pclass', 'Sex']):\n",
        "    print('%i' % name[0], name[1], '%0.2f' % grp['Age'].mean())"
      ],
      "execution_count": 17,
      "outputs": [
        {
          "output_type": "stream",
          "text": [
            "1 female 36.30\n",
            "1 male 39.27\n",
            "2 female 27.56\n",
            "2 male 30.74\n",
            "3 female 24.45\n",
            "3 male 27.02\n"
          ],
          "name": "stdout"
        }
      ]
    },
    {
      "cell_type": "code",
      "metadata": {
        "id": "vAqGZJKiO0sr",
        "colab_type": "code",
        "colab": {
          "base_uri": "https://localhost:8080/",
          "height": 119
        },
        "outputId": "4474f1f5-ae50-4cdc-9b08-6720ed188124"
      },
      "source": [
        "mean_ages = df_valid.groupby(['Pclass', 'Sex'])['Age'].\\\n",
        "    transform(lambda x: x.fillna(x.mean()))\n",
        "df_valid.loc[:, 'Age'] = mean_ages"
      ],
      "execution_count": 18,
      "outputs": [
        {
          "output_type": "stream",
          "text": [
            "/usr/local/lib/python3.6/dist-packages/pandas/core/indexing.py:966: SettingWithCopyWarning: \n",
            "A value is trying to be set on a copy of a slice from a DataFrame.\n",
            "Try using .loc[row_indexer,col_indexer] = value instead\n",
            "\n",
            "See the caveats in the documentation: https://pandas.pydata.org/pandas-docs/stable/user_guide/indexing.html#returning-a-view-versus-a-copy\n",
            "  self.obj[item] = s\n"
          ],
          "name": "stderr"
        }
      ]
    },
    {
      "cell_type": "code",
      "metadata": {
        "id": "17eij1hlO0vi",
        "colab_type": "code",
        "colab": {}
      },
      "source": [
        "mean_ages = df_valid.groupby(['Pclass', 'Sex'])['Age'].\\\n",
        "    transform(lambda x: x.fillna(x.mean()))"
      ],
      "execution_count": 0,
      "outputs": []
    },
    {
      "cell_type": "code",
      "metadata": {
        "id": "oLHPqa-UPIkO",
        "colab_type": "code",
        "colab": {
          "base_uri": "https://localhost:8080/",
          "height": 119
        },
        "outputId": "72aadc69-6653-484b-8c38-9f9a7d3d5fbf"
      },
      "source": [
        "df_valid.loc[:, 'Age'] = mean_ages"
      ],
      "execution_count": 20,
      "outputs": [
        {
          "output_type": "stream",
          "text": [
            "/usr/local/lib/python3.6/dist-packages/pandas/core/indexing.py:966: SettingWithCopyWarning: \n",
            "A value is trying to be set on a copy of a slice from a DataFrame.\n",
            "Try using .loc[row_indexer,col_indexer] = value instead\n",
            "\n",
            "See the caveats in the documentation: https://pandas.pydata.org/pandas-docs/stable/user_guide/indexing.html#returning-a-view-versus-a-copy\n",
            "  self.obj[item] = s\n"
          ],
          "name": "stderr"
        }
      ]
    },
    {
      "cell_type": "code",
      "metadata": {
        "id": "p3Kuy8MCPIpH",
        "colab_type": "code",
        "colab": {
          "base_uri": "https://localhost:8080/",
          "height": 34
        },
        "outputId": "c3c45f38-e406-4565-ce8c-d71ba38f14f6"
      },
      "source": [
        "len(df.loc[df.Survived ==1])"
      ],
      "execution_count": 21,
      "outputs": [
        {
          "output_type": "execute_result",
          "data": {
            "text/plain": [
              "342"
            ]
          },
          "metadata": {
            "tags": []
          },
          "execution_count": 21
        }
      ]
    },
    {
      "cell_type": "code",
      "metadata": {
        "id": "RNs1jeX8PInW",
        "colab_type": "code",
        "colab": {
          "base_uri": "https://localhost:8080/",
          "height": 34
        },
        "outputId": "5e9a33ac-7d19-48a0-bdaf-d5a09a89e232"
      },
      "source": [
        "len(df.loc[df.Survived ==0])"
      ],
      "execution_count": 22,
      "outputs": [
        {
          "output_type": "execute_result",
          "data": {
            "text/plain": [
              "549"
            ]
          },
          "metadata": {
            "tags": []
          },
          "execution_count": 22
        }
      ]
    },
    {
      "cell_type": "code",
      "metadata": {
        "id": "ILu6BrZkPQeM",
        "colab_type": "code",
        "colab": {}
      },
      "source": [
        "df_oversample = df.append(df.iloc[0])"
      ],
      "execution_count": 0,
      "outputs": []
    },
    {
      "cell_type": "code",
      "metadata": {
        "id": "U5oBAI0pPQiX",
        "colab_type": "code",
        "colab": {}
      },
      "source": [
        ""
      ],
      "execution_count": 0,
      "outputs": []
    },
    {
      "cell_type": "code",
      "metadata": {
        "id": "_0v4h7HWPQgu",
        "colab_type": "code",
        "colab": {}
      },
      "source": [
        ""
      ],
      "execution_count": 0,
      "outputs": []
    }
  ]
}