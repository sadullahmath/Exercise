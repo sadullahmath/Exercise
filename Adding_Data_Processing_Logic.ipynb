{
  "nbformat": 4,
  "nbformat_minor": 0,
  "metadata": {
    "colab": {
      "name": "Adding Data Processing Logic.ipynb",
      "provenance": [],
      "authorship_tag": "ABX9TyOtPRIqSN1c9Kc5lmuhwdha",
      "include_colab_link": true
    },
    "kernelspec": {
      "name": "python3",
      "display_name": "Python 3"
    }
  },
  "cells": [
    {
      "cell_type": "markdown",
      "metadata": {
        "id": "view-in-github",
        "colab_type": "text"
      },
      "source": [
        "<a href=\"https://colab.research.google.com/github/sadullahmath/Exercise/blob/master/Adding_Data_Processing_Logic.ipynb\" target=\"_parent\"><img src=\"https://colab.research.google.com/assets/colab-badge.svg\" alt=\"Open In Colab\"/></a>"
      ]
    },
    {
      "cell_type": "markdown",
      "metadata": {
        "id": "NJzMzpwvmnHc",
        "colab_type": "text"
      },
      "source": [
        "# Adding Data Processing Logic\n"
      ]
    },
    {
      "cell_type": "code",
      "metadata": {
        "id": "UnOwOTCOmnPI",
        "colab_type": "code",
        "colab": {}
      },
      "source": [
        "import pandas as pd\n",
        "file_url = 'https://raw.githubusercontent.com/PacktWorkshops/The-Data-Science-Workshop/master/Chapter03/bank-full.csv'\n",
        "df = pd.read_csv(file_url, sep=';')"
      ],
      "execution_count": 0,
      "outputs": []
    },
    {
      "cell_type": "code",
      "metadata": {
        "id": "9wGqR_o0mnRZ",
        "colab_type": "code",
        "colab": {}
      },
      "source": [
        "y = df.pop('y')"
      ],
      "execution_count": 0,
      "outputs": []
    },
    {
      "cell_type": "code",
      "metadata": {
        "id": "4lcyCmZbmnVc",
        "colab_type": "code",
        "colab": {}
      },
      "source": [
        "X_train = df[:31648]\n",
        "y_train = y[:31648]\n",
        "X_test = df[31648:]\n",
        "y_test = y[31648:]"
      ],
      "execution_count": 0,
      "outputs": []
    },
    {
      "cell_type": "code",
      "metadata": {
        "id": "kHWg8bRAmnXs",
        "colab_type": "code",
        "colab": {
          "base_uri": "https://localhost:8080/",
          "height": 51
        },
        "outputId": "460e1259-4e4c-4369-e2f8-f118173e40bf"
      },
      "source": [
        "print(sorted(X_train['month'].unique()))\n",
        "print(sorted(X_test['month'].unique()))"
      ],
      "execution_count": 5,
      "outputs": [
        {
          "output_type": "stream",
          "text": [
            "['apr', 'aug', 'dec', 'feb', 'jan', 'jul', 'jun', 'mar', 'may', 'nov', 'oct']\n",
            "['apr', 'aug', 'dec', 'feb', 'jan', 'jul', 'jun', 'mar', 'may', 'nov', 'oct', 'sep']\n"
          ],
          "name": "stdout"
        }
      ]
    },
    {
      "cell_type": "code",
      "metadata": {
        "id": "6M9ElRvrmnZ_",
        "colab_type": "code",
        "colab": {
          "base_uri": "https://localhost:8080/",
          "height": 170
        },
        "outputId": "6c27123f-caa2-412a-bab5-5e7370f35b54"
      },
      "source": [
        "cat_columns = [col for col in X_train.columns if X_train[col].dtype == 'object']\n",
        "cat_columns"
      ],
      "execution_count": 6,
      "outputs": [
        {
          "output_type": "execute_result",
          "data": {
            "text/plain": [
              "['job',\n",
              " 'marital',\n",
              " 'education',\n",
              " 'default',\n",
              " 'housing',\n",
              " 'loan',\n",
              " 'contact',\n",
              " 'month',\n",
              " 'poutcome']"
            ]
          },
          "metadata": {
            "tags": []
          },
          "execution_count": 6
        }
      ]
    },
    {
      "cell_type": "code",
      "metadata": {
        "id": "s3cTSmhCmy8i",
        "colab_type": "code",
        "colab": {}
      },
      "source": [
        "column_categories = {}\n",
        "for col in cat_columns:\n",
        "  column_categories[col] = X_train[col].astype('category').cat.categories"
      ],
      "execution_count": 0,
      "outputs": []
    },
    {
      "cell_type": "code",
      "metadata": {
        "id": "Nv3SkIwUmzDc",
        "colab_type": "code",
        "colab": {
          "base_uri": "https://localhost:8080/",
          "height": 255
        },
        "outputId": "d11e56db-c57f-44e0-8625-f7568b8dcd4b"
      },
      "source": [
        "column_categories"
      ],
      "execution_count": 8,
      "outputs": [
        {
          "output_type": "execute_result",
          "data": {
            "text/plain": [
              "{'contact': Index(['cellular', 'telephone', 'unknown'], dtype='object'),\n",
              " 'default': Index(['no', 'yes'], dtype='object'),\n",
              " 'education': Index(['primary', 'secondary', 'tertiary', 'unknown'], dtype='object'),\n",
              " 'housing': Index(['no', 'yes'], dtype='object'),\n",
              " 'job': Index(['admin.', 'blue-collar', 'entrepreneur', 'housemaid', 'management',\n",
              "        'retired', 'self-employed', 'services', 'student', 'technician',\n",
              "        'unemployed', 'unknown'],\n",
              "       dtype='object'),\n",
              " 'loan': Index(['no', 'yes'], dtype='object'),\n",
              " 'marital': Index(['divorced', 'married', 'single'], dtype='object'),\n",
              " 'month': Index(['apr', 'aug', 'dec', 'feb', 'jan', 'jul', 'jun', 'mar', 'may', 'nov',\n",
              "        'oct'],\n",
              "       dtype='object'),\n",
              " 'poutcome': Index(['failure', 'other', 'success', 'unknown'], dtype='object')}"
            ]
          },
          "metadata": {
            "tags": []
          },
          "execution_count": 8
        }
      ]
    },
    {
      "cell_type": "code",
      "metadata": {
        "id": "7yyUtMUomzGX",
        "colab_type": "code",
        "colab": {
          "base_uri": "https://localhost:8080/",
          "height": 119
        },
        "outputId": "8ed13be9-6a7b-4285-c305-b604c1486bb8"
      },
      "source": [
        "from pandas.api.types import CategoricalDtype\n",
        "for col, cat in column_categories.items():\n",
        "  X_train[col] = X_train[col].astype(CategoricalDtype(categories=cat))"
      ],
      "execution_count": 9,
      "outputs": [
        {
          "output_type": "stream",
          "text": [
            "/usr/local/lib/python3.6/dist-packages/ipykernel_launcher.py:3: SettingWithCopyWarning: \n",
            "A value is trying to be set on a copy of a slice from a DataFrame.\n",
            "Try using .loc[row_indexer,col_indexer] = value instead\n",
            "\n",
            "See the caveats in the documentation: https://pandas.pydata.org/pandas-docs/stable/user_guide/indexing.html#returning-a-view-versus-a-copy\n",
            "  This is separate from the ipykernel package so we can avoid doing imports until\n"
          ],
          "name": "stderr"
        }
      ]
    },
    {
      "cell_type": "code",
      "metadata": {
        "id": "cOHlGyVkmzJ9",
        "colab_type": "code",
        "colab": {}
      },
      "source": [
        "X_train_final = pd.get_dummies(X_train, columns=cat_columns)"
      ],
      "execution_count": 0,
      "outputs": []
    },
    {
      "cell_type": "code",
      "metadata": {
        "id": "nGZJboixmzI3",
        "colab_type": "code",
        "colab": {
          "base_uri": "https://localhost:8080/",
          "height": 153
        },
        "outputId": "3a83b77a-8aef-4664-8161-a9fba718d9c0"
      },
      "source": [
        "from sklearn.ensemble import RandomForestClassifier\n",
        "rf_model = RandomForestClassifier(random_state=8)\n",
        "rf_model.fit(X_train_final, y_train)"
      ],
      "execution_count": 11,
      "outputs": [
        {
          "output_type": "execute_result",
          "data": {
            "text/plain": [
              "RandomForestClassifier(bootstrap=True, ccp_alpha=0.0, class_weight=None,\n",
              "                       criterion='gini', max_depth=None, max_features='auto',\n",
              "                       max_leaf_nodes=None, max_samples=None,\n",
              "                       min_impurity_decrease=0.0, min_impurity_split=None,\n",
              "                       min_samples_leaf=1, min_samples_split=2,\n",
              "                       min_weight_fraction_leaf=0.0, n_estimators=100,\n",
              "                       n_jobs=None, oob_score=False, random_state=8, verbose=0,\n",
              "                       warm_start=False)"
            ]
          },
          "metadata": {
            "tags": []
          },
          "execution_count": 11
        }
      ]
    },
    {
      "cell_type": "code",
      "metadata": {
        "id": "lmmPLpunmnT-",
        "colab_type": "code",
        "colab": {}
      },
      "source": [
        "import pickle\n",
        "pickle.dump(column_categories, open(\"categories_data.pkl\", \"wb\" ) )"
      ],
      "execution_count": 0,
      "outputs": []
    },
    {
      "cell_type": "code",
      "metadata": {
        "id": "rh-gkXXKnA_R",
        "colab_type": "code",
        "colab": {
          "base_uri": "https://localhost:8080/",
          "height": 255
        },
        "outputId": "27b5d4df-922e-4169-f877-c92c2ce17e9f"
      },
      "source": [
        "categories_data = pickle.load(open(\"categories_data.pkl\", \"rb\" ) )\n",
        "categories_data"
      ],
      "execution_count": 13,
      "outputs": [
        {
          "output_type": "execute_result",
          "data": {
            "text/plain": [
              "{'contact': Index(['cellular', 'telephone', 'unknown'], dtype='object'),\n",
              " 'default': Index(['no', 'yes'], dtype='object'),\n",
              " 'education': Index(['primary', 'secondary', 'tertiary', 'unknown'], dtype='object'),\n",
              " 'housing': Index(['no', 'yes'], dtype='object'),\n",
              " 'job': Index(['admin.', 'blue-collar', 'entrepreneur', 'housemaid', 'management',\n",
              "        'retired', 'self-employed', 'services', 'student', 'technician',\n",
              "        'unemployed', 'unknown'],\n",
              "       dtype='object'),\n",
              " 'loan': Index(['no', 'yes'], dtype='object'),\n",
              " 'marital': Index(['divorced', 'married', 'single'], dtype='object'),\n",
              " 'month': Index(['apr', 'aug', 'dec', 'feb', 'jan', 'jul', 'jun', 'mar', 'may', 'nov',\n",
              "        'oct'],\n",
              "       dtype='object'),\n",
              " 'poutcome': Index(['failure', 'other', 'success', 'unknown'], dtype='object')}"
            ]
          },
          "metadata": {
            "tags": []
          },
          "execution_count": 13
        }
      ]
    },
    {
      "cell_type": "code",
      "metadata": {
        "id": "5iYWh3EbnBCS",
        "colab_type": "code",
        "colab": {
          "base_uri": "https://localhost:8080/",
          "height": 54
        },
        "outputId": "6cb29a41-4128-440e-fe90-2c5d852f73d2"
      },
      "source": [
        "record = X_test[X_test['month'] == 'sep'].iloc[0].to_json()\n",
        "record"
      ],
      "execution_count": 14,
      "outputs": [
        {
          "output_type": "execute_result",
          "data": {
            "text/plain": [
              "'{\"age\":23,\"job\":\"student\",\"marital\":\"single\",\"education\":\"secondary\",\"default\":\"no\",\"balance\":922,\"housing\":\"no\",\"loan\":\"no\",\"contact\":\"cellular\",\"day\":1,\"month\":\"sep\",\"duration\":81,\"campaign\":5,\"pdays\":99,\"previous\":3,\"poutcome\":\"other\"}'"
            ]
          },
          "metadata": {
            "tags": []
          },
          "execution_count": 14
        }
      ]
    },
    {
      "cell_type": "code",
      "metadata": {
        "id": "Nu_VVXBQnBFH",
        "colab_type": "code",
        "colab": {}
      },
      "source": [
        "import json\n",
        "j_data = json.loads(record)"
      ],
      "execution_count": 0,
      "outputs": []
    },
    {
      "cell_type": "code",
      "metadata": {
        "id": "kgjGYHC_nBHJ",
        "colab_type": "code",
        "colab": {
          "base_uri": "https://localhost:8080/",
          "height": 80
        },
        "outputId": "8cf0150e-6d73-4ae4-cb2c-4ca1bc783b54"
      },
      "source": [
        "df_test = pd.DataFrame(j_data, index=[0])\n",
        "df_test"
      ],
      "execution_count": 16,
      "outputs": [
        {
          "output_type": "execute_result",
          "data": {
            "text/html": [
              "<div>\n",
              "<style scoped>\n",
              "    .dataframe tbody tr th:only-of-type {\n",
              "        vertical-align: middle;\n",
              "    }\n",
              "\n",
              "    .dataframe tbody tr th {\n",
              "        vertical-align: top;\n",
              "    }\n",
              "\n",
              "    .dataframe thead th {\n",
              "        text-align: right;\n",
              "    }\n",
              "</style>\n",
              "<table border=\"1\" class=\"dataframe\">\n",
              "  <thead>\n",
              "    <tr style=\"text-align: right;\">\n",
              "      <th></th>\n",
              "      <th>age</th>\n",
              "      <th>job</th>\n",
              "      <th>marital</th>\n",
              "      <th>education</th>\n",
              "      <th>default</th>\n",
              "      <th>balance</th>\n",
              "      <th>housing</th>\n",
              "      <th>loan</th>\n",
              "      <th>contact</th>\n",
              "      <th>day</th>\n",
              "      <th>month</th>\n",
              "      <th>duration</th>\n",
              "      <th>campaign</th>\n",
              "      <th>pdays</th>\n",
              "      <th>previous</th>\n",
              "      <th>poutcome</th>\n",
              "    </tr>\n",
              "  </thead>\n",
              "  <tbody>\n",
              "    <tr>\n",
              "      <th>0</th>\n",
              "      <td>23</td>\n",
              "      <td>student</td>\n",
              "      <td>single</td>\n",
              "      <td>secondary</td>\n",
              "      <td>no</td>\n",
              "      <td>922</td>\n",
              "      <td>no</td>\n",
              "      <td>no</td>\n",
              "      <td>cellular</td>\n",
              "      <td>1</td>\n",
              "      <td>sep</td>\n",
              "      <td>81</td>\n",
              "      <td>5</td>\n",
              "      <td>99</td>\n",
              "      <td>3</td>\n",
              "      <td>other</td>\n",
              "    </tr>\n",
              "  </tbody>\n",
              "</table>\n",
              "</div>"
            ],
            "text/plain": [
              "   age      job marital  education  ... campaign  pdays previous poutcome\n",
              "0   23  student  single  secondary  ...        5     99        3    other\n",
              "\n",
              "[1 rows x 16 columns]"
            ]
          },
          "metadata": {
            "tags": []
          },
          "execution_count": 16
        }
      ]
    },
    {
      "cell_type": "code",
      "metadata": {
        "id": "7b1sL2E8nBKW",
        "colab_type": "code",
        "colab": {}
      },
      "source": [
        "for col, cat in categories_data.items():\n",
        "  df_test[col] = df_test[col].astype(CategoricalDtype(categories=cat))"
      ],
      "execution_count": 0,
      "outputs": []
    },
    {
      "cell_type": "code",
      "metadata": {
        "id": "bvRTc0tqnKmx",
        "colab_type": "code",
        "colab": {}
      },
      "source": [
        "df_test_final = pd.get_dummies(df_test, columns=cat_columns)"
      ],
      "execution_count": 0,
      "outputs": []
    },
    {
      "cell_type": "code",
      "metadata": {
        "id": "rFU_UVBxnKrW",
        "colab_type": "code",
        "colab": {
          "base_uri": "https://localhost:8080/",
          "height": 34
        },
        "outputId": "565c9b99-f4fa-4b28-be24-88e15e77441f"
      },
      "source": [
        "rf_model.predict(df_test_final)"
      ],
      "execution_count": 23,
      "outputs": [
        {
          "output_type": "execute_result",
          "data": {
            "text/plain": [
              "array(['no'], dtype=object)"
            ]
          },
          "metadata": {
            "tags": []
          },
          "execution_count": 23
        }
      ]
    },
    {
      "cell_type": "code",
      "metadata": {
        "id": "WaXVoMYinKxJ",
        "colab_type": "code",
        "colab": {}
      },
      "source": [
        ""
      ],
      "execution_count": 0,
      "outputs": []
    },
    {
      "cell_type": "code",
      "metadata": {
        "id": "CKfbTs7ynK0g",
        "colab_type": "code",
        "colab": {}
      },
      "source": [
        ""
      ],
      "execution_count": 0,
      "outputs": []
    },
    {
      "cell_type": "code",
      "metadata": {
        "id": "2y-34NvhnKpU",
        "colab_type": "code",
        "colab": {}
      },
      "source": [
        ""
      ],
      "execution_count": 0,
      "outputs": []
    }
  ]
}