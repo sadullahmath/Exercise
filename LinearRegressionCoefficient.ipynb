{
  "nbformat": 4,
  "nbformat_minor": 0,
  "metadata": {
    "colab": {
      "name": "LinearRegressionCoefficient.ipynb",
      "provenance": [],
      "authorship_tag": "ABX9TyMIcQJ2kkiShu45x/Qwys2P",
      "include_colab_link": true
    },
    "kernelspec": {
      "name": "python3",
      "display_name": "Python 3"
    }
  },
  "cells": [
    {
      "cell_type": "markdown",
      "metadata": {
        "id": "view-in-github",
        "colab_type": "text"
      },
      "source": [
        "<a href=\"https://colab.research.google.com/github/sadullahmath/Exercise/blob/master/LinearRegressionCoefficient.ipynb\" target=\"_parent\"><img src=\"https://colab.research.google.com/assets/colab-badge.svg\" alt=\"Open In Colab\"/></a>"
      ]
    },
    {
      "cell_type": "markdown",
      "metadata": {
        "id": "_fY0wyVfDEfK",
        "colab_type": "text"
      },
      "source": [
        "# Extracting the Linear Regression Coefficient"
      ]
    },
    {
      "cell_type": "code",
      "metadata": {
        "id": "saucy8cyKJwH",
        "colab_type": "code",
        "colab": {
          "base_uri": "https://localhost:8080/",
          "height": 70
        },
        "outputId": "dff2efbc-1b57-4329-dd01-6a03c94a5e3b"
      },
      "source": [
        "from sklearn.datasets import load_diabetes\n",
        "from sklearn.linear_model import LinearRegression\n",
        "data = load_diabetes()\n",
        "\n",
        "# fit a linear regression model to the data\n",
        "lr_model = LinearRegression()\n",
        "lr_model.fit(data.data, data.target)\n",
        "lr_model.coef_"
      ],
      "execution_count": 1,
      "outputs": [
        {
          "output_type": "execute_result",
          "data": {
            "text/plain": [
              "array([ -10.01219782, -239.81908937,  519.83978679,  324.39042769,\n",
              "       -792.18416163,  476.74583782,  101.04457032,  177.06417623,\n",
              "        751.27932109,   67.62538639])"
            ]
          },
          "metadata": {
            "tags": []
          },
          "execution_count": 1
        }
      ]
    },
    {
      "cell_type": "code",
      "metadata": {
        "id": "qAfxvRlGKJyj",
        "colab_type": "code",
        "colab": {
          "base_uri": "https://localhost:8080/",
          "height": 347
        },
        "outputId": "0ca09da0-7d2e-4580-c3f7-ba761bf31fd9"
      },
      "source": [
        "import pandas as pd\n",
        "coeff_df = pd.DataFrame()\n",
        "coeff_df['feature'] = data.feature_names\n",
        "coeff_df['coefficient'] = lr_model.coef_\n",
        "coeff_df.head(10)"
      ],
      "execution_count": 2,
      "outputs": [
        {
          "output_type": "execute_result",
          "data": {
            "text/html": [
              "<div>\n",
              "<style scoped>\n",
              "    .dataframe tbody tr th:only-of-type {\n",
              "        vertical-align: middle;\n",
              "    }\n",
              "\n",
              "    .dataframe tbody tr th {\n",
              "        vertical-align: top;\n",
              "    }\n",
              "\n",
              "    .dataframe thead th {\n",
              "        text-align: right;\n",
              "    }\n",
              "</style>\n",
              "<table border=\"1\" class=\"dataframe\">\n",
              "  <thead>\n",
              "    <tr style=\"text-align: right;\">\n",
              "      <th></th>\n",
              "      <th>feature</th>\n",
              "      <th>coefficient</th>\n",
              "    </tr>\n",
              "  </thead>\n",
              "  <tbody>\n",
              "    <tr>\n",
              "      <th>0</th>\n",
              "      <td>age</td>\n",
              "      <td>-10.012198</td>\n",
              "    </tr>\n",
              "    <tr>\n",
              "      <th>1</th>\n",
              "      <td>sex</td>\n",
              "      <td>-239.819089</td>\n",
              "    </tr>\n",
              "    <tr>\n",
              "      <th>2</th>\n",
              "      <td>bmi</td>\n",
              "      <td>519.839787</td>\n",
              "    </tr>\n",
              "    <tr>\n",
              "      <th>3</th>\n",
              "      <td>bp</td>\n",
              "      <td>324.390428</td>\n",
              "    </tr>\n",
              "    <tr>\n",
              "      <th>4</th>\n",
              "      <td>s1</td>\n",
              "      <td>-792.184162</td>\n",
              "    </tr>\n",
              "    <tr>\n",
              "      <th>5</th>\n",
              "      <td>s2</td>\n",
              "      <td>476.745838</td>\n",
              "    </tr>\n",
              "    <tr>\n",
              "      <th>6</th>\n",
              "      <td>s3</td>\n",
              "      <td>101.044570</td>\n",
              "    </tr>\n",
              "    <tr>\n",
              "      <th>7</th>\n",
              "      <td>s4</td>\n",
              "      <td>177.064176</td>\n",
              "    </tr>\n",
              "    <tr>\n",
              "      <th>8</th>\n",
              "      <td>s5</td>\n",
              "      <td>751.279321</td>\n",
              "    </tr>\n",
              "    <tr>\n",
              "      <th>9</th>\n",
              "      <td>s6</td>\n",
              "      <td>67.625386</td>\n",
              "    </tr>\n",
              "  </tbody>\n",
              "</table>\n",
              "</div>"
            ],
            "text/plain": [
              "  feature  coefficient\n",
              "0     age   -10.012198\n",
              "1     sex  -239.819089\n",
              "2     bmi   519.839787\n",
              "3      bp   324.390428\n",
              "4      s1  -792.184162\n",
              "5      s2   476.745838\n",
              "6      s3   101.044570\n",
              "7      s4   177.064176\n",
              "8      s5   751.279321\n",
              "9      s6    67.625386"
            ]
          },
          "metadata": {
            "tags": []
          },
          "execution_count": 2
        }
      ]
    },
    {
      "cell_type": "code",
      "metadata": {
        "id": "pgD_8y9gKJ0z",
        "colab_type": "code",
        "colab": {}
      },
      "source": [
        "import pandas as pd\n",
        "from sklearn.model_selection import train_test_split\n",
        "from sklearn.preprocessing import StandardScaler\n",
        "from sklearn.linear_model import LinearRegression\n",
        "from sklearn.metrics import mean_squared_error\n",
        "import altair as alt"
      ],
      "execution_count": 0,
      "outputs": []
    },
    {
      "cell_type": "code",
      "metadata": {
        "id": "DkjhYQ8nKJ29",
        "colab_type": "code",
        "colab": {}
      },
      "source": [
        "file_url = 'https://raw.githubusercontent.com/PacktWorkshops/The-Data-Science-Workshop/master/Chapter09/Dataset/phpYYZ4Qc.csv'"
      ],
      "execution_count": 0,
      "outputs": []
    },
    {
      "cell_type": "code",
      "metadata": {
        "id": "KMbs9MFvKJ5H",
        "colab_type": "code",
        "colab": {}
      },
      "source": [
        "df = pd.read_csv(file_url)"
      ],
      "execution_count": 0,
      "outputs": []
    },
    {
      "cell_type": "code",
      "metadata": {
        "id": "_ewx7KeSKJ7m",
        "colab_type": "code",
        "colab": {
          "base_uri": "https://localhost:8080/",
          "height": 217
        },
        "outputId": "40d184e3-6df8-46fd-d80e-180693c74b15"
      },
      "source": [
        "df.head()"
      ],
      "execution_count": 6,
      "outputs": [
        {
          "output_type": "execute_result",
          "data": {
            "text/html": [
              "<div>\n",
              "<style scoped>\n",
              "    .dataframe tbody tr th:only-of-type {\n",
              "        vertical-align: middle;\n",
              "    }\n",
              "\n",
              "    .dataframe tbody tr th {\n",
              "        vertical-align: top;\n",
              "    }\n",
              "\n",
              "    .dataframe thead th {\n",
              "        text-align: right;\n",
              "    }\n",
              "</style>\n",
              "<table border=\"1\" class=\"dataframe\">\n",
              "  <thead>\n",
              "    <tr style=\"text-align: right;\">\n",
              "      <th></th>\n",
              "      <th>a1cx</th>\n",
              "      <th>a1cy</th>\n",
              "      <th>a1sx</th>\n",
              "      <th>a1sy</th>\n",
              "      <th>a1rho</th>\n",
              "      <th>a1pop</th>\n",
              "      <th>a2cx</th>\n",
              "      <th>a2cy</th>\n",
              "      <th>a2sx</th>\n",
              "      <th>a2sy</th>\n",
              "      <th>a2rho</th>\n",
              "      <th>a2pop</th>\n",
              "      <th>a3cx</th>\n",
              "      <th>a3cy</th>\n",
              "      <th>a3sx</th>\n",
              "      <th>a3sy</th>\n",
              "      <th>a3rho</th>\n",
              "      <th>a3pop</th>\n",
              "      <th>temp</th>\n",
              "      <th>b1x</th>\n",
              "      <th>b1y</th>\n",
              "      <th>b1call</th>\n",
              "      <th>b1eff</th>\n",
              "      <th>b2x</th>\n",
              "      <th>b2y</th>\n",
              "      <th>b2call</th>\n",
              "      <th>b2eff</th>\n",
              "      <th>b3x</th>\n",
              "      <th>b3y</th>\n",
              "      <th>b3call</th>\n",
              "      <th>b3eff</th>\n",
              "      <th>mxql</th>\n",
              "      <th>rej</th>\n",
              "    </tr>\n",
              "  </thead>\n",
              "  <tbody>\n",
              "    <tr>\n",
              "      <th>0</th>\n",
              "      <td>0.413010</td>\n",
              "      <td>0.607442</td>\n",
              "      <td>0.332608</td>\n",
              "      <td>0.406812</td>\n",
              "      <td>-0.151224</td>\n",
              "      <td>1.525222</td>\n",
              "      <td>-0.144368</td>\n",
              "      <td>0.852368</td>\n",
              "      <td>0.412397</td>\n",
              "      <td>1.728169</td>\n",
              "      <td>-0.449231</td>\n",
              "      <td>4.078482</td>\n",
              "      <td>0.232042</td>\n",
              "      <td>-0.323190</td>\n",
              "      <td>0.792235</td>\n",
              "      <td>0.421474</td>\n",
              "      <td>-0.307503</td>\n",
              "      <td>3.086689</td>\n",
              "      <td>0.363949</td>\n",
              "      <td>0.441308</td>\n",
              "      <td>-0.276851</td>\n",
              "      <td>2.0</td>\n",
              "      <td>1.974706</td>\n",
              "      <td>-0.776759</td>\n",
              "      <td>-0.783770</td>\n",
              "      <td>8.0</td>\n",
              "      <td>0.603486</td>\n",
              "      <td>-0.997118</td>\n",
              "      <td>-0.502138</td>\n",
              "      <td>5.0</td>\n",
              "      <td>1.169388</td>\n",
              "      <td>9.0</td>\n",
              "      <td>0.049118</td>\n",
              "    </tr>\n",
              "    <tr>\n",
              "      <th>1</th>\n",
              "      <td>-0.602384</td>\n",
              "      <td>0.350618</td>\n",
              "      <td>0.429196</td>\n",
              "      <td>0.414476</td>\n",
              "      <td>-0.124489</td>\n",
              "      <td>4.597991</td>\n",
              "      <td>0.579458</td>\n",
              "      <td>0.651134</td>\n",
              "      <td>0.104394</td>\n",
              "      <td>0.636356</td>\n",
              "      <td>-0.283787</td>\n",
              "      <td>3.546643</td>\n",
              "      <td>0.115860</td>\n",
              "      <td>0.409074</td>\n",
              "      <td>2.152997</td>\n",
              "      <td>0.758680</td>\n",
              "      <td>0.341127</td>\n",
              "      <td>1.478951</td>\n",
              "      <td>0.662488</td>\n",
              "      <td>0.462398</td>\n",
              "      <td>0.339673</td>\n",
              "      <td>6.0</td>\n",
              "      <td>0.798979</td>\n",
              "      <td>-0.002820</td>\n",
              "      <td>-0.080542</td>\n",
              "      <td>2.0</td>\n",
              "      <td>1.125542</td>\n",
              "      <td>-0.983397</td>\n",
              "      <td>-0.107632</td>\n",
              "      <td>5.0</td>\n",
              "      <td>1.186039</td>\n",
              "      <td>7.0</td>\n",
              "      <td>0.242579</td>\n",
              "    </tr>\n",
              "    <tr>\n",
              "      <th>2</th>\n",
              "      <td>-0.322881</td>\n",
              "      <td>-0.538491</td>\n",
              "      <td>1.602260</td>\n",
              "      <td>0.039605</td>\n",
              "      <td>0.196023</td>\n",
              "      <td>1.909005</td>\n",
              "      <td>-0.675672</td>\n",
              "      <td>0.963618</td>\n",
              "      <td>0.147458</td>\n",
              "      <td>1.414008</td>\n",
              "      <td>0.495453</td>\n",
              "      <td>0.056459</td>\n",
              "      <td>-0.163151</td>\n",
              "      <td>0.350221</td>\n",
              "      <td>1.124090</td>\n",
              "      <td>1.398160</td>\n",
              "      <td>-0.456921</td>\n",
              "      <td>1.600723</td>\n",
              "      <td>0.650252</td>\n",
              "      <td>-0.247380</td>\n",
              "      <td>0.318002</td>\n",
              "      <td>3.0</td>\n",
              "      <td>0.577355</td>\n",
              "      <td>-0.952645</td>\n",
              "      <td>-0.571600</td>\n",
              "      <td>5.0</td>\n",
              "      <td>1.280392</td>\n",
              "      <td>0.771129</td>\n",
              "      <td>-0.665756</td>\n",
              "      <td>5.0</td>\n",
              "      <td>1.024203</td>\n",
              "      <td>6.0</td>\n",
              "      <td>0.000000</td>\n",
              "    </tr>\n",
              "    <tr>\n",
              "      <th>3</th>\n",
              "      <td>-0.233570</td>\n",
              "      <td>-0.936451</td>\n",
              "      <td>1.710192</td>\n",
              "      <td>2.179527</td>\n",
              "      <td>0.438461</td>\n",
              "      <td>4.742055</td>\n",
              "      <td>-0.163625</td>\n",
              "      <td>-0.923273</td>\n",
              "      <td>0.597622</td>\n",
              "      <td>0.118409</td>\n",
              "      <td>0.229981</td>\n",
              "      <td>3.209085</td>\n",
              "      <td>-0.165046</td>\n",
              "      <td>0.012872</td>\n",
              "      <td>0.398148</td>\n",
              "      <td>1.335824</td>\n",
              "      <td>0.119910</td>\n",
              "      <td>13.070052</td>\n",
              "      <td>0.308221</td>\n",
              "      <td>-0.743841</td>\n",
              "      <td>0.258362</td>\n",
              "      <td>4.0</td>\n",
              "      <td>0.760084</td>\n",
              "      <td>-0.198235</td>\n",
              "      <td>-0.205276</td>\n",
              "      <td>2.0</td>\n",
              "      <td>0.509727</td>\n",
              "      <td>-0.579544</td>\n",
              "      <td>0.480094</td>\n",
              "      <td>6.0</td>\n",
              "      <td>1.568492</td>\n",
              "      <td>7.0</td>\n",
              "      <td>0.469045</td>\n",
              "    </tr>\n",
              "    <tr>\n",
              "      <th>4</th>\n",
              "      <td>0.403126</td>\n",
              "      <td>0.313367</td>\n",
              "      <td>0.822382</td>\n",
              "      <td>1.393975</td>\n",
              "      <td>0.253435</td>\n",
              "      <td>9.398630</td>\n",
              "      <td>0.312528</td>\n",
              "      <td>0.288321</td>\n",
              "      <td>0.431867</td>\n",
              "      <td>0.110369</td>\n",
              "      <td>0.294665</td>\n",
              "      <td>1.274100</td>\n",
              "      <td>0.328350</td>\n",
              "      <td>-0.288962</td>\n",
              "      <td>0.067075</td>\n",
              "      <td>0.632938</td>\n",
              "      <td>0.148618</td>\n",
              "      <td>3.633846</td>\n",
              "      <td>0.233204</td>\n",
              "      <td>-0.685285</td>\n",
              "      <td>-0.758206</td>\n",
              "      <td>6.0</td>\n",
              "      <td>1.170067</td>\n",
              "      <td>0.573352</td>\n",
              "      <td>0.315217</td>\n",
              "      <td>2.0</td>\n",
              "      <td>0.622033</td>\n",
              "      <td>-0.134747</td>\n",
              "      <td>0.669948</td>\n",
              "      <td>3.0</td>\n",
              "      <td>1.295913</td>\n",
              "      <td>9.0</td>\n",
              "      <td>0.000000</td>\n",
              "    </tr>\n",
              "  </tbody>\n",
              "</table>\n",
              "</div>"
            ],
            "text/plain": [
              "       a1cx      a1cy      a1sx      a1sy  ...  b3call     b3eff  mxql       rej\n",
              "0  0.413010  0.607442  0.332608  0.406812  ...     5.0  1.169388   9.0  0.049118\n",
              "1 -0.602384  0.350618  0.429196  0.414476  ...     5.0  1.186039   7.0  0.242579\n",
              "2 -0.322881 -0.538491  1.602260  0.039605  ...     5.0  1.024203   6.0  0.000000\n",
              "3 -0.233570 -0.936451  1.710192  2.179527  ...     6.0  1.568492   7.0  0.469045\n",
              "4  0.403126  0.313367  0.822382  1.393975  ...     3.0  1.295913   9.0  0.000000\n",
              "\n",
              "[5 rows x 33 columns]"
            ]
          },
          "metadata": {
            "tags": []
          },
          "execution_count": 6
        }
      ]
    },
    {
      "cell_type": "code",
      "metadata": {
        "id": "Xdc886O-Lksh",
        "colab_type": "code",
        "colab": {
          "base_uri": "https://localhost:8080/",
          "height": 307
        },
        "outputId": "a1db880a-3fbb-49a4-fa39-2fab8e0cb87e"
      },
      "source": [
        "y = df.pop('rej')\n",
        "df.describe()"
      ],
      "execution_count": 7,
      "outputs": [
        {
          "output_type": "execute_result",
          "data": {
            "text/html": [
              "<div>\n",
              "<style scoped>\n",
              "    .dataframe tbody tr th:only-of-type {\n",
              "        vertical-align: middle;\n",
              "    }\n",
              "\n",
              "    .dataframe tbody tr th {\n",
              "        vertical-align: top;\n",
              "    }\n",
              "\n",
              "    .dataframe thead th {\n",
              "        text-align: right;\n",
              "    }\n",
              "</style>\n",
              "<table border=\"1\" class=\"dataframe\">\n",
              "  <thead>\n",
              "    <tr style=\"text-align: right;\">\n",
              "      <th></th>\n",
              "      <th>a1cx</th>\n",
              "      <th>a1cy</th>\n",
              "      <th>a1sx</th>\n",
              "      <th>a1sy</th>\n",
              "      <th>a1rho</th>\n",
              "      <th>a1pop</th>\n",
              "      <th>a2cx</th>\n",
              "      <th>a2cy</th>\n",
              "      <th>a2sx</th>\n",
              "      <th>a2sy</th>\n",
              "      <th>a2rho</th>\n",
              "      <th>a2pop</th>\n",
              "      <th>a3cx</th>\n",
              "      <th>a3cy</th>\n",
              "      <th>a3sx</th>\n",
              "      <th>a3sy</th>\n",
              "      <th>a3rho</th>\n",
              "      <th>a3pop</th>\n",
              "      <th>temp</th>\n",
              "      <th>b1x</th>\n",
              "      <th>b1y</th>\n",
              "      <th>b1call</th>\n",
              "      <th>b1eff</th>\n",
              "      <th>b2x</th>\n",
              "      <th>b2y</th>\n",
              "      <th>b2call</th>\n",
              "      <th>b2eff</th>\n",
              "      <th>b3x</th>\n",
              "      <th>b3y</th>\n",
              "      <th>b3call</th>\n",
              "      <th>b3eff</th>\n",
              "      <th>mxql</th>\n",
              "    </tr>\n",
              "  </thead>\n",
              "  <tbody>\n",
              "    <tr>\n",
              "      <th>count</th>\n",
              "      <td>8192.000000</td>\n",
              "      <td>8192.000000</td>\n",
              "      <td>8192.000000</td>\n",
              "      <td>8192.000000</td>\n",
              "      <td>8192.000000</td>\n",
              "      <td>8192.000000</td>\n",
              "      <td>8192.000000</td>\n",
              "      <td>8192.000000</td>\n",
              "      <td>8192.000000</td>\n",
              "      <td>8192.000000</td>\n",
              "      <td>8192.000000</td>\n",
              "      <td>8192.000000</td>\n",
              "      <td>8192.000000</td>\n",
              "      <td>8192.000000</td>\n",
              "      <td>8192.000000</td>\n",
              "      <td>8192.000000</td>\n",
              "      <td>8192.000000</td>\n",
              "      <td>8192.000000</td>\n",
              "      <td>8192.000000</td>\n",
              "      <td>8192.000000</td>\n",
              "      <td>8192.000000</td>\n",
              "      <td>8192.000000</td>\n",
              "      <td>8192.000000</td>\n",
              "      <td>8192.000000</td>\n",
              "      <td>8192.000000</td>\n",
              "      <td>8192.000000</td>\n",
              "      <td>8192.000000</td>\n",
              "      <td>8192.000000</td>\n",
              "      <td>8192.000000</td>\n",
              "      <td>8192.000000</td>\n",
              "      <td>8192.000000</td>\n",
              "      <td>8192.000000</td>\n",
              "    </tr>\n",
              "    <tr>\n",
              "      <th>mean</th>\n",
              "      <td>-0.003230</td>\n",
              "      <td>-0.000939</td>\n",
              "      <td>1.011966</td>\n",
              "      <td>1.004934</td>\n",
              "      <td>-0.001786</td>\n",
              "      <td>3.068520</td>\n",
              "      <td>-0.000240</td>\n",
              "      <td>-0.001100</td>\n",
              "      <td>0.996411</td>\n",
              "      <td>0.993268</td>\n",
              "      <td>-0.001583</td>\n",
              "      <td>3.110017</td>\n",
              "      <td>-0.006653</td>\n",
              "      <td>-0.001113</td>\n",
              "      <td>0.975627</td>\n",
              "      <td>0.999433</td>\n",
              "      <td>-0.002803</td>\n",
              "      <td>3.098639</td>\n",
              "      <td>0.498654</td>\n",
              "      <td>0.006204</td>\n",
              "      <td>0.001555</td>\n",
              "      <td>3.967041</td>\n",
              "      <td>1.248389</td>\n",
              "      <td>-0.016438</td>\n",
              "      <td>0.001713</td>\n",
              "      <td>3.994629</td>\n",
              "      <td>1.247177</td>\n",
              "      <td>0.000752</td>\n",
              "      <td>0.001569</td>\n",
              "      <td>4.010864</td>\n",
              "      <td>1.242247</td>\n",
              "      <td>7.002930</td>\n",
              "    </tr>\n",
              "    <tr>\n",
              "      <th>std</th>\n",
              "      <td>0.579124</td>\n",
              "      <td>0.577033</td>\n",
              "      <td>1.027579</td>\n",
              "      <td>1.001369</td>\n",
              "      <td>0.288346</td>\n",
              "      <td>3.068512</td>\n",
              "      <td>0.575362</td>\n",
              "      <td>0.577482</td>\n",
              "      <td>0.978954</td>\n",
              "      <td>1.009709</td>\n",
              "      <td>0.286255</td>\n",
              "      <td>3.104799</td>\n",
              "      <td>0.574395</td>\n",
              "      <td>0.579821</td>\n",
              "      <td>0.967017</td>\n",
              "      <td>1.003116</td>\n",
              "      <td>0.288415</td>\n",
              "      <td>3.196661</td>\n",
              "      <td>0.210806</td>\n",
              "      <td>0.582150</td>\n",
              "      <td>0.578682</td>\n",
              "      <td>1.613152</td>\n",
              "      <td>0.432080</td>\n",
              "      <td>0.579010</td>\n",
              "      <td>0.571700</td>\n",
              "      <td>1.632885</td>\n",
              "      <td>0.430426</td>\n",
              "      <td>0.578329</td>\n",
              "      <td>0.579423</td>\n",
              "      <td>1.637225</td>\n",
              "      <td>0.431913</td>\n",
              "      <td>1.421186</td>\n",
              "    </tr>\n",
              "    <tr>\n",
              "      <th>min</th>\n",
              "      <td>-0.999409</td>\n",
              "      <td>-0.999864</td>\n",
              "      <td>0.000191</td>\n",
              "      <td>0.000055</td>\n",
              "      <td>-0.499944</td>\n",
              "      <td>0.000162</td>\n",
              "      <td>-0.999986</td>\n",
              "      <td>-0.999717</td>\n",
              "      <td>0.000114</td>\n",
              "      <td>0.000430</td>\n",
              "      <td>-0.499998</td>\n",
              "      <td>0.000211</td>\n",
              "      <td>-0.999969</td>\n",
              "      <td>-0.999938</td>\n",
              "      <td>0.000214</td>\n",
              "      <td>0.000104</td>\n",
              "      <td>-0.499996</td>\n",
              "      <td>0.000135</td>\n",
              "      <td>0.023640</td>\n",
              "      <td>-0.999520</td>\n",
              "      <td>-0.999609</td>\n",
              "      <td>2.000000</td>\n",
              "      <td>0.500110</td>\n",
              "      <td>-0.999677</td>\n",
              "      <td>-0.999622</td>\n",
              "      <td>2.000000</td>\n",
              "      <td>0.500194</td>\n",
              "      <td>-0.999998</td>\n",
              "      <td>-0.999897</td>\n",
              "      <td>2.000000</td>\n",
              "      <td>0.500334</td>\n",
              "      <td>5.000000</td>\n",
              "    </tr>\n",
              "    <tr>\n",
              "      <th>25%</th>\n",
              "      <td>-0.499372</td>\n",
              "      <td>-0.500793</td>\n",
              "      <td>0.293154</td>\n",
              "      <td>0.283420</td>\n",
              "      <td>-0.253597</td>\n",
              "      <td>0.883641</td>\n",
              "      <td>-0.490687</td>\n",
              "      <td>-0.507070</td>\n",
              "      <td>0.286112</td>\n",
              "      <td>0.282905</td>\n",
              "      <td>-0.250546</td>\n",
              "      <td>0.873225</td>\n",
              "      <td>-0.504506</td>\n",
              "      <td>-0.508579</td>\n",
              "      <td>0.278565</td>\n",
              "      <td>0.282741</td>\n",
              "      <td>-0.252181</td>\n",
              "      <td>0.891676</td>\n",
              "      <td>0.331714</td>\n",
              "      <td>-0.502807</td>\n",
              "      <td>-0.502373</td>\n",
              "      <td>3.000000</td>\n",
              "      <td>0.870518</td>\n",
              "      <td>-0.516167</td>\n",
              "      <td>-0.484386</td>\n",
              "      <td>3.000000</td>\n",
              "      <td>0.874773</td>\n",
              "      <td>-0.500204</td>\n",
              "      <td>-0.502221</td>\n",
              "      <td>3.000000</td>\n",
              "      <td>0.869434</td>\n",
              "      <td>6.000000</td>\n",
              "    </tr>\n",
              "    <tr>\n",
              "      <th>50%</th>\n",
              "      <td>-0.013944</td>\n",
              "      <td>0.001390</td>\n",
              "      <td>0.692698</td>\n",
              "      <td>0.690240</td>\n",
              "      <td>-0.001311</td>\n",
              "      <td>2.130011</td>\n",
              "      <td>0.000478</td>\n",
              "      <td>0.007756</td>\n",
              "      <td>0.701715</td>\n",
              "      <td>0.688298</td>\n",
              "      <td>-0.000901</td>\n",
              "      <td>2.164098</td>\n",
              "      <td>-0.014936</td>\n",
              "      <td>0.003645</td>\n",
              "      <td>0.677617</td>\n",
              "      <td>0.692986</td>\n",
              "      <td>-0.006306</td>\n",
              "      <td>2.084418</td>\n",
              "      <td>0.499595</td>\n",
              "      <td>0.017096</td>\n",
              "      <td>0.001832</td>\n",
              "      <td>4.000000</td>\n",
              "      <td>1.251238</td>\n",
              "      <td>-0.011360</td>\n",
              "      <td>-0.001674</td>\n",
              "      <td>4.000000</td>\n",
              "      <td>1.247008</td>\n",
              "      <td>0.004710</td>\n",
              "      <td>-0.004599</td>\n",
              "      <td>4.000000</td>\n",
              "      <td>1.235297</td>\n",
              "      <td>7.000000</td>\n",
              "    </tr>\n",
              "    <tr>\n",
              "      <th>75%</th>\n",
              "      <td>0.506926</td>\n",
              "      <td>0.494132</td>\n",
              "      <td>1.394602</td>\n",
              "      <td>1.398254</td>\n",
              "      <td>0.246830</td>\n",
              "      <td>4.235844</td>\n",
              "      <td>0.502243</td>\n",
              "      <td>0.490494</td>\n",
              "      <td>1.392521</td>\n",
              "      <td>1.363553</td>\n",
              "      <td>0.244146</td>\n",
              "      <td>4.335603</td>\n",
              "      <td>0.489318</td>\n",
              "      <td>0.509867</td>\n",
              "      <td>1.356618</td>\n",
              "      <td>1.380176</td>\n",
              "      <td>0.244664</td>\n",
              "      <td>4.277105</td>\n",
              "      <td>0.663607</td>\n",
              "      <td>0.513288</td>\n",
              "      <td>0.503680</td>\n",
              "      <td>5.000000</td>\n",
              "      <td>1.619040</td>\n",
              "      <td>0.483353</td>\n",
              "      <td>0.496305</td>\n",
              "      <td>5.000000</td>\n",
              "      <td>1.615999</td>\n",
              "      <td>0.503490</td>\n",
              "      <td>0.510076</td>\n",
              "      <td>5.000000</td>\n",
              "      <td>1.617383</td>\n",
              "      <td>8.000000</td>\n",
              "    </tr>\n",
              "    <tr>\n",
              "      <th>max</th>\n",
              "      <td>0.999881</td>\n",
              "      <td>0.999828</td>\n",
              "      <td>10.303770</td>\n",
              "      <td>8.856675</td>\n",
              "      <td>0.499937</td>\n",
              "      <td>27.015529</td>\n",
              "      <td>0.999743</td>\n",
              "      <td>0.999511</td>\n",
              "      <td>7.927502</td>\n",
              "      <td>13.507064</td>\n",
              "      <td>0.499680</td>\n",
              "      <td>27.387483</td>\n",
              "      <td>0.999959</td>\n",
              "      <td>0.999742</td>\n",
              "      <td>6.740481</td>\n",
              "      <td>9.209050</td>\n",
              "      <td>0.499909</td>\n",
              "      <td>33.301090</td>\n",
              "      <td>0.967976</td>\n",
              "      <td>0.999878</td>\n",
              "      <td>0.999662</td>\n",
              "      <td>8.000000</td>\n",
              "      <td>1.999976</td>\n",
              "      <td>0.999404</td>\n",
              "      <td>0.999759</td>\n",
              "      <td>8.000000</td>\n",
              "      <td>1.999761</td>\n",
              "      <td>0.999774</td>\n",
              "      <td>0.999771</td>\n",
              "      <td>8.000000</td>\n",
              "      <td>1.999838</td>\n",
              "      <td>9.000000</td>\n",
              "    </tr>\n",
              "  </tbody>\n",
              "</table>\n",
              "</div>"
            ],
            "text/plain": [
              "              a1cx         a1cy  ...        b3eff         mxql\n",
              "count  8192.000000  8192.000000  ...  8192.000000  8192.000000\n",
              "mean     -0.003230    -0.000939  ...     1.242247     7.002930\n",
              "std       0.579124     0.577033  ...     0.431913     1.421186\n",
              "min      -0.999409    -0.999864  ...     0.500334     5.000000\n",
              "25%      -0.499372    -0.500793  ...     0.869434     6.000000\n",
              "50%      -0.013944     0.001390  ...     1.235297     7.000000\n",
              "75%       0.506926     0.494132  ...     1.617383     8.000000\n",
              "max       0.999881     0.999828  ...     1.999838     9.000000\n",
              "\n",
              "[8 rows x 32 columns]"
            ]
          },
          "metadata": {
            "tags": []
          },
          "execution_count": 7
        }
      ]
    },
    {
      "cell_type": "code",
      "metadata": {
        "id": "vERbqur5Lkww",
        "colab_type": "code",
        "colab": {}
      },
      "source": [
        "X_train, X_test, y_train, y_test = train_test_split(df, y, test_size=0.3, random_state=1)"
      ],
      "execution_count": 0,
      "outputs": []
    },
    {
      "cell_type": "code",
      "metadata": {
        "id": "kY3GuQQuLkyx",
        "colab_type": "code",
        "colab": {}
      },
      "source": [
        "scaler = StandardScaler()"
      ],
      "execution_count": 0,
      "outputs": []
    },
    {
      "cell_type": "code",
      "metadata": {
        "id": "yynJboGdLk1a",
        "colab_type": "code",
        "colab": {}
      },
      "source": [
        "X_train = scaler.fit_transform(X_train)"
      ],
      "execution_count": 0,
      "outputs": []
    },
    {
      "cell_type": "code",
      "metadata": {
        "id": "eSGCuyUfLkvN",
        "colab_type": "code",
        "colab": {}
      },
      "source": [
        "X_test = scaler.transform(X_test)"
      ],
      "execution_count": 0,
      "outputs": []
    },
    {
      "cell_type": "code",
      "metadata": {
        "id": "wwESwn3MPIFO",
        "colab_type": "code",
        "colab": {}
      },
      "source": [
        "lr_model = LinearRegression()"
      ],
      "execution_count": 0,
      "outputs": []
    },
    {
      "cell_type": "code",
      "metadata": {
        "id": "k5lGkuV1PIH0",
        "colab_type": "code",
        "colab": {
          "base_uri": "https://localhost:8080/",
          "height": 34
        },
        "outputId": "afb3f20d-8d4d-435c-ff65-4bba50a1aaaf"
      },
      "source": [
        "lr_model.fit(X_train, y_train)"
      ],
      "execution_count": 13,
      "outputs": [
        {
          "output_type": "execute_result",
          "data": {
            "text/plain": [
              "LinearRegression(copy_X=True, fit_intercept=True, n_jobs=None, normalize=False)"
            ]
          },
          "metadata": {
            "tags": []
          },
          "execution_count": 13
        }
      ]
    },
    {
      "cell_type": "code",
      "metadata": {
        "id": "FkLF9tLePILH",
        "colab_type": "code",
        "colab": {}
      },
      "source": [
        "preds_train = lr_model.predict(X_train)\n",
        "preds_test = lr_model.predict(X_test)"
      ],
      "execution_count": 0,
      "outputs": []
    },
    {
      "cell_type": "code",
      "metadata": {
        "id": "6RqiHZSuPOru",
        "colab_type": "code",
        "colab": {
          "base_uri": "https://localhost:8080/",
          "height": 34
        },
        "outputId": "31b7ef07-23d2-4538-cb53-ab2c6959b208"
      },
      "source": [
        "train_mse = mean_squared_error(y_train, preds_train)\n",
        "train_mse"
      ],
      "execution_count": 15,
      "outputs": [
        {
          "output_type": "execute_result",
          "data": {
            "text/plain": [
              "0.007062801218218886"
            ]
          },
          "metadata": {
            "tags": []
          },
          "execution_count": 15
        }
      ]
    },
    {
      "cell_type": "code",
      "metadata": {
        "id": "ZySWnYiAPOuT",
        "colab_type": "code",
        "colab": {
          "base_uri": "https://localhost:8080/",
          "height": 34
        },
        "outputId": "42da89b3-b58f-4929-a2e5-646cef678596"
      },
      "source": [
        "test_mse = mean_squared_error(y_test, preds_test)\n",
        "test_mse"
      ],
      "execution_count": 16,
      "outputs": [
        {
          "output_type": "execute_result",
          "data": {
            "text/plain": [
              "0.006571073840504757"
            ]
          },
          "metadata": {
            "tags": []
          },
          "execution_count": 16
        }
      ]
    },
    {
      "cell_type": "code",
      "metadata": {
        "id": "AsqJenmAPOwn",
        "colab_type": "code",
        "colab": {
          "base_uri": "https://localhost:8080/",
          "height": 158
        },
        "outputId": "60512cc3-15c3-4d52-ce8f-6e57f8eb3148"
      },
      "source": [
        "lr_model.coef_"
      ],
      "execution_count": 17,
      "outputs": [
        {
          "output_type": "execute_result",
          "data": {
            "text/plain": [
              "array([-4.94784409e-04, -9.33729668e-04, -2.81877324e-03, -3.29306515e-03,\n",
              "        5.93297658e-05,  4.02235021e-02,  1.98044098e-03, -3.39452179e-04,\n",
              "       -5.44949336e-03, -4.82500415e-03,  8.22897305e-05,  6.24226133e-02,\n",
              "       -2.66390121e-04,  5.69511279e-04, -2.30657474e-03, -2.51428876e-03,\n",
              "       -1.31637908e-03,  3.96978126e-02, -1.05127088e-02,  3.02116023e-04,\n",
              "       -3.89728413e-04,  3.57359816e-03, -1.43282556e-02, -1.13460794e-03,\n",
              "       -1.02515456e-03,  5.50201521e-03, -4.02044201e-03, -1.15164578e-03,\n",
              "        2.15908520e-04,  5.59779791e-03, -2.42464365e-03, -1.75240320e-02])"
            ]
          },
          "metadata": {
            "tags": []
          },
          "execution_count": 17
        }
      ]
    },
    {
      "cell_type": "code",
      "metadata": {
        "id": "lh31u0SOPt1e",
        "colab_type": "code",
        "colab": {}
      },
      "source": [
        "coef_df = pd.DataFrame()"
      ],
      "execution_count": 0,
      "outputs": []
    },
    {
      "cell_type": "code",
      "metadata": {
        "id": "82Y3_SNtPt3l",
        "colab_type": "code",
        "colab": {}
      },
      "source": [
        "coef_df['feature'] = df.columns"
      ],
      "execution_count": 0,
      "outputs": []
    },
    {
      "cell_type": "code",
      "metadata": {
        "id": "Fzm31DY1QZT4",
        "colab_type": "code",
        "colab": {}
      },
      "source": [
        "coef_df['coefficient'] = lr_model.coef_"
      ],
      "execution_count": 0,
      "outputs": []
    },
    {
      "cell_type": "code",
      "metadata": {
        "id": "DyZSxqNYQZWh",
        "colab_type": "code",
        "colab": {
          "base_uri": "https://localhost:8080/",
          "height": 347
        },
        "outputId": "0aa0cd83-760f-4e8b-91be-36c20638f56a"
      },
      "source": [
        "coef_df.head(10)"
      ],
      "execution_count": 22,
      "outputs": [
        {
          "output_type": "execute_result",
          "data": {
            "text/html": [
              "<div>\n",
              "<style scoped>\n",
              "    .dataframe tbody tr th:only-of-type {\n",
              "        vertical-align: middle;\n",
              "    }\n",
              "\n",
              "    .dataframe tbody tr th {\n",
              "        vertical-align: top;\n",
              "    }\n",
              "\n",
              "    .dataframe thead th {\n",
              "        text-align: right;\n",
              "    }\n",
              "</style>\n",
              "<table border=\"1\" class=\"dataframe\">\n",
              "  <thead>\n",
              "    <tr style=\"text-align: right;\">\n",
              "      <th></th>\n",
              "      <th>feature</th>\n",
              "      <th>coefficient</th>\n",
              "    </tr>\n",
              "  </thead>\n",
              "  <tbody>\n",
              "    <tr>\n",
              "      <th>0</th>\n",
              "      <td>a1cx</td>\n",
              "      <td>-0.000495</td>\n",
              "    </tr>\n",
              "    <tr>\n",
              "      <th>1</th>\n",
              "      <td>a1cy</td>\n",
              "      <td>-0.000934</td>\n",
              "    </tr>\n",
              "    <tr>\n",
              "      <th>2</th>\n",
              "      <td>a1sx</td>\n",
              "      <td>-0.002819</td>\n",
              "    </tr>\n",
              "    <tr>\n",
              "      <th>3</th>\n",
              "      <td>a1sy</td>\n",
              "      <td>-0.003293</td>\n",
              "    </tr>\n",
              "    <tr>\n",
              "      <th>4</th>\n",
              "      <td>a1rho</td>\n",
              "      <td>0.000059</td>\n",
              "    </tr>\n",
              "    <tr>\n",
              "      <th>5</th>\n",
              "      <td>a1pop</td>\n",
              "      <td>0.040224</td>\n",
              "    </tr>\n",
              "    <tr>\n",
              "      <th>6</th>\n",
              "      <td>a2cx</td>\n",
              "      <td>0.001980</td>\n",
              "    </tr>\n",
              "    <tr>\n",
              "      <th>7</th>\n",
              "      <td>a2cy</td>\n",
              "      <td>-0.000339</td>\n",
              "    </tr>\n",
              "    <tr>\n",
              "      <th>8</th>\n",
              "      <td>a2sx</td>\n",
              "      <td>-0.005449</td>\n",
              "    </tr>\n",
              "    <tr>\n",
              "      <th>9</th>\n",
              "      <td>a2sy</td>\n",
              "      <td>-0.004825</td>\n",
              "    </tr>\n",
              "  </tbody>\n",
              "</table>\n",
              "</div>"
            ],
            "text/plain": [
              "  feature  coefficient\n",
              "0    a1cx    -0.000495\n",
              "1    a1cy    -0.000934\n",
              "2    a1sx    -0.002819\n",
              "3    a1sy    -0.003293\n",
              "4   a1rho     0.000059\n",
              "5   a1pop     0.040224\n",
              "6    a2cx     0.001980\n",
              "7    a2cy    -0.000339\n",
              "8    a2sx    -0.005449\n",
              "9    a2sy    -0.004825"
            ]
          },
          "metadata": {
            "tags": []
          },
          "execution_count": 22
        }
      ]
    },
    {
      "cell_type": "code",
      "metadata": {
        "id": "0CsQQyWyQZY7",
        "colab_type": "code",
        "colab": {
          "base_uri": "https://localhost:8080/",
          "height": 703
        },
        "outputId": "a097e549-bbd7-443f-c981-1551d10ad528"
      },
      "source": [
        "alt.Chart(coef_df).mark_bar().encode(\n",
        "  x='coefficient',\n",
        "  y=\"feature\"\n",
        ")"
      ],
      "execution_count": 23,
      "outputs": [
        {
          "output_type": "execute_result",
          "data": {
            "text/plain": [
              "alt.Chart(...)"
            ],
            "text/html": [
              "\n",
              "<div id=\"altair-viz-123dd49b0fa94f9baf535ecad811b610\"></div>\n",
              "<script type=\"text/javascript\">\n",
              "  (function(spec, embedOpt){\n",
              "    let outputDiv = document.currentScript.previousElementSibling;\n",
              "    if (outputDiv.id !== \"altair-viz-123dd49b0fa94f9baf535ecad811b610\") {\n",
              "      outputDiv = document.getElementById(\"altair-viz-123dd49b0fa94f9baf535ecad811b610\");\n",
              "    }\n",
              "    const paths = {\n",
              "      \"vega\": \"https://cdn.jsdelivr.net/npm//vega@5?noext\",\n",
              "      \"vega-lib\": \"https://cdn.jsdelivr.net/npm//vega-lib?noext\",\n",
              "      \"vega-lite\": \"https://cdn.jsdelivr.net/npm//vega-lite@4.8.1?noext\",\n",
              "      \"vega-embed\": \"https://cdn.jsdelivr.net/npm//vega-embed@6?noext\",\n",
              "    };\n",
              "\n",
              "    function loadScript(lib) {\n",
              "      return new Promise(function(resolve, reject) {\n",
              "        var s = document.createElement('script');\n",
              "        s.src = paths[lib];\n",
              "        s.async = true;\n",
              "        s.onload = () => resolve(paths[lib]);\n",
              "        s.onerror = () => reject(`Error loading script: ${paths[lib]}`);\n",
              "        document.getElementsByTagName(\"head\")[0].appendChild(s);\n",
              "      });\n",
              "    }\n",
              "\n",
              "    function showError(err) {\n",
              "      outputDiv.innerHTML = `<div class=\"error\" style=\"color:red;\">${err}</div>`;\n",
              "      throw err;\n",
              "    }\n",
              "\n",
              "    function displayChart(vegaEmbed) {\n",
              "      vegaEmbed(outputDiv, spec, embedOpt)\n",
              "        .catch(err => showError(`Javascript Error: ${err.message}<br>This usually means there's a typo in your chart specification. See the javascript console for the full traceback.`));\n",
              "    }\n",
              "\n",
              "    if(typeof define === \"function\" && define.amd) {\n",
              "      requirejs.config({paths});\n",
              "      require([\"vega-embed\"], displayChart, err => showError(`Error loading script: ${err.message}`));\n",
              "    } else if (typeof vegaEmbed === \"function\") {\n",
              "      displayChart(vegaEmbed);\n",
              "    } else {\n",
              "      loadScript(\"vega\")\n",
              "        .then(() => loadScript(\"vega-lite\"))\n",
              "        .then(() => loadScript(\"vega-embed\"))\n",
              "        .catch(showError)\n",
              "        .then(() => displayChart(vegaEmbed));\n",
              "    }\n",
              "  })({\"config\": {\"view\": {\"continuousWidth\": 400, \"continuousHeight\": 300}}, \"data\": {\"name\": \"data-f580cd816d2c0841671c3885a7d12e20\"}, \"mark\": \"bar\", \"encoding\": {\"x\": {\"type\": \"quantitative\", \"field\": \"coefficient\"}, \"y\": {\"type\": \"nominal\", \"field\": \"feature\"}}, \"$schema\": \"https://vega.github.io/schema/vega-lite/v4.8.1.json\", \"datasets\": {\"data-f580cd816d2c0841671c3885a7d12e20\": [{\"feature\": \"a1cx\", \"coefficient\": -0.0004947844090075438}, {\"feature\": \"a1cy\", \"coefficient\": -0.0009337296683751724}, {\"feature\": \"a1sx\", \"coefficient\": -0.002818773235944513}, {\"feature\": \"a1sy\", \"coefficient\": -0.003293065146520943}, {\"feature\": \"a1rho\", \"coefficient\": 5.9329765784389386e-05}, {\"feature\": \"a1pop\", \"coefficient\": 0.04022350214161419}, {\"feature\": \"a2cx\", \"coefficient\": 0.001980440981039494}, {\"feature\": \"a2cy\", \"coefficient\": -0.00033945217895147654}, {\"feature\": \"a2sx\", \"coefficient\": -0.005449493361404794}, {\"feature\": \"a2sy\", \"coefficient\": -0.004825004145700693}, {\"feature\": \"a2rho\", \"coefficient\": 8.228973054216803e-05}, {\"feature\": \"a2pop\", \"coefficient\": 0.06242261331391092}, {\"feature\": \"a3cx\", \"coefficient\": -0.0002663901205072997}, {\"feature\": \"a3cy\", \"coefficient\": 0.0005695112787690445}, {\"feature\": \"a3sx\", \"coefficient\": -0.0023065747428525937}, {\"feature\": \"a3sy\", \"coefficient\": -0.0025142887617811372}, {\"feature\": \"a3rho\", \"coefficient\": -0.0013163790763258275}, {\"feature\": \"a3pop\", \"coefficient\": 0.03969781258146152}, {\"feature\": \"temp\", \"coefficient\": -0.010512708808802652}, {\"feature\": \"b1x\", \"coefficient\": 0.00030211602297929886}, {\"feature\": \"b1y\", \"coefficient\": -0.00038972841347889933}, {\"feature\": \"b1call\", \"coefficient\": 0.0035735981649248506}, {\"feature\": \"b1eff\", \"coefficient\": -0.014328255607088329}, {\"feature\": \"b2x\", \"coefficient\": -0.001134607938812631}, {\"feature\": \"b2y\", \"coefficient\": -0.0010251545615610376}, {\"feature\": \"b2call\", \"coefficient\": 0.005502015212876129}, {\"feature\": \"b2eff\", \"coefficient\": -0.004020442012743061}, {\"feature\": \"b3x\", \"coefficient\": -0.0011516457760689007}, {\"feature\": \"b3y\", \"coefficient\": 0.0002159085199719031}, {\"feature\": \"b3call\", \"coefficient\": 0.005597797906395512}, {\"feature\": \"b3eff\", \"coefficient\": -0.002424643653456576}, {\"feature\": \"mxql\", \"coefficient\": -0.017524031994539495}]}}, {\"mode\": \"vega-lite\"});\n",
              "</script>"
            ]
          },
          "metadata": {
            "tags": []
          },
          "execution_count": 23
        }
      ]
    }
  ]
}