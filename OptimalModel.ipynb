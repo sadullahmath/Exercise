{
  "nbformat": 4,
  "nbformat_minor": 0,
  "metadata": {
    "colab": {
      "name": "OptimalModel.ipynb",
      "provenance": [],
      "authorship_tag": "ABX9TyOwrPmwS5sktvEmie4EXqgl",
      "include_colab_link": true
    },
    "kernelspec": {
      "name": "python3",
      "display_name": "Python 3"
    }
  },
  "cells": [
    {
      "cell_type": "markdown",
      "metadata": {
        "id": "view-in-github",
        "colab_type": "text"
      },
      "source": [
        "<a href=\"https://colab.research.google.com/github/sadullahmath/Exercise/blob/master/OptimalModel.ipynb\" target=\"_parent\"><img src=\"https://colab.research.google.com/assets/colab-badge.svg\" alt=\"Open In Colab\"/></a>"
      ]
    },
    {
      "cell_type": "markdown",
      "metadata": {
        "id": "OsKGAF6z4wD4",
        "colab_type": "text"
      },
      "source": [
        "#Find an Optimal Model for Predicting the Critical Temperatures of Superconductors"
      ]
    },
    {
      "cell_type": "code",
      "metadata": {
        "id": "TyHqbG1N4wMB",
        "colab_type": "code",
        "colab": {}
      },
      "source": [
        "import pandas as pd\n",
        "from sklearn.linear_model import LinearRegression, Lasso, Ridge\n",
        "from sklearn.model_selection import train_test_split\n",
        "from sklearn.metrics import mean_squared_error\n",
        "from sklearn.pipeline import Pipeline\n",
        "from sklearn.preprocessing import MinMaxScaler, PolynomialFeatures"
      ],
      "execution_count": 0,
      "outputs": []
    },
    {
      "cell_type": "code",
      "metadata": {
        "id": "MRGXWkPS4yR1",
        "colab_type": "code",
        "colab": {
          "base_uri": "https://localhost:8080/",
          "height": 1000
        },
        "outputId": "ded76945-cd79-4597-cc24-8d1ee5cdab4e"
      },
      "source": [
        "_df = pd.read_csv('https://raw.githubusercontent.com/PacktWorkshops/The-Data-Science-Workshop/master/Chapter07/Dataset/superconduct/train.csv')\n",
        "_df.info()"
      ],
      "execution_count": 2,
      "outputs": [
        {
          "output_type": "stream",
          "text": [
            "<class 'pandas.core.frame.DataFrame'>\n",
            "RangeIndex: 21263 entries, 0 to 21262\n",
            "Data columns (total 82 columns):\n",
            " #   Column                           Non-Null Count  Dtype  \n",
            "---  ------                           --------------  -----  \n",
            " 0   number_of_elements               21263 non-null  int64  \n",
            " 1   mean_atomic_mass                 21263 non-null  float64\n",
            " 2   wtd_mean_atomic_mass             21263 non-null  float64\n",
            " 3   gmean_atomic_mass                21263 non-null  float64\n",
            " 4   wtd_gmean_atomic_mass            21263 non-null  float64\n",
            " 5   entropy_atomic_mass              21263 non-null  float64\n",
            " 6   wtd_entropy_atomic_mass          21263 non-null  float64\n",
            " 7   range_atomic_mass                21263 non-null  float64\n",
            " 8   wtd_range_atomic_mass            21263 non-null  float64\n",
            " 9   std_atomic_mass                  21263 non-null  float64\n",
            " 10  wtd_std_atomic_mass              21263 non-null  float64\n",
            " 11  mean_fie                         21263 non-null  float64\n",
            " 12  wtd_mean_fie                     21263 non-null  float64\n",
            " 13  gmean_fie                        21263 non-null  float64\n",
            " 14  wtd_gmean_fie                    21263 non-null  float64\n",
            " 15  entropy_fie                      21263 non-null  float64\n",
            " 16  wtd_entropy_fie                  21263 non-null  float64\n",
            " 17  range_fie                        21263 non-null  float64\n",
            " 18  wtd_range_fie                    21263 non-null  float64\n",
            " 19  std_fie                          21263 non-null  float64\n",
            " 20  wtd_std_fie                      21263 non-null  float64\n",
            " 21  mean_atomic_radius               21263 non-null  float64\n",
            " 22  wtd_mean_atomic_radius           21263 non-null  float64\n",
            " 23  gmean_atomic_radius              21263 non-null  float64\n",
            " 24  wtd_gmean_atomic_radius          21263 non-null  float64\n",
            " 25  entropy_atomic_radius            21263 non-null  float64\n",
            " 26  wtd_entropy_atomic_radius        21263 non-null  float64\n",
            " 27  range_atomic_radius              21263 non-null  int64  \n",
            " 28  wtd_range_atomic_radius          21263 non-null  float64\n",
            " 29  std_atomic_radius                21263 non-null  float64\n",
            " 30  wtd_std_atomic_radius            21263 non-null  float64\n",
            " 31  mean_Density                     21263 non-null  float64\n",
            " 32  wtd_mean_Density                 21263 non-null  float64\n",
            " 33  gmean_Density                    21263 non-null  float64\n",
            " 34  wtd_gmean_Density                21263 non-null  float64\n",
            " 35  entropy_Density                  21263 non-null  float64\n",
            " 36  wtd_entropy_Density              21263 non-null  float64\n",
            " 37  range_Density                    21263 non-null  float64\n",
            " 38  wtd_range_Density                21263 non-null  float64\n",
            " 39  std_Density                      21263 non-null  float64\n",
            " 40  wtd_std_Density                  21263 non-null  float64\n",
            " 41  mean_ElectronAffinity            21263 non-null  float64\n",
            " 42  wtd_mean_ElectronAffinity        21263 non-null  float64\n",
            " 43  gmean_ElectronAffinity           21263 non-null  float64\n",
            " 44  wtd_gmean_ElectronAffinity       21263 non-null  float64\n",
            " 45  entropy_ElectronAffinity         21263 non-null  float64\n",
            " 46  wtd_entropy_ElectronAffinity     21263 non-null  float64\n",
            " 47  range_ElectronAffinity           21263 non-null  float64\n",
            " 48  wtd_range_ElectronAffinity       21263 non-null  float64\n",
            " 49  std_ElectronAffinity             21263 non-null  float64\n",
            " 50  wtd_std_ElectronAffinity         21263 non-null  float64\n",
            " 51  mean_FusionHeat                  21263 non-null  float64\n",
            " 52  wtd_mean_FusionHeat              21263 non-null  float64\n",
            " 53  gmean_FusionHeat                 21263 non-null  float64\n",
            " 54  wtd_gmean_FusionHeat             21263 non-null  float64\n",
            " 55  entropy_FusionHeat               21263 non-null  float64\n",
            " 56  wtd_entropy_FusionHeat           21263 non-null  float64\n",
            " 57  range_FusionHeat                 21263 non-null  float64\n",
            " 58  wtd_range_FusionHeat             21263 non-null  float64\n",
            " 59  std_FusionHeat                   21263 non-null  float64\n",
            " 60  wtd_std_FusionHeat               21263 non-null  float64\n",
            " 61  mean_ThermalConductivity         21263 non-null  float64\n",
            " 62  wtd_mean_ThermalConductivity     21263 non-null  float64\n",
            " 63  gmean_ThermalConductivity        21263 non-null  float64\n",
            " 64  wtd_gmean_ThermalConductivity    21263 non-null  float64\n",
            " 65  entropy_ThermalConductivity      21263 non-null  float64\n",
            " 66  wtd_entropy_ThermalConductivity  21263 non-null  float64\n",
            " 67  range_ThermalConductivity        21263 non-null  float64\n",
            " 68  wtd_range_ThermalConductivity    21263 non-null  float64\n",
            " 69  std_ThermalConductivity          21263 non-null  float64\n",
            " 70  wtd_std_ThermalConductivity      21263 non-null  float64\n",
            " 71  mean_Valence                     21263 non-null  float64\n",
            " 72  wtd_mean_Valence                 21263 non-null  float64\n",
            " 73  gmean_Valence                    21263 non-null  float64\n",
            " 74  wtd_gmean_Valence                21263 non-null  float64\n",
            " 75  entropy_Valence                  21263 non-null  float64\n",
            " 76  wtd_entropy_Valence              21263 non-null  float64\n",
            " 77  range_Valence                    21263 non-null  int64  \n",
            " 78  wtd_range_Valence                21263 non-null  float64\n",
            " 79  std_Valence                      21263 non-null  float64\n",
            " 80  wtd_std_Valence                  21263 non-null  float64\n",
            " 81  critical_temp                    21263 non-null  float64\n",
            "dtypes: float64(79), int64(3)\n",
            "memory usage: 13.3 MB\n"
          ],
          "name": "stdout"
        }
      ]
    },
    {
      "cell_type": "code",
      "metadata": {
        "id": "wmjhVdSx4yUd",
        "colab_type": "code",
        "colab": {}
      },
      "source": [
        "X = _df.drop(['critical_temp'], axis=1).values\n",
        "y = _df['critical_temp'].values"
      ],
      "execution_count": 0,
      "outputs": []
    },
    {
      "cell_type": "code",
      "metadata": {
        "id": "Lz8nxS4S47k8",
        "colab_type": "code",
        "colab": {}
      },
      "source": [
        "train_X, eval_X, train_y, eval_y = train_test_split(X, y, test_size=0.8, random_state=0)"
      ],
      "execution_count": 0,
      "outputs": []
    },
    {
      "cell_type": "code",
      "metadata": {
        "id": "oVggmldX47nQ",
        "colab_type": "code",
        "colab": {}
      },
      "source": [
        "model_1 = LinearRegression()"
      ],
      "execution_count": 0,
      "outputs": []
    },
    {
      "cell_type": "code",
      "metadata": {
        "id": "K3tJCH0O47qx",
        "colab_type": "code",
        "colab": {
          "base_uri": "https://localhost:8080/",
          "height": 34
        },
        "outputId": "fca50aa8-68a2-4422-94f9-94fef397ed88"
      },
      "source": [
        "model_1.fit(train_X, train_y)"
      ],
      "execution_count": 6,
      "outputs": [
        {
          "output_type": "execute_result",
          "data": {
            "text/plain": [
              "LinearRegression(copy_X=True, fit_intercept=True, n_jobs=None, normalize=False)"
            ]
          },
          "metadata": {
            "tags": []
          },
          "execution_count": 6
        }
      ]
    },
    {
      "cell_type": "code",
      "metadata": {
        "id": "eTDOOIu44yWx",
        "colab_type": "code",
        "colab": {
          "base_uri": "https://localhost:8080/",
          "height": 34
        },
        "outputId": "e34bb917-4418-4751-9201-7b9940853a00"
      },
      "source": [
        "print('Model 1 R2 Score: {}'.format(model_1.score(eval_X, eval_y)))"
      ],
      "execution_count": 7,
      "outputs": [
        {
          "output_type": "stream",
          "text": [
            "Model 1 R2 Score: 0.7328447712730802\n"
          ],
          "name": "stdout"
        }
      ]
    },
    {
      "cell_type": "code",
      "metadata": {
        "id": "zB52RLwx4wOU",
        "colab_type": "code",
        "colab": {
          "base_uri": "https://localhost:8080/",
          "height": 374
        },
        "outputId": "b340b76a-560b-46e2-b40a-fbc1c61cad1f"
      },
      "source": [
        "print(model_1.coef_)"
      ],
      "execution_count": 8,
      "outputs": [
        {
          "output_type": "stream",
          "text": [
            "[-4.94346491e+00  8.70902756e-01 -9.98866501e-01 -5.83760774e-01\n",
            "  7.93953012e-01 -2.56095021e+01 -5.50632648e+00  1.27121023e-01\n",
            " -3.64947050e-02 -2.33513663e-01 -3.17000184e-02  3.10498264e-01\n",
            " -2.70341636e-01 -3.27264900e-01  3.01282843e-01 -8.31664513e+01\n",
            "  4.76913648e+01  8.40711399e-02  2.07050106e-02 -2.97568138e-01\n",
            "  3.97698378e-02 -1.06142981e+00  3.61994102e+00  6.70321650e-01\n",
            " -3.22006412e+00  4.02729358e+01  4.97586647e+01  1.91181858e-01\n",
            " -8.63617280e-02 -1.01111516e-01 -6.03489660e-01 -5.08255800e-03\n",
            "  1.01228657e-03  2.34243690e-03  6.57781429e-04  1.24587526e+01\n",
            " -1.10269822e+01 -1.30154742e-03  5.73536446e-04  4.95127593e-03\n",
            " -9.30322207e-04  5.82173815e-02  4.77320536e-01  5.07267163e-02\n",
            " -5.53776412e-01  5.02250052e+00 -1.96605153e+01 -3.58831794e-01\n",
            " -1.02331087e-01  1.14617678e+00 -5.43201942e-01  1.66517118e+00\n",
            " -1.86511975e+00 -1.18487297e+00  1.27906539e+00 -2.20915415e+01\n",
            "  2.34252719e+01 -4.11107209e-01  7.35352108e-01 -5.28505687e-01\n",
            "  7.74281630e-01 -1.78504148e-01  5.87315418e-01  4.71295603e-02\n",
            " -4.18163312e-01  7.81304600e+00  6.87307727e+00 -2.97522968e-02\n",
            " -2.06281413e-01  2.10538634e-01 -3.98675109e-02 -5.52756012e+00\n",
            "  8.24378449e+00  7.98555157e+00 -1.16791127e+01  8.10069280e+01\n",
            " -8.54657430e+01  4.87898207e+00 -2.42910779e+00  3.46557465e+00\n",
            " -2.07905810e+01]\n"
          ],
          "name": "stdout"
        }
      ]
    },
    {
      "cell_type": "code",
      "metadata": {
        "id": "aTLpOV5G4wT1",
        "colab_type": "code",
        "colab": {
          "base_uri": "https://localhost:8080/",
          "height": 34
        },
        "outputId": "2c4606ba-1c44-47b9-d152-17dd9aa64f54"
      },
      "source": [
        "preds_1 = model_1.predict(eval_X)\n",
        "print('Model 1 MSE: {}'.format(mean_squared_error(eval_y, preds_1)))"
      ],
      "execution_count": 9,
      "outputs": [
        {
          "output_type": "stream",
          "text": [
            "Model 1 MSE: 314.12658901219083\n"
          ],
          "name": "stdout"
        }
      ]
    }
  ]
}