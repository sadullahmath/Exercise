{
  "nbformat": 4,
  "nbformat_minor": 0,
  "metadata": {
    "colab": {
      "name": "VariableImportanceviaPermutation.ipynb",
      "provenance": [],
      "authorship_tag": "ABX9TyN61vS9G5I4t8y43rCFN3Ab",
      "include_colab_link": true
    },
    "kernelspec": {
      "name": "python3",
      "display_name": "Python 3"
    }
  },
  "cells": [
    {
      "cell_type": "markdown",
      "metadata": {
        "id": "view-in-github",
        "colab_type": "text"
      },
      "source": [
        "<a href=\"https://colab.research.google.com/github/sadullahmath/Exercise/blob/master/VariableImportanceviaPermutation.ipynb\" target=\"_parent\"><img src=\"https://colab.research.google.com/assets/colab-badge.svg\" alt=\"Open In Colab\"/></a>"
      ]
    },
    {
      "cell_type": "markdown",
      "metadata": {
        "id": "PYtV2qREaon7",
        "colab_type": "text"
      },
      "source": [
        "#Variable Importance via Permutation"
      ]
    },
    {
      "cell_type": "code",
      "metadata": {
        "id": "RWqV38cCaot6",
        "colab_type": "code",
        "colab": {
          "base_uri": "https://localhost:8080/",
          "height": 153
        },
        "outputId": "93cfdffd-7186-491a-a451-68505385e887"
      },
      "source": [
        "from sklearn.datasets import load_breast_cancer\n",
        "from sklearn.ensemble import RandomForestClassifier\n",
        "\n",
        "data = load_breast_cancer()\n",
        "X, y = data.data, data.target\n",
        "rf_model = RandomForestClassifier(random_state=168)\n",
        "rf_model.fit(X, y)"
      ],
      "execution_count": 1,
      "outputs": [
        {
          "output_type": "execute_result",
          "data": {
            "text/plain": [
              "RandomForestClassifier(bootstrap=True, ccp_alpha=0.0, class_weight=None,\n",
              "                       criterion='gini', max_depth=None, max_features='auto',\n",
              "                       max_leaf_nodes=None, max_samples=None,\n",
              "                       min_impurity_decrease=0.0, min_impurity_split=None,\n",
              "                       min_samples_leaf=1, min_samples_split=2,\n",
              "                       min_weight_fraction_leaf=0.0, n_estimators=100,\n",
              "                       n_jobs=None, oob_score=False, random_state=168,\n",
              "                       verbose=0, warm_start=False)"
            ]
          },
          "metadata": {
            "tags": []
          },
          "execution_count": 1
        }
      ]
    },
    {
      "cell_type": "code",
      "metadata": {
        "id": "06fgEs0kaowe",
        "colab_type": "code",
        "colab": {
          "base_uri": "https://localhost:8080/",
          "height": 102
        },
        "outputId": "378e9fc7-9b43-4963-e03d-eafd9b52218b"
      },
      "source": [
        "from mlxtend.evaluate import feature_importance_permutation\n",
        "\n",
        "imp_vals, _ = feature_importance_permutation(predict_method=rf_model.predict, X=X, y=y, metric='r2', num_rounds=1, seed=2)\n",
        "imp_vals"
      ],
      "execution_count": 2,
      "outputs": [
        {
          "output_type": "execute_result",
          "data": {
            "text/plain": [
              "array([0.       , 0.       , 0.       , 0.       , 0.       , 0.       ,\n",
              "       0.       , 0.       , 0.       , 0.       , 0.0075181, 0.       ,\n",
              "       0.       , 0.0075181, 0.       , 0.       , 0.       , 0.       ,\n",
              "       0.       , 0.       , 0.       , 0.0075181, 0.0075181, 0.       ,\n",
              "       0.       , 0.       , 0.0075181, 0.       , 0.       , 0.       ])"
            ]
          },
          "metadata": {
            "tags": []
          },
          "execution_count": 2
        }
      ]
    },
    {
      "cell_type": "code",
      "metadata": {
        "id": "37lRncKZaoyw",
        "colab_type": "code",
        "colab": {
          "base_uri": "https://localhost:8080/",
          "height": 663
        },
        "outputId": "da4ed7e4-09b0-45c2-d4b6-277c77d460c6"
      },
      "source": [
        "import pandas as pd\n",
        "varimp_df = pd.DataFrame()\n",
        "varimp_df['feature'] = data.feature_names\n",
        "varimp_df['importance'] = imp_vals\n",
        "varimp_df.head()\n",
        "import altair as alt\n",
        "alt.Chart(varimp_df).mark_bar().encode(\n",
        "    x='importance',\n",
        "    y=\"feature\"\n",
        ")"
      ],
      "execution_count": 3,
      "outputs": [
        {
          "output_type": "execute_result",
          "data": {
            "text/plain": [
              "alt.Chart(...)"
            ],
            "text/html": [
              "\n",
              "<div id=\"altair-viz-b8762ad6f47147a4a34ac0aed19eb72c\"></div>\n",
              "<script type=\"text/javascript\">\n",
              "  (function(spec, embedOpt){\n",
              "    let outputDiv = document.currentScript.previousElementSibling;\n",
              "    if (outputDiv.id !== \"altair-viz-b8762ad6f47147a4a34ac0aed19eb72c\") {\n",
              "      outputDiv = document.getElementById(\"altair-viz-b8762ad6f47147a4a34ac0aed19eb72c\");\n",
              "    }\n",
              "    const paths = {\n",
              "      \"vega\": \"https://cdn.jsdelivr.net/npm//vega@5?noext\",\n",
              "      \"vega-lib\": \"https://cdn.jsdelivr.net/npm//vega-lib?noext\",\n",
              "      \"vega-lite\": \"https://cdn.jsdelivr.net/npm//vega-lite@4.8.1?noext\",\n",
              "      \"vega-embed\": \"https://cdn.jsdelivr.net/npm//vega-embed@6?noext\",\n",
              "    };\n",
              "\n",
              "    function loadScript(lib) {\n",
              "      return new Promise(function(resolve, reject) {\n",
              "        var s = document.createElement('script');\n",
              "        s.src = paths[lib];\n",
              "        s.async = true;\n",
              "        s.onload = () => resolve(paths[lib]);\n",
              "        s.onerror = () => reject(`Error loading script: ${paths[lib]}`);\n",
              "        document.getElementsByTagName(\"head\")[0].appendChild(s);\n",
              "      });\n",
              "    }\n",
              "\n",
              "    function showError(err) {\n",
              "      outputDiv.innerHTML = `<div class=\"error\" style=\"color:red;\">${err}</div>`;\n",
              "      throw err;\n",
              "    }\n",
              "\n",
              "    function displayChart(vegaEmbed) {\n",
              "      vegaEmbed(outputDiv, spec, embedOpt)\n",
              "        .catch(err => showError(`Javascript Error: ${err.message}<br>This usually means there's a typo in your chart specification. See the javascript console for the full traceback.`));\n",
              "    }\n",
              "\n",
              "    if(typeof define === \"function\" && define.amd) {\n",
              "      requirejs.config({paths});\n",
              "      require([\"vega-embed\"], displayChart, err => showError(`Error loading script: ${err.message}`));\n",
              "    } else if (typeof vegaEmbed === \"function\") {\n",
              "      displayChart(vegaEmbed);\n",
              "    } else {\n",
              "      loadScript(\"vega\")\n",
              "        .then(() => loadScript(\"vega-lite\"))\n",
              "        .then(() => loadScript(\"vega-embed\"))\n",
              "        .catch(showError)\n",
              "        .then(() => displayChart(vegaEmbed));\n",
              "    }\n",
              "  })({\"config\": {\"view\": {\"continuousWidth\": 400, \"continuousHeight\": 300}}, \"data\": {\"name\": \"data-51d12049c5fb699813eb94b64e116a9c\"}, \"mark\": \"bar\", \"encoding\": {\"x\": {\"type\": \"quantitative\", \"field\": \"importance\"}, \"y\": {\"type\": \"nominal\", \"field\": \"feature\"}}, \"$schema\": \"https://vega.github.io/schema/vega-lite/v4.8.1.json\", \"datasets\": {\"data-51d12049c5fb699813eb94b64e116a9c\": [{\"feature\": \"mean radius\", \"importance\": 0.0}, {\"feature\": \"mean texture\", \"importance\": 0.0}, {\"feature\": \"mean perimeter\", \"importance\": 0.0}, {\"feature\": \"mean area\", \"importance\": 0.0}, {\"feature\": \"mean smoothness\", \"importance\": 0.0}, {\"feature\": \"mean compactness\", \"importance\": 0.0}, {\"feature\": \"mean concavity\", \"importance\": 0.0}, {\"feature\": \"mean concave points\", \"importance\": 0.0}, {\"feature\": \"mean symmetry\", \"importance\": 0.0}, {\"feature\": \"mean fractal dimension\", \"importance\": 0.0}, {\"feature\": \"radius error\", \"importance\": 0.007518101580254788}, {\"feature\": \"texture error\", \"importance\": 0.0}, {\"feature\": \"perimeter error\", \"importance\": 0.0}, {\"feature\": \"area error\", \"importance\": 0.007518101580254788}, {\"feature\": \"smoothness error\", \"importance\": 0.0}, {\"feature\": \"compactness error\", \"importance\": 0.0}, {\"feature\": \"concavity error\", \"importance\": 0.0}, {\"feature\": \"concave points error\", \"importance\": 0.0}, {\"feature\": \"symmetry error\", \"importance\": 0.0}, {\"feature\": \"fractal dimension error\", \"importance\": 0.0}, {\"feature\": \"worst radius\", \"importance\": 0.0}, {\"feature\": \"worst texture\", \"importance\": 0.007518101580254788}, {\"feature\": \"worst perimeter\", \"importance\": 0.007518101580254788}, {\"feature\": \"worst area\", \"importance\": 0.0}, {\"feature\": \"worst smoothness\", \"importance\": 0.0}, {\"feature\": \"worst compactness\", \"importance\": 0.0}, {\"feature\": \"worst concavity\", \"importance\": 0.007518101580254788}, {\"feature\": \"worst concave points\", \"importance\": 0.0}, {\"feature\": \"worst symmetry\", \"importance\": 0.0}, {\"feature\": \"worst fractal dimension\", \"importance\": 0.0}]}}, {\"mode\": \"vega-lite\"});\n",
              "</script>"
            ]
          },
          "metadata": {
            "tags": []
          },
          "execution_count": 3
        }
      ]
    }
  ]
}