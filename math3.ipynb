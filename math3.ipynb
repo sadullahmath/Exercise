{
  "nbformat": 4,
  "nbformat_minor": 0,
  "metadata": {
    "colab": {
      "name": "math3.ipynb",
      "provenance": [],
      "authorship_tag": "ABX9TyNVztK89MsnIk6g36K5YjLv",
      "include_colab_link": true
    },
    "kernelspec": {
      "name": "python3",
      "display_name": "Python 3"
    }
  },
  "cells": [
    {
      "cell_type": "markdown",
      "metadata": {
        "id": "view-in-github",
        "colab_type": "text"
      },
      "source": [
        "<a href=\"https://colab.research.google.com/github/sadullahmath/Exercise/blob/master/math3.ipynb\" target=\"_parent\"><img src=\"https://colab.research.google.com/assets/colab-badge.svg\" alt=\"Open In Colab\"/></a>"
      ]
    },
    {
      "cell_type": "code",
      "metadata": {
        "id": "nNY2m5-xvg-V",
        "colab_type": "code",
        "colab": {}
      },
      "source": [
        "l = [4, 2, 7, 3]"
      ],
      "execution_count": 0,
      "outputs": []
    },
    {
      "cell_type": "code",
      "metadata": {
        "id": "mx6BbJAy1Lzg",
        "colab_type": "code",
        "colab": {}
      },
      "source": [
        "maximum = 0"
      ],
      "execution_count": 0,
      "outputs": []
    },
    {
      "cell_type": "code",
      "metadata": {
        "id": "OW0qOFWb1L3E",
        "colab_type": "code",
        "colab": {}
      },
      "source": [
        "for number in l:\n",
        "    if number > maximum:\n",
        "        maximum = number"
      ],
      "execution_count": 0,
      "outputs": []
    },
    {
      "cell_type": "code",
      "metadata": {
        "id": "f65AqoWY1L1h",
        "colab_type": "code",
        "colab": {
          "base_uri": "https://localhost:8080/",
          "height": 34
        },
        "outputId": "878e981b-efc8-419c-9bb2-43a0e142be38"
      },
      "source": [
        "maximum"
      ],
      "execution_count": 5,
      "outputs": [
        {
          "output_type": "execute_result",
          "data": {
            "text/plain": [
              "7"
            ]
          },
          "metadata": {
            "tags": []
          },
          "execution_count": 5
        }
      ]
    },
    {
      "cell_type": "code",
      "metadata": {
        "id": "vDOfVWHB1g5E",
        "colab_type": "code",
        "colab": {}
      },
      "source": [
        "l = [5, 8, 1, 3, 2]"
      ],
      "execution_count": 0,
      "outputs": []
    },
    {
      "cell_type": "code",
      "metadata": {
        "id": "sasM87s11g7I",
        "colab_type": "code",
        "colab": {}
      },
      "source": [
        "still_swapping = True"
      ],
      "execution_count": 0,
      "outputs": []
    },
    {
      "cell_type": "code",
      "metadata": {
        "id": "DECzS7oU1g9a",
        "colab_type": "code",
        "colab": {}
      },
      "source": [
        "while still_swapping:\n",
        "    still_swapping = False\n",
        "    for i in range(len(l) - 1):\n",
        "        if l[i] > l[i+1]:\n",
        "            l[i], l[i+1] = l[i+1], l[i]\n",
        "            still_swapping = True"
      ],
      "execution_count": 0,
      "outputs": []
    },
    {
      "cell_type": "code",
      "metadata": {
        "id": "5iRD0v2x1g_h",
        "colab_type": "code",
        "colab": {
          "base_uri": "https://localhost:8080/",
          "height": 34
        },
        "outputId": "e7c0c1ff-7f67-40f2-8410-867d7455d95a"
      },
      "source": [
        "l"
      ],
      "execution_count": 9,
      "outputs": [
        {
          "output_type": "execute_result",
          "data": {
            "text/plain": [
              "[1, 2, 3, 5, 8]"
            ]
          },
          "metadata": {
            "tags": []
          },
          "execution_count": 9
        }
      ]
    }
  ]
}