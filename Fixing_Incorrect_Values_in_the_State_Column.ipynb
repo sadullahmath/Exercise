{
  "nbformat": 4,
  "nbformat_minor": 0,
  "metadata": {
    "colab": {
      "name": "Fixing Incorrect Values in the State Column.ipynb",
      "provenance": [],
      "authorship_tag": "ABX9TyNIV+XdKOiJmV5ji4TLdgy9",
      "include_colab_link": true
    },
    "kernelspec": {
      "name": "python3",
      "display_name": "Python 3"
    }
  },
  "cells": [
    {
      "cell_type": "markdown",
      "metadata": {
        "id": "view-in-github",
        "colab_type": "text"
      },
      "source": [
        "<a href=\"https://colab.research.google.com/github/sadullahmath/Exercise/blob/master/Fixing_Incorrect_Values_in_the_State_Column.ipynb\" target=\"_parent\"><img src=\"https://colab.research.google.com/assets/colab-badge.svg\" alt=\"Open In Colab\"/></a>"
      ]
    },
    {
      "cell_type": "markdown",
      "metadata": {
        "id": "EmxodI0enmXT",
        "colab_type": "text"
      },
      "source": [
        "# Fixing Incorrect Values in the State Column"
      ]
    },
    {
      "cell_type": "code",
      "metadata": {
        "id": "zy0AQqPOsUUK",
        "colab_type": "code",
        "colab": {}
      },
      "source": [
        "import pandas as pd"
      ],
      "execution_count": 0,
      "outputs": []
    },
    {
      "cell_type": "code",
      "metadata": {
        "id": "OacXYG3lsUXE",
        "colab_type": "code",
        "colab": {}
      },
      "source": [
        "file_url = 'https://raw.githubusercontent.com/PacktWorkshops/The-Data-Science-Workshop/master/Chapter11/dataset/officers.csv'"
      ],
      "execution_count": 0,
      "outputs": []
    },
    {
      "cell_type": "code",
      "metadata": {
        "id": "nNn5M2L3sUZ1",
        "colab_type": "code",
        "colab": {}
      },
      "source": [
        "df = pd.read_csv(file_url)"
      ],
      "execution_count": 0,
      "outputs": []
    },
    {
      "cell_type": "code",
      "metadata": {
        "id": "F1lfQHUwsUb_",
        "colab_type": "code",
        "colab": {
          "base_uri": "https://localhost:8080/",
          "height": 204
        },
        "outputId": "c279eb14-6972-4b29-dbda-bb5ed2e53dea"
      },
      "source": [
        "df.head()"
      ],
      "execution_count": 7,
      "outputs": [
        {
          "output_type": "execute_result",
          "data": {
            "text/html": [
              "<div>\n",
              "<style scoped>\n",
              "    .dataframe tbody tr th:only-of-type {\n",
              "        vertical-align: middle;\n",
              "    }\n",
              "\n",
              "    .dataframe tbody tr th {\n",
              "        vertical-align: top;\n",
              "    }\n",
              "\n",
              "    .dataframe thead th {\n",
              "        text-align: right;\n",
              "    }\n",
              "</style>\n",
              "<table border=\"1\" class=\"dataframe\">\n",
              "  <thead>\n",
              "    <tr style=\"text-align: right;\">\n",
              "      <th></th>\n",
              "      <th>ID</th>\n",
              "      <th>City</th>\n",
              "      <th>State</th>\n",
              "      <th>Zip</th>\n",
              "      <th>Title</th>\n",
              "      <th>RedactionRequested</th>\n",
              "    </tr>\n",
              "  </thead>\n",
              "  <tbody>\n",
              "    <tr>\n",
              "      <th>0</th>\n",
              "      <td>804</td>\n",
              "      <td>Glenview</td>\n",
              "      <td>IL</td>\n",
              "      <td>60025</td>\n",
              "      <td>Treasurer</td>\n",
              "      <td>False</td>\n",
              "    </tr>\n",
              "    <tr>\n",
              "      <th>1</th>\n",
              "      <td>9177</td>\n",
              "      <td>Harrisburg</td>\n",
              "      <td>IL</td>\n",
              "      <td>62946</td>\n",
              "      <td>Treasurer</td>\n",
              "      <td>False</td>\n",
              "    </tr>\n",
              "    <tr>\n",
              "      <th>2</th>\n",
              "      <td>53011</td>\n",
              "      <td>Chicago</td>\n",
              "      <td>IL</td>\n",
              "      <td>60606</td>\n",
              "      <td>Treasurer</td>\n",
              "      <td>False</td>\n",
              "    </tr>\n",
              "    <tr>\n",
              "      <th>3</th>\n",
              "      <td>9176</td>\n",
              "      <td>Harrisburg</td>\n",
              "      <td>IL</td>\n",
              "      <td>62946</td>\n",
              "      <td>Chairman</td>\n",
              "      <td>False</td>\n",
              "    </tr>\n",
              "    <tr>\n",
              "      <th>4</th>\n",
              "      <td>33020</td>\n",
              "      <td>Mechanicsburg</td>\n",
              "      <td>IL</td>\n",
              "      <td>62545</td>\n",
              "      <td>Chairman</td>\n",
              "      <td>False</td>\n",
              "    </tr>\n",
              "  </tbody>\n",
              "</table>\n",
              "</div>"
            ],
            "text/plain": [
              "      ID           City State    Zip      Title  RedactionRequested\n",
              "0    804       Glenview    IL  60025  Treasurer               False\n",
              "1   9177     Harrisburg    IL  62946  Treasurer               False\n",
              "2  53011        Chicago    IL  60606  Treasurer               False\n",
              "3   9176     Harrisburg    IL  62946   Chairman               False\n",
              "4  33020  Mechanicsburg    IL  62545   Chairman               False"
            ]
          },
          "metadata": {
            "tags": []
          },
          "execution_count": 7
        }
      ]
    },
    {
      "cell_type": "code",
      "metadata": {
        "id": "buwtcsW5shia",
        "colab_type": "code",
        "colab": {
          "base_uri": "https://localhost:8080/",
          "height": 102
        },
        "outputId": "d947a864-09e4-4f8f-8f9f-7ab7af6641c9"
      },
      "source": [
        "df['State'].unique()"
      ],
      "execution_count": 8,
      "outputs": [
        {
          "output_type": "execute_result",
          "data": {
            "text/plain": [
              "array(['IL', 'PA', 'DC', 'Il', nan, 'WI', 'CA', 'MO', 'NC', 'IA', 'MA',\n",
              "       'IN', 'MI', 'TN', 'NY', 'ng', 'TX', 'CO', 'NV', 'il', 'WA', '8I',\n",
              "       'In', 'iL', 'OH', 'SC', 'VA', 'NM', 'FL', 'LA', 'GA', 'II', 'NJ',\n",
              "       'MD', 'I', 'AR', 'KS', 'DE', '60', 'SD', 'MN', 'VT', 'OK', 'KY',\n",
              "       'CT', 'NH', 'AZ', 'OR', 'PR', 'RI'], dtype=object)"
            ]
          },
          "metadata": {
            "tags": []
          },
          "execution_count": 8
        }
      ]
    },
    {
      "cell_type": "code",
      "metadata": {
        "id": "m-YmI885shkn",
        "colab_type": "code",
        "colab": {
          "base_uri": "https://localhost:8080/",
          "height": 235
        },
        "outputId": "5b573289-0895-42c4-dec1-12d5d2a513b6"
      },
      "source": [
        "df[df['State'].str.contains('il', na=False)]"
      ],
      "execution_count": 9,
      "outputs": [
        {
          "output_type": "execute_result",
          "data": {
            "text/html": [
              "<div>\n",
              "<style scoped>\n",
              "    .dataframe tbody tr th:only-of-type {\n",
              "        vertical-align: middle;\n",
              "    }\n",
              "\n",
              "    .dataframe tbody tr th {\n",
              "        vertical-align: top;\n",
              "    }\n",
              "\n",
              "    .dataframe thead th {\n",
              "        text-align: right;\n",
              "    }\n",
              "</style>\n",
              "<table border=\"1\" class=\"dataframe\">\n",
              "  <thead>\n",
              "    <tr style=\"text-align: right;\">\n",
              "      <th></th>\n",
              "      <th>ID</th>\n",
              "      <th>City</th>\n",
              "      <th>State</th>\n",
              "      <th>Zip</th>\n",
              "      <th>Title</th>\n",
              "      <th>RedactionRequested</th>\n",
              "    </tr>\n",
              "  </thead>\n",
              "  <tbody>\n",
              "    <tr>\n",
              "      <th>4245</th>\n",
              "      <td>47448</td>\n",
              "      <td>Chicago</td>\n",
              "      <td>il</td>\n",
              "      <td>60619</td>\n",
              "      <td>Treasurer</td>\n",
              "      <td>False</td>\n",
              "    </tr>\n",
              "    <tr>\n",
              "      <th>4651</th>\n",
              "      <td>47447</td>\n",
              "      <td>Chicago</td>\n",
              "      <td>il</td>\n",
              "      <td>60623-1614</td>\n",
              "      <td>Chairman</td>\n",
              "      <td>False</td>\n",
              "    </tr>\n",
              "    <tr>\n",
              "      <th>4652</th>\n",
              "      <td>54025</td>\n",
              "      <td>Chicago</td>\n",
              "      <td>il</td>\n",
              "      <td>60623-1614</td>\n",
              "      <td>Chairman</td>\n",
              "      <td>False</td>\n",
              "    </tr>\n",
              "    <tr>\n",
              "      <th>18939</th>\n",
              "      <td>39418</td>\n",
              "      <td>Kingston</td>\n",
              "      <td>il</td>\n",
              "      <td>60145</td>\n",
              "      <td>Chairman</td>\n",
              "      <td>False</td>\n",
              "    </tr>\n",
              "    <tr>\n",
              "      <th>29699</th>\n",
              "      <td>27124</td>\n",
              "      <td>Hampshire</td>\n",
              "      <td>il</td>\n",
              "      <td>60140</td>\n",
              "      <td>Chairman</td>\n",
              "      <td>False</td>\n",
              "    </tr>\n",
              "    <tr>\n",
              "      <th>43761</th>\n",
              "      <td>29179</td>\n",
              "      <td>McHenry</td>\n",
              "      <td>il</td>\n",
              "      <td>60050</td>\n",
              "      <td>Admin Asst</td>\n",
              "      <td>False</td>\n",
              "    </tr>\n",
              "  </tbody>\n",
              "</table>\n",
              "</div>"
            ],
            "text/plain": [
              "          ID       City State         Zip       Title  RedactionRequested\n",
              "4245   47448    Chicago    il       60619   Treasurer               False\n",
              "4651   47447    Chicago    il  60623-1614    Chairman               False\n",
              "4652   54025    Chicago    il  60623-1614    Chairman               False\n",
              "18939  39418   Kingston    il       60145    Chairman               False\n",
              "29699  27124  Hampshire    il       60140    Chairman               False\n",
              "43761  29179    McHenry    il       60050  Admin Asst               False"
            ]
          },
          "metadata": {
            "tags": []
          },
          "execution_count": 9
        }
      ]
    },
    {
      "cell_type": "code",
      "metadata": {
        "id": "OrsIef0Hshm4",
        "colab_type": "code",
        "colab": {
          "base_uri": "https://localhost:8080/",
          "height": 527
        },
        "outputId": "4e449b8d-5758-4e49-d675-99bec691c9bb"
      },
      "source": [
        "for state in ['Il', 'iL', 'Il']:\n",
        "  print(df.loc[df['State'] == state, ['City', 'State']])"
      ],
      "execution_count": 10,
      "outputs": [
        {
          "output_type": "stream",
          "text": [
            "            City State\n",
            "43        Ottawa    Il\n",
            "44        Ottawa    Il\n",
            "493    Galesburg    Il\n",
            "613      Chicago    Il\n",
            "614      Chicago    Il\n",
            "...          ...   ...\n",
            "54915    Chicago    Il\n",
            "54916    Chicago    Il\n",
            "54918    Chicago    Il\n",
            "54919    Chicago    Il\n",
            "54921    Chicago    Il\n",
            "\n",
            "[665 rows x 2 columns]\n",
            "         City State\n",
            "7052  Wheaton    iL\n",
            "            City State\n",
            "43        Ottawa    Il\n",
            "44        Ottawa    Il\n",
            "493    Galesburg    Il\n",
            "613      Chicago    Il\n",
            "614      Chicago    Il\n",
            "...          ...   ...\n",
            "54915    Chicago    Il\n",
            "54916    Chicago    Il\n",
            "54918    Chicago    Il\n",
            "54919    Chicago    Il\n",
            "54921    Chicago    Il\n",
            "\n",
            "[665 rows x 2 columns]\n"
          ],
          "name": "stdout"
        }
      ]
    },
    {
      "cell_type": "code",
      "metadata": {
        "id": "2vLFTKxCshq4",
        "colab_type": "code",
        "colab": {}
      },
      "source": [
        "il_mask = df['State'].isin(['il', 'Il', 'iL', 'Il'])"
      ],
      "execution_count": 0,
      "outputs": []
    },
    {
      "cell_type": "code",
      "metadata": {
        "id": "8ZNKq3yHshvb",
        "colab_type": "code",
        "colab": {
          "base_uri": "https://localhost:8080/",
          "height": 34
        },
        "outputId": "d259c201-4bb7-4f49-9675-83525ffb63d3"
      },
      "source": [
        "il_mask.sum()"
      ],
      "execution_count": 12,
      "outputs": [
        {
          "output_type": "execute_result",
          "data": {
            "text/plain": [
              "672"
            ]
          },
          "metadata": {
            "tags": []
          },
          "execution_count": 12
        }
      ]
    },
    {
      "cell_type": "code",
      "metadata": {
        "id": "CVOwAjXushuN",
        "colab_type": "code",
        "colab": {}
      },
      "source": [
        "df.loc[il_mask, 'State'] = 'IL'"
      ],
      "execution_count": 0,
      "outputs": []
    },
    {
      "cell_type": "code",
      "metadata": {
        "id": "DRNvl0BUshon",
        "colab_type": "code",
        "colab": {
          "base_uri": "https://localhost:8080/",
          "height": 102
        },
        "outputId": "f81297f4-26a7-43a0-b02f-42d5612d2d48"
      },
      "source": [
        "df['State'].unique()"
      ],
      "execution_count": 14,
      "outputs": [
        {
          "output_type": "execute_result",
          "data": {
            "text/plain": [
              "array(['IL', 'PA', 'DC', nan, 'WI', 'CA', 'MO', 'NC', 'IA', 'MA', 'IN',\n",
              "       'MI', 'TN', 'NY', 'ng', 'TX', 'CO', 'NV', 'WA', '8I', 'In', 'OH',\n",
              "       'SC', 'VA', 'NM', 'FL', 'LA', 'GA', 'II', 'NJ', 'MD', 'I', 'AR',\n",
              "       'KS', 'DE', '60', 'SD', 'MN', 'VT', 'OK', 'KY', 'CT', 'NH', 'AZ',\n",
              "       'OR', 'PR', 'RI'], dtype=object)"
            ]
          },
          "metadata": {
            "tags": []
          },
          "execution_count": 14
        }
      ]
    },
    {
      "cell_type": "code",
      "metadata": {
        "id": "qfhiA5DMsUd9",
        "colab_type": "code",
        "colab": {
          "base_uri": "https://localhost:8080/",
          "height": 111
        },
        "outputId": "7d0a261d-ead3-417c-821f-db69fe19df6c"
      },
      "source": [
        "df.loc[df['State'] == 'II',]"
      ],
      "execution_count": 15,
      "outputs": [
        {
          "output_type": "execute_result",
          "data": {
            "text/html": [
              "<div>\n",
              "<style scoped>\n",
              "    .dataframe tbody tr th:only-of-type {\n",
              "        vertical-align: middle;\n",
              "    }\n",
              "\n",
              "    .dataframe tbody tr th {\n",
              "        vertical-align: top;\n",
              "    }\n",
              "\n",
              "    .dataframe thead th {\n",
              "        text-align: right;\n",
              "    }\n",
              "</style>\n",
              "<table border=\"1\" class=\"dataframe\">\n",
              "  <thead>\n",
              "    <tr style=\"text-align: right;\">\n",
              "      <th></th>\n",
              "      <th>ID</th>\n",
              "      <th>City</th>\n",
              "      <th>State</th>\n",
              "      <th>Zip</th>\n",
              "      <th>Title</th>\n",
              "      <th>RedactionRequested</th>\n",
              "    </tr>\n",
              "  </thead>\n",
              "  <tbody>\n",
              "    <tr>\n",
              "      <th>14340</th>\n",
              "      <td>28039</td>\n",
              "      <td>Bloomington</td>\n",
              "      <td>II</td>\n",
              "      <td>61704</td>\n",
              "      <td>Co-Chairman</td>\n",
              "      <td>False</td>\n",
              "    </tr>\n",
              "    <tr>\n",
              "      <th>14341</th>\n",
              "      <td>31994</td>\n",
              "      <td>Bloomington</td>\n",
              "      <td>II</td>\n",
              "      <td>61704</td>\n",
              "      <td>Chairman</td>\n",
              "      <td>False</td>\n",
              "    </tr>\n",
              "  </tbody>\n",
              "</table>\n",
              "</div>"
            ],
            "text/plain": [
              "          ID         City State    Zip        Title  RedactionRequested\n",
              "14340  28039  Bloomington    II  61704  Co-Chairman               False\n",
              "14341  31994  Bloomington    II  61704     Chairman               False"
            ]
          },
          "metadata": {
            "tags": []
          },
          "execution_count": 15
        }
      ]
    },
    {
      "cell_type": "code",
      "metadata": {
        "id": "Mv6zlsU6sUhz",
        "colab_type": "code",
        "colab": {
          "base_uri": "https://localhost:8080/",
          "height": 119
        },
        "outputId": "c65a219a-1de1-4ab4-c1c7-a8e1f4b9f321"
      },
      "source": [
        "for val in ['I', '8I', '60']:\n",
        "  print(df.loc[df['State'] == val, ['City', 'State']])"
      ],
      "execution_count": 16,
      "outputs": [
        {
          "output_type": "stream",
          "text": [
            "              City State\n",
            "17596  Bloomington     I\n",
            "             City State\n",
            "5513  Springfield    8I\n",
            "          City State\n",
            "28060  Chicago    60\n"
          ],
          "name": "stdout"
        }
      ]
    },
    {
      "cell_type": "code",
      "metadata": {
        "id": "5psEzioMs6oV",
        "colab_type": "code",
        "colab": {}
      },
      "source": [
        "for val in ['II', 'I', '8I', '60']:\n",
        "  df.loc[df['State'] == val, 'State'] = 'IL'"
      ],
      "execution_count": 0,
      "outputs": []
    },
    {
      "cell_type": "code",
      "metadata": {
        "id": "4TCQBtLQs6uw",
        "colab_type": "code",
        "colab": {
          "base_uri": "https://localhost:8080/",
          "height": 102
        },
        "outputId": "13c6e77e-88b6-4f5e-c041-3b871d7d0334"
      },
      "source": [
        "df['State'].unique()"
      ],
      "execution_count": 18,
      "outputs": [
        {
          "output_type": "execute_result",
          "data": {
            "text/plain": [
              "array(['IL', 'PA', 'DC', nan, 'WI', 'CA', 'MO', 'NC', 'IA', 'MA', 'IN',\n",
              "       'MI', 'TN', 'NY', 'ng', 'TX', 'CO', 'NV', 'WA', 'In', 'OH', 'SC',\n",
              "       'VA', 'NM', 'FL', 'LA', 'GA', 'NJ', 'MD', 'AR', 'KS', 'DE', 'SD',\n",
              "       'MN', 'VT', 'OK', 'KY', 'CT', 'NH', 'AZ', 'OR', 'PR', 'RI'],\n",
              "      dtype=object)"
            ]
          },
          "metadata": {
            "tags": []
          },
          "execution_count": 18
        }
      ]
    },
    {
      "cell_type": "code",
      "metadata": {
        "id": "3qMTCIL6s6sw",
        "colab_type": "code",
        "colab": {
          "base_uri": "https://localhost:8080/",
          "height": 102
        },
        "outputId": "a6f4576c-67e0-45e2-91dd-a13250750b06"
      },
      "source": [
        "for val in ['In', 'ng']:\n",
        "  print(df.loc[df['State'] == val, ['City', 'State']])"
      ],
      "execution_count": 19,
      "outputs": [
        {
          "output_type": "stream",
          "text": [
            "           City State\n",
            "5733  Sherville    In\n",
            "            City State\n",
            "2428  none given    ng\n",
            "2961  none given    ng\n"
          ],
          "name": "stdout"
        }
      ]
    },
    {
      "cell_type": "code",
      "metadata": {
        "id": "iWzIDW7Hs6qz",
        "colab_type": "code",
        "colab": {}
      },
      "source": [
        "df.loc[df['State'].str.contains('In', na=False), 'State'] = 'IN'"
      ],
      "execution_count": 0,
      "outputs": []
    },
    {
      "cell_type": "code",
      "metadata": {
        "id": "YIHmULE7tGRR",
        "colab_type": "code",
        "colab": {
          "base_uri": "https://localhost:8080/",
          "height": 85
        },
        "outputId": "f570d046-6175-472a-e64a-63c3d4b11f6c"
      },
      "source": [
        "df['State'].unique()"
      ],
      "execution_count": 21,
      "outputs": [
        {
          "output_type": "execute_result",
          "data": {
            "text/plain": [
              "array(['IL', 'PA', 'DC', nan, 'WI', 'CA', 'MO', 'NC', 'IA', 'MA', 'IN',\n",
              "       'MI', 'TN', 'NY', 'ng', 'TX', 'CO', 'NV', 'WA', 'OH', 'SC', 'VA',\n",
              "       'NM', 'FL', 'LA', 'GA', 'NJ', 'MD', 'AR', 'KS', 'DE', 'SD', 'MN',\n",
              "       'VT', 'OK', 'KY', 'CT', 'NH', 'AZ', 'OR', 'PR', 'RI'], dtype=object)"
            ]
          },
          "metadata": {
            "tags": []
          },
          "execution_count": 21
        }
      ]
    }
  ]
}