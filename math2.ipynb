{
  "nbformat": 4,
  "nbformat_minor": 0,
  "metadata": {
    "colab": {
      "name": "math2.ipynb",
      "provenance": [],
      "authorship_tag": "ABX9TyMtGUfz20COIwZ7mh1fLvfp",
      "include_colab_link": true
    },
    "kernelspec": {
      "name": "python3",
      "display_name": "Python 3"
    }
  },
  "cells": [
    {
      "cell_type": "markdown",
      "metadata": {
        "id": "view-in-github",
        "colab_type": "text"
      },
      "source": [
        "<a href=\"https://colab.research.google.com/github/sadullahmath/Exercise/blob/master/math2.ipynb\" target=\"_parent\"><img src=\"https://colab.research.google.com/assets/colab-badge.svg\" alt=\"Open In Colab\"/></a>"
      ]
    },
    {
      "cell_type": "code",
      "metadata": {
        "id": "__YjKRFpvhkV",
        "colab_type": "code",
        "colab": {
          "base_uri": "https://localhost:8080/",
          "height": 34
        },
        "outputId": "157c4d32-5fc1-4040-8d1b-cd16935125f1"
      },
      "source": [
        "result = 0\n",
        "# Recall that this loops through 1 to 10, not including 11\n",
        "for n in range(1, 11):\n",
        "    result += n\n",
        "print(result)"
      ],
      "execution_count": 1,
      "outputs": [
        {
          "output_type": "stream",
          "text": [
            "55\n"
          ],
          "name": "stdout"
        }
      ]
    },
    {
      "cell_type": "code",
      "metadata": {
        "id": "IfKOQ6XC0fNr",
        "colab_type": "code",
        "colab": {
          "base_uri": "https://localhost:8080/",
          "height": 34
        },
        "outputId": "a4f16764-6e8f-487a-c4c6-542fadcef037"
      },
      "source": [
        "result = 0\n",
        "# Recall that this loops through 1 to 10, not including 11\n",
        "for n in range(1, 11):\n",
        "    result += n\n",
        "if __name__ == '__main__':\n",
        "    print(result)"
      ],
      "execution_count": 4,
      "outputs": [
        {
          "output_type": "stream",
          "text": [
            "55\n"
          ],
          "name": "stdout"
        }
      ]
    }
  ]
}