{
  "nbformat": 4,
  "nbformat_minor": 0,
  "metadata": {
    "colab": {
      "name": "math7.ipynb",
      "provenance": [],
      "authorship_tag": "ABX9TyO1ZzkNQv1IX2o1r8HVNzmr",
      "include_colab_link": true
    },
    "kernelspec": {
      "name": "python3",
      "display_name": "Python 3"
    }
  },
  "cells": [
    {
      "cell_type": "markdown",
      "metadata": {
        "id": "view-in-github",
        "colab_type": "text"
      },
      "source": [
        "<a href=\"https://colab.research.google.com/github/sadullahmath/Exercise/blob/master/math7.ipynb\" target=\"_parent\"><img src=\"https://colab.research.google.com/assets/colab-badge.svg\" alt=\"Open In Colab\"/></a>"
      ]
    },
    {
      "cell_type": "code",
      "metadata": {
        "id": "ZbRnzJzk2wht",
        "colab_type": "code",
        "colab": {}
      },
      "source": [
        "def convert_usd_to_aud(amount, rate=0.75):\n",
        "    return amount / rate"
      ],
      "execution_count": 0,
      "outputs": []
    },
    {
      "cell_type": "code",
      "metadata": {
        "id": "Wf3WafYW4qsA",
        "colab_type": "code",
        "colab": {
          "base_uri": "https://localhost:8080/",
          "height": 34
        },
        "outputId": "ae70b5e9-15cf-486c-ace3-4e280e5e5b48"
      },
      "source": [
        "def convert_and_sum_list(usd_list, rate=0.75):\n",
        "    total = 0\n",
        "    for amount in usd_list:\n",
        "        total += convert_usd_to_aud(amount, rate=rate)\n",
        "    return total\n",
        "\n",
        "print(convert_and_sum_list([1, 3]))"
      ],
      "execution_count": 2,
      "outputs": [
        {
          "output_type": "stream",
          "text": [
            "5.333333333333333\n"
          ],
          "name": "stdout"
        }
      ]
    },
    {
      "cell_type": "code",
      "metadata": {
        "id": "kYT0pHdA4qui",
        "colab_type": "code",
        "colab": {
          "base_uri": "https://localhost:8080/",
          "height": 34
        },
        "outputId": "96ec5cd6-8ac9-43c1-fb01-a4a0b087e01c"
      },
      "source": [
        "def convert_and_sum_list_kwargs(usd_list, **kwargs):\n",
        "    total = 0\n",
        "    for amount in usd_list:\n",
        "        total += convert_usd_to_aud(amount, **kwargs)\n",
        "    return total\n",
        "\n",
        "print(convert_and_sum_list_kwargs([1, 3], rate=0.8))"
      ],
      "execution_count": 3,
      "outputs": [
        {
          "output_type": "stream",
          "text": [
            "5.0\n"
          ],
          "name": "stdout"
        }
      ]
    },
    {
      "cell_type": "code",
      "metadata": {
        "id": "dFGNA6ax4qyY",
        "colab_type": "code",
        "colab": {}
      },
      "source": [
        ""
      ],
      "execution_count": 0,
      "outputs": []
    }
  ]
}