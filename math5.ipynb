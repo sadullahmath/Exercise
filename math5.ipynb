{
  "nbformat": 4,
  "nbformat_minor": 0,
  "metadata": {
    "colab": {
      "name": "math5.ipynb",
      "provenance": [],
      "authorship_tag": "ABX9TyMlu7CSnv0/AfJ7L2hHUtHB",
      "include_colab_link": true
    },
    "kernelspec": {
      "name": "python3",
      "display_name": "Python 3"
    }
  },
  "cells": [
    {
      "cell_type": "markdown",
      "metadata": {
        "id": "view-in-github",
        "colab_type": "text"
      },
      "source": [
        "<a href=\"https://colab.research.google.com/github/sadullahmath/Exercise/blob/master/math5.ipynb\" target=\"_parent\"><img src=\"https://colab.research.google.com/assets/colab-badge.svg\" alt=\"Open In Colab\"/></a>"
      ]
    },
    {
      "cell_type": "code",
      "metadata": {
        "id": "-xcCmAtR2x6d",
        "colab_type": "code",
        "colab": {
          "base_uri": "https://localhost:8080/",
          "height": 34
        },
        "outputId": "9926f8dd-b8ce-4414-c912-276216360045"
      },
      "source": [
        "def add_up(x, y):\n",
        "    return x + y\n",
        "add_up(1, 3)"
      ],
      "execution_count": 1,
      "outputs": [
        {
          "output_type": "execute_result",
          "data": {
            "text/plain": [
              "4"
            ]
          },
          "metadata": {
            "tags": []
          },
          "execution_count": 1
        }
      ]
    },
    {
      "cell_type": "markdown",
      "metadata": {
        "id": "U2Qf62HC25KA",
        "colab_type": "text"
      },
      "source": [
        "## Defining and Calling the Function in Shell"
      ]
    },
    {
      "cell_type": "code",
      "metadata": {
        "id": "QnUIsT2D26-t",
        "colab_type": "code",
        "colab": {}
      },
      "source": [
        "def get_second_element(mylist):\n",
        "    if len(mylist) > 1:\n",
        "        return mylist[1]\n",
        "    else:\n",
        "        return 'List was too small'"
      ],
      "execution_count": 0,
      "outputs": []
    },
    {
      "cell_type": "code",
      "metadata": {
        "id": "0Lw-s5c527A8",
        "colab_type": "code",
        "colab": {
          "base_uri": "https://localhost:8080/",
          "height": 34
        },
        "outputId": "9e2fc5c6-9651-4254-b966-6f644113c70b"
      },
      "source": [
        "get_second_element([1, 2, 3])"
      ],
      "execution_count": 3,
      "outputs": [
        {
          "output_type": "execute_result",
          "data": {
            "text/plain": [
              "2"
            ]
          },
          "metadata": {
            "tags": []
          },
          "execution_count": 3
        }
      ]
    },
    {
      "cell_type": "code",
      "metadata": {
        "id": "pn1sMXzR27DW",
        "colab_type": "code",
        "colab": {
          "base_uri": "https://localhost:8080/",
          "height": 34
        },
        "outputId": "3b3f1d75-0a4f-4cbd-e3b0-d95a90a7a2f0"
      },
      "source": [
        "get_second_element([1])"
      ],
      "execution_count": 4,
      "outputs": [
        {
          "output_type": "execute_result",
          "data": {
            "text/plain": [
              "'List was too small'"
            ]
          },
          "metadata": {
            "tags": []
          },
          "execution_count": 4
        }
      ]
    },
    {
      "cell_type": "code",
      "metadata": {
        "id": "wDSadG-127Ik",
        "colab_type": "code",
        "colab": {
          "base_uri": "https://localhost:8080/",
          "height": 51
        },
        "outputId": "7b94b033-4535-43de-aeb9-984f3f1bbfb5"
      },
      "source": [
        "def list_product(my_list):\n",
        "    result = 1\n",
        "    for number in my_list:\n",
        "        result = result * number\n",
        "    return result\n",
        "print(list_product([2, 3]))\n",
        "print(list_product([2, 10, 15]))"
      ],
      "execution_count": 5,
      "outputs": [
        {
          "output_type": "stream",
          "text": [
            "6\n",
            "300\n"
          ],
          "name": "stdout"
        }
      ]
    },
    {
      "cell_type": "code",
      "metadata": {
        "id": "ex4L-x3V27Kz",
        "colab_type": "code",
        "colab": {}
      },
      "source": [
        "def add_up(x, y):\n",
        "    return x + y"
      ],
      "execution_count": 0,
      "outputs": []
    },
    {
      "cell_type": "code",
      "metadata": {
        "id": "8WI4D1F23ars",
        "colab_type": "code",
        "colab": {
          "base_uri": "https://localhost:8080/",
          "height": 34
        },
        "outputId": "b6ddf1be-b8a9-49fa-9a81-cc4cfcf4f82c"
      },
      "source": [
        "from datetime import datetime\n",
        "def get_the_time():\n",
        "    return datetime.now()\n",
        "print(get_the_time())"
      ],
      "execution_count": 7,
      "outputs": [
        {
          "output_type": "stream",
          "text": [
            "2020-05-12 21:50:05.827739\n"
          ],
          "name": "stdout"
        }
      ]
    }
  ]
}