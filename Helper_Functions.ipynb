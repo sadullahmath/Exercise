{
  "nbformat": 4,
  "nbformat_minor": 0,
  "metadata": {
    "colab": {
      "name": "Helper Functions.ipynb",
      "provenance": [],
      "authorship_tag": "ABX9TyODjDmIr/BDt/k9uCcIMfEj",
      "include_colab_link": true
    },
    "kernelspec": {
      "name": "python3",
      "display_name": "Python 3"
    }
  },
  "cells": [
    {
      "cell_type": "markdown",
      "metadata": {
        "id": "view-in-github",
        "colab_type": "text"
      },
      "source": [
        "<a href=\"https://colab.research.google.com/github/sadullahmath/Exercise/blob/master/Helper_Functions.ipynb\" target=\"_parent\"><img src=\"https://colab.research.google.com/assets/colab-badge.svg\" alt=\"Open In Colab\"/></a>"
      ]
    },
    {
      "cell_type": "code",
      "metadata": {
        "id": "n1hSOeh0-ciX",
        "colab_type": "code",
        "colab": {
          "base_uri": "https://localhost:8080/",
          "height": 221
        },
        "outputId": "d25e1172-7344-4625-83ed-9ef01483b62e"
      },
      "source": [
        "import time\n",
        "def do_things():\n",
        "    start_time = time.perf_counter()\n",
        "    for i in range(10):\n",
        "        y = i ** 100\n",
        "        print(time.perf_counter() - start_time, \"seconds elapsed\")\n",
        "    x = 10**2\n",
        "    print(time.perf_counter() - start_time, \"seconds elapsed\")\n",
        "    return x\n",
        "do_things()"
      ],
      "execution_count": 1,
      "outputs": [
        {
          "output_type": "stream",
          "text": [
            "2.0790000121451158e-06 seconds elapsed\n",
            "9.871900002167422e-05 seconds elapsed\n",
            "0.00014023800000018127 seconds elapsed\n",
            "0.00018897100000003775 seconds elapsed\n",
            "0.00022087800002168478 seconds elapsed\n",
            "0.00038028000000167594 seconds elapsed\n",
            "0.00042637800001443793 seconds elapsed\n",
            "0.0004631430000188175 seconds elapsed\n",
            "0.0005341460000067855 seconds elapsed\n",
            "0.0005788220000226829 seconds elapsed\n",
            "0.0006112960000166368 seconds elapsed\n"
          ],
          "name": "stdout"
        },
        {
          "output_type": "execute_result",
          "data": {
            "text/plain": [
              "100"
            ]
          },
          "metadata": {
            "tags": []
          },
          "execution_count": 1
        }
      ]
    }
  ]
}