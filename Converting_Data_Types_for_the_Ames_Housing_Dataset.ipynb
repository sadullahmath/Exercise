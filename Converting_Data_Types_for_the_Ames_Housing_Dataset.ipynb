{
  "nbformat": 4,
  "nbformat_minor": 0,
  "metadata": {
    "colab": {
      "name": "Converting Data Types for the Ames Housing Dataset.ipynb",
      "provenance": [],
      "authorship_tag": "ABX9TyPldwrTazQ/LOAjWZUfmV7m",
      "include_colab_link": true
    },
    "kernelspec": {
      "name": "python3",
      "display_name": "Python 3"
    }
  },
  "cells": [
    {
      "cell_type": "markdown",
      "metadata": {
        "id": "view-in-github",
        "colab_type": "text"
      },
      "source": [
        "<a href=\"https://colab.research.google.com/github/sadullahmath/Exercise/blob/master/Converting_Data_Types_for_the_Ames_Housing_Dataset.ipynb\" target=\"_parent\"><img src=\"https://colab.research.google.com/assets/colab-badge.svg\" alt=\"Open In Colab\"/></a>"
      ]
    },
    {
      "cell_type": "markdown",
      "metadata": {
        "id": "JY0SaDNHmqiU",
        "colab_type": "text"
      },
      "source": [
        "# Converting Data Types for the Ames Housing Dataset"
      ]
    },
    {
      "cell_type": "code",
      "metadata": {
        "id": "AQTGjmDimqog",
        "colab_type": "code",
        "colab": {}
      },
      "source": [
        "import pandas as pd"
      ],
      "execution_count": 0,
      "outputs": []
    },
    {
      "cell_type": "code",
      "metadata": {
        "id": "algRsem2mqum",
        "colab_type": "code",
        "colab": {}
      },
      "source": [
        "file_url = 'https://raw.githubusercontent.com/PacktWorkshops/The-Data-Science-Workshop/master/Chapter10/dataset/ames_iowa_housing.csv'"
      ],
      "execution_count": 0,
      "outputs": []
    },
    {
      "cell_type": "code",
      "metadata": {
        "id": "qZx6IdOgmqw8",
        "colab_type": "code",
        "colab": {}
      },
      "source": [
        "df = pd.read_csv(file_url)"
      ],
      "execution_count": 0,
      "outputs": []
    },
    {
      "cell_type": "code",
      "metadata": {
        "id": "S49WsbrAmq1G",
        "colab_type": "code",
        "colab": {
          "base_uri": "https://localhost:8080/",
          "height": 221
        },
        "outputId": "0a0079b9-d266-4712-c635-9d6499405f4d"
      },
      "source": [
        "df.dtypes"
      ],
      "execution_count": 4,
      "outputs": [
        {
          "output_type": "execute_result",
          "data": {
            "text/plain": [
              "Id                 int64\n",
              "MSSubClass         int64\n",
              "MSZoning          object\n",
              "LotFrontage      float64\n",
              "LotArea            int64\n",
              "                  ...   \n",
              "MoSold             int64\n",
              "YrSold             int64\n",
              "SaleType          object\n",
              "SaleCondition     object\n",
              "SalePrice          int64\n",
              "Length: 81, dtype: object"
            ]
          },
          "metadata": {
            "tags": []
          },
          "execution_count": 4
        }
      ]
    },
    {
      "cell_type": "code",
      "metadata": {
        "id": "bo5TFsSUmq3l",
        "colab_type": "code",
        "colab": {}
      },
      "source": [
        "df['Id'] = df['Id'].astype('category')"
      ],
      "execution_count": 0,
      "outputs": []
    },
    {
      "cell_type": "code",
      "metadata": {
        "id": "xHKkoofsnAjN",
        "colab_type": "code",
        "colab": {}
      },
      "source": [
        "df['MSSubClass'] = df['MSSubClass'].astype('category')\n",
        "df['OverallQual'] = df['OverallQual'].astype('category')\n",
        "df['OverallCond'] = df['OverallCond'].astype('category')"
      ],
      "execution_count": 0,
      "outputs": []
    },
    {
      "cell_type": "code",
      "metadata": {
        "id": "U_rywy2FnAl3",
        "colab_type": "code",
        "colab": {
          "base_uri": "https://localhost:8080/",
          "height": 204
        },
        "outputId": "3dfa3a1d-2f30-4fbb-e57f-af0a527c2ca6"
      },
      "source": [
        "for col_name in ['Id', 'MSSubClass', 'OverallQual', 'OverallCond']:\n",
        "  print(col_name)\n",
        "  print(df[col_name].cat.categories)"
      ],
      "execution_count": 7,
      "outputs": [
        {
          "output_type": "stream",
          "text": [
            "Id\n",
            "Int64Index([   1,    2,    3,    4,    5,    6,    7,    8,    9,   10,\n",
            "            ...\n",
            "            1451, 1452, 1453, 1454, 1455, 1456, 1457, 1458, 1459, 1460],\n",
            "           dtype='int64', length=1460)\n",
            "MSSubClass\n",
            "Int64Index([20, 30, 40, 45, 50, 60, 70, 75, 80, 85, 90, 120, 160, 180, 190], dtype='int64')\n",
            "OverallQual\n",
            "Int64Index([1, 2, 3, 4, 5, 6, 7, 8, 9, 10], dtype='int64')\n",
            "OverallCond\n",
            "Int64Index([1, 2, 3, 4, 5, 6, 7, 8, 9], dtype='int64')\n"
          ],
          "name": "stdout"
        }
      ]
    },
    {
      "cell_type": "code",
      "metadata": {
        "id": "Waug0XBunAqu",
        "colab_type": "code",
        "colab": {}
      },
      "source": [
        "obj_df = df.select_dtypes(include='object')"
      ],
      "execution_count": 0,
      "outputs": []
    },
    {
      "cell_type": "code",
      "metadata": {
        "id": "Wpdy6Of4nA0i",
        "colab_type": "code",
        "colab": {
          "base_uri": "https://localhost:8080/",
          "height": 187
        },
        "outputId": "ff885d5f-ccaf-4ce2-df14-88984968cff8"
      },
      "source": [
        "obj_cols = obj_df.columns\n",
        "obj_cols"
      ],
      "execution_count": 9,
      "outputs": [
        {
          "output_type": "execute_result",
          "data": {
            "text/plain": [
              "Index(['MSZoning', 'Street', 'Alley', 'LotShape', 'LandContour', 'Utilities',\n",
              "       'LotConfig', 'LandSlope', 'Neighborhood', 'Condition1', 'Condition2',\n",
              "       'BldgType', 'HouseStyle', 'RoofStyle', 'RoofMatl', 'Exterior1st',\n",
              "       'Exterior2nd', 'MasVnrType', 'ExterQual', 'ExterCond', 'Foundation',\n",
              "       'BsmtQual', 'BsmtCond', 'BsmtExposure', 'BsmtFinType1', 'BsmtFinType2',\n",
              "       'Heating', 'HeatingQC', 'CentralAir', 'Electrical', 'KitchenQual',\n",
              "       'Functional', 'FireplaceQu', 'GarageType', 'GarageFinish', 'GarageQual',\n",
              "       'GarageCond', 'PavedDrive', 'PoolQC', 'Fence', 'MiscFeature',\n",
              "       'SaleType', 'SaleCondition'],\n",
              "      dtype='object')"
            ]
          },
          "metadata": {
            "tags": []
          },
          "execution_count": 9
        }
      ]
    },
    {
      "cell_type": "code",
      "metadata": {
        "id": "HIKd8CSXmq51",
        "colab_type": "code",
        "colab": {
          "base_uri": "https://localhost:8080/",
          "height": 1000
        },
        "outputId": "a1123654-49c4-4ab6-f6ec-1c5bc8b44ce6"
      },
      "source": [
        "for col_name in obj_cols:\n",
        "  print(col_name)\n",
        "  print(df[col_name].unique())"
      ],
      "execution_count": 10,
      "outputs": [
        {
          "output_type": "stream",
          "text": [
            "MSZoning\n",
            "['RL' 'RM' 'C (all)' 'FV' 'RH']\n",
            "Street\n",
            "['Pave' 'Grvl']\n",
            "Alley\n",
            "[nan 'Grvl' 'Pave']\n",
            "LotShape\n",
            "['Reg' 'IR1' 'IR2' 'IR3']\n",
            "LandContour\n",
            "['Lvl' 'Bnk' 'Low' 'HLS']\n",
            "Utilities\n",
            "['AllPub' 'NoSeWa']\n",
            "LotConfig\n",
            "['Inside' 'FR2' 'Corner' 'CulDSac' 'FR3']\n",
            "LandSlope\n",
            "['Gtl' 'Mod' 'Sev']\n",
            "Neighborhood\n",
            "['CollgCr' 'Veenker' 'Crawfor' 'NoRidge' 'Mitchel' 'Somerst' 'NWAmes'\n",
            " 'OldTown' 'BrkSide' 'Sawyer' 'NridgHt' 'NAmes' 'SawyerW' 'IDOTRR'\n",
            " 'MeadowV' 'Edwards' 'Timber' 'Gilbert' 'StoneBr' 'ClearCr' 'NPkVill'\n",
            " 'Blmngtn' 'BrDale' 'SWISU' 'Blueste']\n",
            "Condition1\n",
            "['Norm' 'Feedr' 'PosN' 'Artery' 'RRAe' 'RRNn' 'RRAn' 'PosA' 'RRNe']\n",
            "Condition2\n",
            "['Norm' 'Artery' 'RRNn' 'Feedr' 'PosN' 'PosA' 'RRAn' 'RRAe']\n",
            "BldgType\n",
            "['1Fam' '2fmCon' 'Duplex' 'TwnhsE' 'Twnhs']\n",
            "HouseStyle\n",
            "['2Story' '1Story' '1.5Fin' '1.5Unf' 'SFoyer' 'SLvl' '2.5Unf' '2.5Fin']\n",
            "RoofStyle\n",
            "['Gable' 'Hip' 'Gambrel' 'Mansard' 'Flat' 'Shed']\n",
            "RoofMatl\n",
            "['CompShg' 'WdShngl' 'Metal' 'WdShake' 'Membran' 'Tar&Grv' 'Roll'\n",
            " 'ClyTile']\n",
            "Exterior1st\n",
            "['VinylSd' 'MetalSd' 'Wd Sdng' 'HdBoard' 'BrkFace' 'WdShing' 'CemntBd'\n",
            " 'Plywood' 'AsbShng' 'Stucco' 'BrkComm' 'AsphShn' 'Stone' 'ImStucc'\n",
            " 'CBlock']\n",
            "Exterior2nd\n",
            "['VinylSd' 'MetalSd' 'Wd Shng' 'HdBoard' 'Plywood' 'Wd Sdng' 'CmentBd'\n",
            " 'BrkFace' 'Stucco' 'AsbShng' 'Brk Cmn' 'ImStucc' 'AsphShn' 'Stone'\n",
            " 'Other' 'CBlock']\n",
            "MasVnrType\n",
            "['BrkFace' 'None' 'Stone' 'BrkCmn' nan]\n",
            "ExterQual\n",
            "['Gd' 'TA' 'Ex' 'Fa']\n",
            "ExterCond\n",
            "['TA' 'Gd' 'Fa' 'Po' 'Ex']\n",
            "Foundation\n",
            "['PConc' 'CBlock' 'BrkTil' 'Wood' 'Slab' 'Stone']\n",
            "BsmtQual\n",
            "['Gd' 'TA' 'Ex' nan 'Fa']\n",
            "BsmtCond\n",
            "['TA' 'Gd' nan 'Fa' 'Po']\n",
            "BsmtExposure\n",
            "['No' 'Gd' 'Mn' 'Av' nan]\n",
            "BsmtFinType1\n",
            "['GLQ' 'ALQ' 'Unf' 'Rec' 'BLQ' nan 'LwQ']\n",
            "BsmtFinType2\n",
            "['Unf' 'BLQ' nan 'ALQ' 'Rec' 'LwQ' 'GLQ']\n",
            "Heating\n",
            "['GasA' 'GasW' 'Grav' 'Wall' 'OthW' 'Floor']\n",
            "HeatingQC\n",
            "['Ex' 'Gd' 'TA' 'Fa' 'Po']\n",
            "CentralAir\n",
            "['Y' 'N']\n",
            "Electrical\n",
            "['SBrkr' 'FuseF' 'FuseA' 'FuseP' 'Mix' nan]\n",
            "KitchenQual\n",
            "['Gd' 'TA' 'Ex' 'Fa']\n",
            "Functional\n",
            "['Typ' 'Min1' 'Maj1' 'Min2' 'Mod' 'Maj2' 'Sev']\n",
            "FireplaceQu\n",
            "[nan 'TA' 'Gd' 'Fa' 'Ex' 'Po']\n",
            "GarageType\n",
            "['Attchd' 'Detchd' 'BuiltIn' 'CarPort' nan 'Basment' '2Types']\n",
            "GarageFinish\n",
            "['RFn' 'Unf' 'Fin' nan]\n",
            "GarageQual\n",
            "['TA' 'Fa' 'Gd' nan 'Ex' 'Po']\n",
            "GarageCond\n",
            "['TA' 'Fa' nan 'Gd' 'Po' 'Ex']\n",
            "PavedDrive\n",
            "['Y' 'N' 'P']\n",
            "PoolQC\n",
            "[nan 'Ex' 'Fa' 'Gd']\n",
            "Fence\n",
            "[nan 'MnPrv' 'GdWo' 'GdPrv' 'MnWw']\n",
            "MiscFeature\n",
            "[nan 'Shed' 'Gar2' 'Othr' 'TenC']\n",
            "SaleType\n",
            "['WD' 'New' 'COD' 'ConLD' 'ConLI' 'CWD' 'ConLw' 'Con' 'Oth']\n",
            "SaleCondition\n",
            "['Normal' 'Abnorml' 'Partial' 'AdjLand' 'Alloca' 'Family']\n"
          ],
          "name": "stdout"
        }
      ]
    },
    {
      "cell_type": "code",
      "metadata": {
        "id": "ilrh-A2wnPTd",
        "colab_type": "code",
        "colab": {}
      },
      "source": [
        "for col_name in obj_cols:\n",
        "  df[col_name] = df[col_name].astype('category')"
      ],
      "execution_count": 0,
      "outputs": []
    },
    {
      "cell_type": "code",
      "metadata": {
        "id": "HvkYiwrhnPV0",
        "colab_type": "code",
        "colab": {
          "base_uri": "https://localhost:8080/",
          "height": 221
        },
        "outputId": "59f4066a-c364-4044-afd6-af9d236bc22d"
      },
      "source": [
        "df.dtypes"
      ],
      "execution_count": 12,
      "outputs": [
        {
          "output_type": "execute_result",
          "data": {
            "text/plain": [
              "Id               category\n",
              "MSSubClass       category\n",
              "MSZoning         category\n",
              "LotFrontage       float64\n",
              "LotArea             int64\n",
              "                   ...   \n",
              "MoSold              int64\n",
              "YrSold              int64\n",
              "SaleType         category\n",
              "SaleCondition    category\n",
              "SalePrice           int64\n",
              "Length: 81, dtype: object"
            ]
          },
          "metadata": {
            "tags": []
          },
          "execution_count": 12
        }
      ]
    }
  ]
}