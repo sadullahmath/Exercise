{
  "nbformat": 4,
  "nbformat_minor": 0,
  "metadata": {
    "colab": {
      "name": "Tuning_K_NN_Classifier.ipynb",
      "provenance": [],
      "authorship_tag": "ABX9TyPt8vMCgujEv8kqfhKF9+5n",
      "include_colab_link": true
    },
    "kernelspec": {
      "name": "python3",
      "display_name": "Python 3"
    }
  },
  "cells": [
    {
      "cell_type": "markdown",
      "metadata": {
        "id": "view-in-github",
        "colab_type": "text"
      },
      "source": [
        "<a href=\"https://colab.research.google.com/github/sadullahmath/Exercise/blob/master/Tuning_K_NN_Classifier.ipynb\" target=\"_parent\"><img src=\"https://colab.research.google.com/assets/colab-badge.svg\" alt=\"Open In Colab\"/></a>"
      ]
    },
    {
      "cell_type": "markdown",
      "metadata": {
        "id": "yCSgbcimkEnA",
        "colab_type": "text"
      },
      "source": [
        "#Manual Hyperparameter Tuning for a k-NN Classifier\n",
        "In this exercise, we will manually tune a k-NN classifier, which was covered in Chapter 7, The Generalization of Machine Learning Models, our goal being to predict incidences of malignant or benign breast cancer based on cell measurements sourced from the affected breast sample.\n",
        "# Advantages and Disadvantages of a Manual Search\n",
        "## Tuning Using Grid Search"
      ]
    },
    {
      "cell_type": "code",
      "metadata": {
        "id": "KJ2xajC-kFTN",
        "colab_type": "code",
        "colab": {}
      },
      "source": [
        "import pandas as pd"
      ],
      "execution_count": 0,
      "outputs": []
    },
    {
      "cell_type": "code",
      "metadata": {
        "id": "Ps6Q_WzOkFxm",
        "colab_type": "code",
        "colab": {}
      },
      "source": [
        "from sklearn import neighbors, datasets, model_selection"
      ],
      "execution_count": 0,
      "outputs": []
    },
    {
      "cell_type": "code",
      "metadata": {
        "id": "3P4AG3VZkF0O",
        "colab_type": "code",
        "colab": {}
      },
      "source": [
        "dataset= pd.read_csv('https://raw.githubusercontent.com/PacktWorkshops/The-Data-Science-Workshop/master/Chapter08/Dataset/Breast-cancer-wisconsin.data')"
      ],
      "execution_count": 0,
      "outputs": []
    },
    {
      "cell_type": "code",
      "metadata": {
        "id": "Y4Z7NBQGkF2V",
        "colab_type": "code",
        "colab": {}
      },
      "source": [
        "# dataset\n",
        "cancer = datasets.load_breast_cancer()\n",
        "\n",
        "# target\n",
        "y = cancer.target\n",
        "\n",
        "# features\n",
        "X = cancer.data"
      ],
      "execution_count": 0,
      "outputs": []
    },
    {
      "cell_type": "code",
      "metadata": {
        "id": "q9GqukfakF4d",
        "colab_type": "code",
        "colab": {}
      },
      "source": [
        "# no arguments specified\n",
        "knn = neighbors.KNeighborsClassifier()"
      ],
      "execution_count": 0,
      "outputs": []
    },
    {
      "cell_type": "code",
      "metadata": {
        "id": "lTBoKF43kF6h",
        "colab_type": "code",
        "colab": {}
      },
      "source": [
        "# 10 folds, scored on precision\n",
        "cv = model_selection.cross_val_score(knn, X, y, cv=10, scoring='precision')"
      ],
      "execution_count": 0,
      "outputs": []
    },
    {
      "cell_type": "code",
      "metadata": {
        "id": "joeoNRgAkF8_",
        "colab_type": "code",
        "colab": {
          "base_uri": "https://localhost:8080/",
          "height": 52
        },
        "outputId": "cd9e013f-a7ef-4f30-baac-b6cac5455ae6"
      },
      "source": [
        "# precision scores\n",
        "print(cv)"
      ],
      "execution_count": 7,
      "outputs": [
        {
          "output_type": "stream",
          "text": [
            "[0.91666667 0.85       0.91666667 0.94736842 0.94594595 0.94444444\n",
            " 0.97222222 0.92105263 0.96969697 0.97142857]\n"
          ],
          "name": "stdout"
        }
      ]
    },
    {
      "cell_type": "code",
      "metadata": {
        "id": "ICA6rPnQkF_I",
        "colab_type": "code",
        "colab": {
          "base_uri": "https://localhost:8080/",
          "height": 34
        },
        "outputId": "3c856f35-a282-472b-c925-11e3f4cc53b4"
      },
      "source": [
        "# average over all folds\n",
        "print(round(cv.mean(), 2))"
      ],
      "execution_count": 8,
      "outputs": [
        {
          "output_type": "stream",
          "text": [
            "0.94\n"
          ],
          "name": "stdout"
        }
      ]
    },
    {
      "cell_type": "code",
      "metadata": {
        "id": "BdFiLSQPkGBE",
        "colab_type": "code",
        "colab": {
          "base_uri": "https://localhost:8080/",
          "height": 34
        },
        "outputId": "913310de-a9a1-40ea-f7ee-38ae8c890275"
      },
      "source": [
        "# k = 15\n",
        "knn = neighbors.KNeighborsClassifier(n_neighbors=15)\n",
        "\n",
        "cv = model_selection.cross_val_score(knn, X, y, cv=10, scoring='precision')\n",
        "\n",
        "print(round(cv.mean(), 2))"
      ],
      "execution_count": 10,
      "outputs": [
        {
          "output_type": "stream",
          "text": [
            "0.93\n"
          ],
          "name": "stdout"
        }
      ]
    },
    {
      "cell_type": "code",
      "metadata": {
        "id": "DJnwwGnmkGFc",
        "colab_type": "code",
        "colab": {
          "base_uri": "https://localhost:8080/",
          "height": 70
        },
        "outputId": "2bb7b15e-0f1c-4f9c-bdfe-97d6f3449b96"
      },
      "source": [
        "def evaluate_knn(k):\n",
        "  knn = neighbors.KNeighborsClassifier(n_neighbors=k)\n",
        "  cv = model_selection.cross_val_score(knn, X, y, cv=10, scoring='precision')\n",
        "  print(round(cv.mean(), 2))\n",
        "evaluate_knn(k=7)\n",
        "evaluate_knn(k=3)\n",
        "evaluate_knn(k=1)"
      ],
      "execution_count": 11,
      "outputs": [
        {
          "output_type": "stream",
          "text": [
            "0.93\n",
            "0.93\n",
            "0.92\n"
          ],
          "name": "stdout"
        }
      ]
    },
    {
      "cell_type": "code",
      "metadata": {
        "id": "F3I6s0WLkGJr",
        "colab_type": "code",
        "colab": {
          "base_uri": "https://localhost:8080/",
          "height": 34
        },
        "outputId": "5bec864b-c5bc-4ed2-9e97-7005541118ef"
      },
      "source": [
        "# k =5, weights evaluated using distance\n",
        "knn = neighbors.KNeighborsClassifier(n_neighbors=5, weights='distance')\n",
        "\n",
        "cv = model_selection.cross_val_score(knn, X, y, cv=10, scoring='precision')\n",
        "print(round(cv.mean(), 2))"
      ],
      "execution_count": 12,
      "outputs": [
        {
          "output_type": "stream",
          "text": [
            "0.93\n"
          ],
          "name": "stdout"
        }
      ]
    },
    {
      "cell_type": "code",
      "metadata": {
        "id": "p3sAHjp3kGMM",
        "colab_type": "code",
        "colab": {}
      },
      "source": [
        "from sklearn import neighbors, datasets, model_selection\n",
        "# load data\n",
        "cancer = datasets.load_breast_cancer()\n",
        "\n",
        "# target\n",
        "y = cancer.target\n",
        "\n",
        "# features\n",
        "X = cancer.data\n",
        "\n",
        "# hyperparameter grid\n",
        "grid = {\n",
        "    'k': [1, 3, 5, 7]\n",
        "}"
      ],
      "execution_count": 0,
      "outputs": []
    },
    {
      "cell_type": "code",
      "metadata": {
        "id": "wnE4pMnQkGOk",
        "colab_type": "code",
        "colab": {
          "base_uri": "https://localhost:8080/",
          "height": 87
        },
        "outputId": "85380043-6a9e-4525-8feb-3d21e711357e"
      },
      "source": [
        "# for every value of k in the grid\n",
        "for k in grid['k']:\n",
        "\n",
        "    # initialize the knn estimator\n",
        "    knn = neighbors.KNeighborsClassifier(n_neighbors=k)\n",
        "\t\n",
        "    # conduct a 10-fold cross-validation\n",
        "    cv = model_selection.cross_val_score(knn, X, y, cv=10, scoring='precision')\n",
        "\n",
        "    # calculate the average precision value over all folds\n",
        "    cv_mean = round(cv.mean(), 3)\n",
        "\n",
        "    # report the result\n",
        "    print('With k = {}, mean precision = {}'.format(k, cv_mean))"
      ],
      "execution_count": 14,
      "outputs": [
        {
          "output_type": "stream",
          "text": [
            "With k = 1, mean precision = 0.919\n",
            "With k = 3, mean precision = 0.928\n",
            "With k = 5, mean precision = 0.936\n",
            "With k = 7, mean precision = 0.931\n"
          ],
          "name": "stdout"
        }
      ]
    },
    {
      "cell_type": "code",
      "metadata": {
        "id": "Zxc4rtKNnVki",
        "colab_type": "code",
        "colab": {
          "base_uri": "https://localhost:8080/",
          "height": 87
        },
        "outputId": "586bfe17-be45-487a-a941-8d68a5998215"
      },
      "source": [
        "# for every value of k in the grid\n",
        "for k in grid['k']:\n",
        "\n",
        "    # initialize the knn estimator\n",
        "    knn = neighbors.KNeighborsClassifier(n_neighbors=k)\n",
        "\t\n",
        "    # conduct a 10-fold cross-validation\n",
        "    cv = model_selection.cross_val_score(knn, X, y, cv=10, scoring='precision')\n",
        "\n",
        "    # calculate the average precision value over all folds\n",
        "    cv_mean = round(cv.mean(), 3)\n",
        "\n",
        "    # report the result\n",
        "    print('With k = {}, mean precision = {}'.format(k, cv_mean))"
      ],
      "execution_count": 15,
      "outputs": [
        {
          "output_type": "stream",
          "text": [
            "With k = 1, mean precision = 0.919\n",
            "With k = 3, mean precision = 0.928\n",
            "With k = 5, mean precision = 0.936\n",
            "With k = 7, mean precision = 0.931\n"
          ],
          "name": "stdout"
        }
      ]
    },
    {
      "cell_type": "code",
      "metadata": {
        "id": "S71flbC7nVns",
        "colab_type": "code",
        "colab": {
          "base_uri": "https://localhost:8080/",
          "height": 158
        },
        "outputId": "091f44f4-8cb0-4b75-b6f0-1ce0fa8c678c"
      },
      "source": [
        "{'algorithm': 'auto', 'leaf_size': 30, 'metric': 'minkowski', 'metric_params': None, 'n_jobs': None, 'n_neighbors': 1, 'p': 2, 'weights': 'uniform'}\n",
        "{'algorithm': 'auto', 'leaf_size': 30, 'metric': 'minkowski', 'metric_params': None, 'n_jobs': None, 'n_neighbors': 3, 'p': 2, 'weights': 'uniform'}\n",
        "{'algorithm': 'auto', 'leaf_size': 30, 'metric': 'minkowski', 'metric_params': None, 'n_jobs': None, 'n_neighbors': 5, 'p': 2, 'weights': 'uniform'}\n",
        "{'algorithm': 'auto', 'leaf_size': 30, 'metric': 'minkowski', 'metric_params': None, 'n_jobs': None, 'n_neighbors': 7, 'p': 2, 'weights': 'uniform'}"
      ],
      "execution_count": 16,
      "outputs": [
        {
          "output_type": "execute_result",
          "data": {
            "text/plain": [
              "{'algorithm': 'auto',\n",
              " 'leaf_size': 30,\n",
              " 'metric': 'minkowski',\n",
              " 'metric_params': None,\n",
              " 'n_jobs': None,\n",
              " 'n_neighbors': 7,\n",
              " 'p': 2,\n",
              " 'weights': 'uniform'}"
            ]
          },
          "metadata": {
            "tags": []
          },
          "execution_count": 16
        }
      ]
    },
    {
      "cell_type": "code",
      "metadata": {
        "id": "xKlju83gnVrg",
        "colab_type": "code",
        "colab": {
          "base_uri": "https://localhost:8080/",
          "height": 158
        },
        "outputId": "f7002d74-bce7-4a39-dc44-b1221ce11569"
      },
      "source": [
        "# hyperparameter grid\n",
        "grid = {\n",
        "    'k': [1, 3, 5, 7],\n",
        "    'weight_function': ['uniform', 'distance']\n",
        "}\n",
        "\n",
        "# for every value of k in the grid\n",
        "for k in grid['k']:\n",
        "\n",
        "    # and every possible weight_function in the grid\n",
        "    for weight_function in grid['weight_function']:\n",
        "\n",
        "      # initialize the knn estimator\n",
        "      knn = neighbors.KNeighborsClassifier(n_neighbors=k, weights=weight_function)\n",
        "\n",
        "      # conduct a 10-fold cross-validation\n",
        "      cv = model_selection.cross_val_score(knn, X, y, cv=10, scoring='precision')\n",
        "\n",
        "      # calculate the average precision value over all folds\n",
        "      cv_mean = round(cv.mean(), 3)\n",
        "\n",
        "      # report the result\n",
        "      print('With k = {} and weight function = {}, mean precision = {}'.format(k, weight_function, cv_mean))"
      ],
      "execution_count": 17,
      "outputs": [
        {
          "output_type": "stream",
          "text": [
            "With k = 1 and weight function = uniform, mean precision = 0.919\n",
            "With k = 1 and weight function = distance, mean precision = 0.919\n",
            "With k = 3 and weight function = uniform, mean precision = 0.928\n",
            "With k = 3 and weight function = distance, mean precision = 0.929\n",
            "With k = 5 and weight function = uniform, mean precision = 0.936\n",
            "With k = 5 and weight function = distance, mean precision = 0.93\n",
            "With k = 7 and weight function = uniform, mean precision = 0.931\n",
            "With k = 7 and weight function = distance, mean precision = 0.926\n"
          ],
          "name": "stdout"
        }
      ]
    },
    {
      "cell_type": "code",
      "metadata": {
        "id": "r9CPevBUnVuR",
        "colab_type": "code",
        "colab": {
          "base_uri": "https://localhost:8080/",
          "height": 158
        },
        "outputId": "49fb5386-90c1-46b0-aeb0-2d6c5414386c"
      },
      "source": [
        "# for every value of k in the grid\n",
        "for k in grid['k']:\n",
        "\n",
        "    # and every possible weight_function in the grid\n",
        "    for weight_function in grid['weight_function']:\n",
        "  \t\n",
        "      # initialize the knn estimator\n",
        "      knn = neighbors.KNeighborsClassifier(n_neighbors=k, weights=weight_function)\n",
        "      \n",
        "      # print the hyperparameterizations\n",
        "      print(knn.get_params())"
      ],
      "execution_count": 18,
      "outputs": [
        {
          "output_type": "stream",
          "text": [
            "{'algorithm': 'auto', 'leaf_size': 30, 'metric': 'minkowski', 'metric_params': None, 'n_jobs': None, 'n_neighbors': 1, 'p': 2, 'weights': 'uniform'}\n",
            "{'algorithm': 'auto', 'leaf_size': 30, 'metric': 'minkowski', 'metric_params': None, 'n_jobs': None, 'n_neighbors': 1, 'p': 2, 'weights': 'distance'}\n",
            "{'algorithm': 'auto', 'leaf_size': 30, 'metric': 'minkowski', 'metric_params': None, 'n_jobs': None, 'n_neighbors': 3, 'p': 2, 'weights': 'uniform'}\n",
            "{'algorithm': 'auto', 'leaf_size': 30, 'metric': 'minkowski', 'metric_params': None, 'n_jobs': None, 'n_neighbors': 3, 'p': 2, 'weights': 'distance'}\n",
            "{'algorithm': 'auto', 'leaf_size': 30, 'metric': 'minkowski', 'metric_params': None, 'n_jobs': None, 'n_neighbors': 5, 'p': 2, 'weights': 'uniform'}\n",
            "{'algorithm': 'auto', 'leaf_size': 30, 'metric': 'minkowski', 'metric_params': None, 'n_jobs': None, 'n_neighbors': 5, 'p': 2, 'weights': 'distance'}\n",
            "{'algorithm': 'auto', 'leaf_size': 30, 'metric': 'minkowski', 'metric_params': None, 'n_jobs': None, 'n_neighbors': 7, 'p': 2, 'weights': 'uniform'}\n",
            "{'algorithm': 'auto', 'leaf_size': 30, 'metric': 'minkowski', 'metric_params': None, 'n_jobs': None, 'n_neighbors': 7, 'p': 2, 'weights': 'distance'}\n"
          ],
          "name": "stdout"
        }
      ]
    },
    {
      "cell_type": "code",
      "metadata": {
        "id": "OCrbR3FvkGIa",
        "colab_type": "code",
        "colab": {
          "base_uri": "https://localhost:8080/",
          "height": 158
        },
        "outputId": "623755ad-84c7-4a83-f41c-8e2ee8d464f6"
      },
      "source": [
        "{'algorithm': 'auto', 'leaf_size': 30, 'metric': 'minkowski', 'metric_params': None, 'n_jobs': None, 'n_neighbors': 1, 'p': 2, 'weights': 'uniform'}\n",
        "{'algorithm': 'auto', 'leaf_size': 30, 'metric': 'minkowski', 'metric_params': None, 'n_jobs': None, 'n_neighbors': 1, 'p': 2, 'weights': 'distance'}\n",
        "{'algorithm': 'auto', 'leaf_size': 30, 'metric': 'minkowski', 'metric_params': None, 'n_jobs': None, 'n_neighbors': 3, 'p': 2, 'weights': 'uniform'}\n",
        "{'algorithm': 'auto', 'leaf_size': 30, 'metric': 'minkowski', 'metric_params': None, 'n_jobs': None, 'n_neighbors': 3, 'p': 2, 'weights': 'distance'}\n",
        "{'algorithm': 'auto', 'leaf_size': 30, 'metric': 'minkowski', 'metric_params': None, 'n_jobs': None, 'n_neighbors': 5, 'p': 2, 'weights': 'uniform'}\n",
        "{'algorithm': 'auto', 'leaf_size': 30, 'metric': 'minkowski', 'metric_params': None, 'n_jobs': None, 'n_neighbors': 5, 'p': 2, 'weights': 'distance'}\n",
        "{'algorithm': 'auto', 'leaf_size': 30, 'metric': 'minkowski', 'metric_params': None, 'n_jobs': None, 'n_neighbors': 7, 'p': 2, 'weights': 'uniform'}\n",
        "{'algorithm': 'auto', 'leaf_size': 30, 'metric': 'minkowski', 'metric_params': None, 'n_jobs': None, 'n_neighbors': 7, 'p': 2, 'weights': 'distance'}"
      ],
      "execution_count": 19,
      "outputs": [
        {
          "output_type": "execute_result",
          "data": {
            "text/plain": [
              "{'algorithm': 'auto',\n",
              " 'leaf_size': 30,\n",
              " 'metric': 'minkowski',\n",
              " 'metric_params': None,\n",
              " 'n_jobs': None,\n",
              " 'n_neighbors': 7,\n",
              " 'p': 2,\n",
              " 'weights': 'distance'}"
            ]
          },
          "metadata": {
            "tags": []
          },
          "execution_count": 19
        }
      ]
    },
    {
      "cell_type": "code",
      "metadata": {
        "id": "PUQHFWPMkGDT",
        "colab_type": "code",
        "colab": {}
      },
      "source": [
        ""
      ],
      "execution_count": 0,
      "outputs": []
    }
  ]
}