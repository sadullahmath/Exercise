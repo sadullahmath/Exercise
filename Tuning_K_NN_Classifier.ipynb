{
  "nbformat": 4,
  "nbformat_minor": 0,
  "metadata": {
    "colab": {
      "name": "Tuning_K_NN_Classifier.ipynb",
      "provenance": [],
      "authorship_tag": "ABX9TyMvOK4AR4a9MkKAVlfvo4ar",
      "include_colab_link": true
    },
    "kernelspec": {
      "name": "python3",
      "display_name": "Python 3"
    }
  },
  "cells": [
    {
      "cell_type": "markdown",
      "metadata": {
        "id": "view-in-github",
        "colab_type": "text"
      },
      "source": [
        "<a href=\"https://colab.research.google.com/github/sadullahmath/Exercise/blob/master/Tuning_K_NN_Classifier.ipynb\" target=\"_parent\"><img src=\"https://colab.research.google.com/assets/colab-badge.svg\" alt=\"Open In Colab\"/></a>"
      ]
    },
    {
      "cell_type": "markdown",
      "metadata": {
        "id": "yCSgbcimkEnA",
        "colab_type": "text"
      },
      "source": [
        "#Manual Hyperparameter Tuning for a k-NN Classifier\n",
        "In this exercise, we will manually tune a k-NN classifier, which was covered in Chapter 7, The Generalization of Machine Learning Models, our goal being to predict incidences of malignant or benign breast cancer based on cell measurements sourced from the affected breast sample."
      ]
    },
    {
      "cell_type": "code",
      "metadata": {
        "id": "KJ2xajC-kFTN",
        "colab_type": "code",
        "colab": {}
      },
      "source": [
        "import pandas as pd"
      ],
      "execution_count": 0,
      "outputs": []
    },
    {
      "cell_type": "code",
      "metadata": {
        "id": "Ps6Q_WzOkFxm",
        "colab_type": "code",
        "colab": {}
      },
      "source": [
        "from sklearn import neighbors, datasets, model_selection"
      ],
      "execution_count": 0,
      "outputs": []
    },
    {
      "cell_type": "code",
      "metadata": {
        "id": "3P4AG3VZkF0O",
        "colab_type": "code",
        "colab": {}
      },
      "source": [
        "dataset= pd.read_csv('https://raw.githubusercontent.com/PacktWorkshops/The-Data-Science-Workshop/master/Chapter08/Dataset/Breast-cancer-wisconsin.data')"
      ],
      "execution_count": 0,
      "outputs": []
    },
    {
      "cell_type": "code",
      "metadata": {
        "id": "Y4Z7NBQGkF2V",
        "colab_type": "code",
        "colab": {}
      },
      "source": [
        "# dataset\n",
        "cancer = datasets.load_breast_cancer()\n",
        "\n",
        "# target\n",
        "y = cancer.target\n",
        "\n",
        "# features\n",
        "X = cancer.data"
      ],
      "execution_count": 0,
      "outputs": []
    },
    {
      "cell_type": "code",
      "metadata": {
        "id": "q9GqukfakF4d",
        "colab_type": "code",
        "colab": {}
      },
      "source": [
        "# no arguments specified\n",
        "knn = neighbors.KNeighborsClassifier()"
      ],
      "execution_count": 0,
      "outputs": []
    },
    {
      "cell_type": "code",
      "metadata": {
        "id": "lTBoKF43kF6h",
        "colab_type": "code",
        "colab": {}
      },
      "source": [
        "# 10 folds, scored on precision\n",
        "cv = model_selection.cross_val_score(knn, X, y, cv=10, scoring='precision')"
      ],
      "execution_count": 0,
      "outputs": []
    },
    {
      "cell_type": "code",
      "metadata": {
        "id": "joeoNRgAkF8_",
        "colab_type": "code",
        "colab": {
          "base_uri": "https://localhost:8080/",
          "height": 52
        },
        "outputId": "cd9e013f-a7ef-4f30-baac-b6cac5455ae6"
      },
      "source": [
        "# precision scores\n",
        "print(cv)"
      ],
      "execution_count": 7,
      "outputs": [
        {
          "output_type": "stream",
          "text": [
            "[0.91666667 0.85       0.91666667 0.94736842 0.94594595 0.94444444\n",
            " 0.97222222 0.92105263 0.96969697 0.97142857]\n"
          ],
          "name": "stdout"
        }
      ]
    },
    {
      "cell_type": "code",
      "metadata": {
        "id": "ICA6rPnQkF_I",
        "colab_type": "code",
        "colab": {
          "base_uri": "https://localhost:8080/",
          "height": 34
        },
        "outputId": "3c856f35-a282-472b-c925-11e3f4cc53b4"
      },
      "source": [
        "# average over all folds\n",
        "print(round(cv.mean(), 2))"
      ],
      "execution_count": 8,
      "outputs": [
        {
          "output_type": "stream",
          "text": [
            "0.94\n"
          ],
          "name": "stdout"
        }
      ]
    },
    {
      "cell_type": "code",
      "metadata": {
        "id": "BdFiLSQPkGBE",
        "colab_type": "code",
        "colab": {
          "base_uri": "https://localhost:8080/",
          "height": 34
        },
        "outputId": "913310de-a9a1-40ea-f7ee-38ae8c890275"
      },
      "source": [
        "# k = 15\n",
        "knn = neighbors.KNeighborsClassifier(n_neighbors=15)\n",
        "\n",
        "cv = model_selection.cross_val_score(knn, X, y, cv=10, scoring='precision')\n",
        "\n",
        "print(round(cv.mean(), 2))"
      ],
      "execution_count": 10,
      "outputs": [
        {
          "output_type": "stream",
          "text": [
            "0.93\n"
          ],
          "name": "stdout"
        }
      ]
    },
    {
      "cell_type": "code",
      "metadata": {
        "id": "DJnwwGnmkGFc",
        "colab_type": "code",
        "colab": {
          "base_uri": "https://localhost:8080/",
          "height": 70
        },
        "outputId": "2bb7b15e-0f1c-4f9c-bdfe-97d6f3449b96"
      },
      "source": [
        "def evaluate_knn(k):\n",
        "  knn = neighbors.KNeighborsClassifier(n_neighbors=k)\n",
        "  cv = model_selection.cross_val_score(knn, X, y, cv=10, scoring='precision')\n",
        "  print(round(cv.mean(), 2))\n",
        "evaluate_knn(k=7)\n",
        "evaluate_knn(k=3)\n",
        "evaluate_knn(k=1)"
      ],
      "execution_count": 11,
      "outputs": [
        {
          "output_type": "stream",
          "text": [
            "0.93\n",
            "0.93\n",
            "0.92\n"
          ],
          "name": "stdout"
        }
      ]
    },
    {
      "cell_type": "code",
      "metadata": {
        "id": "F3I6s0WLkGJr",
        "colab_type": "code",
        "colab": {
          "base_uri": "https://localhost:8080/",
          "height": 34
        },
        "outputId": "5bec864b-c5bc-4ed2-9e97-7005541118ef"
      },
      "source": [
        "# k =5, weights evaluated using distance\n",
        "knn = neighbors.KNeighborsClassifier(n_neighbors=5, weights='distance')\n",
        "\n",
        "cv = model_selection.cross_val_score(knn, X, y, cv=10, scoring='precision')\n",
        "print(round(cv.mean(), 2))"
      ],
      "execution_count": 12,
      "outputs": [
        {
          "output_type": "stream",
          "text": [
            "0.93\n"
          ],
          "name": "stdout"
        }
      ]
    },
    {
      "cell_type": "code",
      "metadata": {
        "id": "p3sAHjp3kGMM",
        "colab_type": "code",
        "colab": {}
      },
      "source": [
        ""
      ],
      "execution_count": 0,
      "outputs": []
    },
    {
      "cell_type": "code",
      "metadata": {
        "id": "wnE4pMnQkGOk",
        "colab_type": "code",
        "colab": {}
      },
      "source": [
        ""
      ],
      "execution_count": 0,
      "outputs": []
    },
    {
      "cell_type": "code",
      "metadata": {
        "id": "OCrbR3FvkGIa",
        "colab_type": "code",
        "colab": {}
      },
      "source": [
        ""
      ],
      "execution_count": 0,
      "outputs": []
    },
    {
      "cell_type": "code",
      "metadata": {
        "id": "PUQHFWPMkGDT",
        "colab_type": "code",
        "colab": {}
      },
      "source": [
        ""
      ],
      "execution_count": 0,
      "outputs": []
    }
  ]
}