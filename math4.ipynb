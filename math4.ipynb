{
  "nbformat": 4,
  "nbformat_minor": 0,
  "metadata": {
    "colab": {
      "name": "math4.ipynb",
      "provenance": [],
      "authorship_tag": "ABX9TyOMZC+jUfOQdxFsjmNC1tjw",
      "include_colab_link": true
    },
    "kernelspec": {
      "name": "python3",
      "display_name": "Python 3"
    }
  },
  "cells": [
    {
      "cell_type": "markdown",
      "metadata": {
        "id": "view-in-github",
        "colab_type": "text"
      },
      "source": [
        "<a href=\"https://colab.research.google.com/github/sadullahmath/Exercise/blob/master/math4.ipynb\" target=\"_parent\"><img src=\"https://colab.research.google.com/assets/colab-badge.svg\" alt=\"Open In Colab\"/></a>"
      ]
    },
    {
      "cell_type": "code",
      "metadata": {
        "id": "d4Pu4JXnvf6h",
        "colab_type": "code",
        "colab": {}
      },
      "source": [
        "l = [5, 8, 1, 3, 2]"
      ],
      "execution_count": 0,
      "outputs": []
    },
    {
      "cell_type": "code",
      "metadata": {
        "id": "S7cPqQGw16Oo",
        "colab_type": "code",
        "colab": {}
      },
      "source": [
        "search_for = 8"
      ],
      "execution_count": 0,
      "outputs": []
    },
    {
      "cell_type": "code",
      "metadata": {
        "id": "YpXg60UF16RQ",
        "colab_type": "code",
        "colab": {}
      },
      "source": [
        "for i in range(len(l)):\n",
        "    if search_for == l[i]:\n",
        "        result = i\n",
        "        break"
      ],
      "execution_count": 0,
      "outputs": []
    },
    {
      "cell_type": "code",
      "metadata": {
        "id": "zz-CpVMv16UP",
        "colab_type": "code",
        "colab": {
          "base_uri": "https://localhost:8080/",
          "height": 34
        },
        "outputId": "7df8081d-6311-49cd-e72d-fd361a3ac346"
      },
      "source": [
        "print(result)"
      ],
      "execution_count": 4,
      "outputs": [
        {
          "output_type": "stream",
          "text": [
            "1\n"
          ],
          "name": "stdout"
        }
      ]
    },
    {
      "cell_type": "code",
      "metadata": {
        "id": "6hOrI5g12JZa",
        "colab_type": "code",
        "colab": {}
      },
      "source": [
        "l = [2, 3, 5, 8, 11, 12, 18]"
      ],
      "execution_count": 0,
      "outputs": []
    },
    {
      "cell_type": "code",
      "metadata": {
        "id": "nn8SPcja2Jb5",
        "colab_type": "code",
        "colab": {}
      },
      "source": [
        "slice_start = 0\n",
        "slice_end = len(l) - 1"
      ],
      "execution_count": 0,
      "outputs": []
    },
    {
      "cell_type": "code",
      "metadata": {
        "id": "qoF_n6J42Jem",
        "colab_type": "code",
        "colab": {}
      },
      "source": [
        "found = False"
      ],
      "execution_count": 0,
      "outputs": []
    },
    {
      "cell_type": "markdown",
      "metadata": {
        "id": "aPiGRBNJ2lWH",
        "colab_type": "text"
      },
      "source": [
        "Find the midpoint of the list, and check whether the value is greater or less than the search term. Depending on the outcome of the comparison, either finish the search or update the locations for the start/end of the sublist:"
      ]
    },
    {
      "cell_type": "code",
      "metadata": {
        "id": "l2YFYD2V2QPX",
        "colab_type": "code",
        "colab": {}
      },
      "source": [
        "while slice_start <= slice_end and not found:\n",
        "    location = (slice_start + slice_end) // 2\n",
        "    if l[location] == search_for:\n",
        "        found = True\n",
        "    else:\n",
        "        if search_for < l[location]:\n",
        "            slice_end = location - 1\n",
        "        else:\n",
        "            slice_start = location + 1"
      ],
      "execution_count": 0,
      "outputs": []
    },
    {
      "cell_type": "code",
      "metadata": {
        "id": "PmSJRbIs2Sr0",
        "colab_type": "code",
        "colab": {
          "base_uri": "https://localhost:8080/",
          "height": 51
        },
        "outputId": "aa3e1944-066d-478c-9947-1cb4c3c87d16"
      },
      "source": [
        "print(found)\n",
        "print(location)"
      ],
      "execution_count": 9,
      "outputs": [
        {
          "output_type": "stream",
          "text": [
            "True\n",
            "3\n"
          ],
          "name": "stdout"
        }
      ]
    }
  ]
}