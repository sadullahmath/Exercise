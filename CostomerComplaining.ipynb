{
  "nbformat": 4,
  "nbformat_minor": 0,
  "metadata": {
    "colab": {
      "name": "CostomerComplaining.ipynb",
      "provenance": [],
      "authorship_tag": "ABX9TyNpSUAEqEmg4tOBPyWP0PXD",
      "include_colab_link": true
    },
    "kernelspec": {
      "name": "python3",
      "display_name": "Python 3"
    }
  },
  "cells": [
    {
      "cell_type": "markdown",
      "metadata": {
        "id": "view-in-github",
        "colab_type": "text"
      },
      "source": [
        "<a href=\"https://colab.research.google.com/github/sadullahmath/Exercise/blob/master/CostomerComplaining.ipynb\" target=\"_parent\"><img src=\"https://colab.research.google.com/assets/colab-badge.svg\" alt=\"Open In Colab\"/></a>"
      ]
    },
    {
      "cell_type": "markdown",
      "metadata": {
        "id": "Vlowxw4Lk17P",
        "colab_type": "text"
      },
      "source": [
        "# Date Manipulation on Financial Services Consumer Complaints"
      ]
    },
    {
      "cell_type": "code",
      "metadata": {
        "id": "jMTpr3_Bk3gU",
        "colab_type": "code",
        "colab": {}
      },
      "source": [
        "import pandas as pd"
      ],
      "execution_count": 0,
      "outputs": []
    },
    {
      "cell_type": "code",
      "metadata": {
        "id": "_O7zLUi2k3i1",
        "colab_type": "code",
        "colab": {}
      },
      "source": [
        "file_url = 'https://raw.githubusercontent.com/PacktWorkshops/The-Data-Science-Workshop/master/Chapter12/Dataset/Consumer_Complaints.csv'"
      ],
      "execution_count": 0,
      "outputs": []
    },
    {
      "cell_type": "code",
      "metadata": {
        "id": "PqN0TRYwk3lD",
        "colab_type": "code",
        "colab": {
          "base_uri": "https://localhost:8080/",
          "height": 51
        },
        "outputId": "2d8f1082-1ccb-46a0-b48e-2911a4148f13"
      },
      "source": [
        "df = pd.read_csv(file_url)"
      ],
      "execution_count": 3,
      "outputs": [
        {
          "output_type": "stream",
          "text": [
            "/usr/local/lib/python3.6/dist-packages/IPython/core/interactiveshell.py:2718: DtypeWarning: Columns (4) have mixed types.Specify dtype option on import or set low_memory=False.\n",
            "  interactivity=interactivity, compiler=compiler, result=result)\n"
          ],
          "name": "stderr"
        }
      ]
    },
    {
      "cell_type": "code",
      "metadata": {
        "id": "eFAJokgdk3rN",
        "colab_type": "code",
        "colab": {
          "base_uri": "https://localhost:8080/",
          "height": 306
        },
        "outputId": "c6e6a7fe-b6d3-4267-ce82-5ec4c8f32ff6"
      },
      "source": [
        "df.head()"
      ],
      "execution_count": 4,
      "outputs": [
        {
          "output_type": "execute_result",
          "data": {
            "text/html": [
              "<div>\n",
              "<style scoped>\n",
              "    .dataframe tbody tr th:only-of-type {\n",
              "        vertical-align: middle;\n",
              "    }\n",
              "\n",
              "    .dataframe tbody tr th {\n",
              "        vertical-align: top;\n",
              "    }\n",
              "\n",
              "    .dataframe thead th {\n",
              "        text-align: right;\n",
              "    }\n",
              "</style>\n",
              "<table border=\"1\" class=\"dataframe\">\n",
              "  <thead>\n",
              "    <tr style=\"text-align: right;\">\n",
              "      <th></th>\n",
              "      <th>Complaint ID</th>\n",
              "      <th>Product</th>\n",
              "      <th>Sub-product</th>\n",
              "      <th>Issue</th>\n",
              "      <th>Sub-issue</th>\n",
              "      <th>State</th>\n",
              "      <th>ZIP code</th>\n",
              "      <th>Submitted via</th>\n",
              "      <th>Date received</th>\n",
              "      <th>Date sent to company</th>\n",
              "      <th>Company</th>\n",
              "      <th>Company response</th>\n",
              "      <th>Timely response?</th>\n",
              "      <th>Consumer disputed?</th>\n",
              "    </tr>\n",
              "  </thead>\n",
              "  <tbody>\n",
              "    <tr>\n",
              "      <th>0</th>\n",
              "      <td>1114245</td>\n",
              "      <td>Debt collection</td>\n",
              "      <td>Medical</td>\n",
              "      <td>Disclosure verification of debt</td>\n",
              "      <td>Not given enough info to verify debt</td>\n",
              "      <td>FL</td>\n",
              "      <td>32219.0</td>\n",
              "      <td>Web</td>\n",
              "      <td>11/13/2014</td>\n",
              "      <td>11/13/2014</td>\n",
              "      <td>Choice Recovery, Inc.</td>\n",
              "      <td>Closed with explanation</td>\n",
              "      <td>Yes</td>\n",
              "      <td>NaN</td>\n",
              "    </tr>\n",
              "    <tr>\n",
              "      <th>1</th>\n",
              "      <td>1114488</td>\n",
              "      <td>Debt collection</td>\n",
              "      <td>Medical</td>\n",
              "      <td>Disclosure verification of debt</td>\n",
              "      <td>Right to dispute notice not received</td>\n",
              "      <td>TX</td>\n",
              "      <td>75006.0</td>\n",
              "      <td>Web</td>\n",
              "      <td>11/13/2014</td>\n",
              "      <td>11/13/2014</td>\n",
              "      <td>Expert Global Solutions, Inc.</td>\n",
              "      <td>In progress</td>\n",
              "      <td>Yes</td>\n",
              "      <td>NaN</td>\n",
              "    </tr>\n",
              "    <tr>\n",
              "      <th>2</th>\n",
              "      <td>1114255</td>\n",
              "      <td>Bank account or service</td>\n",
              "      <td>Checking account</td>\n",
              "      <td>Deposits and withdrawals</td>\n",
              "      <td>NaN</td>\n",
              "      <td>NY</td>\n",
              "      <td>11102.0</td>\n",
              "      <td>Web</td>\n",
              "      <td>11/13/2014</td>\n",
              "      <td>11/13/2014</td>\n",
              "      <td>FNIS (Fidelity National Information Services, ...</td>\n",
              "      <td>In progress</td>\n",
              "      <td>Yes</td>\n",
              "      <td>NaN</td>\n",
              "    </tr>\n",
              "    <tr>\n",
              "      <th>3</th>\n",
              "      <td>1115106</td>\n",
              "      <td>Debt collection</td>\n",
              "      <td>Other (phone, health club, etc.)</td>\n",
              "      <td>Communication tactics</td>\n",
              "      <td>Frequent or repeated calls</td>\n",
              "      <td>GA</td>\n",
              "      <td>31721.0</td>\n",
              "      <td>Web</td>\n",
              "      <td>11/13/2014</td>\n",
              "      <td>11/13/2014</td>\n",
              "      <td>Expert Global Solutions, Inc.</td>\n",
              "      <td>In progress</td>\n",
              "      <td>Yes</td>\n",
              "      <td>NaN</td>\n",
              "    </tr>\n",
              "    <tr>\n",
              "      <th>4</th>\n",
              "      <td>1115890</td>\n",
              "      <td>Credit reporting</td>\n",
              "      <td>NaN</td>\n",
              "      <td>Incorrect information on credit report</td>\n",
              "      <td>Information is not mine</td>\n",
              "      <td>FL</td>\n",
              "      <td>33461.0</td>\n",
              "      <td>Web</td>\n",
              "      <td>11/12/2014</td>\n",
              "      <td>11/13/2014</td>\n",
              "      <td>TransUnion</td>\n",
              "      <td>In progress</td>\n",
              "      <td>Yes</td>\n",
              "      <td>NaN</td>\n",
              "    </tr>\n",
              "  </tbody>\n",
              "</table>\n",
              "</div>"
            ],
            "text/plain": [
              "   Complaint ID                  Product  ... Timely response? Consumer disputed?\n",
              "0       1114245          Debt collection  ...              Yes                NaN\n",
              "1       1114488          Debt collection  ...              Yes                NaN\n",
              "2       1114255  Bank account or service  ...              Yes                NaN\n",
              "3       1115106          Debt collection  ...              Yes                NaN\n",
              "4       1115890         Credit reporting  ...              Yes                NaN\n",
              "\n",
              "[5 rows x 14 columns]"
            ]
          },
          "metadata": {
            "tags": []
          },
          "execution_count": 4
        }
      ]
    },
    {
      "cell_type": "code",
      "metadata": {
        "id": "q3HJV-FAk3vv",
        "colab_type": "code",
        "colab": {
          "base_uri": "https://localhost:8080/",
          "height": 272
        },
        "outputId": "7cadd6b2-de3e-4e1d-9630-50e6f6e67d1b"
      },
      "source": [
        "df.dtypes"
      ],
      "execution_count": 5,
      "outputs": [
        {
          "output_type": "execute_result",
          "data": {
            "text/plain": [
              "Complaint ID              int64\n",
              "Product                  object\n",
              "Sub-product              object\n",
              "Issue                    object\n",
              "Sub-issue                object\n",
              "State                    object\n",
              "ZIP code                float64\n",
              "Submitted via            object\n",
              "Date received            object\n",
              "Date sent to company     object\n",
              "Company                  object\n",
              "Company response         object\n",
              "Timely response?         object\n",
              "Consumer disputed?       object\n",
              "dtype: object"
            ]
          },
          "metadata": {
            "tags": []
          },
          "execution_count": 5
        }
      ]
    },
    {
      "cell_type": "code",
      "metadata": {
        "id": "MQQsOESok3zd",
        "colab_type": "code",
        "colab": {}
      },
      "source": [
        "df['Date received'] = pd.to_datetime(df['Date received'])\n",
        "df['Date sent to company'] = pd.to_datetime(df['Date sent to company'])"
      ],
      "execution_count": 0,
      "outputs": []
    },
    {
      "cell_type": "code",
      "metadata": {
        "id": "QoEwL-Yok356",
        "colab_type": "code",
        "colab": {
          "base_uri": "https://localhost:8080/",
          "height": 272
        },
        "outputId": "68b66803-b453-44a8-f5ec-3a91d9c84898"
      },
      "source": [
        "df.dtypes"
      ],
      "execution_count": 7,
      "outputs": [
        {
          "output_type": "execute_result",
          "data": {
            "text/plain": [
              "Complaint ID                     int64\n",
              "Product                         object\n",
              "Sub-product                     object\n",
              "Issue                           object\n",
              "Sub-issue                       object\n",
              "State                           object\n",
              "ZIP code                       float64\n",
              "Submitted via                   object\n",
              "Date received           datetime64[ns]\n",
              "Date sent to company    datetime64[ns]\n",
              "Company                         object\n",
              "Company response                object\n",
              "Timely response?                object\n",
              "Consumer disputed?              object\n",
              "dtype: object"
            ]
          },
          "metadata": {
            "tags": []
          },
          "execution_count": 7
        }
      ]
    },
    {
      "cell_type": "code",
      "metadata": {
        "id": "YBer6Oipk4Aj",
        "colab_type": "code",
        "colab": {}
      },
      "source": [
        "df['YearReceived'] = df['Date received'].dt.year"
      ],
      "execution_count": 0,
      "outputs": []
    },
    {
      "cell_type": "code",
      "metadata": {
        "id": "-tB321KSk4D1",
        "colab_type": "code",
        "colab": {}
      },
      "source": [
        "df['MonthReceived'] = df['Date received'].dt.month"
      ],
      "execution_count": 0,
      "outputs": []
    },
    {
      "cell_type": "code",
      "metadata": {
        "id": "78HAvfXMk3_E",
        "colab_type": "code",
        "colab": {}
      },
      "source": [
        "df['DomReceived'] = df['Date received'].dt.day"
      ],
      "execution_count": 0,
      "outputs": []
    },
    {
      "cell_type": "code",
      "metadata": {
        "id": "YndSIiL3k396",
        "colab_type": "code",
        "colab": {}
      },
      "source": [
        "df['DowReceived'] = df['Date received'].dt.dayofweek"
      ],
      "execution_count": 0,
      "outputs": []
    },
    {
      "cell_type": "code",
      "metadata": {
        "id": "QM60u6Gik33r",
        "colab_type": "code",
        "colab": {
          "base_uri": "https://localhost:8080/",
          "height": 374
        },
        "outputId": "39c3730a-873f-4f94-b3e3-4db71139d3d6"
      },
      "source": [
        "df.head()"
      ],
      "execution_count": 12,
      "outputs": [
        {
          "output_type": "execute_result",
          "data": {
            "text/html": [
              "<div>\n",
              "<style scoped>\n",
              "    .dataframe tbody tr th:only-of-type {\n",
              "        vertical-align: middle;\n",
              "    }\n",
              "\n",
              "    .dataframe tbody tr th {\n",
              "        vertical-align: top;\n",
              "    }\n",
              "\n",
              "    .dataframe thead th {\n",
              "        text-align: right;\n",
              "    }\n",
              "</style>\n",
              "<table border=\"1\" class=\"dataframe\">\n",
              "  <thead>\n",
              "    <tr style=\"text-align: right;\">\n",
              "      <th></th>\n",
              "      <th>Complaint ID</th>\n",
              "      <th>Product</th>\n",
              "      <th>Sub-product</th>\n",
              "      <th>Issue</th>\n",
              "      <th>Sub-issue</th>\n",
              "      <th>State</th>\n",
              "      <th>ZIP code</th>\n",
              "      <th>Submitted via</th>\n",
              "      <th>Date received</th>\n",
              "      <th>Date sent to company</th>\n",
              "      <th>Company</th>\n",
              "      <th>Company response</th>\n",
              "      <th>Timely response?</th>\n",
              "      <th>Consumer disputed?</th>\n",
              "      <th>YearReceived</th>\n",
              "      <th>MonthReceived</th>\n",
              "      <th>DomReceived</th>\n",
              "      <th>DowReceived</th>\n",
              "    </tr>\n",
              "  </thead>\n",
              "  <tbody>\n",
              "    <tr>\n",
              "      <th>0</th>\n",
              "      <td>1114245</td>\n",
              "      <td>Debt collection</td>\n",
              "      <td>Medical</td>\n",
              "      <td>Disclosure verification of debt</td>\n",
              "      <td>Not given enough info to verify debt</td>\n",
              "      <td>FL</td>\n",
              "      <td>32219.0</td>\n",
              "      <td>Web</td>\n",
              "      <td>2014-11-13</td>\n",
              "      <td>2014-11-13</td>\n",
              "      <td>Choice Recovery, Inc.</td>\n",
              "      <td>Closed with explanation</td>\n",
              "      <td>Yes</td>\n",
              "      <td>NaN</td>\n",
              "      <td>2014</td>\n",
              "      <td>11</td>\n",
              "      <td>13</td>\n",
              "      <td>3</td>\n",
              "    </tr>\n",
              "    <tr>\n",
              "      <th>1</th>\n",
              "      <td>1114488</td>\n",
              "      <td>Debt collection</td>\n",
              "      <td>Medical</td>\n",
              "      <td>Disclosure verification of debt</td>\n",
              "      <td>Right to dispute notice not received</td>\n",
              "      <td>TX</td>\n",
              "      <td>75006.0</td>\n",
              "      <td>Web</td>\n",
              "      <td>2014-11-13</td>\n",
              "      <td>2014-11-13</td>\n",
              "      <td>Expert Global Solutions, Inc.</td>\n",
              "      <td>In progress</td>\n",
              "      <td>Yes</td>\n",
              "      <td>NaN</td>\n",
              "      <td>2014</td>\n",
              "      <td>11</td>\n",
              "      <td>13</td>\n",
              "      <td>3</td>\n",
              "    </tr>\n",
              "    <tr>\n",
              "      <th>2</th>\n",
              "      <td>1114255</td>\n",
              "      <td>Bank account or service</td>\n",
              "      <td>Checking account</td>\n",
              "      <td>Deposits and withdrawals</td>\n",
              "      <td>NaN</td>\n",
              "      <td>NY</td>\n",
              "      <td>11102.0</td>\n",
              "      <td>Web</td>\n",
              "      <td>2014-11-13</td>\n",
              "      <td>2014-11-13</td>\n",
              "      <td>FNIS (Fidelity National Information Services, ...</td>\n",
              "      <td>In progress</td>\n",
              "      <td>Yes</td>\n",
              "      <td>NaN</td>\n",
              "      <td>2014</td>\n",
              "      <td>11</td>\n",
              "      <td>13</td>\n",
              "      <td>3</td>\n",
              "    </tr>\n",
              "    <tr>\n",
              "      <th>3</th>\n",
              "      <td>1115106</td>\n",
              "      <td>Debt collection</td>\n",
              "      <td>Other (phone, health club, etc.)</td>\n",
              "      <td>Communication tactics</td>\n",
              "      <td>Frequent or repeated calls</td>\n",
              "      <td>GA</td>\n",
              "      <td>31721.0</td>\n",
              "      <td>Web</td>\n",
              "      <td>2014-11-13</td>\n",
              "      <td>2014-11-13</td>\n",
              "      <td>Expert Global Solutions, Inc.</td>\n",
              "      <td>In progress</td>\n",
              "      <td>Yes</td>\n",
              "      <td>NaN</td>\n",
              "      <td>2014</td>\n",
              "      <td>11</td>\n",
              "      <td>13</td>\n",
              "      <td>3</td>\n",
              "    </tr>\n",
              "    <tr>\n",
              "      <th>4</th>\n",
              "      <td>1115890</td>\n",
              "      <td>Credit reporting</td>\n",
              "      <td>NaN</td>\n",
              "      <td>Incorrect information on credit report</td>\n",
              "      <td>Information is not mine</td>\n",
              "      <td>FL</td>\n",
              "      <td>33461.0</td>\n",
              "      <td>Web</td>\n",
              "      <td>2014-11-12</td>\n",
              "      <td>2014-11-13</td>\n",
              "      <td>TransUnion</td>\n",
              "      <td>In progress</td>\n",
              "      <td>Yes</td>\n",
              "      <td>NaN</td>\n",
              "      <td>2014</td>\n",
              "      <td>11</td>\n",
              "      <td>12</td>\n",
              "      <td>2</td>\n",
              "    </tr>\n",
              "  </tbody>\n",
              "</table>\n",
              "</div>"
            ],
            "text/plain": [
              "   Complaint ID                  Product  ... DomReceived DowReceived\n",
              "0       1114245          Debt collection  ...          13           3\n",
              "1       1114488          Debt collection  ...          13           3\n",
              "2       1114255  Bank account or service  ...          13           3\n",
              "3       1115106          Debt collection  ...          13           3\n",
              "4       1115890         Credit reporting  ...          12           2\n",
              "\n",
              "[5 rows x 18 columns]"
            ]
          },
          "metadata": {
            "tags": []
          },
          "execution_count": 12
        }
      ]
    },
    {
      "cell_type": "code",
      "metadata": {
        "id": "TehThsrck32P",
        "colab_type": "code",
        "colab": {}
      },
      "source": [
        "df['IsWeekendReceived'] = df['DowReceived'] >= 5"
      ],
      "execution_count": 0,
      "outputs": []
    },
    {
      "cell_type": "code",
      "metadata": {
        "id": "SNXUUqCik3xl",
        "colab_type": "code",
        "colab": {
          "base_uri": "https://localhost:8080/",
          "height": 442
        },
        "outputId": "74226419-c41e-4740-94a4-b4f7a9c5480c"
      },
      "source": [
        "df.head()"
      ],
      "execution_count": 14,
      "outputs": [
        {
          "output_type": "execute_result",
          "data": {
            "text/html": [
              "<div>\n",
              "<style scoped>\n",
              "    .dataframe tbody tr th:only-of-type {\n",
              "        vertical-align: middle;\n",
              "    }\n",
              "\n",
              "    .dataframe tbody tr th {\n",
              "        vertical-align: top;\n",
              "    }\n",
              "\n",
              "    .dataframe thead th {\n",
              "        text-align: right;\n",
              "    }\n",
              "</style>\n",
              "<table border=\"1\" class=\"dataframe\">\n",
              "  <thead>\n",
              "    <tr style=\"text-align: right;\">\n",
              "      <th></th>\n",
              "      <th>Complaint ID</th>\n",
              "      <th>Product</th>\n",
              "      <th>Sub-product</th>\n",
              "      <th>Issue</th>\n",
              "      <th>Sub-issue</th>\n",
              "      <th>State</th>\n",
              "      <th>ZIP code</th>\n",
              "      <th>Submitted via</th>\n",
              "      <th>Date received</th>\n",
              "      <th>Date sent to company</th>\n",
              "      <th>Company</th>\n",
              "      <th>Company response</th>\n",
              "      <th>Timely response?</th>\n",
              "      <th>Consumer disputed?</th>\n",
              "      <th>YearReceived</th>\n",
              "      <th>MonthReceived</th>\n",
              "      <th>DomReceived</th>\n",
              "      <th>DowReceived</th>\n",
              "      <th>IsWeekendReceived</th>\n",
              "    </tr>\n",
              "  </thead>\n",
              "  <tbody>\n",
              "    <tr>\n",
              "      <th>0</th>\n",
              "      <td>1114245</td>\n",
              "      <td>Debt collection</td>\n",
              "      <td>Medical</td>\n",
              "      <td>Disclosure verification of debt</td>\n",
              "      <td>Not given enough info to verify debt</td>\n",
              "      <td>FL</td>\n",
              "      <td>32219.0</td>\n",
              "      <td>Web</td>\n",
              "      <td>2014-11-13</td>\n",
              "      <td>2014-11-13</td>\n",
              "      <td>Choice Recovery, Inc.</td>\n",
              "      <td>Closed with explanation</td>\n",
              "      <td>Yes</td>\n",
              "      <td>NaN</td>\n",
              "      <td>2014</td>\n",
              "      <td>11</td>\n",
              "      <td>13</td>\n",
              "      <td>3</td>\n",
              "      <td>False</td>\n",
              "    </tr>\n",
              "    <tr>\n",
              "      <th>1</th>\n",
              "      <td>1114488</td>\n",
              "      <td>Debt collection</td>\n",
              "      <td>Medical</td>\n",
              "      <td>Disclosure verification of debt</td>\n",
              "      <td>Right to dispute notice not received</td>\n",
              "      <td>TX</td>\n",
              "      <td>75006.0</td>\n",
              "      <td>Web</td>\n",
              "      <td>2014-11-13</td>\n",
              "      <td>2014-11-13</td>\n",
              "      <td>Expert Global Solutions, Inc.</td>\n",
              "      <td>In progress</td>\n",
              "      <td>Yes</td>\n",
              "      <td>NaN</td>\n",
              "      <td>2014</td>\n",
              "      <td>11</td>\n",
              "      <td>13</td>\n",
              "      <td>3</td>\n",
              "      <td>False</td>\n",
              "    </tr>\n",
              "    <tr>\n",
              "      <th>2</th>\n",
              "      <td>1114255</td>\n",
              "      <td>Bank account or service</td>\n",
              "      <td>Checking account</td>\n",
              "      <td>Deposits and withdrawals</td>\n",
              "      <td>NaN</td>\n",
              "      <td>NY</td>\n",
              "      <td>11102.0</td>\n",
              "      <td>Web</td>\n",
              "      <td>2014-11-13</td>\n",
              "      <td>2014-11-13</td>\n",
              "      <td>FNIS (Fidelity National Information Services, ...</td>\n",
              "      <td>In progress</td>\n",
              "      <td>Yes</td>\n",
              "      <td>NaN</td>\n",
              "      <td>2014</td>\n",
              "      <td>11</td>\n",
              "      <td>13</td>\n",
              "      <td>3</td>\n",
              "      <td>False</td>\n",
              "    </tr>\n",
              "    <tr>\n",
              "      <th>3</th>\n",
              "      <td>1115106</td>\n",
              "      <td>Debt collection</td>\n",
              "      <td>Other (phone, health club, etc.)</td>\n",
              "      <td>Communication tactics</td>\n",
              "      <td>Frequent or repeated calls</td>\n",
              "      <td>GA</td>\n",
              "      <td>31721.0</td>\n",
              "      <td>Web</td>\n",
              "      <td>2014-11-13</td>\n",
              "      <td>2014-11-13</td>\n",
              "      <td>Expert Global Solutions, Inc.</td>\n",
              "      <td>In progress</td>\n",
              "      <td>Yes</td>\n",
              "      <td>NaN</td>\n",
              "      <td>2014</td>\n",
              "      <td>11</td>\n",
              "      <td>13</td>\n",
              "      <td>3</td>\n",
              "      <td>False</td>\n",
              "    </tr>\n",
              "    <tr>\n",
              "      <th>4</th>\n",
              "      <td>1115890</td>\n",
              "      <td>Credit reporting</td>\n",
              "      <td>NaN</td>\n",
              "      <td>Incorrect information on credit report</td>\n",
              "      <td>Information is not mine</td>\n",
              "      <td>FL</td>\n",
              "      <td>33461.0</td>\n",
              "      <td>Web</td>\n",
              "      <td>2014-11-12</td>\n",
              "      <td>2014-11-13</td>\n",
              "      <td>TransUnion</td>\n",
              "      <td>In progress</td>\n",
              "      <td>Yes</td>\n",
              "      <td>NaN</td>\n",
              "      <td>2014</td>\n",
              "      <td>11</td>\n",
              "      <td>12</td>\n",
              "      <td>2</td>\n",
              "      <td>False</td>\n",
              "    </tr>\n",
              "  </tbody>\n",
              "</table>\n",
              "</div>"
            ],
            "text/plain": [
              "   Complaint ID                  Product  ... DowReceived IsWeekendReceived\n",
              "0       1114245          Debt collection  ...           3             False\n",
              "1       1114488          Debt collection  ...           3             False\n",
              "2       1114255  Bank account or service  ...           3             False\n",
              "3       1115106          Debt collection  ...           3             False\n",
              "4       1115890         Credit reporting  ...           2             False\n",
              "\n",
              "[5 rows x 19 columns]"
            ]
          },
          "metadata": {
            "tags": []
          },
          "execution_count": 14
        }
      ]
    },
    {
      "cell_type": "code",
      "metadata": {
        "id": "lOA5m4cSk3p4",
        "colab_type": "code",
        "colab": {}
      },
      "source": [
        "df['RoutingDays'] = df['Date sent to company'] - df['Date received']"
      ],
      "execution_count": 0,
      "outputs": []
    },
    {
      "cell_type": "code",
      "metadata": {
        "id": "d7PdDG1Uk3n_",
        "colab_type": "code",
        "colab": {
          "base_uri": "https://localhost:8080/",
          "height": 34
        },
        "outputId": "84c05f81-a173-4a69-f1c2-b8e9eda0842e"
      },
      "source": [
        "df['RoutingDays'].dtype"
      ],
      "execution_count": 16,
      "outputs": [
        {
          "output_type": "execute_result",
          "data": {
            "text/plain": [
              "dtype('<m8[ns]')"
            ]
          },
          "metadata": {
            "tags": []
          },
          "execution_count": 16
        }
      ]
    },
    {
      "cell_type": "code",
      "metadata": {
        "id": "rxJcqY9mlo_b",
        "colab_type": "code",
        "colab": {}
      },
      "source": [
        "df['RoutingDays'] = df['RoutingDays'].dt.days"
      ],
      "execution_count": 0,
      "outputs": []
    },
    {
      "cell_type": "code",
      "metadata": {
        "id": "F2YsIhCHlpCJ",
        "colab_type": "code",
        "colab": {
          "base_uri": "https://localhost:8080/",
          "height": 547
        },
        "outputId": "cdef5f89-2b4e-4ae3-f603-df3e2a33f432"
      },
      "source": [
        "df.head()"
      ],
      "execution_count": 18,
      "outputs": [
        {
          "output_type": "execute_result",
          "data": {
            "text/html": [
              "<div>\n",
              "<style scoped>\n",
              "    .dataframe tbody tr th:only-of-type {\n",
              "        vertical-align: middle;\n",
              "    }\n",
              "\n",
              "    .dataframe tbody tr th {\n",
              "        vertical-align: top;\n",
              "    }\n",
              "\n",
              "    .dataframe thead th {\n",
              "        text-align: right;\n",
              "    }\n",
              "</style>\n",
              "<table border=\"1\" class=\"dataframe\">\n",
              "  <thead>\n",
              "    <tr style=\"text-align: right;\">\n",
              "      <th></th>\n",
              "      <th>Complaint ID</th>\n",
              "      <th>Product</th>\n",
              "      <th>Sub-product</th>\n",
              "      <th>Issue</th>\n",
              "      <th>Sub-issue</th>\n",
              "      <th>State</th>\n",
              "      <th>ZIP code</th>\n",
              "      <th>Submitted via</th>\n",
              "      <th>Date received</th>\n",
              "      <th>Date sent to company</th>\n",
              "      <th>Company</th>\n",
              "      <th>Company response</th>\n",
              "      <th>Timely response?</th>\n",
              "      <th>Consumer disputed?</th>\n",
              "      <th>YearReceived</th>\n",
              "      <th>MonthReceived</th>\n",
              "      <th>DomReceived</th>\n",
              "      <th>DowReceived</th>\n",
              "      <th>IsWeekendReceived</th>\n",
              "      <th>RoutingDays</th>\n",
              "    </tr>\n",
              "  </thead>\n",
              "  <tbody>\n",
              "    <tr>\n",
              "      <th>0</th>\n",
              "      <td>1114245</td>\n",
              "      <td>Debt collection</td>\n",
              "      <td>Medical</td>\n",
              "      <td>Disclosure verification of debt</td>\n",
              "      <td>Not given enough info to verify debt</td>\n",
              "      <td>FL</td>\n",
              "      <td>32219.0</td>\n",
              "      <td>Web</td>\n",
              "      <td>2014-11-13</td>\n",
              "      <td>2014-11-13</td>\n",
              "      <td>Choice Recovery, Inc.</td>\n",
              "      <td>Closed with explanation</td>\n",
              "      <td>Yes</td>\n",
              "      <td>NaN</td>\n",
              "      <td>2014</td>\n",
              "      <td>11</td>\n",
              "      <td>13</td>\n",
              "      <td>3</td>\n",
              "      <td>False</td>\n",
              "      <td>0</td>\n",
              "    </tr>\n",
              "    <tr>\n",
              "      <th>1</th>\n",
              "      <td>1114488</td>\n",
              "      <td>Debt collection</td>\n",
              "      <td>Medical</td>\n",
              "      <td>Disclosure verification of debt</td>\n",
              "      <td>Right to dispute notice not received</td>\n",
              "      <td>TX</td>\n",
              "      <td>75006.0</td>\n",
              "      <td>Web</td>\n",
              "      <td>2014-11-13</td>\n",
              "      <td>2014-11-13</td>\n",
              "      <td>Expert Global Solutions, Inc.</td>\n",
              "      <td>In progress</td>\n",
              "      <td>Yes</td>\n",
              "      <td>NaN</td>\n",
              "      <td>2014</td>\n",
              "      <td>11</td>\n",
              "      <td>13</td>\n",
              "      <td>3</td>\n",
              "      <td>False</td>\n",
              "      <td>0</td>\n",
              "    </tr>\n",
              "    <tr>\n",
              "      <th>2</th>\n",
              "      <td>1114255</td>\n",
              "      <td>Bank account or service</td>\n",
              "      <td>Checking account</td>\n",
              "      <td>Deposits and withdrawals</td>\n",
              "      <td>NaN</td>\n",
              "      <td>NY</td>\n",
              "      <td>11102.0</td>\n",
              "      <td>Web</td>\n",
              "      <td>2014-11-13</td>\n",
              "      <td>2014-11-13</td>\n",
              "      <td>FNIS (Fidelity National Information Services, ...</td>\n",
              "      <td>In progress</td>\n",
              "      <td>Yes</td>\n",
              "      <td>NaN</td>\n",
              "      <td>2014</td>\n",
              "      <td>11</td>\n",
              "      <td>13</td>\n",
              "      <td>3</td>\n",
              "      <td>False</td>\n",
              "      <td>0</td>\n",
              "    </tr>\n",
              "    <tr>\n",
              "      <th>3</th>\n",
              "      <td>1115106</td>\n",
              "      <td>Debt collection</td>\n",
              "      <td>Other (phone, health club, etc.)</td>\n",
              "      <td>Communication tactics</td>\n",
              "      <td>Frequent or repeated calls</td>\n",
              "      <td>GA</td>\n",
              "      <td>31721.0</td>\n",
              "      <td>Web</td>\n",
              "      <td>2014-11-13</td>\n",
              "      <td>2014-11-13</td>\n",
              "      <td>Expert Global Solutions, Inc.</td>\n",
              "      <td>In progress</td>\n",
              "      <td>Yes</td>\n",
              "      <td>NaN</td>\n",
              "      <td>2014</td>\n",
              "      <td>11</td>\n",
              "      <td>13</td>\n",
              "      <td>3</td>\n",
              "      <td>False</td>\n",
              "      <td>0</td>\n",
              "    </tr>\n",
              "    <tr>\n",
              "      <th>4</th>\n",
              "      <td>1115890</td>\n",
              "      <td>Credit reporting</td>\n",
              "      <td>NaN</td>\n",
              "      <td>Incorrect information on credit report</td>\n",
              "      <td>Information is not mine</td>\n",
              "      <td>FL</td>\n",
              "      <td>33461.0</td>\n",
              "      <td>Web</td>\n",
              "      <td>2014-11-12</td>\n",
              "      <td>2014-11-13</td>\n",
              "      <td>TransUnion</td>\n",
              "      <td>In progress</td>\n",
              "      <td>Yes</td>\n",
              "      <td>NaN</td>\n",
              "      <td>2014</td>\n",
              "      <td>11</td>\n",
              "      <td>12</td>\n",
              "      <td>2</td>\n",
              "      <td>False</td>\n",
              "      <td>1</td>\n",
              "    </tr>\n",
              "  </tbody>\n",
              "</table>\n",
              "</div>"
            ],
            "text/plain": [
              "   Complaint ID                  Product  ... IsWeekendReceived RoutingDays\n",
              "0       1114245          Debt collection  ...             False           0\n",
              "1       1114488          Debt collection  ...             False           0\n",
              "2       1114255  Bank account or service  ...             False           0\n",
              "3       1115106          Debt collection  ...             False           0\n",
              "4       1115890         Credit reporting  ...             False           1\n",
              "\n",
              "[5 rows x 20 columns]"
            ]
          },
          "metadata": {
            "tags": []
          },
          "execution_count": 18
        }
      ]
    }
  ]
}