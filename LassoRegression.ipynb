{
  "nbformat": 4,
  "nbformat_minor": 0,
  "metadata": {
    "colab": {
      "name": "LassoRegression.ipynb",
      "provenance": [],
      "authorship_tag": "ABX9TyMhmmJ7qZD53Novb2gFtOzq",
      "include_colab_link": true
    },
    "kernelspec": {
      "name": "python3",
      "display_name": "Python 3"
    }
  },
  "cells": [
    {
      "cell_type": "markdown",
      "metadata": {
        "id": "view-in-github",
        "colab_type": "text"
      },
      "source": [
        "<a href=\"https://colab.research.google.com/github/sadullahmath/Exercise/blob/master/LassoRegression.ipynb\" target=\"_parent\"><img src=\"https://colab.research.google.com/assets/colab-badge.svg\" alt=\"Open In Colab\"/></a>"
      ]
    },
    {
      "cell_type": "markdown",
      "metadata": {
        "id": "5STFdMw2FRQa",
        "colab_type": "text"
      },
      "source": [
        "# Model Regularization with Lasso Regression"
      ]
    },
    {
      "cell_type": "code",
      "metadata": {
        "id": "IkZ8is2YFRY1",
        "colab_type": "code",
        "colab": {}
      },
      "source": [
        "import pandas as pd\n",
        "from sklearn.model_selection import train_test_split\n",
        "from sklearn.linear_model import LinearRegression, Lasso\n",
        "from sklearn.metrics import mean_squared_error\n",
        "from sklearn.pipeline import Pipeline\n",
        "from sklearn.preprocessing import MinMaxScaler, PolynomialFeatures"
      ],
      "execution_count": 0,
      "outputs": []
    },
    {
      "cell_type": "code",
      "metadata": {
        "id": "o2CAl4mWFRbd",
        "colab_type": "code",
        "colab": {}
      },
      "source": [
        "_df = pd.read_csv('https://raw.githubusercontent.com/PacktWorkshops/The-Data-Science-Workshop/master/Chapter07/Dataset/ccpp.csv')"
      ],
      "execution_count": 0,
      "outputs": []
    },
    {
      "cell_type": "code",
      "metadata": {
        "id": "yQNeIcNgFRdm",
        "colab_type": "code",
        "colab": {
          "base_uri": "https://localhost:8080/",
          "height": 230
        },
        "outputId": "1f31d553-ae23-47bd-80c2-438c7f625780"
      },
      "source": [
        "_df.info()"
      ],
      "execution_count": 3,
      "outputs": [
        {
          "output_type": "stream",
          "text": [
            "<class 'pandas.core.frame.DataFrame'>\n",
            "RangeIndex: 9568 entries, 0 to 9567\n",
            "Data columns (total 5 columns):\n",
            " #   Column  Non-Null Count  Dtype  \n",
            "---  ------  --------------  -----  \n",
            " 0   AT      9568 non-null   float64\n",
            " 1   V       9568 non-null   float64\n",
            " 2   AP      9568 non-null   float64\n",
            " 3   RH      9568 non-null   float64\n",
            " 4   PE      9568 non-null   float64\n",
            "dtypes: float64(5)\n",
            "memory usage: 373.9 KB\n"
          ],
          "name": "stdout"
        }
      ]
    },
    {
      "cell_type": "code",
      "metadata": {
        "id": "t29JA8CgFRf4",
        "colab_type": "code",
        "colab": {}
      },
      "source": [
        "X = _df.drop(['PE'], axis=1).values"
      ],
      "execution_count": 0,
      "outputs": []
    },
    {
      "cell_type": "code",
      "metadata": {
        "id": "yWVeueaMFRh8",
        "colab_type": "code",
        "colab": {}
      },
      "source": [
        "y = _df['PE'].values"
      ],
      "execution_count": 0,
      "outputs": []
    },
    {
      "cell_type": "code",
      "metadata": {
        "id": "F5oYnHNVFRj2",
        "colab_type": "code",
        "colab": {}
      },
      "source": [
        "train_X, eval_X, train_y, eval_y = train_test_split(X, y, train_size=0.8, random_state=0)"
      ],
      "execution_count": 0,
      "outputs": []
    },
    {
      "cell_type": "code",
      "metadata": {
        "id": "PyxdanDDFzFE",
        "colab_type": "code",
        "colab": {}
      },
      "source": [
        "lr_model_1 = LinearRegression()"
      ],
      "execution_count": 0,
      "outputs": []
    },
    {
      "cell_type": "code",
      "metadata": {
        "id": "-iu6U12vFzHY",
        "colab_type": "code",
        "colab": {
          "base_uri": "https://localhost:8080/",
          "height": 34
        },
        "outputId": "c5c96590-b243-4d67-9ce3-5498345b1211"
      },
      "source": [
        "lr_model_1.fit(train_X, train_y)"
      ],
      "execution_count": 8,
      "outputs": [
        {
          "output_type": "execute_result",
          "data": {
            "text/plain": [
              "LinearRegression(copy_X=True, fit_intercept=True, n_jobs=None, normalize=False)"
            ]
          },
          "metadata": {
            "tags": []
          },
          "execution_count": 8
        }
      ]
    },
    {
      "cell_type": "code",
      "metadata": {
        "id": "JenjdLPoFzLl",
        "colab_type": "code",
        "colab": {}
      },
      "source": [
        "lr_model_1_preds = lr_model_1.predict(eval_X)"
      ],
      "execution_count": 0,
      "outputs": []
    },
    {
      "cell_type": "code",
      "metadata": {
        "id": "OpdfDyIoFzQB",
        "colab_type": "code",
        "colab": {
          "base_uri": "https://localhost:8080/",
          "height": 34
        },
        "outputId": "cc09ea82-9985-4f8a-c722-95761a7da842"
      },
      "source": [
        "print('lr_model_1 R2 Score: {}'.format(lr_model_1.score(eval_X, eval_y)))"
      ],
      "execution_count": 10,
      "outputs": [
        {
          "output_type": "stream",
          "text": [
            "lr_model_1 R2 Score: 0.9325315554761302\n"
          ],
          "name": "stdout"
        }
      ]
    },
    {
      "cell_type": "code",
      "metadata": {
        "id": "kZhe9Dr-FzSo",
        "colab_type": "code",
        "colab": {
          "base_uri": "https://localhost:8080/",
          "height": 34
        },
        "outputId": "6a89075d-0184-4ffc-b591-8516f0a30779"
      },
      "source": [
        "print('lr_model_1 MSE: {}'.format(mean_squared_error(eval_y, lr_model_1_preds)))"
      ],
      "execution_count": 11,
      "outputs": [
        {
          "output_type": "stream",
          "text": [
            "lr_model_1 MSE: 19.733699303497648\n"
          ],
          "name": "stdout"
        }
      ]
    },
    {
      "cell_type": "code",
      "metadata": {
        "id": "AQd3tKnuFRl9",
        "colab_type": "code",
        "colab": {}
      },
      "source": [
        "steps = [\n",
        "    ('scaler', MinMaxScaler()),\n",
        "    ('poly', PolynomialFeatures(degree=3)),\n",
        "    ('lr', LinearRegression())\n",
        "]"
      ],
      "execution_count": 0,
      "outputs": []
    },
    {
      "cell_type": "code",
      "metadata": {
        "id": "uZsdBkkeGBfl",
        "colab_type": "code",
        "colab": {}
      },
      "source": [
        "lr_model_2 = Pipeline(steps)"
      ],
      "execution_count": 0,
      "outputs": []
    },
    {
      "cell_type": "code",
      "metadata": {
        "id": "NrHAwglIGBh7",
        "colab_type": "code",
        "colab": {
          "base_uri": "https://localhost:8080/",
          "height": 176
        },
        "outputId": "ae7eab52-9bf7-4946-e5d1-1d18ba01d46c"
      },
      "source": [
        "lr_model_2.fit(train_X, train_y)"
      ],
      "execution_count": 14,
      "outputs": [
        {
          "output_type": "execute_result",
          "data": {
            "text/plain": [
              "Pipeline(memory=None,\n",
              "         steps=[('scaler', MinMaxScaler(copy=True, feature_range=(0, 1))),\n",
              "                ('poly',\n",
              "                 PolynomialFeatures(degree=3, include_bias=True,\n",
              "                                    interaction_only=False, order='C')),\n",
              "                ('lr',\n",
              "                 LinearRegression(copy_X=True, fit_intercept=True, n_jobs=None,\n",
              "                                  normalize=False))],\n",
              "         verbose=False)"
            ]
          },
          "metadata": {
            "tags": []
          },
          "execution_count": 14
        }
      ]
    },
    {
      "cell_type": "code",
      "metadata": {
        "id": "3BThavYlGBmF",
        "colab_type": "code",
        "colab": {
          "base_uri": "https://localhost:8080/",
          "height": 34
        },
        "outputId": "f1d6185b-f1c9-436d-c9b5-e71352c304a7"
      },
      "source": [
        "print('lr_model_2 R2 Score: {}'.format(lr_model_2.score(eval_X, eval_y)))"
      ],
      "execution_count": 15,
      "outputs": [
        {
          "output_type": "stream",
          "text": [
            "lr_model_2 R2 Score: 0.9443678654045208\n"
          ],
          "name": "stdout"
        }
      ]
    },
    {
      "cell_type": "code",
      "metadata": {
        "id": "hOBxGNFJGLVk",
        "colab_type": "code",
        "colab": {}
      },
      "source": [
        "lr_model_2_preds = lr_model_2.predict(eval_X)"
      ],
      "execution_count": 0,
      "outputs": []
    },
    {
      "cell_type": "code",
      "metadata": {
        "id": "2tR1ay7RGLYG",
        "colab_type": "code",
        "colab": {
          "base_uri": "https://localhost:8080/",
          "height": 34
        },
        "outputId": "5436fd9f-3193-4fcb-97b9-5ebfb09feeb1"
      },
      "source": [
        "print('lr_model_2 MSE: {}'.format(mean_squared_error(eval_y, lr_model_2_preds)))"
      ],
      "execution_count": 17,
      "outputs": [
        {
          "output_type": "stream",
          "text": [
            "lr_model_2 MSE: 16.271722632207666\n"
          ],
          "name": "stdout"
        }
      ]
    },
    {
      "cell_type": "code",
      "metadata": {
        "id": "QRfwmrXWGLbt",
        "colab_type": "code",
        "colab": {
          "base_uri": "https://localhost:8080/",
          "height": 176
        },
        "outputId": "71207a7a-ac02-401b-8e27-d5cddbf6aac8"
      },
      "source": [
        "print(lr_model_2[-1].coef_)"
      ],
      "execution_count": 18,
      "outputs": [
        {
          "output_type": "stream",
          "text": [
            "[ 7.72661789e-14 -1.77278028e+02 -4.60337188e+01 -1.60520675e+02\n",
            " -1.23076123e+02  6.23358210e+00  8.19655844e+00  1.45478576e+02\n",
            "  1.88658651e+02  2.43740192e+01  1.80553150e+02 -1.08058561e+02\n",
            "  1.09713294e+02  1.79121906e+02  1.06460596e+02  2.67290613e+01\n",
            "  7.79833654e+01  3.69241324e+01 -1.13863997e+02 -1.42673215e+02\n",
            " -9.69606773e+01  1.90706809e+02 -5.56429546e+01 -1.32595225e+02\n",
            " -9.41682917e+01  9.40112729e+01 -1.18732510e+02 -7.64871610e+01\n",
            " -4.18714081e+01  6.36772260e+01  4.42340977e+01 -3.81114691e+01\n",
            " -4.71547759e+01 -9.16797074e+01 -2.52346805e+01]\n"
          ],
          "name": "stdout"
        }
      ]
    },
    {
      "cell_type": "code",
      "metadata": {
        "id": "pB7Yu1s5GLaF",
        "colab_type": "code",
        "colab": {
          "base_uri": "https://localhost:8080/",
          "height": 34
        },
        "outputId": "24aab830-8686-41ed-d2bb-8904bff83124"
      },
      "source": [
        "print(len(lr_model_2[-1].coef_))"
      ],
      "execution_count": 19,
      "outputs": [
        {
          "output_type": "stream",
          "text": [
            "35\n"
          ],
          "name": "stdout"
        }
      ]
    },
    {
      "cell_type": "code",
      "metadata": {
        "id": "Nu7c331QGBop",
        "colab_type": "code",
        "colab": {}
      },
      "source": [
        "steps = [\n",
        "    ('scaler', MinMaxScaler()),\n",
        "    ('poly', PolynomialFeatures(degree=10)),\n",
        "    ('lr', LinearRegression())\n",
        "]"
      ],
      "execution_count": 0,
      "outputs": []
    },
    {
      "cell_type": "code",
      "metadata": {
        "id": "JRRwMo5OGci8",
        "colab_type": "code",
        "colab": {}
      },
      "source": [
        "lr_model_3 = Pipeline(steps)"
      ],
      "execution_count": 0,
      "outputs": []
    },
    {
      "cell_type": "code",
      "metadata": {
        "id": "1czRnwVwGclj",
        "colab_type": "code",
        "colab": {
          "base_uri": "https://localhost:8080/",
          "height": 176
        },
        "outputId": "eef868d7-4654-4e11-e561-ba25f67600e3"
      },
      "source": [
        "lr_model_3.fit(train_X, train_y)"
      ],
      "execution_count": 22,
      "outputs": [
        {
          "output_type": "execute_result",
          "data": {
            "text/plain": [
              "Pipeline(memory=None,\n",
              "         steps=[('scaler', MinMaxScaler(copy=True, feature_range=(0, 1))),\n",
              "                ('poly',\n",
              "                 PolynomialFeatures(degree=10, include_bias=True,\n",
              "                                    interaction_only=False, order='C')),\n",
              "                ('lr',\n",
              "                 LinearRegression(copy_X=True, fit_intercept=True, n_jobs=None,\n",
              "                                  normalize=False))],\n",
              "         verbose=False)"
            ]
          },
          "metadata": {
            "tags": []
          },
          "execution_count": 22
        }
      ]
    },
    {
      "cell_type": "code",
      "metadata": {
        "id": "zJQhZ2l_GcoJ",
        "colab_type": "code",
        "colab": {
          "base_uri": "https://localhost:8080/",
          "height": 34
        },
        "outputId": "3c7ba2dc-be1b-404d-c93d-ac14e984fd33"
      },
      "source": [
        "print('lr_model_3 R2 Score: {}'.format(lr_model_3.score(eval_X, eval_y)))"
      ],
      "execution_count": 23,
      "outputs": [
        {
          "output_type": "stream",
          "text": [
            "lr_model_3 R2 Score: 0.5683459493202576\n"
          ],
          "name": "stdout"
        }
      ]
    },
    {
      "cell_type": "code",
      "metadata": {
        "id": "jr7UjMoSGBrK",
        "colab_type": "code",
        "colab": {}
      },
      "source": [
        "lr_model_3_preds = lr_model_3.predict(eval_X)"
      ],
      "execution_count": 0,
      "outputs": []
    },
    {
      "cell_type": "code",
      "metadata": {
        "id": "wZXk_HTcGlEN",
        "colab_type": "code",
        "colab": {
          "base_uri": "https://localhost:8080/",
          "height": 34
        },
        "outputId": "5830fc47-0130-47d7-d4e9-aa1463e30e5c"
      },
      "source": [
        "print('lr_model_3 MSE: {}'.format(mean_squared_error(eval_y, lr_model_3_preds)))"
      ],
      "execution_count": 25,
      "outputs": [
        {
          "output_type": "stream",
          "text": [
            "lr_model_3 MSE: 126.25355896914343\n"
          ],
          "name": "stdout"
        }
      ]
    },
    {
      "cell_type": "code",
      "metadata": {
        "id": "OtpVagi3GlIU",
        "colab_type": "code",
        "colab": {
          "base_uri": "https://localhost:8080/",
          "height": 34
        },
        "outputId": "fda45a4c-6470-4b33-e302-13a636f82b2f"
      },
      "source": [
        "print(len(lr_model_3[-1].coef_))"
      ],
      "execution_count": 26,
      "outputs": [
        {
          "output_type": "stream",
          "text": [
            "1001\n"
          ],
          "name": "stdout"
        }
      ]
    },
    {
      "cell_type": "code",
      "metadata": {
        "id": "NKtIoCzMGlKx",
        "colab_type": "code",
        "colab": {
          "base_uri": "https://localhost:8080/",
          "height": 176
        },
        "outputId": "8b1667fc-ac14-4a8a-af29-747947d0b3e0"
      },
      "source": [
        "print(lr_model_3[-1].coef_[:35])"
      ],
      "execution_count": 27,
      "outputs": [
        {
          "output_type": "stream",
          "text": [
            "[ 3.92417572e+05 -6.90884957e+07 -4.12728037e+07  2.27928559e+07\n",
            " -4.76788092e+07  2.96663457e+08  2.73267484e+08  1.07844757e+08\n",
            "  3.73718995e+08  8.79698968e+07 -2.35367959e+07  2.46251982e+08\n",
            " -2.61104947e+08  1.86087661e+07  1.41131196e+08 -6.53886924e+08\n",
            " -8.90633353e+08 -1.06074814e+09 -1.29264510e+09 -4.28435046e+08\n",
            "  5.31626843e+07 -1.30408977e+09  4.41024830e+08 -8.86228713e+08\n",
            " -8.78160515e+08 -1.97377311e+06 -5.39375259e+08 -3.68352714e+08\n",
            "  9.82113559e+08 -2.76718687e+08 -6.28824872e+08  8.14257203e+08\n",
            "  5.43205856e+08 -2.03045074e+08 -2.42929048e+08]\n"
          ],
          "name": "stdout"
        }
      ]
    },
    {
      "cell_type": "code",
      "metadata": {
        "id": "0FxKdpRtGlM0",
        "colab_type": "code",
        "colab": {}
      },
      "source": [
        "steps = [\n",
        "    ('scaler', MinMaxScaler()),\n",
        "    ('poly', PolynomialFeatures(degree=10)),\n",
        "    ('lr', Lasso(alpha=0.01))\n",
        "]"
      ],
      "execution_count": 0,
      "outputs": []
    },
    {
      "cell_type": "code",
      "metadata": {
        "id": "H5e8FK9HGuQC",
        "colab_type": "code",
        "colab": {}
      },
      "source": [
        "lasso_model = Pipeline(steps)"
      ],
      "execution_count": 0,
      "outputs": []
    },
    {
      "cell_type": "code",
      "metadata": {
        "id": "MGrvOP9mGuSk",
        "colab_type": "code",
        "colab": {
          "base_uri": "https://localhost:8080/",
          "height": 212
        },
        "outputId": "e915b79c-0f60-4f42-c54d-6ef103be4473"
      },
      "source": [
        "lasso_model.fit(train_X, train_y)"
      ],
      "execution_count": 30,
      "outputs": [
        {
          "output_type": "execute_result",
          "data": {
            "text/plain": [
              "Pipeline(memory=None,\n",
              "         steps=[('scaler', MinMaxScaler(copy=True, feature_range=(0, 1))),\n",
              "                ('poly',\n",
              "                 PolynomialFeatures(degree=10, include_bias=True,\n",
              "                                    interaction_only=False, order='C')),\n",
              "                ('lr',\n",
              "                 Lasso(alpha=0.01, copy_X=True, fit_intercept=True,\n",
              "                       max_iter=1000, normalize=False, positive=False,\n",
              "                       precompute=False, random_state=None, selection='cyclic',\n",
              "                       tol=0.0001, warm_start=False))],\n",
              "         verbose=False)"
            ]
          },
          "metadata": {
            "tags": []
          },
          "execution_count": 30
        }
      ]
    },
    {
      "cell_type": "code",
      "metadata": {
        "id": "ES7WjV0LGuUp",
        "colab_type": "code",
        "colab": {
          "base_uri": "https://localhost:8080/",
          "height": 34
        },
        "outputId": "809c854a-5631-4c80-eef3-db6ce6f24c91"
      },
      "source": [
        "print('lasso_model R2 Score: {}'.format(lasso_model.score(eval_X, eval_y)))"
      ],
      "execution_count": 31,
      "outputs": [
        {
          "output_type": "stream",
          "text": [
            "lasso_model R2 Score: 0.9418109161488483\n"
          ],
          "name": "stdout"
        }
      ]
    },
    {
      "cell_type": "code",
      "metadata": {
        "id": "XdrQj4pFG0yu",
        "colab_type": "code",
        "colab": {}
      },
      "source": [
        "lasso_preds = lasso_model.predict(eval_X)"
      ],
      "execution_count": 0,
      "outputs": []
    },
    {
      "cell_type": "code",
      "metadata": {
        "id": "HitTljFlG00-",
        "colab_type": "code",
        "colab": {
          "base_uri": "https://localhost:8080/",
          "height": 34
        },
        "outputId": "3455fb67-6bc9-4186-92f2-8d44d4a59d0c"
      },
      "source": [
        "print('lasso_model MSE: {}'.format(mean_squared_error(eval_y, lasso_preds)))"
      ],
      "execution_count": 33,
      "outputs": [
        {
          "output_type": "stream",
          "text": [
            "lasso_model MSE: 17.019599185488644\n"
          ],
          "name": "stdout"
        }
      ]
    },
    {
      "cell_type": "code",
      "metadata": {
        "id": "SdW1qDZIG03T",
        "colab_type": "code",
        "colab": {
          "base_uri": "https://localhost:8080/",
          "height": 34
        },
        "outputId": "e1d98ee3-ade0-453b-9ce4-f344784f10d0"
      },
      "source": [
        "print(len(lasso_model[-1].coef_))"
      ],
      "execution_count": 34,
      "outputs": [
        {
          "output_type": "stream",
          "text": [
            "1001\n"
          ],
          "name": "stdout"
        }
      ]
    },
    {
      "cell_type": "code",
      "metadata": {
        "id": "wuaBiNYCG05Q",
        "colab_type": "code",
        "colab": {
          "base_uri": "https://localhost:8080/",
          "height": 141
        },
        "outputId": "8e515ac3-c72d-4102-8463-ae913d5788d9"
      },
      "source": [
        "print(lasso_model[-1].coef_[:35])"
      ],
      "execution_count": 35,
      "outputs": [
        {
          "output_type": "stream",
          "text": [
            "[  0.         -69.23283545 -12.97913161   5.59999369  -0.\n",
            "   0.          -0.           0.          -0.71670158  -0.53479946\n",
            "   0.          -1.25577296   0.          -0.          -0.\n",
            "   0.           0.           0.          -0.           0.\n",
            "   0.          -0.           0.          -0.          -9.10662876\n",
            "  -0.           0.          -0.           0.          -0.\n",
            "  -3.04193695  -0.          -0.          -0.          -0.        ]\n"
          ],
          "name": "stdout"
        }
      ]
    },
    {
      "cell_type": "code",
      "metadata": {
        "id": "ymkLViY-GBtQ",
        "colab_type": "code",
        "colab": {}
      },
      "source": [
        ""
      ],
      "execution_count": 0,
      "outputs": []
    }
  ]
}