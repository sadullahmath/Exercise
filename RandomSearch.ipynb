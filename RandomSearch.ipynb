{
  "nbformat": 4,
  "nbformat_minor": 0,
  "metadata": {
    "colab": {
      "name": "RandomSearch.ipynb",
      "provenance": [],
      "authorship_tag": "ABX9TyNljIqaA+bDLrA1nlmTKTNn",
      "include_colab_link": true
    },
    "kernelspec": {
      "name": "python3",
      "display_name": "Python 3"
    }
  },
  "cells": [
    {
      "cell_type": "markdown",
      "metadata": {
        "id": "view-in-github",
        "colab_type": "text"
      },
      "source": [
        "<a href=\"https://colab.research.google.com/github/sadullahmath/Exercise/blob/master/RandomSearch.ipynb\" target=\"_parent\"><img src=\"https://colab.research.google.com/assets/colab-badge.svg\" alt=\"Open In Colab\"/></a>"
      ]
    },
    {
      "cell_type": "markdown",
      "metadata": {
        "id": "4Ff3VuIeZvmy",
        "colab_type": "text"
      },
      "source": [
        "# Random Search\n",
        "Instead of searching through every hyperparameterizations in a pre-defined set, as is the case with a grid search, in a random search we sample from a distribution of possibilities by assuming each hyperparameter to be a random variable. Before we go through the process in depth, it will be helpful to briefly review what random variables are and what we mean by a distribution.\n",
        "\n",
        "## Random Variables and Their Distributions\n",
        "A random variable is non-constant (its value can change) and its variability can be described in terms of distribution. There are many different types of distributions, but each falls into one of two broad categories: discrete and continuous. We use discrete distributions to describe random variables whose values can take only whole numbers, such as counts.\n",
        "\n",
        "An example is the count of visitors to a theme park in a day, or the number of attempted shots it takes a golfer to get a hole-in-one.\n",
        "\n",
        "We use continuous distributions to describe random variables whose values lie along a continuum made up of infinitely small increments. Examples include human height or weight, or outside air temperature. Distributions often have parameters that control their shape.\n",
        "\n",
        "Discrete distributions can be described mathematically using what's called a probability mass function, which defines the exact probability of the random variable taking a certain value. Common notation for the left-hand side of this function is P(X=x), which in plain English means that the probability that the random variable X equals a certain value x is P. Remember that probabilities range between 0 (impossible) and 1 (certain).\n",
        "\n",
        "By definition, the summation of each P(X=x) for all possible x's will be equal to 1, or if expressed another way, the probability that X will take any value is 1. A simple example of this kind of distribution is the discrete uniform distribution, where the random variable X will take only one of a finite range of values and the probability it taking any particular value is the same for all values, hence the term uniform.\n",
        "\n",
        "For example, if there are 10 possible values the probability that X is any particular value is exactly 1/10. If there were 6 possible values, as in the case of a standard 6-sided dice, the probability would be 1/6, and so on. The probability mass function for the discrete uniform distribution is:\n",
        "Figure 8.15: Probability mass function for the discrete uniform distribution \n",
        "P(X=x)= 1/n  \n",
        "\n",
        "The following code will allow us to see the form of this distribution with 10 possible values of X.\n",
        "\n",
        "First, we create a list of all the possible values X can take:"
      ]
    },
    {
      "cell_type": "code",
      "metadata": {
        "id": "BOdzsuJIZvs_",
        "colab_type": "code",
        "colab": {
          "base_uri": "https://localhost:8080/",
          "height": 34
        },
        "outputId": "502008b6-2ed4-4c4e-a43b-413b870aa965"
      },
      "source": [
        "# list of all xs\n",
        "X = list(range(1, 11))\n",
        "\n",
        "print(X)"
      ],
      "execution_count": 1,
      "outputs": [
        {
          "output_type": "stream",
          "text": [
            "[1, 2, 3, 4, 5, 6, 7, 8, 9, 10]\n"
          ],
          "name": "stdout"
        }
      ]
    },
    {
      "cell_type": "code",
      "metadata": {
        "id": "G018QjIDZvvm",
        "colab_type": "code",
        "colab": {
          "base_uri": "https://localhost:8080/",
          "height": 34
        },
        "outputId": "b74e2a73-acd8-4915-efa0-72a06bae65f5"
      },
      "source": [
        "# pmf, 1/n * n = 1\n",
        "p_X_x = [1/len(X)] * len(X)\n",
        "\n",
        "# sums to 1\n",
        "print(p_X_x)"
      ],
      "execution_count": 2,
      "outputs": [
        {
          "output_type": "stream",
          "text": [
            "[0.1, 0.1, 0.1, 0.1, 0.1, 0.1, 0.1, 0.1, 0.1, 0.1]\n"
          ],
          "name": "stdout"
        }
      ]
    },
    {
      "cell_type": "code",
      "metadata": {
        "id": "1uTaT_L4ZvyE",
        "colab_type": "code",
        "colab": {
          "base_uri": "https://localhost:8080/",
          "height": 296
        },
        "outputId": "f575cdbd-8e9d-49d5-d50d-1a32a74c119e"
      },
      "source": [
        "import matplotlib.pyplot as plt\n",
        "plt.bar(X, p_X_x)\n",
        "plt.xlabel('X')\n",
        "plt.ylabel('P(X=x)')"
      ],
      "execution_count": 3,
      "outputs": [
        {
          "output_type": "execute_result",
          "data": {
            "text/plain": [
              "Text(0, 0.5, 'P(X=x)')"
            ]
          },
          "metadata": {
            "tags": []
          },
          "execution_count": 3
        },
        {
          "output_type": "display_data",
          "data": {
            "image/png": "[encoded data removed]",
            "text/plain": [
              "<Figure size 432x288 with 1 Axes>"
            ]
          },
          "metadata": {
            "tags": [],
            "needs_background": "light"
          }
        }
      ]
    },
    {
      "cell_type": "code",
      "metadata": {
        "id": "ESwdeBMAZv0Y",
        "colab_type": "code",
        "colab": {}
      },
      "source": [
        "import numpy as np\n",
        "\n",
        "# range of xs\n",
        "x = np.linspace(-10, 10, 100)"
      ],
      "execution_count": 0,
      "outputs": []
    },
    {
      "cell_type": "code",
      "metadata": {
        "id": "qtRPdpQFaLcP",
        "colab_type": "code",
        "colab": {}
      },
      "source": [
        "import scipy.stats as stats\n",
        "\n",
        "# first normal distribution with mean = 0, variance = 1\n",
        "p_X_1 = stats.norm.pdf(x=x, loc=0.0, scale=1.0**2)\n",
        "\n",
        "# second normal distribution with mean = 0, variance = 2.25\n",
        "p_X_2 = stats.norm.pdf(x=x, loc=0.0, scale=1.5**2)"
      ],
      "execution_count": 0,
      "outputs": []
    },
    {
      "cell_type": "code",
      "metadata": {
        "id": "g9jAlQt1aLfM",
        "colab_type": "code",
        "colab": {
          "base_uri": "https://localhost:8080/",
          "height": 296
        },
        "outputId": "b52723ef-b98f-4aa4-daa8-68b21b87b0e2"
      },
      "source": [
        "plt.plot(x,p_X_1, color='blue')\n",
        "plt.plot(x, p_X_2, color='orange')\n",
        "plt.xlabel('X')\n",
        "plt.ylabel('P(X)')"
      ],
      "execution_count": 6,
      "outputs": [
        {
          "output_type": "execute_result",
          "data": {
            "text/plain": [
              "Text(0, 0.5, 'P(X)')"
            ]
          },
          "metadata": {
            "tags": []
          },
          "execution_count": 6
        },
        {
          "output_type": "display_data",
          "data": {
            "image/png": "[encoded data removed]",
            "text/plain": [
              "<Figure size 432x288 with 1 Axes>"
            ]
          },
          "metadata": {
            "tags": [],
            "needs_background": "light"
          }
        }
      ]
    },
    {
      "cell_type": "markdown",
      "metadata": {
        "id": "ORNXVpvebFrE",
        "colab_type": "text"
      },
      "source": [
        "#Simple Demonstration of the Random Search Process"
      ]
    },
    {
      "cell_type": "code",
      "metadata": {
        "id": "OO1-WBnCaLg9",
        "colab_type": "code",
        "colab": {}
      },
      "source": [
        "from sklearn import datasets, linear_model, model_selection\n",
        "\n",
        "# load the data\n",
        "diabetes = datasets.load_diabetes()\n",
        "\n",
        "# target\n",
        "y = diabetes.target\n",
        "\n",
        "# features\n",
        "X = diabetes.data"
      ],
      "execution_count": 0,
      "outputs": []
    },
    {
      "cell_type": "code",
      "metadata": {
        "id": "Eg4aNqePZv2F",
        "colab_type": "code",
        "colab": {
          "base_uri": "https://localhost:8080/",
          "height": 34
        },
        "outputId": "c033f683-ef11-4caa-e2aa-e0cbc75258d7"
      },
      "source": [
        "# the first patient has index 0\n",
        "print(y[0])"
      ],
      "execution_count": 10,
      "outputs": [
        {
          "output_type": "stream",
          "text": [
            "151.0\n"
          ],
          "name": "stdout"
        }
      ]
    },
    {
      "cell_type": "code",
      "metadata": {
        "id": "D_uhvicMabH7",
        "colab_type": "code",
        "colab": {
          "base_uri": "https://localhost:8080/",
          "height": 54
        },
        "outputId": "c729f22d-85e6-4b1a-8026-0a679d6ba581"
      },
      "source": [
        "# let's look at the first patients data\n",
        "print(\n",
        "  dict(zip(diabetes.feature_names, X[0]))\n",
        ")"
      ],
      "execution_count": 11,
      "outputs": [
        {
          "output_type": "stream",
          "text": [
            "{'age': 0.0380759064334241, 'sex': 0.0506801187398187, 'bmi': 0.0616962065186885, 'bp': 0.0218723549949558, 's1': -0.0442234984244464, 's2': -0.0348207628376986, 's3': -0.0434008456520269, 's4': -0.00259226199818282, 's5': 0.0199084208763183, 's6': -0.0176461251598052}\n"
          ],
          "name": "stdout"
        }
      ]
    },
    {
      "cell_type": "code",
      "metadata": {
        "id": "QigcHkZeabKY",
        "colab_type": "code",
        "colab": {
          "base_uri": "https://localhost:8080/",
          "height": 296
        },
        "outputId": "746f1e40-9087-42d1-b526-6896b5de89aa"
      },
      "source": [
        "import numpy as np\n",
        "from scipy import stats\n",
        "import matplotlib.pyplot as plt\n",
        "\n",
        "# values of alpha\n",
        "x = np.linspace(1, 20, 100)\n",
        "\n",
        "# probabilities\n",
        "p_X = stats.gamma.pdf(x=x, a=1, loc=1, scale=2)\n",
        "\n",
        "plt.plot(x,p_X)\n",
        "plt.xlabel('alpha')\n",
        "plt.ylabel('P(alpha)')"
      ],
      "execution_count": 12,
      "outputs": [
        {
          "output_type": "execute_result",
          "data": {
            "text/plain": [
              "Text(0, 0.5, 'P(alpha)')"
            ]
          },
          "metadata": {
            "tags": []
          },
          "execution_count": 12
        },
        {
          "output_type": "display_data",
          "data": {
            "image/png": "[encoded data removed]",
            "text/plain": [
              "<Figure size 432x288 with 1 Axes>"
            ]
          },
          "metadata": {
            "tags": [],
            "needs_background": "light"
          }
        }
      ]
    },
    {
      "cell_type": "code",
      "metadata": {
        "id": "IK7CpnjmabMW",
        "colab_type": "code",
        "colab": {}
      },
      "source": [
        "# n sample values\n",
        "n_iter = 100\n",
        "\n",
        "# sample from the gamma distribution\n",
        "samples = stats.gamma.rvs(a=1, loc=1, scale=2, size=n_iter, random_state=100)"
      ],
      "execution_count": 0,
      "outputs": []
    },
    {
      "cell_type": "code",
      "metadata": {
        "id": "7nNEbTR9abOc",
        "colab_type": "code",
        "colab": {
          "base_uri": "https://localhost:8080/",
          "height": 296
        },
        "outputId": "4f8a8c72-e549-4cba-b64f-fcb8000b22e9"
      },
      "source": [
        "# visualize the sample distribution\n",
        "plt.hist(samples)\n",
        "plt.xlabel('alpha')\n",
        "plt.ylabel('sample count')"
      ],
      "execution_count": 14,
      "outputs": [
        {
          "output_type": "execute_result",
          "data": {
            "text/plain": [
              "Text(0, 0.5, 'sample count')"
            ]
          },
          "metadata": {
            "tags": []
          },
          "execution_count": 14
        },
        {
          "output_type": "display_data",
          "data": {
            "image/png": "[encoded data removed]",
            "text/plain": [
              "<Figure size 432x288 with 1 Axes>"
            ]
          },
          "metadata": {
            "tags": [],
            "needs_background": "light"
          }
        }
      ]
    },
    {
      "cell_type": "code",
      "metadata": {
        "id": "LOUef-wmak9z",
        "colab_type": "code",
        "colab": {}
      },
      "source": [
        "# we will store the results inside a dictionary\n",
        "result = {}\n",
        "\n",
        "# for each sample\n",
        "for sample in samples:\n",
        "\n",
        "  # initialize a ridge regression estimator with alpha set to the sample value\n",
        "  reg = linear_model.Ridge(alpha=sample)\n",
        "\n",
        "  # conduct a 10-fold cross validation scoring on negative mean squared error\n",
        "  cv = model_selection.cross_val_score(reg, X, y, cv=10, scoring='neg_mean_squared_error')\n",
        "\n",
        "  # retain the result in the dictionary\n",
        "  result[sample] = [cv.mean()]"
      ],
      "execution_count": 0,
      "outputs": []
    },
    {
      "cell_type": "code",
      "metadata": {
        "id": "ZiDBlAiSalAF",
        "colab_type": "code",
        "colab": {
          "base_uri": "https://localhost:8080/",
          "height": 123
        },
        "outputId": "f798d830-02ac-453a-d96c-5cdc1b49ab0a"
      },
      "source": [
        "import pandas as pd\n",
        "\n",
        "# convert the result dictionary to a pandas dataframe, transpose and reset the index\n",
        "df_result = pd.DataFrame(result).T.reset_index()\n",
        "\n",
        "# give the columns sensible names\n",
        "df_result.columns = ['alpha', 'mean_neg_mean_squared_error']\n",
        "\n",
        "print(df_result.sort_values('mean_neg_mean_squared_error', ascending=False).head())"
      ],
      "execution_count": 16,
      "outputs": [
        {
          "output_type": "stream",
          "text": [
            "       alpha  mean_neg_mean_squared_error\n",
            "4   1.009460                 -3368.572167\n",
            "26  1.011409                 -3369.403727\n",
            "29  1.030745                 -3377.629026\n",
            "43  1.041302                 -3382.102466\n",
            "34  1.074316                 -3396.012056\n"
          ],
          "name": "stdout"
        }
      ]
    },
    {
      "cell_type": "code",
      "metadata": {
        "id": "S3QM8l9-alCY",
        "colab_type": "code",
        "colab": {
          "base_uri": "https://localhost:8080/",
          "height": 296
        },
        "outputId": "cd1ff867-acca-4028-85a4-091347c3f1aa"
      },
      "source": [
        "plt.scatter(df_result.alpha, df_result.mean_neg_mean_squared_error)\n",
        "plt.xlabel('alpha')\n",
        "plt.ylabel('-MSE')"
      ],
      "execution_count": 17,
      "outputs": [
        {
          "output_type": "execute_result",
          "data": {
            "text/plain": [
              "Text(0, 0.5, '-MSE')"
            ]
          },
          "metadata": {
            "tags": []
          },
          "execution_count": 17
        },
        {
          "output_type": "display_data",
          "data": {
            "image/png": "[encoded data removed]",
            "text/plain": [
              "<Figure size 432x288 with 1 Axes>"
            ]
          },
          "metadata": {
            "tags": [],
            "needs_background": "light"
          }
        }
      ]
    },
    {
      "cell_type": "markdown",
      "metadata": {
        "id": "UMhJYfdQausi",
        "colab_type": "text"
      },
      "source": [
        "# Tuning Using RandomizedSearchCV"
      ]
    },
    {
      "cell_type": "code",
      "metadata": {
        "id": "_UX-ybUrawt7",
        "colab_type": "code",
        "colab": {}
      },
      "source": [
        "from sklearn import datasets, model_selection, linear_model\n",
        "\n",
        "# load the data\n",
        "diabetes = datasets.load_diabetes()\n",
        "\n",
        "# target\n",
        "y = diabetes.target\n",
        "\n",
        "# features\n",
        "X = diabetes.data\n",
        "\n",
        "# initialise the ridge regression\n",
        "reg = linear_model.Ridge()"
      ],
      "execution_count": 0,
      "outputs": []
    },
    {
      "cell_type": "code",
      "metadata": {
        "id": "Lu9gtrywawwN",
        "colab_type": "code",
        "colab": {}
      },
      "source": [
        "from scipy import stats\n",
        "\n",
        "# alpha ~ gamma(1,1)\n",
        "param_dist = {'alpha': stats.gamma(a=1, loc=1, scale=2)}"
      ],
      "execution_count": 0,
      "outputs": []
    },
    {
      "cell_type": "code",
      "metadata": {
        "id": "CskvCCiQawzE",
        "colab_type": "code",
        "colab": {
          "base_uri": "https://localhost:8080/",
          "height": 194
        },
        "outputId": "3cc71e5d-d24b-4b70-f096-68e8408e955d"
      },
      "source": [
        "# set up the random search to sample 100 values and score on negative mean squared error\n",
        "rscv = model_selection.RandomizedSearchCV(estimator=reg, param_distributions=param_dist, n_iter=100, scoring='neg_mean_squared_error')\n",
        "\n",
        "# start the search\n",
        "rscv.fit(X,y)"
      ],
      "execution_count": 20,
      "outputs": [
        {
          "output_type": "execute_result",
          "data": {
            "text/plain": [
              "RandomizedSearchCV(cv=None, error_score=nan,\n",
              "                   estimator=Ridge(alpha=1.0, copy_X=True, fit_intercept=True,\n",
              "                                   max_iter=None, normalize=False,\n",
              "                                   random_state=None, solver='auto',\n",
              "                                   tol=0.001),\n",
              "                   iid='deprecated', n_iter=100, n_jobs=None,\n",
              "                   param_distributions={'alpha': <scipy.stats._distn_infrastructure.rv_frozen object at 0x7fb67e693320>},\n",
              "                   pre_dispatch='2*n_jobs', random_state=None, refit=True,\n",
              "                   return_train_score=False, scoring='neg_mean_squared_error',\n",
              "                   verbose=0)"
            ]
          },
          "metadata": {
            "tags": []
          },
          "execution_count": 20
        }
      ]
    },
    {
      "cell_type": "code",
      "metadata": {
        "id": "KY04skMna4uT",
        "colab_type": "code",
        "colab": {
          "base_uri": "https://localhost:8080/",
          "height": 123
        },
        "outputId": "66b07f1b-2da9-4c3b-e0c7-e9636b84e42a"
      },
      "source": [
        "import pandas as pd\n",
        "\n",
        "# convert the results dictionary to a pandas data frame\n",
        "results = pd.DataFrame(rscv.cv_results_)\n",
        "\n",
        "# show the top 5 hyperparamaterizations\n",
        "print(results.loc[:,['params','rank_test_score']].sort_values('rank_test_score').head(5))"
      ],
      "execution_count": 21,
      "outputs": [
        {
          "output_type": "stream",
          "text": [
            "                           params  rank_test_score\n",
            "62  {'alpha': 1.0084495928006991}                1\n",
            "58    {'alpha': 1.03909744356857}                2\n",
            "45  {'alpha': 1.0438111449009713}                3\n",
            "76   {'alpha': 1.059564459314748}                4\n",
            "20  {'alpha': 1.0600386160325233}                5\n"
          ],
          "name": "stdout"
        }
      ]
    },
    {
      "cell_type": "code",
      "metadata": {
        "id": "pDju2dXta4xC",
        "colab_type": "code",
        "colab": {}
      },
      "source": [
        ""
      ],
      "execution_count": 0,
      "outputs": []
    }
  ]
}