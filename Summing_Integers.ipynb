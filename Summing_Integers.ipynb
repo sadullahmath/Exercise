{
  "nbformat": 4,
  "nbformat_minor": 0,
  "metadata": {
    "colab": {
      "name": "Summing Integers.ipynb",
      "provenance": [],
      "authorship_tag": "ABX9TyM+WlLuweTb1LMvcl/n5Atf",
      "include_colab_link": true
    },
    "kernelspec": {
      "name": "python3",
      "display_name": "Python 3"
    }
  },
  "cells": [
    {
      "cell_type": "markdown",
      "metadata": {
        "id": "view-in-github",
        "colab_type": "text"
      },
      "source": [
        "<a href=\"https://colab.research.google.com/github/sadullahmath/Exercise/blob/master/Summing_Integers.ipynb\" target=\"_parent\"><img src=\"https://colab.research.google.com/assets/colab-badge.svg\" alt=\"Open In Colab\"/></a>"
      ]
    },
    {
      "cell_type": "markdown",
      "metadata": {
        "id": "xpurNroB9o3x",
        "colab_type": "text"
      },
      "source": [
        "## Summing Integers"
      ]
    },
    {
      "cell_type": "code",
      "metadata": {
        "id": "0IRmvE-P9qTA",
        "colab_type": "code",
        "colab": {}
      },
      "source": [
        "stored_results = {}\n",
        "def sum_to_n(n):\n",
        "    result = 0\n",
        "    for i in reversed(range(n)):\n",
        "        result += i + 1\n",
        "    stored_results[n] = result\n",
        "    return result"
      ],
      "execution_count": 0,
      "outputs": []
    },
    {
      "cell_type": "code",
      "metadata": {
        "id": "hHuXGICs9qVY",
        "colab_type": "code",
        "colab": {
          "base_uri": "https://localhost:8080/",
          "height": 34
        },
        "outputId": "151bfaa4-c717-4be0-df5d-3f64da78fa09"
      },
      "source": [
        "sum_to_n(5)"
      ],
      "execution_count": 3,
      "outputs": [
        {
          "output_type": "execute_result",
          "data": {
            "text/plain": [
              "15"
            ]
          },
          "metadata": {
            "tags": []
          },
          "execution_count": 3
        }
      ]
    },
    {
      "cell_type": "code",
      "metadata": {
        "id": "AbM4WuNO9qXm",
        "colab_type": "code",
        "colab": {}
      },
      "source": [
        "stored_results = {}\n",
        "def sum_to_n(n):\n",
        "    result = 0\n",
        "    for i in reversed(range(n)):\n",
        "        if i + 1 in stored_results:\n",
        "            print('Stopping sum at %s because we have previously computed it' % str(i + 1))\n",
        "            result += stored_results[i + 1]\n",
        "            break\n",
        "        else:\n",
        "            result += i + 1\n",
        "    stored_results[n] = result\n",
        "    return result"
      ],
      "execution_count": 0,
      "outputs": []
    },
    {
      "cell_type": "code",
      "metadata": {
        "id": "i9BZaDS-95dM",
        "colab_type": "code",
        "colab": {
          "base_uri": "https://localhost:8080/",
          "height": 34
        },
        "outputId": "ef80a012-bc20-4a8a-de85-eca0da45334f"
      },
      "source": [
        "sum_to_n(6)"
      ],
      "execution_count": 5,
      "outputs": [
        {
          "output_type": "execute_result",
          "data": {
            "text/plain": [
              "21"
            ]
          },
          "metadata": {
            "tags": []
          },
          "execution_count": 5
        }
      ]
    }
  ]
}