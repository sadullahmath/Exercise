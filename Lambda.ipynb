{
  "nbformat": 4,
  "nbformat_minor": 0,
  "metadata": {
    "colab": {
      "name": "Lambda.ipynb",
      "provenance": [],
      "authorship_tag": "ABX9TyOvfvnaBUlIoYqqY4Zwkkvj",
      "include_colab_link": true
    },
    "kernelspec": {
      "name": "python3",
      "display_name": "Python 3"
    }
  },
  "cells": [
    {
      "cell_type": "markdown",
      "metadata": {
        "id": "view-in-github",
        "colab_type": "text"
      },
      "source": [
        "<a href=\"https://colab.research.google.com/github/sadullahmath/Exercise/blob/master/Lambda.ipynb\" target=\"_parent\"><img src=\"https://colab.research.google.com/assets/colab-badge.svg\" alt=\"Open In Colab\"/></a>"
      ]
    },
    {
      "cell_type": "code",
      "metadata": {
        "id": "aW_nX543DUqH",
        "colab_type": "code",
        "colab": {
          "base_uri": "https://localhost:8080/",
          "height": 34
        },
        "outputId": "dd8f1b9f-31b8-4d28-a665-4a3a6718f7a3"
      },
      "source": [
        "def add_up(x, y):\n",
        "    return x + y\n",
        "print(add_up(2, 5))"
      ],
      "execution_count": 1,
      "outputs": [
        {
          "output_type": "stream",
          "text": [
            "7\n"
          ],
          "name": "stdout"
        }
      ]
    },
    {
      "cell_type": "code",
      "metadata": {
        "id": "h835BXbnDbvy",
        "colab_type": "code",
        "colab": {
          "base_uri": "https://localhost:8080/",
          "height": 34
        },
        "outputId": "a28a4f98-97cc-4fad-f7e8-a5bc2b690216"
      },
      "source": [
        "add_up = lambda x, y: x + y\n",
        "print(add_up(2, 5))"
      ],
      "execution_count": 2,
      "outputs": [
        {
          "output_type": "stream",
          "text": [
            "7\n"
          ],
          "name": "stdout"
        }
      ]
    },
    {
      "cell_type": "markdown",
      "metadata": {
        "id": "zTeFMjTODiW_",
        "colab_type": "text"
      },
      "source": [
        " The First Item in a List"
      ]
    },
    {
      "cell_type": "code",
      "metadata": {
        "id": "0YGT2GomDj6I",
        "colab_type": "code",
        "colab": {}
      },
      "source": [
        "first_item = lambda my_list: my_list[0]"
      ],
      "execution_count": 0,
      "outputs": []
    },
    {
      "cell_type": "code",
      "metadata": {
        "id": "KaoIYTF5DnCy",
        "colab_type": "code",
        "colab": {
          "base_uri": "https://localhost:8080/",
          "height": 34
        },
        "outputId": "5f2412c2-1b1d-4cfb-e077-b31f31aad4c9"
      },
      "source": [
        "first_item(['cat', 'dog', 'mouse'])"
      ],
      "execution_count": 4,
      "outputs": [
        {
          "output_type": "execute_result",
          "data": {
            "text/plain": [
              "'cat'"
            ]
          },
          "metadata": {
            "tags": []
          },
          "execution_count": 4
        }
      ]
    },
    {
      "cell_type": "markdown",
      "metadata": {
        "id": "rzyKxu8wDvGQ",
        "colab_type": "text"
      },
      "source": [
        "##Mapping with Lambda Functions"
      ]
    },
    {
      "cell_type": "code",
      "metadata": {
        "id": "0fx0lG_BDw1p",
        "colab_type": "code",
        "colab": {}
      },
      "source": [
        "names = ['Magda', 'Jose', 'Anne']"
      ],
      "execution_count": 0,
      "outputs": []
    },
    {
      "cell_type": "code",
      "metadata": {
        "id": "uCFSsedgDw5Q",
        "colab_type": "code",
        "colab": {}
      },
      "source": [
        "lengths = []\n",
        "for name in names:\n",
        "    lengths.append(len(name))"
      ],
      "execution_count": 0,
      "outputs": []
    },
    {
      "cell_type": "code",
      "metadata": {
        "id": "PQCKN8OjDw7k",
        "colab_type": "code",
        "colab": {}
      },
      "source": [
        "lengths = list(map(len, names))"
      ],
      "execution_count": 0,
      "outputs": []
    },
    {
      "cell_type": "code",
      "metadata": {
        "id": "MWlW9F6aD537",
        "colab_type": "code",
        "colab": {
          "base_uri": "https://localhost:8080/",
          "height": 34
        },
        "outputId": "23a830c0-99d5-4ae3-fb74-26dc09b053cc"
      },
      "source": [
        "sum(lengths) / len(lengths)"
      ],
      "execution_count": 8,
      "outputs": [
        {
          "output_type": "execute_result",
          "data": {
            "text/plain": [
              "4.333333333333333"
            ]
          },
          "metadata": {
            "tags": []
          },
          "execution_count": 8
        }
      ]
    },
    {
      "cell_type": "markdown",
      "metadata": {
        "id": "v4KalZM3D9P9",
        "colab_type": "text"
      },
      "source": [
        "Mapping with a Logistic Transform "
      ]
    },
    {
      "cell_type": "code",
      "metadata": {
        "id": "WFMx3DNpD9_c",
        "colab_type": "code",
        "colab": {}
      },
      "source": [
        "import math"
      ],
      "execution_count": 0,
      "outputs": []
    },
    {
      "cell_type": "code",
      "metadata": {
        "id": "hTQDS72XD-OS",
        "colab_type": "code",
        "colab": {}
      },
      "source": [
        "nums = [-3, -5, 1, 4]"
      ],
      "execution_count": 0,
      "outputs": []
    },
    {
      "cell_type": "code",
      "metadata": {
        "id": "ernaB_UOECEf",
        "colab_type": "code",
        "colab": {
          "base_uri": "https://localhost:8080/",
          "height": 85
        },
        "outputId": "acda344b-dcc9-4257-a17c-704495349ae4"
      },
      "source": [
        "list(map(lambda x: 1 / (1 + math.exp(-x)), nums))"
      ],
      "execution_count": 13,
      "outputs": [
        {
          "output_type": "execute_result",
          "data": {
            "text/plain": [
              "[0.04742587317756678,\n",
              " 0.0066928509242848554,\n",
              " 0.7310585786300049,\n",
              " 0.9820137900379085]"
            ]
          },
          "metadata": {
            "tags": []
          },
          "execution_count": 13
        }
      ]
    },
    {
      "cell_type": "markdown",
      "metadata": {
        "id": "WOEQL-SkELCs",
        "colab_type": "text"
      },
      "source": [
        "Sorting with Lambda Functions"
      ]
    },
    {
      "cell_type": "code",
      "metadata": {
        "id": "jTiaUAcLELnG",
        "colab_type": "code",
        "colab": {
          "base_uri": "https://localhost:8080/",
          "height": 34
        },
        "outputId": "7cfd254f-7904-4209-d057-015a444838b7"
      },
      "source": [
        "names = ['Ming', 'Jennifer', 'Andrew', 'Boris']\n",
        "sorted(names, key=lambda x : len(x))"
      ],
      "execution_count": 14,
      "outputs": [
        {
          "output_type": "execute_result",
          "data": {
            "text/plain": [
              "['Ming', 'Boris', 'Andrew', 'Jennifer']"
            ]
          },
          "metadata": {
            "tags": []
          },
          "execution_count": 14
        }
      ]
    }
  ]
}