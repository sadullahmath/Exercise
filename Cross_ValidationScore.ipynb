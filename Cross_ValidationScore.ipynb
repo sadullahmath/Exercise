{
  "nbformat": 4,
  "nbformat_minor": 0,
  "metadata": {
    "colab": {
      "name": "Cross_ValidationScore.ipynb",
      "provenance": [],
      "authorship_tag": "ABX9TyN5aRRWmddUZnWeSkc9Kqz+",
      "include_colab_link": true
    },
    "kernelspec": {
      "name": "python3",
      "display_name": "Python 3"
    }
  },
  "cells": [
    {
      "cell_type": "markdown",
      "metadata": {
        "id": "view-in-github",
        "colab_type": "text"
      },
      "source": [
        "<a href=\"https://colab.research.google.com/github/sadullahmath/Exercise/blob/master/Cross_ValidationScore.ipynb\" target=\"_parent\"><img src=\"https://colab.research.google.com/assets/colab-badge.svg\" alt=\"Open In Colab\"/></a>"
      ]
    },
    {
      "cell_type": "markdown",
      "metadata": {
        "id": "V3FfzGRXUMBH",
        "colab_type": "text"
      },
      "source": [
        "# Getting the Scores from Five-Fold Cross-Validation\n",
        "\n",
        " **car** car acceptability \n",
        ". PRICE overall price \n",
        ". . **buying** buying price \n",
        ". . **maint** price of the maintenance \n",
        ". TECH **bold text** technical characteristics \n",
        ". . **COMFORT** comfort \n",
        ". . . **doors** number of doors \n",
        ". . . **persons capacity** in terms of persons to carry \n",
        ". . . **lug_boot** the size of luggage boot \n",
        ". . **safety estimated** safety of the car "
      ]
    },
    {
      "cell_type": "code",
      "metadata": {
        "id": "zoaL4yv7UMLO",
        "colab_type": "code",
        "colab": {}
      },
      "source": [
        "# import libraries\n",
        "import pandas as pd\n",
        "from sklearn.model_selection import train_test_split"
      ],
      "execution_count": 0,
      "outputs": []
    },
    {
      "cell_type": "code",
      "metadata": {
        "id": "0hVn3BUwUMNo",
        "colab_type": "code",
        "colab": {}
      },
      "source": [
        "# data doesn't have headers, so let's create headers\n",
        "_headers = ['buying', 'maint', 'doors', 'persons', 'lug_boot', 'safety', 'car']"
      ],
      "execution_count": 0,
      "outputs": []
    },
    {
      "cell_type": "code",
      "metadata": {
        "id": "meyp6nJdUMRg",
        "colab_type": "code",
        "colab": {}
      },
      "source": [
        "# read in cars dataset\n",
        "df = pd.read_csv('https://raw.githubusercontent.com/PacktWorkshops/The-Data-Science-Workshop/master/Chapter07/Dataset/car.data', names=_headers, index_col=None)"
      ],
      "execution_count": 0,
      "outputs": []
    },
    {
      "cell_type": "code",
      "metadata": {
        "id": "9VGNhypcUMUC",
        "colab_type": "code",
        "colab": {}
      },
      "source": [
        "df.info()"
      ],
      "execution_count": 0,
      "outputs": []
    },
    {
      "cell_type": "code",
      "metadata": {
        "id": "HXT6r4GuUMWF",
        "colab_type": "code",
        "colab": {}
      },
      "source": [
        "#split the data into 80% for training and 20% for evaluation\n",
        "training_df, eval_df = train_test_split(df, train_size=0.8, random_state=0)"
      ],
      "execution_count": 0,
      "outputs": []
    },
    {
      "cell_type": "code",
      "metadata": {
        "id": "8147OvRDUwJk",
        "colab_type": "code",
        "colab": {}
      },
      "source": [
        "training_df.info()"
      ],
      "execution_count": 0,
      "outputs": []
    },
    {
      "cell_type": "code",
      "metadata": {
        "id": "o9Aat-W4UwL_",
        "colab_type": "code",
        "colab": {}
      },
      "source": [
        "eval_df.info()"
      ],
      "execution_count": 0,
      "outputs": []
    },
    {
      "cell_type": "code",
      "metadata": {
        "id": "0hBYdGg9UwOI",
        "colab_type": "code",
        "colab": {}
      },
      "source": [
        "#split the data into 80% for training and 20% for evaluation #using a random state\n",
        "training_df, eval_df = train_test_split(df, train_size=0.8, random_state=1)"
      ],
      "execution_count": 0,
      "outputs": []
    },
    {
      "cell_type": "code",
      "metadata": {
        "id": "C-TTUMd3UwQP",
        "colab_type": "code",
        "colab": {}
      },
      "source": [
        "#view the head of training_eval\n",
        "training_df.head()"
      ],
      "execution_count": 0,
      "outputs": []
    },
    {
      "cell_type": "code",
      "metadata": {
        "id": "Q7VWsOyjUwSa",
        "colab_type": "code",
        "colab": {}
      },
      "source": [
        "#view the top of eval_df\n",
        "eval_df.head()"
      ],
      "execution_count": 0,
      "outputs": []
    },
    {
      "cell_type": "code",
      "metadata": {
        "id": "WRDr3jD_U8_U",
        "colab_type": "code",
        "colab": {}
      },
      "source": [
        "from sklearn.model_selection import KFold"
      ],
      "execution_count": 0,
      "outputs": []
    },
    {
      "cell_type": "code",
      "metadata": {
        "id": "UbmBc10iU9CM",
        "colab_type": "code",
        "colab": {}
      },
      "source": [
        "_kf = KFold(n_splits=5)"
      ],
      "execution_count": 0,
      "outputs": []
    },
    {
      "cell_type": "code",
      "metadata": {
        "id": "CD-z7sN9U9mE",
        "colab_type": "code",
        "colab": {}
      },
      "source": [
        "indices = _kf.split(df)"
      ],
      "execution_count": 0,
      "outputs": []
    },
    {
      "cell_type": "code",
      "metadata": {
        "id": "BeENVaA7U9oh",
        "colab_type": "code",
        "colab": {
          "base_uri": "https://localhost:8080/",
          "height": 34
        },
        "outputId": "8073f16e-6de2-4401-da3b-d0e968a59cb8"
      },
      "source": [
        "print(type(indices))"
      ],
      "execution_count": 14,
      "outputs": [
        {
          "output_type": "stream",
          "text": [
            "<class 'generator'>\n"
          ],
          "name": "stdout"
        }
      ]
    },
    {
      "cell_type": "code",
      "metadata": {
        "id": "Xgnc3kczXKp2",
        "colab_type": "code",
        "colab": {}
      },
      "source": [
        "#first set\n",
        "train_indices, val_indices = next(indices)"
      ],
      "execution_count": 0,
      "outputs": []
    },
    {
      "cell_type": "code",
      "metadata": {
        "id": "u7K5VXcDXKsP",
        "colab_type": "code",
        "colab": {}
      },
      "source": [
        "train_df = df.drop(val_indices)\n",
        "train_df.info()"
      ],
      "execution_count": 0,
      "outputs": []
    },
    {
      "cell_type": "code",
      "metadata": {
        "id": "oRILDsDjXKvr",
        "colab_type": "code",
        "colab": {}
      },
      "source": [
        "val_df = df.drop(train_indices)\n",
        "val_df.info()"
      ],
      "execution_count": 0,
      "outputs": []
    },
    {
      "cell_type": "code",
      "metadata": {
        "id": "dp4ZXAZZXKzm",
        "colab_type": "code",
        "colab": {}
      },
      "source": [
        "from sklearn.model_selection import KFold\n",
        "#define number of splits\n",
        "n_splits = 5"
      ],
      "execution_count": 0,
      "outputs": []
    },
    {
      "cell_type": "code",
      "metadata": {
        "id": "xnqn6TFyXK2X",
        "colab_type": "code",
        "colab": {}
      },
      "source": [
        "#create an instance of KFold\n",
        "_kf = KFold(n_splits=n_splits)"
      ],
      "execution_count": 0,
      "outputs": []
    },
    {
      "cell_type": "code",
      "metadata": {
        "id": "9Jg9m33nXKyU",
        "colab_type": "code",
        "colab": {}
      },
      "source": [
        "#create splits as _indices\n",
        "_indices = _kf.split(df)"
      ],
      "execution_count": 0,
      "outputs": []
    },
    {
      "cell_type": "code",
      "metadata": {
        "id": "gegaTLdUbTL-",
        "colab_type": "code",
        "colab": {}
      },
      "source": [
        "_t, _v = [], []"
      ],
      "execution_count": 0,
      "outputs": []
    },
    {
      "cell_type": "code",
      "metadata": {
        "id": "u3-cMPffbTOP",
        "colab_type": "code",
        "colab": {}
      },
      "source": [
        "#iterate over _indices\n",
        "for i in range(n_splits):\n",
        "    train_idx, val_idx = next(_indices)\n",
        "    _train_df = df.drop(val_idx)\n",
        "    _t.append(_train_df)\n",
        "    _val_df = df.drop(train_idx)\n",
        "    _v.append(_val_df)"
      ],
      "execution_count": 0,
      "outputs": []
    },
    {
      "cell_type": "code",
      "metadata": {
        "id": "qYmSh3DebTQh",
        "colab_type": "code",
        "colab": {
          "base_uri": "https://localhost:8080/",
          "height": 1000
        },
        "outputId": "8c13f2eb-b29f-4dfe-f55b-1d6c77eaca92"
      },
      "source": [
        "for d in _t:\n",
        "    print(d.info())"
      ],
      "execution_count": 23,
      "outputs": [
        {
          "output_type": "stream",
          "text": [
            "<class 'pandas.core.frame.DataFrame'>\n",
            "Int64Index: 1382 entries, 346 to 1727\n",
            "Data columns (total 7 columns):\n",
            " #   Column    Non-Null Count  Dtype \n",
            "---  ------    --------------  ----- \n",
            " 0   buying    1382 non-null   object\n",
            " 1   maint     1382 non-null   object\n",
            " 2   doors     1382 non-null   object\n",
            " 3   persons   1382 non-null   object\n",
            " 4   lug_boot  1382 non-null   object\n",
            " 5   safety    1382 non-null   object\n",
            " 6   car       1382 non-null   object\n",
            "dtypes: object(7)\n",
            "memory usage: 86.4+ KB\n",
            "None\n",
            "<class 'pandas.core.frame.DataFrame'>\n",
            "Int64Index: 1382 entries, 0 to 1727\n",
            "Data columns (total 7 columns):\n",
            " #   Column    Non-Null Count  Dtype \n",
            "---  ------    --------------  ----- \n",
            " 0   buying    1382 non-null   object\n",
            " 1   maint     1382 non-null   object\n",
            " 2   doors     1382 non-null   object\n",
            " 3   persons   1382 non-null   object\n",
            " 4   lug_boot  1382 non-null   object\n",
            " 5   safety    1382 non-null   object\n",
            " 6   car       1382 non-null   object\n",
            "dtypes: object(7)\n",
            "memory usage: 86.4+ KB\n",
            "None\n",
            "<class 'pandas.core.frame.DataFrame'>\n",
            "Int64Index: 1382 entries, 0 to 1727\n",
            "Data columns (total 7 columns):\n",
            " #   Column    Non-Null Count  Dtype \n",
            "---  ------    --------------  ----- \n",
            " 0   buying    1382 non-null   object\n",
            " 1   maint     1382 non-null   object\n",
            " 2   doors     1382 non-null   object\n",
            " 3   persons   1382 non-null   object\n",
            " 4   lug_boot  1382 non-null   object\n",
            " 5   safety    1382 non-null   object\n",
            " 6   car       1382 non-null   object\n",
            "dtypes: object(7)\n",
            "memory usage: 86.4+ KB\n",
            "None\n",
            "<class 'pandas.core.frame.DataFrame'>\n",
            "Int64Index: 1383 entries, 0 to 1727\n",
            "Data columns (total 7 columns):\n",
            " #   Column    Non-Null Count  Dtype \n",
            "---  ------    --------------  ----- \n",
            " 0   buying    1383 non-null   object\n",
            " 1   maint     1383 non-null   object\n",
            " 2   doors     1383 non-null   object\n",
            " 3   persons   1383 non-null   object\n",
            " 4   lug_boot  1383 non-null   object\n",
            " 5   safety    1383 non-null   object\n",
            " 6   car       1383 non-null   object\n",
            "dtypes: object(7)\n",
            "memory usage: 86.4+ KB\n",
            "None\n",
            "<class 'pandas.core.frame.DataFrame'>\n",
            "Int64Index: 1383 entries, 0 to 1382\n",
            "Data columns (total 7 columns):\n",
            " #   Column    Non-Null Count  Dtype \n",
            "---  ------    --------------  ----- \n",
            " 0   buying    1383 non-null   object\n",
            " 1   maint     1383 non-null   object\n",
            " 2   doors     1383 non-null   object\n",
            " 3   persons   1383 non-null   object\n",
            " 4   lug_boot  1383 non-null   object\n",
            " 5   safety    1383 non-null   object\n",
            " 6   car       1383 non-null   object\n",
            "dtypes: object(7)\n",
            "memory usage: 86.4+ KB\n",
            "None\n"
          ],
          "name": "stdout"
        }
      ]
    },
    {
      "cell_type": "code",
      "metadata": {
        "id": "wPRqvH09biNu",
        "colab_type": "code",
        "colab": {
          "base_uri": "https://localhost:8080/",
          "height": 1000
        },
        "outputId": "e3b14361-6f8d-42c8-f658-8d4b7913f30f"
      },
      "source": [
        "for d in _v:\n",
        "    print(d.info())"
      ],
      "execution_count": 25,
      "outputs": [
        {
          "output_type": "stream",
          "text": [
            "<class 'pandas.core.frame.DataFrame'>\n",
            "Int64Index: 346 entries, 0 to 345\n",
            "Data columns (total 7 columns):\n",
            " #   Column    Non-Null Count  Dtype \n",
            "---  ------    --------------  ----- \n",
            " 0   buying    346 non-null    object\n",
            " 1   maint     346 non-null    object\n",
            " 2   doors     346 non-null    object\n",
            " 3   persons   346 non-null    object\n",
            " 4   lug_boot  346 non-null    object\n",
            " 5   safety    346 non-null    object\n",
            " 6   car       346 non-null    object\n",
            "dtypes: object(7)\n",
            "memory usage: 21.6+ KB\n",
            "None\n",
            "<class 'pandas.core.frame.DataFrame'>\n",
            "Int64Index: 346 entries, 346 to 691\n",
            "Data columns (total 7 columns):\n",
            " #   Column    Non-Null Count  Dtype \n",
            "---  ------    --------------  ----- \n",
            " 0   buying    346 non-null    object\n",
            " 1   maint     346 non-null    object\n",
            " 2   doors     346 non-null    object\n",
            " 3   persons   346 non-null    object\n",
            " 4   lug_boot  346 non-null    object\n",
            " 5   safety    346 non-null    object\n",
            " 6   car       346 non-null    object\n",
            "dtypes: object(7)\n",
            "memory usage: 21.6+ KB\n",
            "None\n",
            "<class 'pandas.core.frame.DataFrame'>\n",
            "Int64Index: 346 entries, 692 to 1037\n",
            "Data columns (total 7 columns):\n",
            " #   Column    Non-Null Count  Dtype \n",
            "---  ------    --------------  ----- \n",
            " 0   buying    346 non-null    object\n",
            " 1   maint     346 non-null    object\n",
            " 2   doors     346 non-null    object\n",
            " 3   persons   346 non-null    object\n",
            " 4   lug_boot  346 non-null    object\n",
            " 5   safety    346 non-null    object\n",
            " 6   car       346 non-null    object\n",
            "dtypes: object(7)\n",
            "memory usage: 21.6+ KB\n",
            "None\n",
            "<class 'pandas.core.frame.DataFrame'>\n",
            "Int64Index: 345 entries, 1038 to 1382\n",
            "Data columns (total 7 columns):\n",
            " #   Column    Non-Null Count  Dtype \n",
            "---  ------    --------------  ----- \n",
            " 0   buying    345 non-null    object\n",
            " 1   maint     345 non-null    object\n",
            " 2   doors     345 non-null    object\n",
            " 3   persons   345 non-null    object\n",
            " 4   lug_boot  345 non-null    object\n",
            " 5   safety    345 non-null    object\n",
            " 6   car       345 non-null    object\n",
            "dtypes: object(7)\n",
            "memory usage: 21.6+ KB\n",
            "None\n",
            "<class 'pandas.core.frame.DataFrame'>\n",
            "Int64Index: 345 entries, 1383 to 1727\n",
            "Data columns (total 7 columns):\n",
            " #   Column    Non-Null Count  Dtype \n",
            "---  ------    --------------  ----- \n",
            " 0   buying    345 non-null    object\n",
            " 1   maint     345 non-null    object\n",
            " 2   doors     345 non-null    object\n",
            " 3   persons   345 non-null    object\n",
            " 4   lug_boot  345 non-null    object\n",
            " 5   safety    345 non-null    object\n",
            " 6   car       345 non-null    object\n",
            "dtypes: object(7)\n",
            "memory usage: 21.6+ KB\n",
            "None\n"
          ],
          "name": "stdout"
        }
      ]
    },
    {
      "cell_type": "code",
      "metadata": {
        "id": "M4w_lAN2biQI",
        "colab_type": "code",
        "colab": {
          "base_uri": "https://localhost:8080/",
          "height": 224
        },
        "outputId": "807e06c7-c846-43e7-a793-d1de3fbd659a"
      },
      "source": [
        "# encode categorical variables\n",
        "_df = pd.get_dummies(df, columns=['buying', 'maint', 'doors', 'persons', 'lug_boot', 'safety'])\n",
        "_df.head()"
      ],
      "execution_count": 26,
      "outputs": [
        {
          "output_type": "execute_result",
          "data": {
            "text/html": [
              "<div>\n",
              "<style scoped>\n",
              "    .dataframe tbody tr th:only-of-type {\n",
              "        vertical-align: middle;\n",
              "    }\n",
              "\n",
              "    .dataframe tbody tr th {\n",
              "        vertical-align: top;\n",
              "    }\n",
              "\n",
              "    .dataframe thead th {\n",
              "        text-align: right;\n",
              "    }\n",
              "</style>\n",
              "<table border=\"1\" class=\"dataframe\">\n",
              "  <thead>\n",
              "    <tr style=\"text-align: right;\">\n",
              "      <th></th>\n",
              "      <th>car</th>\n",
              "      <th>buying_high</th>\n",
              "      <th>buying_low</th>\n",
              "      <th>buying_med</th>\n",
              "      <th>buying_vhigh</th>\n",
              "      <th>maint_high</th>\n",
              "      <th>maint_low</th>\n",
              "      <th>maint_med</th>\n",
              "      <th>maint_vhigh</th>\n",
              "      <th>doors_2</th>\n",
              "      <th>doors_3</th>\n",
              "      <th>doors_4</th>\n",
              "      <th>doors_5more</th>\n",
              "      <th>persons_2</th>\n",
              "      <th>persons_4</th>\n",
              "      <th>persons_more</th>\n",
              "      <th>lug_boot_big</th>\n",
              "      <th>lug_boot_med</th>\n",
              "      <th>lug_boot_small</th>\n",
              "      <th>safety_high</th>\n",
              "      <th>safety_low</th>\n",
              "      <th>safety_med</th>\n",
              "    </tr>\n",
              "  </thead>\n",
              "  <tbody>\n",
              "    <tr>\n",
              "      <th>0</th>\n",
              "      <td>unacc</td>\n",
              "      <td>0</td>\n",
              "      <td>0</td>\n",
              "      <td>0</td>\n",
              "      <td>1</td>\n",
              "      <td>0</td>\n",
              "      <td>0</td>\n",
              "      <td>0</td>\n",
              "      <td>1</td>\n",
              "      <td>1</td>\n",
              "      <td>0</td>\n",
              "      <td>0</td>\n",
              "      <td>0</td>\n",
              "      <td>1</td>\n",
              "      <td>0</td>\n",
              "      <td>0</td>\n",
              "      <td>0</td>\n",
              "      <td>0</td>\n",
              "      <td>1</td>\n",
              "      <td>0</td>\n",
              "      <td>1</td>\n",
              "      <td>0</td>\n",
              "    </tr>\n",
              "    <tr>\n",
              "      <th>1</th>\n",
              "      <td>unacc</td>\n",
              "      <td>0</td>\n",
              "      <td>0</td>\n",
              "      <td>0</td>\n",
              "      <td>1</td>\n",
              "      <td>0</td>\n",
              "      <td>0</td>\n",
              "      <td>0</td>\n",
              "      <td>1</td>\n",
              "      <td>1</td>\n",
              "      <td>0</td>\n",
              "      <td>0</td>\n",
              "      <td>0</td>\n",
              "      <td>1</td>\n",
              "      <td>0</td>\n",
              "      <td>0</td>\n",
              "      <td>0</td>\n",
              "      <td>0</td>\n",
              "      <td>1</td>\n",
              "      <td>0</td>\n",
              "      <td>0</td>\n",
              "      <td>1</td>\n",
              "    </tr>\n",
              "    <tr>\n",
              "      <th>2</th>\n",
              "      <td>unacc</td>\n",
              "      <td>0</td>\n",
              "      <td>0</td>\n",
              "      <td>0</td>\n",
              "      <td>1</td>\n",
              "      <td>0</td>\n",
              "      <td>0</td>\n",
              "      <td>0</td>\n",
              "      <td>1</td>\n",
              "      <td>1</td>\n",
              "      <td>0</td>\n",
              "      <td>0</td>\n",
              "      <td>0</td>\n",
              "      <td>1</td>\n",
              "      <td>0</td>\n",
              "      <td>0</td>\n",
              "      <td>0</td>\n",
              "      <td>0</td>\n",
              "      <td>1</td>\n",
              "      <td>1</td>\n",
              "      <td>0</td>\n",
              "      <td>0</td>\n",
              "    </tr>\n",
              "    <tr>\n",
              "      <th>3</th>\n",
              "      <td>unacc</td>\n",
              "      <td>0</td>\n",
              "      <td>0</td>\n",
              "      <td>0</td>\n",
              "      <td>1</td>\n",
              "      <td>0</td>\n",
              "      <td>0</td>\n",
              "      <td>0</td>\n",
              "      <td>1</td>\n",
              "      <td>1</td>\n",
              "      <td>0</td>\n",
              "      <td>0</td>\n",
              "      <td>0</td>\n",
              "      <td>1</td>\n",
              "      <td>0</td>\n",
              "      <td>0</td>\n",
              "      <td>0</td>\n",
              "      <td>1</td>\n",
              "      <td>0</td>\n",
              "      <td>0</td>\n",
              "      <td>1</td>\n",
              "      <td>0</td>\n",
              "    </tr>\n",
              "    <tr>\n",
              "      <th>4</th>\n",
              "      <td>unacc</td>\n",
              "      <td>0</td>\n",
              "      <td>0</td>\n",
              "      <td>0</td>\n",
              "      <td>1</td>\n",
              "      <td>0</td>\n",
              "      <td>0</td>\n",
              "      <td>0</td>\n",
              "      <td>1</td>\n",
              "      <td>1</td>\n",
              "      <td>0</td>\n",
              "      <td>0</td>\n",
              "      <td>0</td>\n",
              "      <td>1</td>\n",
              "      <td>0</td>\n",
              "      <td>0</td>\n",
              "      <td>0</td>\n",
              "      <td>1</td>\n",
              "      <td>0</td>\n",
              "      <td>0</td>\n",
              "      <td>0</td>\n",
              "      <td>1</td>\n",
              "    </tr>\n",
              "  </tbody>\n",
              "</table>\n",
              "</div>"
            ],
            "text/plain": [
              "     car  buying_high  buying_low  ...  safety_high  safety_low  safety_med\n",
              "0  unacc            0           0  ...            0           1           0\n",
              "1  unacc            0           0  ...            0           0           1\n",
              "2  unacc            0           0  ...            1           0           0\n",
              "3  unacc            0           0  ...            0           1           0\n",
              "4  unacc            0           0  ...            0           0           1\n",
              "\n",
              "[5 rows x 22 columns]"
            ]
          },
          "metadata": {
            "tags": []
          },
          "execution_count": 26
        }
      ]
    },
    {
      "cell_type": "code",
      "metadata": {
        "id": "pMYFu4MabiUm",
        "colab_type": "code",
        "colab": {}
      },
      "source": [
        "# separate features and labels DataFrames\n",
        "features = _df.drop(['car'], axis=1).values\n",
        "labels = _df[['car']].values"
      ],
      "execution_count": 0,
      "outputs": []
    },
    {
      "cell_type": "code",
      "metadata": {
        "id": "ay8T9RNWhaMo",
        "colab_type": "code",
        "colab": {}
      },
      "source": [
        "from sklearn.linear_model import LogisticRegression\n",
        "# create an instance of LogisticRegression\n",
        "_lr = LogisticRegression()"
      ],
      "execution_count": 0,
      "outputs": []
    },
    {
      "cell_type": "code",
      "metadata": {
        "id": "rVL0Vad4haPC",
        "colab_type": "code",
        "colab": {}
      },
      "source": [
        "from sklearn.model_selection import cross_val_score"
      ],
      "execution_count": 0,
      "outputs": []
    },
    {
      "cell_type": "code",
      "metadata": {
        "id": "bVmMAntQhaRh",
        "colab_type": "code",
        "colab": {
          "base_uri": "https://localhost:8080/",
          "height": 187
        },
        "outputId": "27c75f0b-fe96-46be-a3f9-5a98af28da85"
      },
      "source": [
        "_scores = cross_val_score(_lr, features, labels, cv=5)"
      ],
      "execution_count": 30,
      "outputs": [
        {
          "output_type": "stream",
          "text": [
            "/usr/local/lib/python3.6/dist-packages/sklearn/utils/validation.py:760: DataConversionWarning: A column-vector y was passed when a 1d array was expected. Please change the shape of y to (n_samples, ), for example using ravel().\n",
            "  y = column_or_1d(y, warn=True)\n",
            "/usr/local/lib/python3.6/dist-packages/sklearn/utils/validation.py:760: DataConversionWarning: A column-vector y was passed when a 1d array was expected. Please change the shape of y to (n_samples, ), for example using ravel().\n",
            "  y = column_or_1d(y, warn=True)\n",
            "/usr/local/lib/python3.6/dist-packages/sklearn/utils/validation.py:760: DataConversionWarning: A column-vector y was passed when a 1d array was expected. Please change the shape of y to (n_samples, ), for example using ravel().\n",
            "  y = column_or_1d(y, warn=True)\n",
            "/usr/local/lib/python3.6/dist-packages/sklearn/utils/validation.py:760: DataConversionWarning: A column-vector y was passed when a 1d array was expected. Please change the shape of y to (n_samples, ), for example using ravel().\n",
            "  y = column_or_1d(y, warn=True)\n",
            "/usr/local/lib/python3.6/dist-packages/sklearn/utils/validation.py:760: DataConversionWarning: A column-vector y was passed when a 1d array was expected. Please change the shape of y to (n_samples, ), for example using ravel().\n",
            "  y = column_or_1d(y, warn=True)\n"
          ],
          "name": "stderr"
        }
      ]
    },
    {
      "cell_type": "code",
      "metadata": {
        "id": "RG1On0mMhaUX",
        "colab_type": "code",
        "colab": {
          "base_uri": "https://localhost:8080/",
          "height": 34
        },
        "outputId": "dc9a382f-b3a4-44bc-8b05-931b22d6bb24"
      },
      "source": [
        "print(_scores)"
      ],
      "execution_count": 31,
      "outputs": [
        {
          "output_type": "stream",
          "text": [
            "[0.70231214 0.84971098 0.74566474 0.75652174 0.76231884]\n"
          ],
          "name": "stdout"
        }
      ]
    },
    {
      "cell_type": "code",
      "metadata": {
        "id": "SCAboFu-haY_",
        "colab_type": "code",
        "colab": {}
      },
      "source": [
        ""
      ],
      "execution_count": 0,
      "outputs": []
    }
  ]
}