{
  "nbformat": 4,
  "nbformat_minor": 0,
  "metadata": {
    "colab": {
      "name": "RandomForestFeature.ipynb",
      "provenance": [],
      "authorship_tag": "ABX9TyORMFW5aNOVXpXPpHwmQDNw",
      "include_colab_link": true
    },
    "kernelspec": {
      "name": "python3",
      "display_name": "Python 3"
    }
  },
  "cells": [
    {
      "cell_type": "markdown",
      "metadata": {
        "id": "view-in-github",
        "colab_type": "text"
      },
      "source": [
        "<a href=\"https://colab.research.google.com/github/sadullahmath/Exercise/blob/master/RandomForestFeature.ipynb\" target=\"_parent\"><img src=\"https://colab.research.google.com/assets/colab-badge.svg\" alt=\"Open In Colab\"/></a>"
      ]
    },
    {
      "cell_type": "markdown",
      "metadata": {
        "id": "2UOqZoFTYjWh",
        "colab_type": "text"
      },
      "source": [
        "# Extracting RandomForest Feature Importance"
      ]
    },
    {
      "cell_type": "code",
      "metadata": {
        "id": "92DqxzTeYjgf",
        "colab_type": "code",
        "colab": {}
      },
      "source": [
        "import pandas as pd\n",
        "from sklearn.model_selection import train_test_split\n",
        "from sklearn.ensemble import RandomForestRegressor\n",
        "from sklearn.metrics import mean_squared_error\n",
        "import altair as alt"
      ],
      "execution_count": 0,
      "outputs": []
    },
    {
      "cell_type": "code",
      "metadata": {
        "id": "fAtn3M3YYjjF",
        "colab_type": "code",
        "colab": {}
      },
      "source": [
        "file_url = 'https://raw.githubusercontent.com/PacktWorkshops/The-Data-Science-Workshop/master/Chapter09/Dataset/phpYYZ4Qc.csv'"
      ],
      "execution_count": 0,
      "outputs": []
    },
    {
      "cell_type": "code",
      "metadata": {
        "id": "13qjlt6HYjlX",
        "colab_type": "code",
        "colab": {}
      },
      "source": [
        "df = pd.read_csv(file_url)"
      ],
      "execution_count": 0,
      "outputs": []
    },
    {
      "cell_type": "code",
      "metadata": {
        "id": "ZlbB6--yYrYr",
        "colab_type": "code",
        "colab": {}
      },
      "source": [
        "y = df.pop('rej')"
      ],
      "execution_count": 0,
      "outputs": []
    },
    {
      "cell_type": "code",
      "metadata": {
        "id": "eJoK46K7YrbI",
        "colab_type": "code",
        "colab": {}
      },
      "source": [
        "X_train, X_test, y_train, y_test = train_test_split(df, y, test_size=0.3, random_state=1)"
      ],
      "execution_count": 0,
      "outputs": []
    },
    {
      "cell_type": "code",
      "metadata": {
        "id": "Ml-foIHlYrdf",
        "colab_type": "code",
        "colab": {}
      },
      "source": [
        "rf_model = RandomForestRegressor(random_state=1, n_estimators=50, max_depth=6, min_samples_leaf=60)"
      ],
      "execution_count": 0,
      "outputs": []
    },
    {
      "cell_type": "code",
      "metadata": {
        "id": "_XjbAPVSYrfm",
        "colab_type": "code",
        "colab": {
          "base_uri": "https://localhost:8080/",
          "height": 136
        },
        "outputId": "bf426f94-0873-4730-faa3-657f4a5c4050"
      },
      "source": [
        "rf_model.fit(X_train, y_train)"
      ],
      "execution_count": 9,
      "outputs": [
        {
          "output_type": "execute_result",
          "data": {
            "text/plain": [
              "RandomForestRegressor(bootstrap=True, ccp_alpha=0.0, criterion='mse',\n",
              "                      max_depth=6, max_features='auto', max_leaf_nodes=None,\n",
              "                      max_samples=None, min_impurity_decrease=0.0,\n",
              "                      min_impurity_split=None, min_samples_leaf=60,\n",
              "                      min_samples_split=2, min_weight_fraction_leaf=0.0,\n",
              "                      n_estimators=50, n_jobs=None, oob_score=False,\n",
              "                      random_state=1, verbose=0, warm_start=False)"
            ]
          },
          "metadata": {
            "tags": []
          },
          "execution_count": 9
        }
      ]
    },
    {
      "cell_type": "code",
      "metadata": {
        "id": "HlGQ73CLY8dk",
        "colab_type": "code",
        "colab": {}
      },
      "source": [
        "preds_train = rf_model.predict(X_train)\n",
        "preds_test = rf_model.predict(X_test)"
      ],
      "execution_count": 0,
      "outputs": []
    },
    {
      "cell_type": "code",
      "metadata": {
        "id": "a8lGgiZyY8gK",
        "colab_type": "code",
        "colab": {
          "base_uri": "https://localhost:8080/",
          "height": 34
        },
        "outputId": "e237ca11-f5c9-4205-a83c-dfa897672600"
      },
      "source": [
        "train_mse = mean_squared_error(y_train, preds_train)\n",
        "train_mse"
      ],
      "execution_count": 11,
      "outputs": [
        {
          "output_type": "execute_result",
          "data": {
            "text/plain": [
              "0.007315982781336234"
            ]
          },
          "metadata": {
            "tags": []
          },
          "execution_count": 11
        }
      ]
    },
    {
      "cell_type": "code",
      "metadata": {
        "id": "RwwyC8oIY8h-",
        "colab_type": "code",
        "colab": {
          "base_uri": "https://localhost:8080/",
          "height": 34
        },
        "outputId": "902dd4ac-2e57-4ef7-958a-765e0e1681dd"
      },
      "source": [
        "test_mse = mean_squared_error(y_test, preds_test)\n",
        "test_mse"
      ],
      "execution_count": 12,
      "outputs": [
        {
          "output_type": "execute_result",
          "data": {
            "text/plain": [
              "0.007489642004973965"
            ]
          },
          "metadata": {
            "tags": []
          },
          "execution_count": 12
        }
      ]
    },
    {
      "cell_type": "code",
      "metadata": {
        "id": "2pTDrbedY8j7",
        "colab_type": "code",
        "colab": {
          "base_uri": "https://localhost:8080/",
          "height": 153
        },
        "outputId": "d7f0b053-9547-4848-8ae7-7dc1c24587a7"
      },
      "source": [
        "rf_model.feature_importances_"
      ],
      "execution_count": 13,
      "outputs": [
        {
          "output_type": "execute_result",
          "data": {
            "text/plain": [
              "array([0.00000000e+00, 7.56405224e-04, 8.89442010e-05, 9.46275333e-04,\n",
              "       4.08153931e-05, 1.97210546e-01, 5.03587073e-04, 2.31999967e-04,\n",
              "       6.15222081e-03, 3.52461267e-03, 0.00000000e+00, 5.69504288e-01,\n",
              "       1.13616416e-04, 4.90638284e-04, 1.87909452e-04, 3.20591202e-04,\n",
              "       2.12958787e-04, 1.90764978e-01, 5.75581836e-03, 4.67864791e-04,\n",
              "       0.00000000e+00, 0.00000000e+00, 1.75187909e-02, 3.51906210e-04,\n",
              "       4.85916389e-04, 2.89740583e-05, 1.27170564e-03, 1.12059338e-03,\n",
              "       1.97954549e-04, 3.01220348e-04, 0.00000000e+00, 1.44886927e-03])"
            ]
          },
          "metadata": {
            "tags": []
          },
          "execution_count": 13
        }
      ]
    },
    {
      "cell_type": "code",
      "metadata": {
        "id": "fqr6Ze3CY8mZ",
        "colab_type": "code",
        "colab": {}
      },
      "source": [
        "varimp_df = pd.DataFrame()\n",
        "varimp_df['importance'] = rf_model.feature_importances_"
      ],
      "execution_count": 0,
      "outputs": []
    },
    {
      "cell_type": "code",
      "metadata": {
        "id": "nwxrJgZQZUGl",
        "colab_type": "code",
        "colab": {}
      },
      "source": [
        "varimp_df['feature'] = df.columns"
      ],
      "execution_count": 0,
      "outputs": []
    },
    {
      "cell_type": "code",
      "metadata": {
        "id": "yaE4jL-AZUJE",
        "colab_type": "code",
        "colab": {
          "base_uri": "https://localhost:8080/",
          "height": 204
        },
        "outputId": "89d738d5-9992-4379-f196-1e3c3ba9ee16"
      },
      "source": [
        "varimp_df.head()"
      ],
      "execution_count": 20,
      "outputs": [
        {
          "output_type": "execute_result",
          "data": {
            "text/html": [
              "<div>\n",
              "<style scoped>\n",
              "    .dataframe tbody tr th:only-of-type {\n",
              "        vertical-align: middle;\n",
              "    }\n",
              "\n",
              "    .dataframe tbody tr th {\n",
              "        vertical-align: top;\n",
              "    }\n",
              "\n",
              "    .dataframe thead th {\n",
              "        text-align: right;\n",
              "    }\n",
              "</style>\n",
              "<table border=\"1\" class=\"dataframe\">\n",
              "  <thead>\n",
              "    <tr style=\"text-align: right;\">\n",
              "      <th></th>\n",
              "      <th>importance</th>\n",
              "      <th>feature</th>\n",
              "    </tr>\n",
              "  </thead>\n",
              "  <tbody>\n",
              "    <tr>\n",
              "      <th>0</th>\n",
              "      <td>0.000000</td>\n",
              "      <td>a1cx</td>\n",
              "    </tr>\n",
              "    <tr>\n",
              "      <th>1</th>\n",
              "      <td>0.000756</td>\n",
              "      <td>a1cy</td>\n",
              "    </tr>\n",
              "    <tr>\n",
              "      <th>2</th>\n",
              "      <td>0.000089</td>\n",
              "      <td>a1sx</td>\n",
              "    </tr>\n",
              "    <tr>\n",
              "      <th>3</th>\n",
              "      <td>0.000946</td>\n",
              "      <td>a1sy</td>\n",
              "    </tr>\n",
              "    <tr>\n",
              "      <th>4</th>\n",
              "      <td>0.000041</td>\n",
              "      <td>a1rho</td>\n",
              "    </tr>\n",
              "  </tbody>\n",
              "</table>\n",
              "</div>"
            ],
            "text/plain": [
              "   importance feature\n",
              "0    0.000000    a1cx\n",
              "1    0.000756    a1cy\n",
              "2    0.000089    a1sx\n",
              "3    0.000946    a1sy\n",
              "4    0.000041   a1rho"
            ]
          },
          "metadata": {
            "tags": []
          },
          "execution_count": 20
        }
      ]
    },
    {
      "cell_type": "code",
      "metadata": {
        "id": "zytiBG9yZUNW",
        "colab_type": "code",
        "colab": {
          "base_uri": "https://localhost:8080/",
          "height": 703
        },
        "outputId": "17283aec-fe2b-4834-af5a-23e8984a82e4"
      },
      "source": [
        "alt.Chart(varimp_df).mark_bar().encode(\n",
        "    x='importance',\n",
        "    y=\"feature\"\n",
        ")"
      ],
      "execution_count": 21,
      "outputs": [
        {
          "output_type": "execute_result",
          "data": {
            "text/plain": [
              "alt.Chart(...)"
            ],
            "text/html": [
              "\n",
              "<div id=\"altair-viz-89916381c4b24fbcba646d9d4b3749ec\"></div>\n",
              "<script type=\"text/javascript\">\n",
              "  (function(spec, embedOpt){\n",
              "    let outputDiv = document.currentScript.previousElementSibling;\n",
              "    if (outputDiv.id !== \"altair-viz-89916381c4b24fbcba646d9d4b3749ec\") {\n",
              "      outputDiv = document.getElementById(\"altair-viz-89916381c4b24fbcba646d9d4b3749ec\");\n",
              "    }\n",
              "    const paths = {\n",
              "      \"vega\": \"https://cdn.jsdelivr.net/npm//vega@5?noext\",\n",
              "      \"vega-lib\": \"https://cdn.jsdelivr.net/npm//vega-lib?noext\",\n",
              "      \"vega-lite\": \"https://cdn.jsdelivr.net/npm//vega-lite@4.8.1?noext\",\n",
              "      \"vega-embed\": \"https://cdn.jsdelivr.net/npm//vega-embed@6?noext\",\n",
              "    };\n",
              "\n",
              "    function loadScript(lib) {\n",
              "      return new Promise(function(resolve, reject) {\n",
              "        var s = document.createElement('script');\n",
              "        s.src = paths[lib];\n",
              "        s.async = true;\n",
              "        s.onload = () => resolve(paths[lib]);\n",
              "        s.onerror = () => reject(`Error loading script: ${paths[lib]}`);\n",
              "        document.getElementsByTagName(\"head\")[0].appendChild(s);\n",
              "      });\n",
              "    }\n",
              "\n",
              "    function showError(err) {\n",
              "      outputDiv.innerHTML = `<div class=\"error\" style=\"color:red;\">${err}</div>`;\n",
              "      throw err;\n",
              "    }\n",
              "\n",
              "    function displayChart(vegaEmbed) {\n",
              "      vegaEmbed(outputDiv, spec, embedOpt)\n",
              "        .catch(err => showError(`Javascript Error: ${err.message}<br>This usually means there's a typo in your chart specification. See the javascript console for the full traceback.`));\n",
              "    }\n",
              "\n",
              "    if(typeof define === \"function\" && define.amd) {\n",
              "      requirejs.config({paths});\n",
              "      require([\"vega-embed\"], displayChart, err => showError(`Error loading script: ${err.message}`));\n",
              "    } else if (typeof vegaEmbed === \"function\") {\n",
              "      displayChart(vegaEmbed);\n",
              "    } else {\n",
              "      loadScript(\"vega\")\n",
              "        .then(() => loadScript(\"vega-lite\"))\n",
              "        .then(() => loadScript(\"vega-embed\"))\n",
              "        .catch(showError)\n",
              "        .then(() => displayChart(vegaEmbed));\n",
              "    }\n",
              "  })({\"config\": {\"view\": {\"continuousWidth\": 400, \"continuousHeight\": 300}}, \"data\": {\"name\": \"data-d4126d15da680c111321c7ff4a64f18e\"}, \"mark\": \"bar\", \"encoding\": {\"x\": {\"type\": \"quantitative\", \"field\": \"importance\"}, \"y\": {\"type\": \"nominal\", \"field\": \"feature\"}}, \"$schema\": \"https://vega.github.io/schema/vega-lite/v4.8.1.json\", \"datasets\": {\"data-d4126d15da680c111321c7ff4a64f18e\": [{\"importance\": 0.0, \"feature\": \"a1cx\"}, {\"importance\": 0.0007564052241573511, \"feature\": \"a1cy\"}, {\"importance\": 8.894420096625837e-05, \"feature\": \"a1sx\"}, {\"importance\": 0.0009462753334456257, \"feature\": \"a1sy\"}, {\"importance\": 4.08153930761718e-05, \"feature\": \"a1rho\"}, {\"importance\": 0.19721054551154402, \"feature\": \"a1pop\"}, {\"importance\": 0.000503587072705345, \"feature\": \"a2cx\"}, {\"importance\": 0.0002319999670387911, \"feature\": \"a2cy\"}, {\"importance\": 0.006152220814060049, \"feature\": \"a2sx\"}, {\"importance\": 0.0035246126659989685, \"feature\": \"a2sy\"}, {\"importance\": 0.0, \"feature\": \"a2rho\"}, {\"importance\": 0.569504287927844, \"feature\": \"a2pop\"}, {\"importance\": 0.00011361641631930248, \"feature\": \"a3cx\"}, {\"importance\": 0.0004906382843375957, \"feature\": \"a3cy\"}, {\"importance\": 0.00018790945231091075, \"feature\": \"a3sx\"}, {\"importance\": 0.00032059120191548385, \"feature\": \"a3sy\"}, {\"importance\": 0.00021295878713505428, \"feature\": \"a3rho\"}, {\"importance\": 0.19076497781296203, \"feature\": \"a3pop\"}, {\"importance\": 0.005755818360771725, \"feature\": \"temp\"}, {\"importance\": 0.0004678647911192705, \"feature\": \"b1x\"}, {\"importance\": 0.0, \"feature\": \"b1y\"}, {\"importance\": 0.0, \"feature\": \"b1call\"}, {\"importance\": 0.01751879093190768, \"feature\": \"b1eff\"}, {\"importance\": 0.00035190621049656346, \"feature\": \"b2x\"}, {\"importance\": 0.000485916389194531, \"feature\": \"b2y\"}, {\"importance\": 2.8974058342280785e-05, \"feature\": \"b2call\"}, {\"importance\": 0.001271705640560893, \"feature\": \"b2eff\"}, {\"importance\": 0.0011205933834715627, \"feature\": \"b3x\"}, {\"importance\": 0.00019795454912549952, \"feature\": \"b3y\"}, {\"importance\": 0.0003012203478116383, \"feature\": \"b3call\"}, {\"importance\": 0.0, \"feature\": \"b3eff\"}, {\"importance\": 0.001448869271381517, \"feature\": \"mxql\"}]}}, {\"mode\": \"vega-lite\"});\n",
              "</script>"
            ]
          },
          "metadata": {
            "tags": []
          },
          "execution_count": 21
        }
      ]
    },
    {
      "cell_type": "code",
      "metadata": {
        "id": "1NYTZuipZUPn",
        "colab_type": "code",
        "colab": {}
      },
      "source": [
        ""
      ],
      "execution_count": 0,
      "outputs": []
    }
  ]
}