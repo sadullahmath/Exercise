{
  "nbformat": 4,
  "nbformat_minor": 0,
  "metadata": {
    "colab": {
      "name": "Savin_LoadingModels.ipynb",
      "provenance": [],
      "authorship_tag": "ABX9TyOnsuLJxYY+dMeY3J4RaJ7L",
      "include_colab_link": true
    },
    "kernelspec": {
      "name": "python3",
      "display_name": "Python 3"
    }
  },
  "cells": [
    {
      "cell_type": "markdown",
      "metadata": {
        "id": "view-in-github",
        "colab_type": "text"
      },
      "source": [
        "<a href=\"https://colab.research.google.com/github/sadullahmath/Exercise/blob/master/Savin_LoadingModels.ipynb\" target=\"_parent\"><img src=\"https://colab.research.google.com/assets/colab-badge.svg\" alt=\"Open In Colab\"/></a>"
      ]
    },
    {
      "cell_type": "markdown",
      "metadata": {
        "id": "TB4XTVOLzpU5",
        "colab_type": "text"
      },
      "source": [
        "# Saving and Loading Models"
      ]
    },
    {
      "cell_type": "code",
      "metadata": {
        "id": "YwLDP0r9zpkN",
        "colab_type": "code",
        "colab": {}
      },
      "source": [
        "import pandas as pd\n",
        "from sklearn.model_selection import train_test_split\n",
        "from sklearn.linear_model import LinearRegression"
      ],
      "execution_count": 0,
      "outputs": []
    },
    {
      "cell_type": "code",
      "metadata": {
        "id": "h5gBJOu-zpmm",
        "colab_type": "code",
        "colab": {}
      },
      "source": [
        "_headers = ['CIC0', 'SM1', 'GATS1i', 'NdsCH', 'Ndssc', 'MLOGP', 'response']\n",
        "\n",
        "# read in data\n",
        "df = pd.read_csv('https://raw.githubusercontent.com/PacktWorkshops/The-Data-Science-Workshop/master/Chapter06/Dataset/qsar_fish_toxicity.csv', names=_headers, sep=';')"
      ],
      "execution_count": 0,
      "outputs": []
    },
    {
      "cell_type": "code",
      "metadata": {
        "id": "xn_TOppOzpqk",
        "colab_type": "code",
        "colab": {
          "base_uri": "https://localhost:8080/",
          "height": 204
        },
        "outputId": "a449f347-b6fa-4294-a9fb-85ee7e6ce96a"
      },
      "source": [
        "df.head()"
      ],
      "execution_count": 3,
      "outputs": [
        {
          "output_type": "execute_result",
          "data": {
            "text/html": [
              "<div>\n",
              "<style scoped>\n",
              "    .dataframe tbody tr th:only-of-type {\n",
              "        vertical-align: middle;\n",
              "    }\n",
              "\n",
              "    .dataframe tbody tr th {\n",
              "        vertical-align: top;\n",
              "    }\n",
              "\n",
              "    .dataframe thead th {\n",
              "        text-align: right;\n",
              "    }\n",
              "</style>\n",
              "<table border=\"1\" class=\"dataframe\">\n",
              "  <thead>\n",
              "    <tr style=\"text-align: right;\">\n",
              "      <th></th>\n",
              "      <th>CIC0</th>\n",
              "      <th>SM1</th>\n",
              "      <th>GATS1i</th>\n",
              "      <th>NdsCH</th>\n",
              "      <th>Ndssc</th>\n",
              "      <th>MLOGP</th>\n",
              "      <th>response</th>\n",
              "    </tr>\n",
              "  </thead>\n",
              "  <tbody>\n",
              "    <tr>\n",
              "      <th>0</th>\n",
              "      <td>3.260</td>\n",
              "      <td>0.829</td>\n",
              "      <td>1.676</td>\n",
              "      <td>0</td>\n",
              "      <td>1</td>\n",
              "      <td>1.453</td>\n",
              "      <td>3.770</td>\n",
              "    </tr>\n",
              "    <tr>\n",
              "      <th>1</th>\n",
              "      <td>2.189</td>\n",
              "      <td>0.580</td>\n",
              "      <td>0.863</td>\n",
              "      <td>0</td>\n",
              "      <td>0</td>\n",
              "      <td>1.348</td>\n",
              "      <td>3.115</td>\n",
              "    </tr>\n",
              "    <tr>\n",
              "      <th>2</th>\n",
              "      <td>2.125</td>\n",
              "      <td>0.638</td>\n",
              "      <td>0.831</td>\n",
              "      <td>0</td>\n",
              "      <td>0</td>\n",
              "      <td>1.348</td>\n",
              "      <td>3.531</td>\n",
              "    </tr>\n",
              "    <tr>\n",
              "      <th>3</th>\n",
              "      <td>3.027</td>\n",
              "      <td>0.331</td>\n",
              "      <td>1.472</td>\n",
              "      <td>1</td>\n",
              "      <td>0</td>\n",
              "      <td>1.807</td>\n",
              "      <td>3.510</td>\n",
              "    </tr>\n",
              "    <tr>\n",
              "      <th>4</th>\n",
              "      <td>2.094</td>\n",
              "      <td>0.827</td>\n",
              "      <td>0.860</td>\n",
              "      <td>0</td>\n",
              "      <td>0</td>\n",
              "      <td>1.886</td>\n",
              "      <td>5.390</td>\n",
              "    </tr>\n",
              "  </tbody>\n",
              "</table>\n",
              "</div>"
            ],
            "text/plain": [
              "    CIC0    SM1  GATS1i  NdsCH  Ndssc  MLOGP  response\n",
              "0  3.260  0.829   1.676      0      1  1.453     3.770\n",
              "1  2.189  0.580   0.863      0      0  1.348     3.115\n",
              "2  2.125  0.638   0.831      0      0  1.348     3.531\n",
              "3  3.027  0.331   1.472      1      0  1.807     3.510\n",
              "4  2.094  0.827   0.860      0      0  1.886     5.390"
            ]
          },
          "metadata": {
            "tags": []
          },
          "execution_count": 3
        }
      ]
    },
    {
      "cell_type": "code",
      "metadata": {
        "id": "QpXuZZ5yzz99",
        "colab_type": "code",
        "colab": {}
      },
      "source": [
        "features = df.drop('response', axis=1).values\n",
        "labels = df[['response']].values\n",
        "\n",
        "X_train, X_eval, y_train, y_eval = train_test_split(features, labels, test_size=0.2, random_state=0)\n",
        "X_val, X_test, y_val, y_test = train_test_split(X_eval, y_eval, random_state=0)"
      ],
      "execution_count": 0,
      "outputs": []
    },
    {
      "cell_type": "code",
      "metadata": {
        "id": "FRSQVxSTz0Ah",
        "colab_type": "code",
        "colab": {}
      },
      "source": [
        "model = LinearRegression()"
      ],
      "execution_count": 0,
      "outputs": []
    },
    {
      "cell_type": "code",
      "metadata": {
        "id": "3Q2hfmIdz0FX",
        "colab_type": "code",
        "colab": {
          "base_uri": "https://localhost:8080/",
          "height": 34
        },
        "outputId": "344fa915-3afc-488b-ee51-d8267d68ca95"
      },
      "source": [
        "model.fit(X_train, y_train)"
      ],
      "execution_count": 6,
      "outputs": [
        {
          "output_type": "execute_result",
          "data": {
            "text/plain": [
              "LinearRegression(copy_X=True, fit_intercept=True, n_jobs=None, normalize=False)"
            ]
          },
          "metadata": {
            "tags": []
          },
          "execution_count": 6
        }
      ]
    },
    {
      "cell_type": "code",
      "metadata": {
        "id": "WivRrXWYzpsq",
        "colab_type": "code",
        "colab": {}
      },
      "source": [
        "y_pred = model.predict(X_val)"
      ],
      "execution_count": 0,
      "outputs": []
    },
    {
      "cell_type": "code",
      "metadata": {
        "id": "M-6hAGsgzpuv",
        "colab_type": "code",
        "colab": {
          "base_uri": "https://localhost:8080/",
          "height": 71
        },
        "outputId": "3829c203-c1b0-4aa4-886b-3a1659b67200"
      },
      "source": [
        "from sklearn.externals import joblib"
      ],
      "execution_count": 8,
      "outputs": [
        {
          "output_type": "stream",
          "text": [
            "/usr/local/lib/python3.6/dist-packages/sklearn/externals/joblib/__init__.py:15: FutureWarning: sklearn.externals.joblib is deprecated in 0.21 and will be removed in 0.23. Please import this functionality directly from joblib, which can be installed with: pip install joblib. If this warning is raised when loading pickled models, you may need to re-serialize those models with scikit-learn 0.21+.\n",
            "  warnings.warn(msg, category=FutureWarning)\n"
          ],
          "name": "stderr"
        }
      ]
    },
    {
      "cell_type": "code",
      "metadata": {
        "id": "G2EyTplCz-bl",
        "colab_type": "code",
        "colab": {
          "base_uri": "https://localhost:8080/",
          "height": 34
        },
        "outputId": "41cab105-3772-4077-ceae-62fca2c3ce9d"
      },
      "source": [
        "joblib.dump(model, './model.joblib')"
      ],
      "execution_count": 9,
      "outputs": [
        {
          "output_type": "execute_result",
          "data": {
            "text/plain": [
              "['./model.joblib']"
            ]
          },
          "metadata": {
            "tags": []
          },
          "execution_count": 9
        }
      ]
    },
    {
      "cell_type": "code",
      "metadata": {
        "id": "MtCylLmiz-gC",
        "colab_type": "code",
        "colab": {}
      },
      "source": [
        "m2 = joblib.load('./model.joblib')"
      ],
      "execution_count": 0,
      "outputs": []
    },
    {
      "cell_type": "code",
      "metadata": {
        "id": "o507cyfhz-i5",
        "colab_type": "code",
        "colab": {}
      },
      "source": [
        "m2_preds = m2.predict(X_val)"
      ],
      "execution_count": 0,
      "outputs": []
    },
    {
      "cell_type": "code",
      "metadata": {
        "id": "jIIz4-x20Gv4",
        "colab_type": "code",
        "colab": {
          "base_uri": "https://localhost:8080/",
          "height": 204
        },
        "outputId": "b9eb85be-eaa6-44eb-c218-7ded079dcdf8"
      },
      "source": [
        "ys = pd.DataFrame(dict(predicted=y_pred.reshape(-1), m2=m2_preds.reshape(-1)))\n",
        "ys.head()"
      ],
      "execution_count": 12,
      "outputs": [
        {
          "output_type": "execute_result",
          "data": {
            "text/html": [
              "<div>\n",
              "<style scoped>\n",
              "    .dataframe tbody tr th:only-of-type {\n",
              "        vertical-align: middle;\n",
              "    }\n",
              "\n",
              "    .dataframe tbody tr th {\n",
              "        vertical-align: top;\n",
              "    }\n",
              "\n",
              "    .dataframe thead th {\n",
              "        text-align: right;\n",
              "    }\n",
              "</style>\n",
              "<table border=\"1\" class=\"dataframe\">\n",
              "  <thead>\n",
              "    <tr style=\"text-align: right;\">\n",
              "      <th></th>\n",
              "      <th>predicted</th>\n",
              "      <th>m2</th>\n",
              "    </tr>\n",
              "  </thead>\n",
              "  <tbody>\n",
              "    <tr>\n",
              "      <th>0</th>\n",
              "      <td>4.155885</td>\n",
              "      <td>4.155885</td>\n",
              "    </tr>\n",
              "    <tr>\n",
              "      <th>1</th>\n",
              "      <td>6.398238</td>\n",
              "      <td>6.398238</td>\n",
              "    </tr>\n",
              "    <tr>\n",
              "      <th>2</th>\n",
              "      <td>5.183181</td>\n",
              "      <td>5.183181</td>\n",
              "    </tr>\n",
              "    <tr>\n",
              "      <th>3</th>\n",
              "      <td>3.771333</td>\n",
              "      <td>3.771333</td>\n",
              "    </tr>\n",
              "    <tr>\n",
              "      <th>4</th>\n",
              "      <td>4.593059</td>\n",
              "      <td>4.593059</td>\n",
              "    </tr>\n",
              "  </tbody>\n",
              "</table>\n",
              "</div>"
            ],
            "text/plain": [
              "   predicted        m2\n",
              "0   4.155885  4.155885\n",
              "1   6.398238  6.398238\n",
              "2   5.183181  5.183181\n",
              "3   3.771333  3.771333\n",
              "4   4.593059  4.593059"
            ]
          },
          "metadata": {
            "tags": []
          },
          "execution_count": 12
        }
      ]
    },
    {
      "cell_type": "code",
      "metadata": {
        "id": "P7PQcSlp0GyP",
        "colab_type": "code",
        "colab": {}
      },
      "source": [
        ""
      ],
      "execution_count": 0,
      "outputs": []
    }
  ]
}