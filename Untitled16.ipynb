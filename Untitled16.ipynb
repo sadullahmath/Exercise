{
  "nbformat": 4,
  "nbformat_minor": 0,
  "metadata": {
    "colab": {
      "name": "Untitled16.ipynb",
      "provenance": [],
      "authorship_tag": "ABX9TyOGEhC6Io/MHD2TgCpZO6NC",
      "include_colab_link": true
    },
    "kernelspec": {
      "name": "python3",
      "display_name": "Python 3"
    }
  },
  "cells": [
    {
      "cell_type": "markdown",
      "metadata": {
        "id": "view-in-github",
        "colab_type": "text"
      },
      "source": [
        "<a href=\"https://colab.research.google.com/github/sadullahmath/Exercise/blob/master/Untitled16.ipynb\" target=\"_parent\"><img src=\"https://colab.research.google.com/assets/colab-badge.svg\" alt=\"Open In Colab\"/></a>"
      ]
    },
    {
      "cell_type": "code",
      "metadata": {
        "id": "UBLOAKOhZF6I",
        "colab_type": "code",
        "colab": {}
      },
      "source": [
        "# Importing library files\n",
        "import matplotlib.pyplot as plt\n",
        "import numpy as np"
      ],
      "execution_count": 0,
      "outputs": []
    },
    {
      "cell_type": "code",
      "metadata": {
        "id": "n14m81tBZJRS",
        "colab_type": "code",
        "colab": {}
      },
      "source": [
        "# Create a simple list of categories\n",
        "jobList = ['admin','scientist','doctor','management']"
      ],
      "execution_count": 0,
      "outputs": []
    },
    {
      "cell_type": "code",
      "metadata": {
        "id": "QAbP0taOZJTj",
        "colab_type": "code",
        "colab": {}
      },
      "source": [
        "# Getting two categories ( 'yes','No') for each of jobs\n",
        "jobYes = [20,60,70,40]\n",
        "jobNo = [80,40,30,60]"
      ],
      "execution_count": 0,
      "outputs": []
    },
    {
      "cell_type": "code",
      "metadata": {
        "id": "Zu4UjkDcZJVl",
        "colab_type": "code",
        "colab": {}
      },
      "source": [
        "# Get the length of x axis labels and arranging its indexes\n",
        "xlabels = len(jobList)\n",
        "ind = np.arange(xlabels)"
      ],
      "execution_count": 0,
      "outputs": []
    },
    {
      "cell_type": "code",
      "metadata": {
        "id": "LJsQB361ZJXv",
        "colab_type": "code",
        "colab": {
          "base_uri": "https://localhost:8080/",
          "height": 265
        },
        "outputId": "2ed50771-74e3-4a21-fd51-821052db6071"
      },
      "source": [
        "# Get width of each bar\n",
        "width = 0.35\n",
        "\n",
        "# Getting the plots\n",
        "p1 = plt.bar(ind, jobYes, width)\n",
        "p2 = plt.bar(ind, jobNo, width, bottom=jobYes)"
      ],
      "execution_count": 5,
      "outputs": [
        {
          "output_type": "display_data",
          "data": {
            "image/png": "[encoded data removed]",
            "text/plain": [
              "<Figure size 432x288 with 1 Axes>"
            ]
          },
          "metadata": {
            "tags": [],
            "needs_background": "light"
          }
        }
      ]
    },
    {
      "cell_type": "code",
      "metadata": {
        "id": "uTFouug0ZJaE",
        "colab_type": "code",
        "colab": {
          "base_uri": "https://localhost:8080/",
          "height": 298
        },
        "outputId": "768991aa-d49a-4a28-fee6-da4c25d182cb"
      },
      "source": [
        "# Getting the labels for the plots \n",
        "plt.ylabel('Proportion of Jobs')\n",
        "plt.title('Job')"
      ],
      "execution_count": 10,
      "outputs": [
        {
          "output_type": "execute_result",
          "data": {
            "text/plain": [
              "Text(0.5, 1.0, 'Job')"
            ]
          },
          "metadata": {
            "tags": []
          },
          "execution_count": 10
        },
        {
          "output_type": "display_data",
          "data": {
            "image/png": "[encoded data removed]",
            "text/plain": [
              "<Figure size 432x288 with 1 Axes>"
            ]
          },
          "metadata": {
            "tags": [],
            "needs_background": "light"
          }
        }
      ]
    },
    {
      "cell_type": "code",
      "metadata": {
        "id": "RaVsA1PyZVma",
        "colab_type": "code",
        "colab": {
          "base_uri": "https://localhost:8080/",
          "height": 456
        },
        "outputId": "cb5a2d0f-0b92-4b8c-9b53-b4ddf332438f"
      },
      "source": [
        "# Defining the x label indexes and y label indexes\n",
        "plt.xticks(ind, jobList)\n",
        "plt.yticks(np.arange(0, 100, 10))"
      ],
      "execution_count": 7,
      "outputs": [
        {
          "output_type": "execute_result",
          "data": {
            "text/plain": [
              "([<matplotlib.axis.YTick at 0x7f4b686ea978>,\n",
              "  <matplotlib.axis.YTick at 0x7f4b686ea358>,\n",
              "  <matplotlib.axis.YTick at 0x7f4b68747c50>,\n",
              "  <matplotlib.axis.YTick at 0x7f4b6870bb38>,\n",
              "  <matplotlib.axis.YTick at 0x7f4b6870bd68>,\n",
              "  <matplotlib.axis.YTick at 0x7f4b686924a8>,\n",
              "  <matplotlib.axis.YTick at 0x7f4b6870ba90>,\n",
              "  <matplotlib.axis.YTick at 0x7f4b68692320>,\n",
              "  <matplotlib.axis.YTick at 0x7f4b68692be0>,\n",
              "  <matplotlib.axis.YTick at 0x7f4b6869a128>],\n",
              " <a list of 10 Text major ticklabel objects>)"
            ]
          },
          "metadata": {
            "tags": []
          },
          "execution_count": 7
        },
        {
          "output_type": "display_data",
          "data": {
            "image/png": "[encoded data removed]",
            "text/plain": [
              "<Figure size 432x288 with 1 Axes>"
            ]
          },
          "metadata": {
            "tags": [],
            "needs_background": "light"
          }
        }
      ]
    },
    {
      "cell_type": "code",
      "metadata": {
        "id": "gmzDQvbFZVq4",
        "colab_type": "code",
        "colab": {
          "base_uri": "https://localhost:8080/",
          "height": 275
        },
        "outputId": "37c50e6d-5bf1-426f-b6ac-9e1a742d2bda"
      },
      "source": [
        "# Defining the legends\n",
        "plt.legend((p1[0], p2[0]), ('Yes', 'No'))\n",
        "# To rotate the axis labels\n",
        "plt.xticks(rotation=90)\n",
        "plt.show()"
      ],
      "execution_count": 8,
      "outputs": [
        {
          "output_type": "display_data",
          "data": {
            "image/png": "[encoded data removed]",
            "text/plain": [
              "<Figure size 432x288 with 1 Axes>"
            ]
          },
          "metadata": {
            "tags": [],
            "needs_background": "light"
          }
        }
      ]
    },
    {
      "cell_type": "code",
      "metadata": {
        "id": "Nd2XAxKsZVt6",
        "colab_type": "code",
        "colab": {}
      },
      "source": [
        ""
      ],
      "execution_count": 0,
      "outputs": []
    }
  ]
}