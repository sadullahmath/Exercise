{
  "nbformat": 4,
  "nbformat_minor": 0,
  "metadata": {
    "colab": {
      "name": "Untitled16.ipynb",
      "provenance": [],
      "authorship_tag": "ABX9TyMpR68m7uFV3WQRO8wi00FA",
      "include_colab_link": true
    },
    "kernelspec": {
      "name": "python3",
      "display_name": "Python 3"
    }
  },
  "cells": [
    {
      "cell_type": "markdown",
      "metadata": {
        "id": "view-in-github",
        "colab_type": "text"
      },
      "source": [
        "<a href=\"https://colab.research.google.com/github/sadullahmath/Exercise/blob/master/Untitled16.ipynb\" target=\"_parent\"><img src=\"https://colab.research.google.com/assets/colab-badge.svg\" alt=\"Open In Colab\"/></a>"
      ]
    },
    {
      "cell_type": "markdown",
      "metadata": {
        "id": "d4S1HkioZ2Bx",
        "colab_type": "text"
      },
      "source": [
        ""
      ]
    },
    {
      "cell_type": "code",
      "metadata": {
        "id": "uRMPbr_dZ2J7",
        "colab_type": "code",
        "colab": {}
      },
      "source": [
        "import pandas as pd\n",
        "import altair as alt"
      ],
      "execution_count": 0,
      "outputs": []
    },
    {
      "cell_type": "code",
      "metadata": {
        "id": "ala_SvAoZ2Mx",
        "colab_type": "code",
        "colab": {}
      },
      "source": [
        "file_url = 'https://raw.githubusercontent.com/PacktWorkshops/The-Data-Science-Workshop/master/Chapter03/bank-full.csv'\n",
        "bankData = pd.read_csv(file_url, sep=\";\")"
      ],
      "execution_count": 0,
      "outputs": []
    },
    {
      "cell_type": "code",
      "metadata": {
        "id": "yDB-yWkOZ2PF",
        "colab_type": "code",
        "colab": {}
      },
      "source": [
        "filter_mask = bankData['y'] == 'yes'\n",
        "bankSub1 = bankData[filter_mask].groupby('age')['y'].agg(agegrp='count').reset_index()"
      ],
      "execution_count": 0,
      "outputs": []
    },
    {
      "cell_type": "code",
      "metadata": {
        "id": "KtaF8H75Z2RE",
        "colab_type": "code",
        "colab": {
          "base_uri": "https://localhost:8080/",
          "height": 368
        },
        "outputId": "9bab6d30-9000-452d-bb8e-e3963ec67f47"
      },
      "source": [
        "# Visualising the relationship using altair\n",
        "alt.Chart(bankSub1).mark_line().encode(x='age', y='agegrp')"
      ],
      "execution_count": 5,
      "outputs": [
        {
          "output_type": "execute_result",
          "data": {
            "text/plain": [
              "alt.Chart(...)"
            ],
            "text/html": [
              "\n",
              "<div id=\"altair-viz-c766f8b235d94bf39aaa1a3e7164b0db\"></div>\n",
              "<script type=\"text/javascript\">\n",
              "  (function(spec, embedOpt){\n",
              "    let outputDiv = document.currentScript.previousElementSibling;\n",
              "    if (outputDiv.id !== \"altair-viz-c766f8b235d94bf39aaa1a3e7164b0db\") {\n",
              "      outputDiv = document.getElementById(\"altair-viz-c766f8b235d94bf39aaa1a3e7164b0db\");\n",
              "    }\n",
              "    const paths = {\n",
              "      \"vega\": \"https://cdn.jsdelivr.net/npm//vega@5?noext\",\n",
              "      \"vega-lib\": \"https://cdn.jsdelivr.net/npm//vega-lib?noext\",\n",
              "      \"vega-lite\": \"https://cdn.jsdelivr.net/npm//vega-lite@4.8.1?noext\",\n",
              "      \"vega-embed\": \"https://cdn.jsdelivr.net/npm//vega-embed@6?noext\",\n",
              "    };\n",
              "\n",
              "    function loadScript(lib) {\n",
              "      return new Promise(function(resolve, reject) {\n",
              "        var s = document.createElement('script');\n",
              "        s.src = paths[lib];\n",
              "        s.async = true;\n",
              "        s.onload = () => resolve(paths[lib]);\n",
              "        s.onerror = () => reject(`Error loading script: ${paths[lib]}`);\n",
              "        document.getElementsByTagName(\"head\")[0].appendChild(s);\n",
              "      });\n",
              "    }\n",
              "\n",
              "    function showError(err) {\n",
              "      outputDiv.innerHTML = `<div class=\"error\" style=\"color:red;\">${err}</div>`;\n",
              "      throw err;\n",
              "    }\n",
              "\n",
              "    function displayChart(vegaEmbed) {\n",
              "      vegaEmbed(outputDiv, spec, embedOpt)\n",
              "        .catch(err => showError(`Javascript Error: ${err.message}<br>This usually means there's a typo in your chart specification. See the javascript console for the full traceback.`));\n",
              "    }\n",
              "\n",
              "    if(typeof define === \"function\" && define.amd) {\n",
              "      requirejs.config({paths});\n",
              "      require([\"vega-embed\"], displayChart, err => showError(`Error loading script: ${err.message}`));\n",
              "    } else if (typeof vegaEmbed === \"function\") {\n",
              "      displayChart(vegaEmbed);\n",
              "    } else {\n",
              "      loadScript(\"vega\")\n",
              "        .then(() => loadScript(\"vega-lite\"))\n",
              "        .then(() => loadScript(\"vega-embed\"))\n",
              "        .catch(showError)\n",
              "        .then(() => displayChart(vegaEmbed));\n",
              "    }\n",
              "  })({\"config\": {\"view\": {\"continuousWidth\": 400, \"continuousHeight\": 300}}, \"data\": {\"name\": \"data-6ffef09df38b640058f0f70d394258ab\"}, \"mark\": \"line\", \"encoding\": {\"x\": {\"type\": \"quantitative\", \"field\": \"age\"}, \"y\": {\"type\": \"quantitative\", \"field\": \"agegrp\"}}, \"$schema\": \"https://vega.github.io/schema/vega-lite/v4.8.1.json\", \"datasets\": {\"data-6ffef09df38b640058f0f70d394258ab\": [{\"age\": 18, \"agegrp\": 7}, {\"age\": 19, \"agegrp\": 11}, {\"age\": 20, \"agegrp\": 15}, {\"age\": 21, \"agegrp\": 22}, {\"age\": 22, \"agegrp\": 40}, {\"age\": 23, \"agegrp\": 44}, {\"age\": 24, \"agegrp\": 68}, {\"age\": 25, \"agegrp\": 113}, {\"age\": 26, \"agegrp\": 134}, {\"age\": 27, \"agegrp\": 141}, {\"age\": 28, \"agegrp\": 162}, {\"age\": 29, \"agegrp\": 171}, {\"age\": 30, \"agegrp\": 217}, {\"age\": 31, \"agegrp\": 206}, {\"age\": 32, \"agegrp\": 221}, {\"age\": 33, \"agegrp\": 210}, {\"age\": 34, \"agegrp\": 198}, {\"age\": 35, \"agegrp\": 209}, {\"age\": 36, \"agegrp\": 195}, {\"age\": 37, \"agegrp\": 170}, {\"age\": 38, \"agegrp\": 144}, {\"age\": 39, \"agegrp\": 143}, {\"age\": 40, \"agegrp\": 116}, {\"age\": 41, \"agegrp\": 120}, {\"age\": 42, \"agegrp\": 111}, {\"age\": 43, \"agegrp\": 103}, {\"age\": 44, \"agegrp\": 93}, {\"age\": 45, \"agegrp\": 106}, {\"age\": 46, \"agegrp\": 118}, {\"age\": 47, \"agegrp\": 113}, {\"age\": 48, \"agegrp\": 82}, {\"age\": 49, \"agegrp\": 101}, {\"age\": 50, \"agegrp\": 72}, {\"age\": 51, \"agegrp\": 77}, {\"age\": 52, \"agegrp\": 85}, {\"age\": 53, \"agegrp\": 85}, {\"age\": 54, \"agegrp\": 84}, {\"age\": 55, \"agegrp\": 76}, {\"age\": 56, \"agegrp\": 68}, {\"age\": 57, \"agegrp\": 78}, {\"age\": 58, \"agegrp\": 72}, {\"age\": 59, \"agegrp\": 88}, {\"age\": 60, \"agegrp\": 98}, {\"age\": 61, \"agegrp\": 57}, {\"age\": 62, \"agegrp\": 39}, {\"age\": 63, \"agegrp\": 30}, {\"age\": 64, \"agegrp\": 35}, {\"age\": 65, \"agegrp\": 21}, {\"age\": 66, \"agegrp\": 24}, {\"age\": 67, \"agegrp\": 23}, {\"age\": 68, \"agegrp\": 21}, {\"age\": 69, \"agegrp\": 17}, {\"age\": 70, \"agegrp\": 17}, {\"age\": 71, \"agegrp\": 25}, {\"age\": 72, \"agegrp\": 24}, {\"age\": 73, \"agegrp\": 24}, {\"age\": 74, \"agegrp\": 13}, {\"age\": 75, \"agegrp\": 15}, {\"age\": 76, \"agegrp\": 16}, {\"age\": 77, \"agegrp\": 22}, {\"age\": 78, \"agegrp\": 14}, {\"age\": 79, \"agegrp\": 10}, {\"age\": 80, \"agegrp\": 12}, {\"age\": 81, \"agegrp\": 6}, {\"age\": 82, \"agegrp\": 8}, {\"age\": 83, \"agegrp\": 6}, {\"age\": 84, \"agegrp\": 5}, {\"age\": 85, \"agegrp\": 4}, {\"age\": 86, \"agegrp\": 4}, {\"age\": 87, \"agegrp\": 3}, {\"age\": 90, \"agegrp\": 2}, {\"age\": 92, \"agegrp\": 2}, {\"age\": 93, \"agegrp\": 2}, {\"age\": 95, \"agegrp\": 1}]}}, {\"mode\": \"vega-lite\"});\n",
              "</script>"
            ]
          },
          "metadata": {
            "tags": []
          },
          "execution_count": 5
        }
      ]
    },
    {
      "cell_type": "code",
      "metadata": {
        "id": "8St4FIJiZ2TP",
        "colab_type": "code",
        "colab": {}
      },
      "source": [
        ""
      ],
      "execution_count": 0,
      "outputs": []
    }
  ]
}