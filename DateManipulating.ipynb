{
  "nbformat": 4,
  "nbformat_minor": 0,
  "metadata": {
    "colab": {
      "name": "DateManipulating.ipynb",
      "provenance": [],
      "authorship_tag": "ABX9TyMjZ64SHPTqtXazbLY+Ak9C",
      "include_colab_link": true
    },
    "kernelspec": {
      "name": "python3",
      "display_name": "Python 3"
    }
  },
  "cells": [
    {
      "cell_type": "markdown",
      "metadata": {
        "id": "view-in-github",
        "colab_type": "text"
      },
      "source": [
        "<a href=\"https://colab.research.google.com/github/sadullahmath/Exercise/blob/master/DateManipulating.ipynb\" target=\"_parent\"><img src=\"https://colab.research.google.com/assets/colab-badge.svg\" alt=\"Open In Colab\"/></a>"
      ]
    },
    {
      "cell_type": "markdown",
      "metadata": {
        "id": "0ccVJRkMhZhR",
        "colab_type": "text"
      },
      "source": [
        "# Manipulating Dates"
      ]
    },
    {
      "cell_type": "code",
      "metadata": {
        "id": "q9WIgF-ihZqk",
        "colab_type": "code",
        "colab": {
          "base_uri": "https://localhost:8080/",
          "height": 170
        },
        "outputId": "9f2b0f03-6883-4189-ee9c-a24e04d1ebe3"
      },
      "source": [
        "import pandas as pd\n",
        "file_url = 'https://github.com/PacktWorkshops/The-Data-Science-Workshop/blob/master/Chapter12/Dataset/Online%20Retail.xlsx?raw=true'\n",
        "df = pd.read_excel(file_url)\n",
        "df.dtypes"
      ],
      "execution_count": 1,
      "outputs": [
        {
          "output_type": "execute_result",
          "data": {
            "text/plain": [
              "InvoiceNo              object\n",
              "StockCode              object\n",
              "Description            object\n",
              "Quantity                int64\n",
              "InvoiceDate    datetime64[ns]\n",
              "UnitPrice             float64\n",
              "CustomerID            float64\n",
              "Country                object\n",
              "dtype: object"
            ]
          },
          "metadata": {
            "tags": []
          },
          "execution_count": 1
        }
      ]
    },
    {
      "cell_type": "code",
      "metadata": {
        "id": "Hacm6gC9hZtB",
        "colab_type": "code",
        "colab": {}
      },
      "source": [
        "df['InvoiceDate'] = pd.to_datetime(df['InvoiceDate'])"
      ],
      "execution_count": 0,
      "outputs": []
    },
    {
      "cell_type": "code",
      "metadata": {
        "id": "SuUSR6dOhZvm",
        "colab_type": "code",
        "colab": {
          "base_uri": "https://localhost:8080/",
          "height": 221
        },
        "outputId": "79204bf7-40ec-4927-b5bf-0e62018cb3f7"
      },
      "source": [
        "df['InvoiceDate'].dt.year"
      ],
      "execution_count": 3,
      "outputs": [
        {
          "output_type": "execute_result",
          "data": {
            "text/plain": [
              "0         2010\n",
              "1         2010\n",
              "2         2010\n",
              "3         2010\n",
              "4         2010\n",
              "          ... \n",
              "541904    2011\n",
              "541905    2011\n",
              "541906    2011\n",
              "541907    2011\n",
              "541908    2011\n",
              "Name: InvoiceDate, Length: 541909, dtype: int64"
            ]
          },
          "metadata": {
            "tags": []
          },
          "execution_count": 3
        }
      ]
    },
    {
      "cell_type": "code",
      "metadata": {
        "id": "JOR-ww9zhZ0y",
        "colab_type": "code",
        "colab": {
          "base_uri": "https://localhost:8080/",
          "height": 221
        },
        "outputId": "e841951e-80ec-4c6b-f87c-9d6f822c8c8a"
      },
      "source": [
        "df['InvoiceDate'].dt.dayofweek"
      ],
      "execution_count": 4,
      "outputs": [
        {
          "output_type": "execute_result",
          "data": {
            "text/plain": [
              "0         2\n",
              "1         2\n",
              "2         2\n",
              "3         2\n",
              "4         2\n",
              "         ..\n",
              "541904    4\n",
              "541905    4\n",
              "541906    4\n",
              "541907    4\n",
              "541908    4\n",
              "Name: InvoiceDate, Length: 541909, dtype: int64"
            ]
          },
          "metadata": {
            "tags": []
          },
          "execution_count": 4
        }
      ]
    },
    {
      "cell_type": "code",
      "metadata": {
        "id": "LaAfbFL0hZ3Y",
        "colab_type": "code",
        "colab": {
          "base_uri": "https://localhost:8080/",
          "height": 221
        },
        "outputId": "72fa0d4d-3e5e-439d-8f5a-38ce40b4f745"
      },
      "source": [
        "df['InvoiceDate'] + pd.tseries.offsets.Day(3)"
      ],
      "execution_count": 5,
      "outputs": [
        {
          "output_type": "execute_result",
          "data": {
            "text/plain": [
              "0        2010-12-04 08:26:00\n",
              "1        2010-12-04 08:26:00\n",
              "2        2010-12-04 08:26:00\n",
              "3        2010-12-04 08:26:00\n",
              "4        2010-12-04 08:26:00\n",
              "                 ...        \n",
              "541904   2011-12-12 12:50:00\n",
              "541905   2011-12-12 12:50:00\n",
              "541906   2011-12-12 12:50:00\n",
              "541907   2011-12-12 12:50:00\n",
              "541908   2011-12-12 12:50:00\n",
              "Name: InvoiceDate, Length: 541909, dtype: datetime64[ns]"
            ]
          },
          "metadata": {
            "tags": []
          },
          "execution_count": 5
        }
      ]
    },
    {
      "cell_type": "code",
      "metadata": {
        "id": "J2lwg5RHiG18",
        "colab_type": "code",
        "colab": {
          "base_uri": "https://localhost:8080/",
          "height": 221
        },
        "outputId": "ed1f4739-4744-4a6e-cc5d-3092cbdef755"
      },
      "source": [
        "df['InvoiceDate'] + pd.tseries.offsets.BusinessDay(-1)"
      ],
      "execution_count": 6,
      "outputs": [
        {
          "output_type": "execute_result",
          "data": {
            "text/plain": [
              "0        2010-11-30 08:26:00\n",
              "1        2010-11-30 08:26:00\n",
              "2        2010-11-30 08:26:00\n",
              "3        2010-11-30 08:26:00\n",
              "4        2010-11-30 08:26:00\n",
              "                 ...        \n",
              "541904   2011-12-08 12:50:00\n",
              "541905   2011-12-08 12:50:00\n",
              "541906   2011-12-08 12:50:00\n",
              "541907   2011-12-08 12:50:00\n",
              "541908   2011-12-08 12:50:00\n",
              "Name: InvoiceDate, Length: 541909, dtype: datetime64[ns]"
            ]
          },
          "metadata": {
            "tags": []
          },
          "execution_count": 6
        }
      ]
    },
    {
      "cell_type": "code",
      "metadata": {
        "id": "-_Y0uCyTiG6o",
        "colab_type": "code",
        "colab": {
          "base_uri": "https://localhost:8080/",
          "height": 221
        },
        "outputId": "db45591c-4638-4169-afda-7ae35ed89041"
      },
      "source": [
        "df['InvoiceDate'] + pd.Timedelta(1, unit='MS')"
      ],
      "execution_count": 7,
      "outputs": [
        {
          "output_type": "execute_result",
          "data": {
            "text/plain": [
              "0        2010-12-01 08:26:00.001\n",
              "1        2010-12-01 08:26:00.001\n",
              "2        2010-12-01 08:26:00.001\n",
              "3        2010-12-01 08:26:00.001\n",
              "4        2010-12-01 08:26:00.001\n",
              "                   ...          \n",
              "541904   2011-12-09 12:50:00.001\n",
              "541905   2011-12-09 12:50:00.001\n",
              "541906   2011-12-09 12:50:00.001\n",
              "541907   2011-12-09 12:50:00.001\n",
              "541908   2011-12-09 12:50:00.001\n",
              "Name: InvoiceDate, Length: 541909, dtype: datetime64[ns]"
            ]
          },
          "metadata": {
            "tags": []
          },
          "execution_count": 7
        }
      ]
    }
  ]
}