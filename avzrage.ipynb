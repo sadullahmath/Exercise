{
  "nbformat": 4,
  "nbformat_minor": 0,
  "metadata": {
    "colab": {
      "name": "avzrage.ipynb",
      "provenance": [],
      "authorship_tag": "ABX9TyNgp9xj5kXspk9f8xK30PTa",
      "include_colab_link": true
    },
    "kernelspec": {
      "name": "python3",
      "display_name": "Python 3"
    }
  },
  "cells": [
    {
      "cell_type": "markdown",
      "metadata": {
        "id": "view-in-github",
        "colab_type": "text"
      },
      "source": [
        "<a href=\"https://colab.research.google.com/github/sadullahmath/Exercise/blob/master/avzrage.ipynb\" target=\"_parent\"><img src=\"https://colab.research.google.com/assets/colab-badge.svg\" alt=\"Open In Colab\"/></a>"
      ]
    },
    {
      "cell_type": "code",
      "metadata": {
        "id": "L7FIFXj96e3l",
        "colab_type": "code",
        "colab": {}
      },
      "source": [
        "def avg(marks):\n",
        "    assert len(marks) != 0\n",
        "    return round(sum(marks)/len(marks), 2)"
      ],
      "execution_count": 0,
      "outputs": []
    },
    {
      "cell_type": "code",
      "metadata": {
        "id": "mr9pemhi6lhp",
        "colab_type": "code",
        "colab": {
          "base_uri": "https://localhost:8080/",
          "height": 34
        },
        "outputId": "eae44863-b3bf-4b44-f96c-a6b0e0d82ff0"
      },
      "source": [
        "sem1_marks = [62, 65, 75]\n",
        "print(\"Average marks for semester 1:\",avg(sem1_marks))"
      ],
      "execution_count": 2,
      "outputs": [
        {
          "output_type": "stream",
          "text": [
            "Average marks for semester 1: 67.33\n"
          ],
          "name": "stdout"
        }
      ]
    }
  ]
}