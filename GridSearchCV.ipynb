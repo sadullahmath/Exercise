{
  "nbformat": 4,
  "nbformat_minor": 0,
  "metadata": {
    "colab": {
      "name": "GridSearchCV.ipynb",
      "provenance": [],
      "authorship_tag": "ABX9TyO8PbezwZL3nPngJDjGYC3j",
      "include_colab_link": true
    },
    "kernelspec": {
      "name": "python3",
      "display_name": "Python 3"
    }
  },
  "cells": [
    {
      "cell_type": "markdown",
      "metadata": {
        "id": "view-in-github",
        "colab_type": "text"
      },
      "source": [
        "<a href=\"https://colab.research.google.com/github/sadullahmath/Exercise/blob/master/GridSearchCV.ipynb\" target=\"_parent\"><img src=\"https://colab.research.google.com/assets/colab-badge.svg\" alt=\"Open In Colab\"/></a>"
      ]
    },
    {
      "cell_type": "markdown",
      "metadata": {
        "id": "YcmRgtP6m3K_",
        "colab_type": "text"
      },
      "source": [
        "#Tuning using GridSearchCV"
      ]
    },
    {
      "cell_type": "code",
      "metadata": {
        "id": "TkWYIXXUm3Rh",
        "colab_type": "code",
        "colab": {}
      },
      "source": [
        "from sklearn import model_selection, datasets, neighbors\n",
        "\n",
        "# load the data\n",
        "cancer = datasets.load_breast_cancer()\n",
        "\n",
        "# target\n",
        "y = cancer.target\n",
        "\n",
        "# features\n",
        "X = cancer.data"
      ],
      "execution_count": 0,
      "outputs": []
    },
    {
      "cell_type": "code",
      "metadata": {
        "id": "IBeDGjSLm3UE",
        "colab_type": "code",
        "colab": {}
      },
      "source": [
        "# initialize the estimator\n",
        "knn = neighbors.KNeighborsClassifier()"
      ],
      "execution_count": 0,
      "outputs": []
    },
    {
      "cell_type": "code",
      "metadata": {
        "id": "x-tHpf1rm3WQ",
        "colab_type": "code",
        "colab": {}
      },
      "source": [
        "# grid contains k and the weight function\n",
        "grid = {\n",
        "    'n_neighbors': [1, 3, 5, 7],\n",
        "    'weights': ['uniform', 'distance']\n",
        "}"
      ],
      "execution_count": 0,
      "outputs": []
    },
    {
      "cell_type": "code",
      "metadata": {
        "id": "4XFSA5YZm3YO",
        "colab_type": "code",
        "colab": {}
      },
      "source": [
        "# set up the grid search with scoring on precision and number of folds = 10\n",
        "gscv = model_selection.GridSearchCV(estimator=knn, param_grid=grid, scoring='precision', cv=10)"
      ],
      "execution_count": 0,
      "outputs": []
    },
    {
      "cell_type": "code",
      "metadata": {
        "id": "tmWmWMkPm3cI",
        "colab_type": "code",
        "colab": {
          "base_uri": "https://localhost:8080/",
          "height": 212
        },
        "outputId": "1716bbba-0974-465a-81f0-7a4f52981078"
      },
      "source": [
        "# start the search\n",
        "gscv.fit(X, y)"
      ],
      "execution_count": 5,
      "outputs": [
        {
          "output_type": "execute_result",
          "data": {
            "text/plain": [
              "GridSearchCV(cv=10, error_score=nan,\n",
              "             estimator=KNeighborsClassifier(algorithm='auto', leaf_size=30,\n",
              "                                            metric='minkowski',\n",
              "                                            metric_params=None, n_jobs=None,\n",
              "                                            n_neighbors=5, p=2,\n",
              "                                            weights='uniform'),\n",
              "             iid='deprecated', n_jobs=None,\n",
              "             param_grid={'n_neighbors': [1, 3, 5, 7],\n",
              "                         'weights': ['uniform', 'distance']},\n",
              "             pre_dispatch='2*n_jobs', refit=True, return_train_score=False,\n",
              "             scoring='precision', verbose=0)"
            ]
          },
          "metadata": {
            "tags": []
          },
          "execution_count": 5
        }
      ]
    },
    {
      "cell_type": "code",
      "metadata": {
        "id": "gVAlHSEYm3iT",
        "colab_type": "code",
        "colab": {
          "base_uri": "https://localhost:8080/",
          "height": 463
        },
        "outputId": "21f792cc-b6b1-497b-fc27-38f81146de9a"
      },
      "source": [
        "# view the results\n",
        "print(gscv.cv_results_)"
      ],
      "execution_count": 6,
      "outputs": [
        {
          "output_type": "stream",
          "text": [
            "{'mean_fit_time': array([0.00146253, 0.00127692, 0.00123782, 0.00120726, 0.00123026,\n",
            "       0.00126915, 0.0012718 , 0.00127633]), 'std_fit_time': array([3.22872018e-04, 1.23980953e-04, 4.75345663e-05, 4.80315161e-05,\n",
            "       5.67972357e-05, 6.44734976e-05, 6.12650440e-05, 5.71235243e-05]), 'mean_score_time': array([0.00973229, 0.00168581, 0.00289233, 0.00157382, 0.00292175,\n",
            "       0.00165911, 0.00302005, 0.0016891 ]), 'std_score_time': array([1.94944040e-02, 2.63003139e-04, 1.85471360e-04, 9.49906685e-05,\n",
            "       8.09714601e-05, 8.60312423e-05, 1.51267598e-04, 8.81938136e-05]), 'param_n_neighbors': masked_array(data=[1, 1, 3, 3, 5, 5, 7, 7],\n",
            "             mask=[False, False, False, False, False, False, False, False],\n",
            "       fill_value='?',\n",
            "            dtype=object), 'param_weights': masked_array(data=['uniform', 'distance', 'uniform', 'distance',\n",
            "                   'uniform', 'distance', 'uniform', 'distance'],\n",
            "             mask=[False, False, False, False, False, False, False, False],\n",
            "       fill_value='?',\n",
            "            dtype=object), 'params': [{'n_neighbors': 1, 'weights': 'uniform'}, {'n_neighbors': 1, 'weights': 'distance'}, {'n_neighbors': 3, 'weights': 'uniform'}, {'n_neighbors': 3, 'weights': 'distance'}, {'n_neighbors': 5, 'weights': 'uniform'}, {'n_neighbors': 5, 'weights': 'distance'}, {'n_neighbors': 7, 'weights': 'uniform'}, {'n_neighbors': 7, 'weights': 'distance'}], 'split0_test_score': array([0.91891892, 0.91891892, 0.89473684, 0.89473684, 0.91666667,\n",
            "       0.91666667, 0.91891892, 0.91891892]), 'split1_test_score': array([0.86111111, 0.86111111, 0.82926829, 0.82926829, 0.85      ,\n",
            "       0.85      , 0.82926829, 0.82926829]), 'split2_test_score': array([0.92105263, 0.92105263, 0.91666667, 0.91891892, 0.91666667,\n",
            "       0.91891892, 0.91891892, 0.91891892]), 'split3_test_score': array([0.92105263, 0.92105263, 0.94594595, 0.94594595, 0.94736842,\n",
            "       0.94736842, 0.94736842, 0.94736842]), 'split4_test_score': array([0.8974359 , 0.8974359 , 0.94594595, 0.94594595, 0.94594595,\n",
            "       0.94594595, 0.92105263, 0.92105263]), 'split5_test_score': array([0.91666667, 0.91666667, 0.94594595, 0.94594595, 0.94444444,\n",
            "       0.94444444, 0.94444444, 0.94444444]), 'split6_test_score': array([0.92105263, 0.92105263, 0.94736842, 0.94736842, 0.97222222,\n",
            "       0.94594595, 0.97222222, 0.94594595]), 'split7_test_score': array([0.94594595, 0.94594595, 0.94594595, 0.94594595, 0.92105263,\n",
            "       0.92105263, 0.94444444, 0.94444444]), 'split8_test_score': array([0.94117647, 0.94117647, 0.96969697, 0.97058824, 0.96969697,\n",
            "       0.94285714, 0.96969697, 0.94285714]), 'split9_test_score': array([0.94444444, 0.94444444, 0.94285714, 0.94285714, 0.97142857,\n",
            "       0.97142857, 0.94444444, 0.94444444]), 'mean_test_score': array([0.91888573, 0.91888573, 0.92843781, 0.92875216, 0.93554925,\n",
            "       0.93046287, 0.93107797, 0.92576636]), 'std_test_score': array([0.0238734 , 0.0238734 , 0.03821472, 0.03824794, 0.03516694,\n",
            "       0.03111103, 0.03840188, 0.03411809]), 'rank_test_score': array([7, 7, 5, 4, 1, 3, 2, 6], dtype=int32)}\n"
          ],
          "name": "stdout"
        }
      ]
    },
    {
      "cell_type": "code",
      "metadata": {
        "id": "vo0iXiF5m3ex",
        "colab_type": "code",
        "colab": {
          "base_uri": "https://localhost:8080/",
          "height": 123
        },
        "outputId": "c67e743b-0888-46e4-94c4-de33554a933e"
      },
      "source": [
        "import pandas as pd\n",
        "\n",
        "# convert the results dictionary to a dataframe\n",
        "results = pd.DataFrame(gscv.cv_results_)\n",
        "\n",
        "# select just the hyperparameterizations tried, the mean test scores, order by score and show the top 5 models\n",
        "print(\n",
        "results.loc[:,['params','mean_test_score']].sort_values('mean_test_score', ascending=False).head(5)\n",
        ")"
      ],
      "execution_count": 7,
      "outputs": [
        {
          "output_type": "stream",
          "text": [
            "                                      params  mean_test_score\n",
            "4   {'n_neighbors': 5, 'weights': 'uniform'}         0.935549\n",
            "6   {'n_neighbors': 7, 'weights': 'uniform'}         0.931078\n",
            "5  {'n_neighbors': 5, 'weights': 'distance'}         0.930463\n",
            "3  {'n_neighbors': 3, 'weights': 'distance'}         0.928752\n",
            "2   {'n_neighbors': 3, 'weights': 'uniform'}         0.928438\n"
          ],
          "name": "stdout"
        }
      ]
    },
    {
      "cell_type": "code",
      "metadata": {
        "id": "Umqt4Mmbm3aj",
        "colab_type": "code",
        "colab": {
          "base_uri": "https://localhost:8080/",
          "height": 282
        },
        "outputId": "6a0bcd2b-ec6b-4cd7-de42-bf192a9e5c7b"
      },
      "source": [
        "# visualise the result\n",
        "results.loc[:,['params','mean_test_score']].plot.barh(x = 'params')"
      ],
      "execution_count": 8,
      "outputs": [
        {
          "output_type": "execute_result",
          "data": {
            "text/plain": [
              "<matplotlib.axes._subplots.AxesSubplot at 0x7fe7f3f43b00>"
            ]
          },
          "metadata": {
            "tags": []
          },
          "execution_count": 8
        },
        {
          "output_type": "display_data",
          "data": {
            "image/png": "[encoded data removed]",
            "text/plain": [
              "<Figure size 432x288 with 1 Axes>"
            ]
          },
          "metadata": {
            "tags": [],
            "needs_background": "light"
          }
        }
      ]
    }
  ]
}