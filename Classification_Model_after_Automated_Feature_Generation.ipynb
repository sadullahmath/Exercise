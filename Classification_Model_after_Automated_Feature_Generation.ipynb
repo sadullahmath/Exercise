{
  "nbformat": 4,
  "nbformat_minor": 0,
  "metadata": {
    "colab": {
      "name": "Classification Model after Automated Feature Generation.ipynb",
      "provenance": [],
      "authorship_tag": "ABX9TyMGiXPW/wpPQbMC2If7lVLV",
      "include_colab_link": true
    },
    "kernelspec": {
      "name": "python3",
      "display_name": "Python 3"
    }
  },
  "cells": [
    {
      "cell_type": "markdown",
      "metadata": {
        "id": "view-in-github",
        "colab_type": "text"
      },
      "source": [
        "<a href=\"https://colab.research.google.com/github/sadullahmath/Exercise/blob/master/Classification_Model_after_Automated_Feature_Generation.ipynb\" target=\"_parent\"><img src=\"https://colab.research.google.com/assets/colab-badge.svg\" alt=\"Open In Colab\"/></a>"
      ]
    },
    {
      "cell_type": "markdown",
      "metadata": {
        "id": "Iy-Tjv8EccrI",
        "colab_type": "text"
      },
      "source": [
        "# Classification Model after Automated Feature Generation"
      ]
    },
    {
      "cell_type": "code",
      "metadata": {
        "id": "6M8v_bbNccx6",
        "colab_type": "code",
        "colab": {}
      },
      "source": [
        "# Defining the path to the Github repository\n",
        "file_url = 'https://raw.githubusercontent.com/PacktWorkshops/The-Data-Science-Workshop/master/Chapter17/Datasets/bank-full.csv'"
      ],
      "execution_count": 0,
      "outputs": []
    },
    {
      "cell_type": "code",
      "metadata": {
        "id": "5T-UnLpqcc0W",
        "colab_type": "code",
        "colab": {
          "base_uri": "https://localhost:8080/",
          "height": 204
        },
        "outputId": "428b4217-48e0-40f5-9c35-d935c74ee890"
      },
      "source": [
        "# Loading data using pandas\n",
        "import pandas as pd\n",
        "bankData = pd.read_csv(file_url,sep=\";\")\n",
        "bankData.head()"
      ],
      "execution_count": 2,
      "outputs": [
        {
          "output_type": "execute_result",
          "data": {
            "text/html": [
              "<div>\n",
              "<style scoped>\n",
              "    .dataframe tbody tr th:only-of-type {\n",
              "        vertical-align: middle;\n",
              "    }\n",
              "\n",
              "    .dataframe tbody tr th {\n",
              "        vertical-align: top;\n",
              "    }\n",
              "\n",
              "    .dataframe thead th {\n",
              "        text-align: right;\n",
              "    }\n",
              "</style>\n",
              "<table border=\"1\" class=\"dataframe\">\n",
              "  <thead>\n",
              "    <tr style=\"text-align: right;\">\n",
              "      <th></th>\n",
              "      <th>age</th>\n",
              "      <th>job</th>\n",
              "      <th>marital</th>\n",
              "      <th>education</th>\n",
              "      <th>default</th>\n",
              "      <th>balance</th>\n",
              "      <th>housing</th>\n",
              "      <th>loan</th>\n",
              "      <th>contact</th>\n",
              "      <th>day</th>\n",
              "      <th>month</th>\n",
              "      <th>duration</th>\n",
              "      <th>campaign</th>\n",
              "      <th>pdays</th>\n",
              "      <th>previous</th>\n",
              "      <th>poutcome</th>\n",
              "      <th>y</th>\n",
              "    </tr>\n",
              "  </thead>\n",
              "  <tbody>\n",
              "    <tr>\n",
              "      <th>0</th>\n",
              "      <td>58</td>\n",
              "      <td>management</td>\n",
              "      <td>married</td>\n",
              "      <td>tertiary</td>\n",
              "      <td>no</td>\n",
              "      <td>2143</td>\n",
              "      <td>yes</td>\n",
              "      <td>no</td>\n",
              "      <td>unknown</td>\n",
              "      <td>5</td>\n",
              "      <td>may</td>\n",
              "      <td>261</td>\n",
              "      <td>1</td>\n",
              "      <td>-1</td>\n",
              "      <td>0</td>\n",
              "      <td>unknown</td>\n",
              "      <td>no</td>\n",
              "    </tr>\n",
              "    <tr>\n",
              "      <th>1</th>\n",
              "      <td>44</td>\n",
              "      <td>technician</td>\n",
              "      <td>single</td>\n",
              "      <td>secondary</td>\n",
              "      <td>no</td>\n",
              "      <td>29</td>\n",
              "      <td>yes</td>\n",
              "      <td>no</td>\n",
              "      <td>unknown</td>\n",
              "      <td>5</td>\n",
              "      <td>may</td>\n",
              "      <td>151</td>\n",
              "      <td>1</td>\n",
              "      <td>-1</td>\n",
              "      <td>0</td>\n",
              "      <td>unknown</td>\n",
              "      <td>no</td>\n",
              "    </tr>\n",
              "    <tr>\n",
              "      <th>2</th>\n",
              "      <td>33</td>\n",
              "      <td>entrepreneur</td>\n",
              "      <td>married</td>\n",
              "      <td>secondary</td>\n",
              "      <td>no</td>\n",
              "      <td>2</td>\n",
              "      <td>yes</td>\n",
              "      <td>yes</td>\n",
              "      <td>unknown</td>\n",
              "      <td>5</td>\n",
              "      <td>may</td>\n",
              "      <td>76</td>\n",
              "      <td>1</td>\n",
              "      <td>-1</td>\n",
              "      <td>0</td>\n",
              "      <td>unknown</td>\n",
              "      <td>no</td>\n",
              "    </tr>\n",
              "    <tr>\n",
              "      <th>3</th>\n",
              "      <td>47</td>\n",
              "      <td>blue-collar</td>\n",
              "      <td>married</td>\n",
              "      <td>unknown</td>\n",
              "      <td>no</td>\n",
              "      <td>1506</td>\n",
              "      <td>yes</td>\n",
              "      <td>no</td>\n",
              "      <td>unknown</td>\n",
              "      <td>5</td>\n",
              "      <td>may</td>\n",
              "      <td>92</td>\n",
              "      <td>1</td>\n",
              "      <td>-1</td>\n",
              "      <td>0</td>\n",
              "      <td>unknown</td>\n",
              "      <td>no</td>\n",
              "    </tr>\n",
              "    <tr>\n",
              "      <th>4</th>\n",
              "      <td>33</td>\n",
              "      <td>unknown</td>\n",
              "      <td>single</td>\n",
              "      <td>unknown</td>\n",
              "      <td>no</td>\n",
              "      <td>1</td>\n",
              "      <td>no</td>\n",
              "      <td>no</td>\n",
              "      <td>unknown</td>\n",
              "      <td>5</td>\n",
              "      <td>may</td>\n",
              "      <td>198</td>\n",
              "      <td>1</td>\n",
              "      <td>-1</td>\n",
              "      <td>0</td>\n",
              "      <td>unknown</td>\n",
              "      <td>no</td>\n",
              "    </tr>\n",
              "  </tbody>\n",
              "</table>\n",
              "</div>"
            ],
            "text/plain": [
              "   age           job  marital  education  ... pdays  previous poutcome   y\n",
              "0   58    management  married   tertiary  ...    -1         0  unknown  no\n",
              "1   44    technician   single  secondary  ...    -1         0  unknown  no\n",
              "2   33  entrepreneur  married  secondary  ...    -1         0  unknown  no\n",
              "3   47   blue-collar  married    unknown  ...    -1         0  unknown  no\n",
              "4   33       unknown   single    unknown  ...    -1         0  unknown  no\n",
              "\n",
              "[5 rows x 17 columns]"
            ]
          },
          "metadata": {
            "tags": []
          },
          "execution_count": 2
        }
      ]
    },
    {
      "cell_type": "code",
      "metadata": {
        "id": "CYNqihfEcc2i",
        "colab_type": "code",
        "colab": {}
      },
      "source": [
        "# Removing the target variable\n",
        "Y = bankData.pop('y')"
      ],
      "execution_count": 0,
      "outputs": []
    },
    {
      "cell_type": "code",
      "metadata": {
        "id": "ayjE9KrqmXny",
        "colab_type": "code",
        "colab": {}
      },
      "source": [
        "from sklearn.model_selection import train_test_split\n",
        "\n",
        "# Splitting the data into train and test sets\n",
        "X_train, X_test, y_train, y_test = train_test_split(bankData, Y, \n",
        "test_size= 0.3, random_state=123)"
      ],
      "execution_count": 0,
      "outputs": []
    },
    {
      "cell_type": "code",
      "metadata": {
        "id": "N_uN05A5mXqC",
        "colab_type": "code",
        "colab": {}
      },
      "source": [
        "#Using pipeline to transform categorical variable and numeric variables\n",
        "\n",
        "from sklearn.pipeline import Pipeline\n",
        "from sklearn.preprocessing import StandardScaler, OneHotEncoder\n",
        "\n",
        "categorical_transformer = Pipeline(steps=[('onehot', OneHotEncoder(handle_unknown='ignore'))])\n",
        "numeric_transformer = Pipeline(steps=[('scaler', StandardScaler())])"
      ],
      "execution_count": 0,
      "outputs": []
    },
    {
      "cell_type": "code",
      "metadata": {
        "id": "YK-82NcRmXsI",
        "colab_type": "code",
        "colab": {}
      },
      "source": [
        "# Defining data types for numeric and categorical features\n",
        "numeric_features = bankData.select_dtypes(include=['int64', 'float64']).columns\n",
        "categorical_features = bankData.select_dtypes(include=['object']).columns"
      ],
      "execution_count": 0,
      "outputs": []
    },
    {
      "cell_type": "code",
      "metadata": {
        "id": "ShGyNYInmXuS",
        "colab_type": "code",
        "colab": {}
      },
      "source": [
        "# Defining preprocessor\n",
        "from sklearn.compose import ColumnTransformer\n",
        "preprocessor = ColumnTransformer(\n",
        "    transformers=[\n",
        "        ('num', numeric_transformer, numeric_features),\n",
        "        ('cat', categorical_transformer, categorical_features)])"
      ],
      "execution_count": 0,
      "outputs": []
    },
    {
      "cell_type": "code",
      "metadata": {
        "id": "Hp4vh0e9cc4x",
        "colab_type": "code",
        "colab": {}
      },
      "source": [
        "# Defining the estimator for processing and classification\n",
        "\n",
        "from sklearn.linear_model import LogisticRegression\n",
        "estimator = Pipeline(steps=[('preprocessor', preprocessor),                      \n",
        "                           ('classifier',LogisticRegression(random_state=123))])"
      ],
      "execution_count": 0,
      "outputs": []
    },
    {
      "cell_type": "code",
      "metadata": {
        "id": "uTdbRXJ3np36",
        "colab_type": "code",
        "colab": {
          "base_uri": "https://localhost:8080/",
          "height": 170
        },
        "outputId": "278e4ecf-e5b2-43a8-d410-0509eaf16776"
      },
      "source": [
        "# Fit the estimator on the training set\n",
        "estimator.fit(X_train, y_train)  \n",
        "print(\"model score: %.2f\" % estimator.score(X_test, y_test)) "
      ],
      "execution_count": 11,
      "outputs": [
        {
          "output_type": "stream",
          "text": [
            "model score: 0.90\n"
          ],
          "name": "stdout"
        },
        {
          "output_type": "stream",
          "text": [
            "/usr/local/lib/python3.6/dist-packages/sklearn/linear_model/_logistic.py:940: ConvergenceWarning: lbfgs failed to converge (status=1):\n",
            "STOP: TOTAL NO. of ITERATIONS REACHED LIMIT.\n",
            "\n",
            "Increase the number of iterations (max_iter) or scale the data as shown in:\n",
            "    https://scikit-learn.org/stable/modules/preprocessing.html\n",
            "Please also refer to the documentation for alternative solver options:\n",
            "    https://scikit-learn.org/stable/modules/linear_model.html#logistic-regression\n",
            "  extra_warning_msg=_LOGISTIC_SOLVER_CONVERGENCE_MSG)\n"
          ],
          "name": "stderr"
        }
      ]
    },
    {
      "cell_type": "code",
      "metadata": {
        "id": "Lx8ura7Wnp8G",
        "colab_type": "code",
        "colab": {}
      },
      "source": [
        "# Predict on the test set\n",
        "pred = estimator.predict(X_test)"
      ],
      "execution_count": 0,
      "outputs": []
    },
    {
      "cell_type": "code",
      "metadata": {
        "id": "TZXvzuXEnp_7",
        "colab_type": "code",
        "colab": {
          "base_uri": "https://localhost:8080/",
          "height": 170
        },
        "outputId": "9a720b0c-bceb-405f-88be-a25d1d809735"
      },
      "source": [
        "# Generating classification report\n",
        "from sklearn.metrics import classification_report\n",
        "\n",
        "print(classification_report(pred,y_test))"
      ],
      "execution_count": 13,
      "outputs": [
        {
          "output_type": "stream",
          "text": [
            "              precision    recall  f1-score   support\n",
            "\n",
            "          no       0.98      0.92      0.95     12765\n",
            "         yes       0.32      0.64      0.43       799\n",
            "\n",
            "    accuracy                           0.90     13564\n",
            "   macro avg       0.65      0.78      0.69     13564\n",
            "weighted avg       0.94      0.90      0.92     13564\n",
            "\n"
          ],
          "name": "stdout"
        }
      ]
    },
    {
      "cell_type": "code",
      "metadata": {
        "id": "SkSLBklcnqCc",
        "colab_type": "code",
        "colab": {}
      },
      "source": [
        "# Creating the Ids for Demographic Entity\n",
        "bankData['custID'] = bankData.index.values\n",
        "bankData['custID'] = 'cust' + bankData['custID'].astype(str)"
      ],
      "execution_count": 0,
      "outputs": []
    },
    {
      "cell_type": "code",
      "metadata": {
        "id": "ajVfxcQInqEp",
        "colab_type": "code",
        "colab": {}
      },
      "source": [
        "# Creating AssetId\n",
        "bankData['AssetId'] = 0\n",
        "bankData.loc[bankData.housing == 'yes','AssetId']= 1"
      ],
      "execution_count": 0,
      "outputs": []
    },
    {
      "cell_type": "code",
      "metadata": {
        "id": "N7K4PsnWn6wu",
        "colab_type": "code",
        "colab": {}
      },
      "source": [
        "# Creating LoanId\n",
        "bankData['LoanId'] = 0\n",
        "bankData.loc[bankData.loan == 'yes','LoanId']= 1"
      ],
      "execution_count": 0,
      "outputs": []
    },
    {
      "cell_type": "code",
      "metadata": {
        "id": "lNagR61Qn6zR",
        "colab_type": "code",
        "colab": {}
      },
      "source": [
        "# Creating Financial behaviour ID\n",
        "bankData['FinbehId'] = 0\n",
        "bankData.loc[bankData.default == 'yes','FinbehId']= 1"
      ],
      "execution_count": 0,
      "outputs": []
    },
    {
      "cell_type": "code",
      "metadata": {
        "id": "hp8wCJsWn65o",
        "colab_type": "code",
        "colab": {}
      },
      "source": [
        "# Importing necessary libraries\n",
        "import featuretools as ft\n",
        "import numpy as np"
      ],
      "execution_count": 0,
      "outputs": []
    },
    {
      "cell_type": "code",
      "metadata": {
        "id": "x7_MkCpLoBha",
        "colab_type": "code",
        "colab": {}
      },
      "source": [
        "# creating the entity set 'Bankentities'\n",
        "Bankentities = ft.EntitySet(id = 'Bank')"
      ],
      "execution_count": 0,
      "outputs": []
    },
    {
      "cell_type": "code",
      "metadata": {
        "id": "YfLofKlLoBkC",
        "colab_type": "code",
        "colab": {
          "base_uri": "https://localhost:8080/",
          "height": 102
        },
        "outputId": "f7639ab0-d1bc-4d62-95d9-b5665f3f33ed"
      },
      "source": [
        "# Mapping a dataframe to the entityset to form the parent entity\n",
        "Bankentities.entity_from_dataframe(entity_id = 'Demographic Data', dataframe = bankData, index = 'custID')"
      ],
      "execution_count": 20,
      "outputs": [
        {
          "output_type": "execute_result",
          "data": {
            "text/plain": [
              "Entityset: Bank\n",
              "  Entities:\n",
              "    Demographic Data [Rows: 45211, Columns: 20]\n",
              "  Relationships:\n",
              "    No relationships"
            ]
          },
          "metadata": {
            "tags": []
          },
          "execution_count": 20
        }
      ]
    },
    {
      "cell_type": "code",
      "metadata": {
        "id": "bncHJRpKoBmM",
        "colab_type": "code",
        "colab": {
          "base_uri": "https://localhost:8080/",
          "height": 187
        },
        "outputId": "853f4344-d8bf-45c1-b86d-aa827266695a"
      },
      "source": [
        "# Mapping to parent entity and setting the relationship\n",
        "Bankentities.normalize_entity(base_entity_id='Demographic Data', new_entity_id='Assets', index = 'AssetId', \n",
        "additional_variables = ['housing'])\n",
        "Bankentities.normalize_entity(base_entity_id='Demographic Data', new_entity_id='Liability', index = 'LoanId', \n",
        "additional_variables = ['loan'])\n",
        "Bankentities.normalize_entity(base_entity_id='Demographic Data', new_entity_id='FinBehaviour', index = 'FinbehId', \n",
        "additional_variables = ['default'])"
      ],
      "execution_count": 21,
      "outputs": [
        {
          "output_type": "execute_result",
          "data": {
            "text/plain": [
              "Entityset: Bank\n",
              "  Entities:\n",
              "    Demographic Data [Rows: 45211, Columns: 17]\n",
              "    Assets [Rows: 2, Columns: 2]\n",
              "    Liability [Rows: 2, Columns: 2]\n",
              "    FinBehaviour [Rows: 2, Columns: 2]\n",
              "  Relationships:\n",
              "    Demographic Data.AssetId -> Assets.AssetId\n",
              "    Demographic Data.LoanId -> Liability.LoanId\n",
              "    Demographic Data.FinbehId -> FinBehaviour.FinbehId"
            ]
          },
          "metadata": {
            "tags": []
          },
          "execution_count": 21
        }
      ]
    },
    {
      "cell_type": "code",
      "metadata": {
        "id": "l7Gp4cF-oLf7",
        "colab_type": "code",
        "colab": {}
      },
      "source": [
        "# Creating aggregation and transformation primitives\n",
        "aggPrimitives=[\n",
        "        'std', 'min', 'max', 'mean', \n",
        "        'last', 'count'\n",
        "]\n",
        "tranPrimitives=[\n",
        "        'percentile', \n",
        "        'subtract', 'divide']"
      ],
      "execution_count": 0,
      "outputs": []
    },
    {
      "cell_type": "code",
      "metadata": {
        "id": "md_S_9ZwoN2X",
        "colab_type": "code",
        "colab": {
          "base_uri": "https://localhost:8080/",
          "height": 51
        },
        "outputId": "b6c90aa5-c106-4bf2-c3a1-64bc6251f41f"
      },
      "source": [
        "# Defining the new set of features\n",
        "\n",
        "feature_set, feature_names = ft.dfs(entityset=Bankentities, \n",
        "target_entity = 'Demographic Data',\n",
        "agg_primitives=aggPrimitives,\n",
        "trans_primitives=tranPrimitives, \n",
        "max_depth = 2, \n",
        "verbose = 1, \n",
        "n_jobs = 1)"
      ],
      "execution_count": 23,
      "outputs": [
        {
          "output_type": "stream",
          "text": [
            "Built 3420 features\n",
            "Elapsed: 01:45 | Remaining: 00:00 | Progress: 100%|██████████| Calculated: 11/11 chunks\n"
          ],
          "name": "stdout"
        }
      ]
    },
    {
      "cell_type": "code",
      "metadata": {
        "id": "h-dDkZOMoOGI",
        "colab_type": "code",
        "colab": {}
      },
      "source": [
        "# Reindexing the feature_set\n",
        "feature_set = feature_set.reindex(index=bankData['custID'])\n",
        "feature_set = feature_set.reset_index()"
      ],
      "execution_count": 0,
      "outputs": []
    },
    {
      "cell_type": "code",
      "metadata": {
        "id": "8q-oCfCHoOIp",
        "colab_type": "code",
        "colab": {
          "base_uri": "https://localhost:8080/",
          "height": 34
        },
        "outputId": "dd794e68-743b-4717-df35-e078e0c53245"
      },
      "source": [
        "# Displaying the feature set \n",
        "feature_set.shape"
      ],
      "execution_count": 25,
      "outputs": [
        {
          "output_type": "execute_result",
          "data": {
            "text/plain": [
              "(45211, 3421)"
            ]
          },
          "metadata": {
            "tags": []
          },
          "execution_count": 25
        }
      ]
    },
    {
      "cell_type": "code",
      "metadata": {
        "id": "hQH9h56eoOK8",
        "colab_type": "code",
        "colab": {}
      },
      "source": [
        "# Dropping all Ids\n",
        "X = feature_set[feature_set.columns[~feature_set.columns.str.contains('custID|AssetId|LoanId|FinbehId')]]"
      ],
      "execution_count": 0,
      "outputs": []
    },
    {
      "cell_type": "code",
      "metadata": {
        "id": "_NxFgSUdo7Wg",
        "colab_type": "code",
        "colab": {}
      },
      "source": [
        "# Replacing all columns with infinity with nan\n",
        "X = X.replace([np.inf, -np.inf], np.nan)"
      ],
      "execution_count": 0,
      "outputs": []
    },
    {
      "cell_type": "code",
      "metadata": {
        "id": "Lp9L6K38o7Yv",
        "colab_type": "code",
        "colab": {
          "base_uri": "https://localhost:8080/",
          "height": 34
        },
        "outputId": "15185aba-d2bb-441c-d276-3e14f0a57390"
      },
      "source": [
        "# Dropping all columns with nan\n",
        "X = X.dropna(axis=1, how='any')\n",
        "X.shape"
      ],
      "execution_count": 28,
      "outputs": [
        {
          "output_type": "execute_result",
          "data": {
            "text/plain": [
              "(45211, 1046)"
            ]
          },
          "metadata": {
            "tags": []
          },
          "execution_count": 28
        }
      ]
    },
    {
      "cell_type": "code",
      "metadata": {
        "id": "OvlqJvvqo7cr",
        "colab_type": "code",
        "colab": {}
      },
      "source": [
        "# Splitting train and test sets\n",
        "from sklearn.model_selection import train_test_split\n",
        "\n",
        "# Splitting the data into train and test sets\n",
        "X_train, X_test, y_train, y_test = train_test_split(X, Y, test_size=0.3, random_state=123)"
      ],
      "execution_count": 0,
      "outputs": []
    },
    {
      "cell_type": "code",
      "metadata": {
        "id": "GxSs64wzpJPE",
        "colab_type": "code",
        "colab": {}
      },
      "source": [
        "# Creating the preprocessing pipeline \n",
        "\n",
        "from sklearn.pipeline import Pipeline \n",
        "from sklearn.preprocessing import StandardScaler, OneHotEncoder \n",
        "\n",
        "categorical_transformer = Pipeline(steps=[('onehot', OneHotEncoder(handle_unknown='ignore'))]) \n",
        "\n",
        "numeric_transformer = Pipeline(steps=[('scaler', StandardScaler())]) \n",
        "numeric_features = X.select_dtypes(include=['int64', 'float64']).columns \n",
        "categorical_features = X.select_dtypes(include=['object']).columns \n",
        "\n",
        "from sklearn.compose import ColumnTransformer \n",
        "preprocessor = ColumnTransformer( \n",
        "    transformers=[ \n",
        "        ('num', numeric_transformer, numeric_features), \n",
        "        ('cat', categorical_transformer, categorical_features)]) "
      ],
      "execution_count": 0,
      "outputs": []
    },
    {
      "cell_type": "code",
      "metadata": {
        "id": "V6pzIRWtpJRi",
        "colab_type": "code",
        "colab": {
          "base_uri": "https://localhost:8080/",
          "height": 170
        },
        "outputId": "5bf33ef1-7618-43e4-e73e-a0689754d2ce"
      },
      "source": [
        "# Creating the estimator function and fitting the training set\n",
        "estimator = Pipeline(steps=[('preprocessor', preprocessor),                      \n",
        "                           ('classifier',LogisticRegression(random_state=123))])\n",
        "estimator.fit(X_train, y_train)  \n",
        "print(\"model score: %.2f\" % estimator.score(X_test, y_test)) "
      ],
      "execution_count": 31,
      "outputs": [
        {
          "output_type": "stream",
          "text": [
            "/usr/local/lib/python3.6/dist-packages/sklearn/linear_model/_logistic.py:940: ConvergenceWarning: lbfgs failed to converge (status=1):\n",
            "STOP: TOTAL NO. of ITERATIONS REACHED LIMIT.\n",
            "\n",
            "Increase the number of iterations (max_iter) or scale the data as shown in:\n",
            "    https://scikit-learn.org/stable/modules/preprocessing.html\n",
            "Please also refer to the documentation for alternative solver options:\n",
            "    https://scikit-learn.org/stable/modules/linear_model.html#logistic-regression\n",
            "  extra_warning_msg=_LOGISTIC_SOLVER_CONVERGENCE_MSG)\n"
          ],
          "name": "stderr"
        },
        {
          "output_type": "stream",
          "text": [
            "model score: 0.90\n"
          ],
          "name": "stdout"
        }
      ]
    },
    {
      "cell_type": "code",
      "metadata": {
        "id": "HdXqV0rVpJUA",
        "colab_type": "code",
        "colab": {}
      },
      "source": [
        "# Predicting on the test set\n",
        "pred = estimator.predict(X_test)"
      ],
      "execution_count": 0,
      "outputs": []
    },
    {
      "cell_type": "code",
      "metadata": {
        "id": "5jLxzq9kpJYW",
        "colab_type": "code",
        "colab": {
          "base_uri": "https://localhost:8080/",
          "height": 170
        },
        "outputId": "2c3dc075-baac-4970-d84c-8c3f48c32a37"
      },
      "source": [
        "# Generating the classification report\n",
        "from sklearn.metrics import classification_report\n",
        "\n",
        "print(classification_report(pred,y_test))"
      ],
      "execution_count": 33,
      "outputs": [
        {
          "output_type": "stream",
          "text": [
            "              precision    recall  f1-score   support\n",
            "\n",
            "          no       0.97      0.92      0.95     12714\n",
            "         yes       0.35      0.64      0.45       850\n",
            "\n",
            "    accuracy                           0.90     13564\n",
            "   macro avg       0.66      0.78      0.70     13564\n",
            "weighted avg       0.94      0.90      0.92     13564\n",
            "\n"
          ],
          "name": "stdout"
        }
      ]
    },
    {
      "cell_type": "code",
      "metadata": {
        "id": "E2-cypTwpUqJ",
        "colab_type": "code",
        "colab": {}
      },
      "source": [
        ""
      ],
      "execution_count": 0,
      "outputs": []
    },
    {
      "cell_type": "code",
      "metadata": {
        "id": "OhTjYdH_pUsz",
        "colab_type": "code",
        "colab": {}
      },
      "source": [
        ""
      ],
      "execution_count": 0,
      "outputs": []
    },
    {
      "cell_type": "code",
      "metadata": {
        "id": "CvKP1inCpUwX",
        "colab_type": "code",
        "colab": {}
      },
      "source": [
        ""
      ],
      "execution_count": 0,
      "outputs": []
    },
    {
      "cell_type": "code",
      "metadata": {
        "id": "krPlV4MupUy_",
        "colab_type": "code",
        "colab": {}
      },
      "source": [
        ""
      ],
      "execution_count": 0,
      "outputs": []
    }
  ]
}