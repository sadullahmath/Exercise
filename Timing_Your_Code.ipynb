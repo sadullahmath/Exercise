{
  "nbformat": 4,
  "nbformat_minor": 0,
  "metadata": {
    "colab": {
      "name": "Timing Your Code.ipynb",
      "provenance": [],
      "authorship_tag": "ABX9TyMQ/ATyw9Cjn9tgOoloC3mS",
      "include_colab_link": true
    },
    "kernelspec": {
      "name": "python3",
      "display_name": "Python 3"
    }
  },
  "cells": [
    {
      "cell_type": "markdown",
      "metadata": {
        "id": "view-in-github",
        "colab_type": "text"
      },
      "source": [
        "<a href=\"https://colab.research.google.com/github/sadullahmath/Exercise/blob/master/Timing_Your_Code.ipynb\" target=\"_parent\"><img src=\"https://colab.research.google.com/assets/colab-badge.svg\" alt=\"Open In Colab\"/></a>"
      ]
    },
    {
      "cell_type": "code",
      "metadata": {
        "id": "2UFFyRw56qBY",
        "colab_type": "code",
        "colab": {}
      },
      "source": [
        "import time"
      ],
      "execution_count": 0,
      "outputs": []
    },
    {
      "cell_type": "code",
      "metadata": {
        "id": "det8b-zt-LbN",
        "colab_type": "code",
        "colab": {}
      },
      "source": [
        "stored_results = {}\n",
        "def sum_to_n(n):\n",
        "    start_time = time.perf_counter()\n",
        "    result = 0\n",
        "    for i in reversed(range(n)):\n",
        "        if i + 1 in stored_results:\n",
        "            print('Stopping sum at %s because we have previously computed it' % str(i + 1))\n",
        "            result += stored_results[i + 1]\n",
        "            break\n",
        "        else:\n",
        "            result += i + 1\n",
        "    stored_results[n] = result\n",
        "    print(time.perf_counter() - start_time, \"seconds\")\n",
        "    return result"
      ],
      "execution_count": 0,
      "outputs": []
    },
    {
      "cell_type": "code",
      "metadata": {
        "id": "2ZZhzUec-Ldg",
        "colab_type": "code",
        "colab": {
          "base_uri": "https://localhost:8080/",
          "height": 51
        },
        "outputId": "0eafa37b-b905-464c-f86a-7694811aec06"
      },
      "source": [
        "sum_to_n(10000)"
      ],
      "execution_count": 3,
      "outputs": [
        {
          "output_type": "stream",
          "text": [
            "0.0015942959999932782 seconds\n"
          ],
          "name": "stdout"
        },
        {
          "output_type": "execute_result",
          "data": {
            "text/plain": [
              "50005000"
            ]
          },
          "metadata": {
            "tags": []
          },
          "execution_count": 3
        }
      ]
    }
  ]
}